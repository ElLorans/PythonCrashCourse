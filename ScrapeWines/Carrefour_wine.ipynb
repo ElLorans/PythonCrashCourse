{
  "nbformat": 4,
  "nbformat_minor": 0,
  "metadata": {
    "colab": {
      "name": "Carrefour_wine.ipynb",
      "provenance": [],
      "collapsed_sections": []
    },
    "kernelspec": {
      "name": "python3",
      "display_name": "Python 3"
    },
    "language_info": {
      "name": "python"
    },
    "widgets": {
      "application/vnd.jupyter.widget-state+json": {
        "b7909ba47db8456587aa1c53b204c4af": {
          "model_module": "@jupyter-widgets/controls",
          "model_name": "HBoxModel",
          "model_module_version": "1.5.0",
          "state": {
            "_view_name": "HBoxView",
            "_dom_classes": [],
            "_model_name": "HBoxModel",
            "_view_module": "@jupyter-widgets/controls",
            "_model_module_version": "1.5.0",
            "_view_count": null,
            "_view_module_version": "1.5.0",
            "box_style": "",
            "layout": "IPY_MODEL_b56355ef49fb4df98db6e1668181a6db",
            "_model_module": "@jupyter-widgets/controls",
            "children": [
              "IPY_MODEL_14a3b1a96a9849c18e5d661293a9e6a1",
              "IPY_MODEL_a879d13de2584ae09ebb8aec141f05f6",
              "IPY_MODEL_d3df2e64290c4eaea4fcce712be0ab58"
            ]
          }
        },
        "b56355ef49fb4df98db6e1668181a6db": {
          "model_module": "@jupyter-widgets/base",
          "model_name": "LayoutModel",
          "model_module_version": "1.2.0",
          "state": {
            "_view_name": "LayoutView",
            "grid_template_rows": null,
            "right": null,
            "justify_content": null,
            "_view_module": "@jupyter-widgets/base",
            "overflow": null,
            "_model_module_version": "1.2.0",
            "_view_count": null,
            "flex_flow": null,
            "width": null,
            "min_width": null,
            "border": null,
            "align_items": null,
            "bottom": null,
            "_model_module": "@jupyter-widgets/base",
            "top": null,
            "grid_column": null,
            "overflow_y": null,
            "overflow_x": null,
            "grid_auto_flow": null,
            "grid_area": null,
            "grid_template_columns": null,
            "flex": null,
            "_model_name": "LayoutModel",
            "justify_items": null,
            "grid_row": null,
            "max_height": null,
            "align_content": null,
            "visibility": null,
            "align_self": null,
            "height": null,
            "min_height": null,
            "padding": null,
            "grid_auto_rows": null,
            "grid_gap": null,
            "max_width": null,
            "order": null,
            "_view_module_version": "1.2.0",
            "grid_template_areas": null,
            "object_position": null,
            "object_fit": null,
            "grid_auto_columns": null,
            "margin": null,
            "display": null,
            "left": null
          }
        },
        "14a3b1a96a9849c18e5d661293a9e6a1": {
          "model_module": "@jupyter-widgets/controls",
          "model_name": "HTMLModel",
          "model_module_version": "1.5.0",
          "state": {
            "_view_name": "HTMLView",
            "style": "IPY_MODEL_f4afe461c9434c38849804797b2ef980",
            "_dom_classes": [],
            "description": "",
            "_model_name": "HTMLModel",
            "placeholder": "​",
            "_view_module": "@jupyter-widgets/controls",
            "_model_module_version": "1.5.0",
            "value": "100%",
            "_view_count": null,
            "_view_module_version": "1.5.0",
            "description_tooltip": null,
            "_model_module": "@jupyter-widgets/controls",
            "layout": "IPY_MODEL_5d6caec1543d483bbfd96ccfa1b66509"
          }
        },
        "a879d13de2584ae09ebb8aec141f05f6": {
          "model_module": "@jupyter-widgets/controls",
          "model_name": "FloatProgressModel",
          "model_module_version": "1.5.0",
          "state": {
            "_view_name": "ProgressView",
            "style": "IPY_MODEL_698071dc366e401baed16bb2ef7ac4f4",
            "_dom_classes": [],
            "description": "",
            "_model_name": "FloatProgressModel",
            "bar_style": "success",
            "max": 4,
            "_view_module": "@jupyter-widgets/controls",
            "_model_module_version": "1.5.0",
            "value": 4,
            "_view_count": null,
            "_view_module_version": "1.5.0",
            "orientation": "horizontal",
            "min": 0,
            "description_tooltip": null,
            "_model_module": "@jupyter-widgets/controls",
            "layout": "IPY_MODEL_ba55b483ec5940139e3776fb9d3c4e6b"
          }
        },
        "d3df2e64290c4eaea4fcce712be0ab58": {
          "model_module": "@jupyter-widgets/controls",
          "model_name": "HTMLModel",
          "model_module_version": "1.5.0",
          "state": {
            "_view_name": "HTMLView",
            "style": "IPY_MODEL_c9996b78b8654db9b0b6e6e802e8a3a4",
            "_dom_classes": [],
            "description": "",
            "_model_name": "HTMLModel",
            "placeholder": "​",
            "_view_module": "@jupyter-widgets/controls",
            "_model_module_version": "1.5.0",
            "value": " 4/4 [00:02&lt;00:00,  1.49it/s]",
            "_view_count": null,
            "_view_module_version": "1.5.0",
            "description_tooltip": null,
            "_model_module": "@jupyter-widgets/controls",
            "layout": "IPY_MODEL_b069694899574b5398119cb890279f9a"
          }
        },
        "f4afe461c9434c38849804797b2ef980": {
          "model_module": "@jupyter-widgets/controls",
          "model_name": "DescriptionStyleModel",
          "model_module_version": "1.5.0",
          "state": {
            "_view_name": "StyleView",
            "_model_name": "DescriptionStyleModel",
            "description_width": "",
            "_view_module": "@jupyter-widgets/base",
            "_model_module_version": "1.5.0",
            "_view_count": null,
            "_view_module_version": "1.2.0",
            "_model_module": "@jupyter-widgets/controls"
          }
        },
        "5d6caec1543d483bbfd96ccfa1b66509": {
          "model_module": "@jupyter-widgets/base",
          "model_name": "LayoutModel",
          "model_module_version": "1.2.0",
          "state": {
            "_view_name": "LayoutView",
            "grid_template_rows": null,
            "right": null,
            "justify_content": null,
            "_view_module": "@jupyter-widgets/base",
            "overflow": null,
            "_model_module_version": "1.2.0",
            "_view_count": null,
            "flex_flow": null,
            "width": null,
            "min_width": null,
            "border": null,
            "align_items": null,
            "bottom": null,
            "_model_module": "@jupyter-widgets/base",
            "top": null,
            "grid_column": null,
            "overflow_y": null,
            "overflow_x": null,
            "grid_auto_flow": null,
            "grid_area": null,
            "grid_template_columns": null,
            "flex": null,
            "_model_name": "LayoutModel",
            "justify_items": null,
            "grid_row": null,
            "max_height": null,
            "align_content": null,
            "visibility": null,
            "align_self": null,
            "height": null,
            "min_height": null,
            "padding": null,
            "grid_auto_rows": null,
            "grid_gap": null,
            "max_width": null,
            "order": null,
            "_view_module_version": "1.2.0",
            "grid_template_areas": null,
            "object_position": null,
            "object_fit": null,
            "grid_auto_columns": null,
            "margin": null,
            "display": null,
            "left": null
          }
        },
        "698071dc366e401baed16bb2ef7ac4f4": {
          "model_module": "@jupyter-widgets/controls",
          "model_name": "ProgressStyleModel",
          "model_module_version": "1.5.0",
          "state": {
            "_view_name": "StyleView",
            "_model_name": "ProgressStyleModel",
            "description_width": "",
            "_view_module": "@jupyter-widgets/base",
            "_model_module_version": "1.5.0",
            "_view_count": null,
            "_view_module_version": "1.2.0",
            "bar_color": null,
            "_model_module": "@jupyter-widgets/controls"
          }
        },
        "ba55b483ec5940139e3776fb9d3c4e6b": {
          "model_module": "@jupyter-widgets/base",
          "model_name": "LayoutModel",
          "model_module_version": "1.2.0",
          "state": {
            "_view_name": "LayoutView",
            "grid_template_rows": null,
            "right": null,
            "justify_content": null,
            "_view_module": "@jupyter-widgets/base",
            "overflow": null,
            "_model_module_version": "1.2.0",
            "_view_count": null,
            "flex_flow": null,
            "width": null,
            "min_width": null,
            "border": null,
            "align_items": null,
            "bottom": null,
            "_model_module": "@jupyter-widgets/base",
            "top": null,
            "grid_column": null,
            "overflow_y": null,
            "overflow_x": null,
            "grid_auto_flow": null,
            "grid_area": null,
            "grid_template_columns": null,
            "flex": null,
            "_model_name": "LayoutModel",
            "justify_items": null,
            "grid_row": null,
            "max_height": null,
            "align_content": null,
            "visibility": null,
            "align_self": null,
            "height": null,
            "min_height": null,
            "padding": null,
            "grid_auto_rows": null,
            "grid_gap": null,
            "max_width": null,
            "order": null,
            "_view_module_version": "1.2.0",
            "grid_template_areas": null,
            "object_position": null,
            "object_fit": null,
            "grid_auto_columns": null,
            "margin": null,
            "display": null,
            "left": null
          }
        },
        "c9996b78b8654db9b0b6e6e802e8a3a4": {
          "model_module": "@jupyter-widgets/controls",
          "model_name": "DescriptionStyleModel",
          "model_module_version": "1.5.0",
          "state": {
            "_view_name": "StyleView",
            "_model_name": "DescriptionStyleModel",
            "description_width": "",
            "_view_module": "@jupyter-widgets/base",
            "_model_module_version": "1.5.0",
            "_view_count": null,
            "_view_module_version": "1.2.0",
            "_model_module": "@jupyter-widgets/controls"
          }
        },
        "b069694899574b5398119cb890279f9a": {
          "model_module": "@jupyter-widgets/base",
          "model_name": "LayoutModel",
          "model_module_version": "1.2.0",
          "state": {
            "_view_name": "LayoutView",
            "grid_template_rows": null,
            "right": null,
            "justify_content": null,
            "_view_module": "@jupyter-widgets/base",
            "overflow": null,
            "_model_module_version": "1.2.0",
            "_view_count": null,
            "flex_flow": null,
            "width": null,
            "min_width": null,
            "border": null,
            "align_items": null,
            "bottom": null,
            "_model_module": "@jupyter-widgets/base",
            "top": null,
            "grid_column": null,
            "overflow_y": null,
            "overflow_x": null,
            "grid_auto_flow": null,
            "grid_area": null,
            "grid_template_columns": null,
            "flex": null,
            "_model_name": "LayoutModel",
            "justify_items": null,
            "grid_row": null,
            "max_height": null,
            "align_content": null,
            "visibility": null,
            "align_self": null,
            "height": null,
            "min_height": null,
            "padding": null,
            "grid_auto_rows": null,
            "grid_gap": null,
            "max_width": null,
            "order": null,
            "_view_module_version": "1.2.0",
            "grid_template_areas": null,
            "object_position": null,
            "object_fit": null,
            "grid_auto_columns": null,
            "margin": null,
            "display": null,
            "left": null
          }
        }
      }
    }
  },
  "cells": [
    {
      "cell_type": "code",
      "execution_count": 13,
      "metadata": {
        "id": "Obmf3dxVN2l3"
      },
      "outputs": [],
      "source": [
        "import requests\n",
        "\n",
        "from bs4 import BeautifulSoup\n",
        "import pandas as pd\n",
        "from tqdm.auto import tqdm"
      ]
    },
    {
      "cell_type": "code",
      "source": [
        "headers = {\n",
        "    \"Accept\": \"text/html,application/xhtml+xml,application/xml;q=0.9,image/avif,image/webp,*/*;q=0.8\",\n",
        "    \"Accept-Encoding\": \"gzip, deflate, br\",\n",
        "    \"Accept-Language\": \"en-GB,en;q=0.5\",\n",
        "    \"Referer\": \"https://www.google.com/\",\n",
        "    \"User-Agent\": \"Mozilla/5.0 (Windows NT 10.0; Win64; x64; rv:95.0) Gecko/20100101 Firefox/95.0\"\n",
        "}"
      ],
      "metadata": {
        "id": "LNRb2ncXOuN3"
      },
      "execution_count": 2,
      "outputs": []
    },
    {
      "cell_type": "code",
      "source": [
        "carrefour_url = \"https://www.carrefour.fr/r/boissons/cave-a-vins\""
      ],
      "metadata": {
        "id": "JEK93kddN6XN"
      },
      "execution_count": 3,
      "outputs": []
    },
    {
      "cell_type": "code",
      "source": [
        "request = requests.get(carrefour_url, headers=headers)"
      ],
      "metadata": {
        "id": "IRsgnqLrN7jO"
      },
      "execution_count": 4,
      "outputs": []
    },
    {
      "cell_type": "code",
      "source": [
        "soup = BeautifulSoup(request.text)"
      ],
      "metadata": {
        "id": "MrzU_yXCN87I"
      },
      "execution_count": 5,
      "outputs": []
    },
    {
      "cell_type": "code",
      "source": [
        "products = soup.find_all(\"article\")"
      ],
      "metadata": {
        "id": "ciDu-hXgN-lp"
      },
      "execution_count": 6,
      "outputs": []
    },
    {
      "cell_type": "code",
      "source": [
        "carrefour_wines = dict()\n",
        "for index, product in enumerate(products):\n",
        "  try:\n",
        "    name = product.find(\"h2\").text.strip()\n",
        "    price_per_liter = product.find(\"div\", {\"class\": \"ds-body-text ds-body-text--size-s ds-body-text--color-standard-3 product-card-per-unit-label\"})\n",
        "    price_per_liter = float(price_per_liter.text.split(\" €\", 1)[0].strip())\n",
        "    price = product.find(\"div\", {\"class\": \"product-card-price__price\"})\n",
        "    price = float(price.text.split(\"€\", 1)[0].strip().replace(\",\", \".\"))\n",
        "    carrefour_wines[name] = {\"price\": price, \"price / l\": price_per_liter}\n",
        "  except AttributeError:\n",
        "    pass"
      ],
      "metadata": {
        "id": "8WImTv1cOBM5"
      },
      "execution_count": 7,
      "outputs": []
    },
    {
      "cell_type": "markdown",
      "source": [
        "**Vivino**"
      ],
      "metadata": {
        "id": "STvWug9yEPzI"
      }
    },
    {
      "cell_type": "code",
      "source": [
        "def clean_wine_name(stringa: str):\n",
        "  \"\"\"\n",
        "  Return str without useless text to enhance vivino search.\n",
        "  \"\"\"\n",
        "  clean_wine_name = stringa.lower()\n",
        "  clean_wine_name = stringa.replace(\"vin blanc \", \"\")\n",
        "  clean_wine_name = clean_wine_name.replace(\"vin rouge \", \"\")\n",
        "  clean_wine_name = clean_wine_name.replace(\"vin rosé \", \"\")\n",
        "  return clean_wine_name"
      ],
      "metadata": {
        "id": "wxlfbby1P0wN"
      },
      "execution_count": 8,
      "outputs": []
    },
    {
      "cell_type": "code",
      "source": [
        "def scrape_vivino(wine_name):\n",
        "  base_url = \"https://www.vivino.com/search/wines?q=\"\n",
        "  url = base_url + clean_wine_name(wine_name.replace(\" \", \"+\"))\n",
        "  response = requests.get(url,\n",
        "                            headers=headers)\n",
        "  soup = BeautifulSoup(response.text)\n",
        "  wine = soup.find(\"div\", {\"class\": \"default-wine-card\"})\n",
        "  \n",
        "  name = wine.find(\"span\", {\"class\": \"header-smaller text-block wine-card__name\"}).text.strip()\n",
        "  price = wine.find(\"span\", {\"class\": \"wine-price-value\"}).text.strip().replace(\"—\", \"\")\n",
        "  rating = float(wine.find(\"div\", {\"class\": \"text-inline-block light average__number\"}).text.strip())\n",
        "  n_reviews = int(wine.find(\"p\", {\"class\": 'text-micro'}).text.split(\" \", 1)[0].strip())\n",
        "\n",
        "  return {\"VivinoName\": name,\n",
        "          \"VivinoPrice\": price,\n",
        "          \"Rating\": rating,\n",
        "          \"# Reviews\": n_reviews}"
      ],
      "metadata": {
        "id": "h9VBRfY3c9-H"
      },
      "execution_count": 18,
      "outputs": []
    },
    {
      "cell_type": "code",
      "source": [
        "result = dict()\n",
        "wines = list(carrefour_wines.keys())[:4]\n",
        "for wine_name in tqdm(wines):\n",
        "  temp = carrefour_wines[wine_name]\n",
        "  temp.update(scrape_vivino(wine_name))\n",
        "  result[wine_name] = temp"
      ],
      "metadata": {
        "colab": {
          "base_uri": "https://localhost:8080/",
          "height": 49,
          "referenced_widgets": [
            "b7909ba47db8456587aa1c53b204c4af",
            "b56355ef49fb4df98db6e1668181a6db",
            "14a3b1a96a9849c18e5d661293a9e6a1",
            "a879d13de2584ae09ebb8aec141f05f6",
            "d3df2e64290c4eaea4fcce712be0ab58",
            "f4afe461c9434c38849804797b2ef980",
            "5d6caec1543d483bbfd96ccfa1b66509",
            "698071dc366e401baed16bb2ef7ac4f4",
            "ba55b483ec5940139e3776fb9d3c4e6b",
            "c9996b78b8654db9b0b6e6e802e8a3a4",
            "b069694899574b5398119cb890279f9a"
          ]
        },
        "id": "yPAeEb3IE2nN",
        "outputId": "dd8ea704-3a53-4c26-9344-76ad6f9f4d7e"
      },
      "execution_count": 19,
      "outputs": [
        {
          "output_type": "display_data",
          "data": {
            "application/vnd.jupyter.widget-view+json": {
              "model_id": "b7909ba47db8456587aa1c53b204c4af",
              "version_minor": 0,
              "version_major": 2
            },
            "text/plain": [
              "  0%|          | 0/4 [00:00<?, ?it/s]"
            ]
          },
          "metadata": {}
        }
      ]
    },
    {
      "cell_type": "code",
      "source": [
        "df = pd.DataFrame.from_dict(result, orient='index')"
      ],
      "metadata": {
        "id": "GMPUw9Bci_Zw"
      },
      "execution_count": 25,
      "outputs": []
    },
    {
      "cell_type": "code",
      "source": [
        "df.to_excel(\"carrefour_wines.xlsx\")\n",
        "\n",
        "try:\n",
        "  # if we are on Colab\n",
        "  from google.colab import files\n",
        "  files.download(\"carrefour_wines.xlsx\")\n",
        "except ModuleNotFoundError:\n",
        "  pass"
      ],
      "metadata": {
        "colab": {
          "base_uri": "https://localhost:8080/",
          "height": 17
        },
        "id": "QUjB-5vLjsjC",
        "outputId": "5affffdc-f7e0-427b-f195-bc6598a4f7b3"
      },
      "execution_count": 27,
      "outputs": [
        {
          "output_type": "display_data",
          "data": {
            "application/javascript": [
              "\n",
              "    async function download(id, filename, size) {\n",
              "      if (!google.colab.kernel.accessAllowed) {\n",
              "        return;\n",
              "      }\n",
              "      const div = document.createElement('div');\n",
              "      const label = document.createElement('label');\n",
              "      label.textContent = `Downloading \"${filename}\": `;\n",
              "      div.appendChild(label);\n",
              "      const progress = document.createElement('progress');\n",
              "      progress.max = size;\n",
              "      div.appendChild(progress);\n",
              "      document.body.appendChild(div);\n",
              "\n",
              "      const buffers = [];\n",
              "      let downloaded = 0;\n",
              "\n",
              "      const channel = await google.colab.kernel.comms.open(id);\n",
              "      // Send a message to notify the kernel that we're ready.\n",
              "      channel.send({})\n",
              "\n",
              "      for await (const message of channel.messages) {\n",
              "        // Send a message to notify the kernel that we're ready.\n",
              "        channel.send({})\n",
              "        if (message.buffers) {\n",
              "          for (const buffer of message.buffers) {\n",
              "            buffers.push(buffer);\n",
              "            downloaded += buffer.byteLength;\n",
              "            progress.value = downloaded;\n",
              "          }\n",
              "        }\n",
              "      }\n",
              "      const blob = new Blob(buffers, {type: 'application/binary'});\n",
              "      const a = document.createElement('a');\n",
              "      a.href = window.URL.createObjectURL(blob);\n",
              "      a.download = filename;\n",
              "      div.appendChild(a);\n",
              "      a.click();\n",
              "      div.remove();\n",
              "    }\n",
              "  "
            ],
            "text/plain": [
              "<IPython.core.display.Javascript object>"
            ]
          },
          "metadata": {}
        },
        {
          "output_type": "display_data",
          "data": {
            "application/javascript": [
              "download(\"download_ba71b3ac-5b8f-44d8-9da2-844478cf86a4\", \"carrefour_wines.xlsx\", 5439)"
            ],
            "text/plain": [
              "<IPython.core.display.Javascript object>"
            ]
          },
          "metadata": {}
        }
      ]
    }
  ]
}