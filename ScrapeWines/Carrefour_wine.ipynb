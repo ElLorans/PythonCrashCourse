{
 "cells": [
  {
   "cell_type": "markdown",
   "metadata": {},
   "source": [
    "If you are coding from your PC,\n",
    "<br>\n",
    "Install the required libraries by tiping this command in the Anaconda Prompt:\n",
    "<br>\n",
    "`conda install pandas openpyxl selenium webdriver_manager tqdm ipywidgets requests bs4`"
   ]
  },
  {
   "cell_type": "markdown",
   "metadata": {},
   "source": [
    "## Selenium cannot easily be used from Colab, so we cannot easily scrape Carrefour.fr without using Python locally"
   ]
  },
  {
   "cell_type": "code",
   "execution_count": 1,
   "metadata": {},
   "outputs": [],
   "source": [
    "try:\n",
    "    # if we are on Colab\n",
    "    from google.colab import files\n",
    "    SELENIUM = False\n",
    "except ModuleNotFoundError:\n",
    "    # if we are not on Colab, we can easily use Selenium\n",
    "    SELENIUM = True\n",
    "    from selenium import webdriver\n",
    "    from selenium.webdriver.chrome.service import Service\n",
    "    from webdriver_manager.chrome import ChromeDriverManager\n",
    "\n",
    "\n",
    "from time import sleep           # we can make pauses to wait for the web page to load\n",
    "\n",
    "import requests                  # to connect to the internet\n",
    "import pandas as pd              # to create Excel files\n",
    "from bs4 import BeautifulSoup    # to extract text from HTML pages\n",
    "from tqdm.auto import tqdm       # loading bar"
   ]
  },
  {
   "cell_type": "markdown",
   "metadata": {},
   "source": [
    "## Use Selenium to open a Chrome browser and navigate to the website"
   ]
  },
  {
   "cell_type": "code",
   "execution_count": 2,
   "metadata": {},
   "outputs": [],
   "source": [
    "if SELENIUM:\n",
    "    # open Chrome\n",
    "    driver = webdriver.Chrome(\n",
    "        # install ChromeDriver, if required\n",
    "        service=Service(ChromeDriverManager().install())\n",
    "    )\n",
    "    driver.get('https://www.carrefour.fr/r/boissons/cave-a-vins')\n",
    "    sleep(10)   # wait 10 s for Carrefour page to load\n",
    "else:\n",
    "    response = requests.get(\n",
    "        'https://raw.githubusercontent.com/ElLorans/PythonCrashCourse/main/ScrapeWines/carrefour.html'\n",
    "    )"
   ]
  },
  {
   "cell_type": "code",
   "execution_count": 3,
   "metadata": {
    "id": "ciDu-hXgN-lp"
   },
   "outputs": [],
   "source": [
    "# Use Beautiful Soup to parse the HTML content of the page\n",
    "if SELENIUM:\n",
    "    soup = BeautifulSoup(driver.page_source)\n",
    "else:\n",
    "    soup = BeautifulSoup(response.text)\n",
    "\n",
    "products = soup.find_all(\"li\", {\"class\": \"product-grid-item\"})"
   ]
  },
  {
   "cell_type": "code",
   "execution_count": 6,
   "metadata": {},
   "outputs": [
    {
     "name": "stdout",
     "output_type": "stream",
     "text": [
      "'NoneType' object has no attribute 'text'\n",
      "'NoneType' object has no attribute 'text'\n",
      "'NoneType' object has no attribute 'text'\n",
      "'NoneType' object has no attribute 'text'\n",
      "'NoneType' object has no attribute 'text'\n"
     ]
    }
   ],
   "source": [
    "carrefour_wines = dict()\n",
    "for product in products:\n",
    "    try:\n",
    "        liters = product.find(\n",
    "            'div',\n",
    "            {'class': 'ds-format'}\n",
    "        )\n",
    "        if liters is None:\n",
    "            # no liters amount, so it's not a wine. Move to next elem in loop\n",
    "            next\n",
    "        liters = liters.text.strip()\n",
    "        wine_name = product.find('h2').text.strip()\n",
    "        price = product.find(\n",
    "            'span',\n",
    "            {'class': 'product-price__amount-value'}\n",
    "        )\n",
    "        if price is not None:\n",
    "            price = float(price.text.replace(',', '.').split(' €', 1)[0].strip())\n",
    "        else:\n",
    "            price = 0\n",
    "        carrefour_wines[wine_name] = {\n",
    "            'price': price,\n",
    "            'liters': liters\n",
    "        }\n",
    "    except AttributeError as e:\n",
    "        print(e)"
   ]
  },
  {
   "cell_type": "code",
   "execution_count": 7,
   "metadata": {},
   "outputs": [
    {
     "data": {
      "text/plain": [
       "{'Vin Rouge Bordeaux LA PETITE CHAPELLE DE BORDEAUX': {'price': 9.01,\n",
       "  'liters': '3L'},\n",
       " 'Vin rouge Bordeaux LE GRAND ECUYER': {'price': 2.74, 'liters': '75cL'},\n",
       " 'Vin Rouge  Bordeaux AOP Bordeaux La Petite Chapelle De Bordeaux': {'price': 2.77,\n",
       "  'liters': '75cL'},\n",
       " \"Vin rouge  merlot sans alcool  GRAIN D'ENVIE\": {'price': 2.54,\n",
       "  'liters': '75cL'},\n",
       " 'Vin Blanc Moelleux Bordeaux LA PETITE CHAPELLE DE BORDEAUX': {'price': 2.77,\n",
       "  'liters': '75cL'},\n",
       " 'Vin Blanc Bordeaux LA PETITE CHAPELLE DE BORDEAUX': {'price': 9.01,\n",
       "  'liters': '3L'},\n",
       " 'Vin blanc Bordeaux moelleux  LE GRAND ECUYER': {'price': 2.74,\n",
       "  'liters': '75cL'},\n",
       " 'Vin blanc Bordeaux LE GRAND ECUYER': {'price': 2.74, 'liters': '75cL'},\n",
       " 'Vin blanc de Pays Lichette LES CAVES VERNAUX': {'price': 9.94,\n",
       "  'liters': '5L'},\n",
       " 'Vin rosé Bordeaux LE GRAND ECUYER': {'price': 9.83, 'liters': '3L'},\n",
       " 'Vin rosé de Pays Champlure LES CAVES VERNAUX': {'price': 9.94,\n",
       "  'liters': '5L'},\n",
       " \"Vin rosé syrah sans alcool GRAIN D'ENVIE\": {'price': 2.54, 'liters': '75cL'},\n",
       " 'Vin Rosé Bordeaux LA PETITE CHAPELLE DE BORDEAUX': {'price': 9.01,\n",
       "  'liters': '3L'},\n",
       " 'Vin Rosé AOP Bordeaux LA PETITE CHAPELLE DE BORDEAUX': {'price': 2.77,\n",
       "  'liters': '75cL'},\n",
       " 'Vin rouge CRAMOISAY': {'price': 9.94, 'liters': '5L'},\n",
       " 'Vin blanc AOC  LE GRAND ECUYER': {'price': 9.83, 'liters': '3L'},\n",
       " \"Vin rouge bio Bordeaux LA CAVE D'AUGUSTIN FLORENT\": {'price': 5.45,\n",
       "  'liters': '75cL'},\n",
       " 'Vin Rouge Vallée du Rhône Côtes du Rhône Syrah - Grenache Bio DOMAINE JEAN CHARLES AUBERT': {'price': 4.9,\n",
       "  'liters': '75cL'},\n",
       " \"Vin Rouge  Bordeaux AOP Bordeaux La Cave d'Augustin Florent\": {'price': 3.35,\n",
       "  'liters': '75cL'},\n",
       " 'Vin Rouge  Vallée Du Rhône AOP Cairanne Thomas et Thierry \"Reflets De France\"': {'price': 6.75,\n",
       "  'liters': '75cL'},\n",
       " 'Vin Rouge  Languedoc Roussillon AOP Corbières Château Vaugelas': {'price': 4.95,\n",
       "  'liters': '75cL'},\n",
       " 'Vin rouge Merlot LA FRANCETTE': {'price': 2.15, 'liters': '75cL'},\n",
       " 'Vin rouge Cabernet Sauvignon LA FRANCETTE': {'price': 2.15,\n",
       "  'liters': '75cL'}}"
      ]
     },
     "execution_count": 7,
     "metadata": {},
     "output_type": "execute_result"
    }
   ],
   "source": [
    "carrefour_wines"
   ]
  },
  {
   "cell_type": "markdown",
   "metadata": {
    "id": "STvWug9yEPzI"
   },
   "source": [
    "**Vivino**"
   ]
  },
  {
   "cell_type": "code",
   "execution_count": 17,
   "metadata": {
    "id": "wxlfbby1P0wN"
   },
   "outputs": [],
   "source": [
    "def clean_wine_name(stringa: str):\n",
    "    # add docstrings to function so that help(clean_wine_name) will show\n",
    "    # what the function does\n",
    "    \"\"\"\n",
    "    Return str without useless text to enhance vivino search.\n",
    "    \"\"\"\n",
    "    clean_wine_name = stringa.lower()\n",
    "    clean_wine_name = stringa.replace(\"vin blanc \", \"\")\n",
    "    clean_wine_name = clean_wine_name.replace(\"vin rouge \", \"\")\n",
    "    clean_wine_name = clean_wine_name.replace(\"vin rosé \", \"\")\n",
    "    return clean_wine_name"
   ]
  },
  {
   "cell_type": "code",
   "execution_count": 18,
   "metadata": {},
   "outputs": [
    {
     "name": "stdout",
     "output_type": "stream",
     "text": [
      "Help on function clean_wine_name in module __main__:\n",
      "\n",
      "clean_wine_name(stringa: str)\n",
      "    Return str without useless text to enhance vivino search.\n",
      "\n"
     ]
    }
   ],
   "source": [
    "help(clean_wine_name)"
   ]
  },
  {
   "cell_type": "code",
   "execution_count": 19,
   "metadata": {
    "id": "h9VBRfY3c9-H"
   },
   "outputs": [],
   "source": [
    "def scrape_vivino(wine_name: str):\n",
    "    base_url = \"https://www.vivino.com/search/wines?q=\"\n",
    "    url = base_url + clean_wine_name(wine_name.replace(\" \", \"+\"))\n",
    "    print(url)\n",
    "    # headers are sent by web browser to websites to specify what info they want\n",
    "    # without specifying headers, vivino will think we are a bot and will not show us\n",
    "    # any ratings\n",
    "    headers = {\n",
    "        \"Accept\": \"text/html,application/xhtml+xml,application/xml;q=0.9,image/avif,image/webp,*/*;q=0.8\",\n",
    "        \"Accept-Encoding\": \"gzip, deflate, br\",\n",
    "        \"Accept-Language\": \"en-GB,en;q=0.5\",\n",
    "        \"Referer\": \"https://www.google.com/\",\n",
    "        \"User-Agent\": \"Mozilla/5.0 (Windows NT 10.0; Win64; x64; rv:108.0) Gecko/20100101 Firefox/108.0\",\n",
    "    }\n",
    "    response = requests.get(url,\n",
    "                            headers=headers)\n",
    "    soup = BeautifulSoup(response.text)\n",
    "    wine = soup.find(\"div\", {\"class\": \"default-wine-card\"})\n",
    "\n",
    "    name = wine.find(\"span\", {\"class\": \"header-smaller text-block wine-card__name\"}).text.strip()\n",
    "    price = wine.find(\"span\", {\"class\": \"wine-price-value\"}).text.strip().replace(\"—\", \"\")\n",
    "    rating = float(wine.find(\"div\", {\"class\": \"text-inline-block light average__number\"}).text.replace(\",\", \".\").strip())\n",
    "    n_reviews = int(wine.find(\"p\", {\"class\": 'text-micro'}).text.split(\" \", 1)[0].strip())\n",
    "\n",
    "    return {\n",
    "        \"VivinoName\": name,\n",
    "        \"VivinoPrice\": price,\n",
    "        \"Rating\": rating,\n",
    "        \"# Reviews\": n_reviews}"
   ]
  },
  {
   "cell_type": "markdown",
   "metadata": {},
   "source": [
    "## Update the dict carrefour_wines with the info from Vivino"
   ]
  },
  {
   "cell_type": "code",
   "execution_count": 25,
   "metadata": {
    "colab": {
     "base_uri": "https://localhost:8080/",
     "height": 49,
     "referenced_widgets": [
      "b7909ba47db8456587aa1c53b204c4af",
      "b56355ef49fb4df98db6e1668181a6db",
      "14a3b1a96a9849c18e5d661293a9e6a1",
      "a879d13de2584ae09ebb8aec141f05f6",
      "d3df2e64290c4eaea4fcce712be0ab58",
      "f4afe461c9434c38849804797b2ef980",
      "5d6caec1543d483bbfd96ccfa1b66509",
      "698071dc366e401baed16bb2ef7ac4f4",
      "ba55b483ec5940139e3776fb9d3c4e6b",
      "c9996b78b8654db9b0b6e6e802e8a3a4",
      "b069694899574b5398119cb890279f9a"
     ]
    },
    "id": "yPAeEb3IE2nN",
    "outputId": "dd8ea704-3a53-4c26-9344-76ad6f9f4d7e"
   },
   "outputs": [
    {
     "data": {
      "application/vnd.jupyter.widget-view+json": {
       "model_id": "ff56d51233ae4aee97b2476ff3c9cf08",
       "version_major": 2,
       "version_minor": 0
      },
      "text/plain": [
       "  0%|          | 0/27 [00:00<?, ?it/s]"
      ]
     },
     "metadata": {},
     "output_type": "display_data"
    },
    {
     "name": "stdout",
     "output_type": "stream",
     "text": [
      "https://www.vivino.com/search/wines?q=Vin+Rouge+Bordeaux+LA+PETITE+CHAPELLE+DE+BORDEAUX\n",
      "https://www.vivino.com/search/wines?q=Vin+rouge+Bordeaux+LE+GRAND+ECUYER\n",
      "https://www.vivino.com/search/wines?q=Vin+Rouge++Bordeaux+AOP+Bordeaux+La+Petite+Chapelle+De+Bordeaux\n"
     ]
    }
   ],
   "source": [
    "# let's stop to the first 4 wines for now\n",
    "count = 0\n",
    "\n",
    "# tqdm will create a loading bar\n",
    "for wine_name in tqdm(carrefour_wines):\n",
    "    # add to the dictionary scraped from Carrefour the dictionary Scraped from Vivino\n",
    "    vivino_dictionary = scrape_vivino(wine_name)\n",
    "    for key in vivino_dictionary:\n",
    "        carrefour_wines[key] = vivino_dictionary[key]\n",
    "    count = count + 1\n",
    "    if count == 4:\n",
    "        break"
   ]
  },
  {
   "cell_type": "code",
   "execution_count": 26,
   "metadata": {},
   "outputs": [
    {
     "data": {
      "text/plain": [
       "{'Vin Rouge Bordeaux LA PETITE CHAPELLE DE BORDEAUX': {'price': 9.01,\n",
       "  'liters': '3L',\n",
       "  'VivinoName': 'La Petite Chapelle Bordeaux Rouge',\n",
       "  'VivinoPrice': '',\n",
       "  'Rating': 3.2,\n",
       "  '# Reviews': 1253},\n",
       " 'Vin rouge Bordeaux LE GRAND ECUYER': {'price': 2.74,\n",
       "  'liters': '75cL',\n",
       "  'VivinoName': 'Bertrand Ravache Le Grand Ecuyer Bordeaux Supérieur',\n",
       "  'VivinoPrice': '',\n",
       "  'Rating': 3.3,\n",
       "  '# Reviews': 314},\n",
       " 'Vin Rouge  Bordeaux AOP Bordeaux La Petite Chapelle De Bordeaux': {'price': 2.77,\n",
       "  'liters': '75cL',\n",
       "  'VivinoName': 'La Petite Chapelle Bordeaux Rouge',\n",
       "  'VivinoPrice': '',\n",
       "  'Rating': 3.2,\n",
       "  '# Reviews': 1253},\n",
       " \"Vin rouge  merlot sans alcool  GRAIN D'ENVIE\": {'price': 2.54,\n",
       "  'liters': '75cL',\n",
       "  'VivinoName': \"Castel Freres Grain d'Envie Merlot\",\n",
       "  'VivinoPrice': '',\n",
       "  'Rating': 1.7,\n",
       "  '# Reviews': 53},\n",
       " 'Vin Blanc Moelleux Bordeaux LA PETITE CHAPELLE DE BORDEAUX': {'price': 2.77,\n",
       "  'liters': '75cL'},\n",
       " 'Vin Blanc Bordeaux LA PETITE CHAPELLE DE BORDEAUX': {'price': 9.01,\n",
       "  'liters': '3L'},\n",
       " 'Vin blanc Bordeaux moelleux  LE GRAND ECUYER': {'price': 2.74,\n",
       "  'liters': '75cL'},\n",
       " 'Vin blanc Bordeaux LE GRAND ECUYER': {'price': 2.74, 'liters': '75cL'},\n",
       " 'Vin blanc de Pays Lichette LES CAVES VERNAUX': {'price': 9.94,\n",
       "  'liters': '5L'},\n",
       " 'Vin rosé Bordeaux LE GRAND ECUYER': {'price': 9.83, 'liters': '3L'},\n",
       " 'Vin rosé de Pays Champlure LES CAVES VERNAUX': {'price': 9.94,\n",
       "  'liters': '5L'},\n",
       " \"Vin rosé syrah sans alcool GRAIN D'ENVIE\": {'price': 2.54, 'liters': '75cL'},\n",
       " 'Vin Rosé Bordeaux LA PETITE CHAPELLE DE BORDEAUX': {'price': 9.01,\n",
       "  'liters': '3L'},\n",
       " 'Vin Rosé AOP Bordeaux LA PETITE CHAPELLE DE BORDEAUX': {'price': 2.77,\n",
       "  'liters': '75cL'},\n",
       " 'Vin rouge CRAMOISAY': {'price': 9.94, 'liters': '5L'},\n",
       " 'Vin blanc AOC  LE GRAND ECUYER': {'price': 9.83, 'liters': '3L'},\n",
       " \"Vin rouge bio Bordeaux LA CAVE D'AUGUSTIN FLORENT\": {'price': 5.45,\n",
       "  'liters': '75cL'},\n",
       " 'Vin Rouge Vallée du Rhône Côtes du Rhône Syrah - Grenache Bio DOMAINE JEAN CHARLES AUBERT': {'price': 4.9,\n",
       "  'liters': '75cL'},\n",
       " \"Vin Rouge  Bordeaux AOP Bordeaux La Cave d'Augustin Florent\": {'price': 3.35,\n",
       "  'liters': '75cL'},\n",
       " 'Vin Rouge  Vallée Du Rhône AOP Cairanne Thomas et Thierry \"Reflets De France\"': {'price': 6.75,\n",
       "  'liters': '75cL'},\n",
       " 'Vin Rouge  Languedoc Roussillon AOP Corbières Château Vaugelas': {'price': 4.95,\n",
       "  'liters': '75cL'},\n",
       " 'Vin rouge Merlot LA FRANCETTE': {'price': 2.15, 'liters': '75cL'},\n",
       " 'Vin rouge Cabernet Sauvignon LA FRANCETTE': {'price': 2.15,\n",
       "  'liters': '75cL'},\n",
       " 'VivinoName': 'La Petite Chapelle Bordeaux Rouge',\n",
       " 'VivinoPrice': '',\n",
       " 'Rating': 3.2,\n",
       " '# Reviews': 1253}"
      ]
     },
     "execution_count": 26,
     "metadata": {},
     "output_type": "execute_result"
    }
   ],
   "source": [
    "carrefour_wines"
   ]
  },
  {
   "cell_type": "code",
   "execution_count": 27,
   "metadata": {},
   "outputs": [],
   "source": [
    "# carrefour_wines now has more information from vivino but only for the first\n",
    "# count wines. So we create a copy \"result\" of carrefour_wines with only the first count\n",
    "# key-value pairs\n",
    "\n",
    "result = dict()\n",
    "second_count = 0\n",
    "for key in carrefour_wines:\n",
    "    result[key] = carrefour_wines[key]\n",
    "    second_count = second_count + 1\n",
    "    if second_count == count:\n",
    "        break"
   ]
  },
  {
   "cell_type": "code",
   "execution_count": 30,
   "metadata": {},
   "outputs": [
    {
     "data": {
      "text/plain": [
       "{'Vin Rouge Bordeaux LA PETITE CHAPELLE DE BORDEAUX': {'price': 9.01,\n",
       "  'liters': '3L',\n",
       "  'VivinoName': 'La Petite Chapelle Bordeaux Rouge',\n",
       "  'VivinoPrice': '',\n",
       "  'Rating': 3.2,\n",
       "  '# Reviews': 1253},\n",
       " 'Vin rouge Bordeaux LE GRAND ECUYER': {'price': 2.74,\n",
       "  'liters': '75cL',\n",
       "  'VivinoName': 'Bertrand Ravache Le Grand Ecuyer Bordeaux Supérieur',\n",
       "  'VivinoPrice': '',\n",
       "  'Rating': 3.3,\n",
       "  '# Reviews': 314},\n",
       " 'Vin Rouge  Bordeaux AOP Bordeaux La Petite Chapelle De Bordeaux': {'price': 2.77,\n",
       "  'liters': '75cL',\n",
       "  'VivinoName': 'La Petite Chapelle Bordeaux Rouge',\n",
       "  'VivinoPrice': '',\n",
       "  'Rating': 3.2,\n",
       "  '# Reviews': 1253},\n",
       " \"Vin rouge  merlot sans alcool  GRAIN D'ENVIE\": {'price': 2.54,\n",
       "  'liters': '75cL',\n",
       "  'VivinoName': \"Castel Freres Grain d'Envie Merlot\",\n",
       "  'VivinoPrice': '',\n",
       "  'Rating': 1.7,\n",
       "  '# Reviews': 53}}"
      ]
     },
     "execution_count": 30,
     "metadata": {},
     "output_type": "execute_result"
    }
   ],
   "source": [
    "result"
   ]
  },
  {
   "cell_type": "code",
   "execution_count": 28,
   "metadata": {
    "id": "GMPUw9Bci_Zw"
   },
   "outputs": [],
   "source": [
    "df = pd.DataFrame.from_dict(result, orient='index')"
   ]
  },
  {
   "cell_type": "code",
   "execution_count": 29,
   "metadata": {},
   "outputs": [
    {
     "data": {
      "text/html": [
       "<div>\n",
       "<style scoped>\n",
       "    .dataframe tbody tr th:only-of-type {\n",
       "        vertical-align: middle;\n",
       "    }\n",
       "\n",
       "    .dataframe tbody tr th {\n",
       "        vertical-align: top;\n",
       "    }\n",
       "\n",
       "    .dataframe thead th {\n",
       "        text-align: right;\n",
       "    }\n",
       "</style>\n",
       "<table border=\"1\" class=\"dataframe\">\n",
       "  <thead>\n",
       "    <tr style=\"text-align: right;\">\n",
       "      <th></th>\n",
       "      <th>price</th>\n",
       "      <th>liters</th>\n",
       "      <th>VivinoName</th>\n",
       "      <th>VivinoPrice</th>\n",
       "      <th>Rating</th>\n",
       "      <th># Reviews</th>\n",
       "    </tr>\n",
       "  </thead>\n",
       "  <tbody>\n",
       "    <tr>\n",
       "      <th>Vin Rouge Bordeaux LA PETITE CHAPELLE DE BORDEAUX</th>\n",
       "      <td>9.01</td>\n",
       "      <td>3L</td>\n",
       "      <td>La Petite Chapelle Bordeaux Rouge</td>\n",
       "      <td></td>\n",
       "      <td>3.2</td>\n",
       "      <td>1253</td>\n",
       "    </tr>\n",
       "    <tr>\n",
       "      <th>Vin rouge Bordeaux LE GRAND ECUYER</th>\n",
       "      <td>2.74</td>\n",
       "      <td>75cL</td>\n",
       "      <td>Bertrand Ravache Le Grand Ecuyer Bordeaux Supé...</td>\n",
       "      <td></td>\n",
       "      <td>3.3</td>\n",
       "      <td>314</td>\n",
       "    </tr>\n",
       "    <tr>\n",
       "      <th>Vin Rouge  Bordeaux AOP Bordeaux La Petite Chapelle De Bordeaux</th>\n",
       "      <td>2.77</td>\n",
       "      <td>75cL</td>\n",
       "      <td>La Petite Chapelle Bordeaux Rouge</td>\n",
       "      <td></td>\n",
       "      <td>3.2</td>\n",
       "      <td>1253</td>\n",
       "    </tr>\n",
       "    <tr>\n",
       "      <th>Vin rouge  merlot sans alcool  GRAIN D'ENVIE</th>\n",
       "      <td>2.54</td>\n",
       "      <td>75cL</td>\n",
       "      <td>Castel Freres Grain d'Envie Merlot</td>\n",
       "      <td></td>\n",
       "      <td>1.7</td>\n",
       "      <td>53</td>\n",
       "    </tr>\n",
       "  </tbody>\n",
       "</table>\n",
       "</div>"
      ],
      "text/plain": [
       "                                                    price liters  \\\n",
       "Vin Rouge Bordeaux LA PETITE CHAPELLE DE BORDEAUX    9.01     3L   \n",
       "Vin rouge Bordeaux LE GRAND ECUYER                   2.74   75cL   \n",
       "Vin Rouge  Bordeaux AOP Bordeaux La Petite Chap...   2.77   75cL   \n",
       "Vin rouge  merlot sans alcool  GRAIN D'ENVIE         2.54   75cL   \n",
       "\n",
       "                                                                                           VivinoName  \\\n",
       "Vin Rouge Bordeaux LA PETITE CHAPELLE DE BORDEAUX                   La Petite Chapelle Bordeaux Rouge   \n",
       "Vin rouge Bordeaux LE GRAND ECUYER                  Bertrand Ravache Le Grand Ecuyer Bordeaux Supé...   \n",
       "Vin Rouge  Bordeaux AOP Bordeaux La Petite Chap...                  La Petite Chapelle Bordeaux Rouge   \n",
       "Vin rouge  merlot sans alcool  GRAIN D'ENVIE                       Castel Freres Grain d'Envie Merlot   \n",
       "\n",
       "                                                   VivinoPrice  Rating  \\\n",
       "Vin Rouge Bordeaux LA PETITE CHAPELLE DE BORDEAUX                  3.2   \n",
       "Vin rouge Bordeaux LE GRAND ECUYER                                 3.3   \n",
       "Vin Rouge  Bordeaux AOP Bordeaux La Petite Chap...                 3.2   \n",
       "Vin rouge  merlot sans alcool  GRAIN D'ENVIE                       1.7   \n",
       "\n",
       "                                                    # Reviews  \n",
       "Vin Rouge Bordeaux LA PETITE CHAPELLE DE BORDEAUX        1253  \n",
       "Vin rouge Bordeaux LE GRAND ECUYER                        314  \n",
       "Vin Rouge  Bordeaux AOP Bordeaux La Petite Chap...       1253  \n",
       "Vin rouge  merlot sans alcool  GRAIN D'ENVIE               53  "
      ]
     },
     "execution_count": 29,
     "metadata": {},
     "output_type": "execute_result"
    }
   ],
   "source": [
    "df"
   ]
  },
  {
   "cell_type": "code",
   "execution_count": 31,
   "metadata": {
    "colab": {
     "base_uri": "https://localhost:8080/",
     "height": 17
    },
    "id": "QUjB-5vLjsjC",
    "outputId": "5affffdc-f7e0-427b-f195-bc6598a4f7b3"
   },
   "outputs": [],
   "source": [
    "df.to_excel(\"carrefour_wines.xlsx\")\n",
    "\n",
    "try:\n",
    "    # if we are on Colab\n",
    "    from google.colab import files\n",
    "    files.download(\"carrefour_wines.xlsx\")\n",
    "except ModuleNotFoundError:\n",
    "    pass"
   ]
  },
  {
   "cell_type": "code",
   "execution_count": null,
   "metadata": {},
   "outputs": [],
   "source": []
  }
 ],
 "metadata": {
  "colab": {
   "collapsed_sections": [],
   "name": "Carrefour_wine.ipynb",
   "provenance": []
  },
  "kernelspec": {
   "display_name": "Python 3 (ipykernel)",
   "language": "python",
   "name": "python3"
  },
  "language_info": {
   "codemirror_mode": {
    "name": "ipython",
    "version": 3
   },
   "file_extension": ".py",
   "mimetype": "text/x-python",
   "name": "python",
   "nbconvert_exporter": "python",
   "pygments_lexer": "ipython3",
   "version": "3.11.0"
  },
  "widgets": {
   "application/vnd.jupyter.widget-state+json": {
    "14a3b1a96a9849c18e5d661293a9e6a1": {
     "model_module": "@jupyter-widgets/controls",
     "model_module_version": "1.5.0",
     "model_name": "HTMLModel",
     "state": {
      "_dom_classes": [],
      "_model_module": "@jupyter-widgets/controls",
      "_model_module_version": "1.5.0",
      "_model_name": "HTMLModel",
      "_view_count": null,
      "_view_module": "@jupyter-widgets/controls",
      "_view_module_version": "1.5.0",
      "_view_name": "HTMLView",
      "description": "",
      "description_tooltip": null,
      "layout": "IPY_MODEL_5d6caec1543d483bbfd96ccfa1b66509",
      "placeholder": "​",
      "style": "IPY_MODEL_f4afe461c9434c38849804797b2ef980",
      "value": "100%"
     }
    },
    "5d6caec1543d483bbfd96ccfa1b66509": {
     "model_module": "@jupyter-widgets/base",
     "model_module_version": "1.2.0",
     "model_name": "LayoutModel",
     "state": {
      "_model_module": "@jupyter-widgets/base",
      "_model_module_version": "1.2.0",
      "_model_name": "LayoutModel",
      "_view_count": null,
      "_view_module": "@jupyter-widgets/base",
      "_view_module_version": "1.2.0",
      "_view_name": "LayoutView",
      "align_content": null,
      "align_items": null,
      "align_self": null,
      "border": null,
      "bottom": null,
      "display": null,
      "flex": null,
      "flex_flow": null,
      "grid_area": null,
      "grid_auto_columns": null,
      "grid_auto_flow": null,
      "grid_auto_rows": null,
      "grid_column": null,
      "grid_gap": null,
      "grid_row": null,
      "grid_template_areas": null,
      "grid_template_columns": null,
      "grid_template_rows": null,
      "height": null,
      "justify_content": null,
      "justify_items": null,
      "left": null,
      "margin": null,
      "max_height": null,
      "max_width": null,
      "min_height": null,
      "min_width": null,
      "object_fit": null,
      "object_position": null,
      "order": null,
      "overflow": null,
      "overflow_x": null,
      "overflow_y": null,
      "padding": null,
      "right": null,
      "top": null,
      "visibility": null,
      "width": null
     }
    },
    "698071dc366e401baed16bb2ef7ac4f4": {
     "model_module": "@jupyter-widgets/controls",
     "model_module_version": "1.5.0",
     "model_name": "ProgressStyleModel",
     "state": {
      "_model_module": "@jupyter-widgets/controls",
      "_model_module_version": "1.5.0",
      "_model_name": "ProgressStyleModel",
      "_view_count": null,
      "_view_module": "@jupyter-widgets/base",
      "_view_module_version": "1.2.0",
      "_view_name": "StyleView",
      "bar_color": null,
      "description_width": ""
     }
    },
    "a879d13de2584ae09ebb8aec141f05f6": {
     "model_module": "@jupyter-widgets/controls",
     "model_module_version": "1.5.0",
     "model_name": "FloatProgressModel",
     "state": {
      "_dom_classes": [],
      "_model_module": "@jupyter-widgets/controls",
      "_model_module_version": "1.5.0",
      "_model_name": "FloatProgressModel",
      "_view_count": null,
      "_view_module": "@jupyter-widgets/controls",
      "_view_module_version": "1.5.0",
      "_view_name": "ProgressView",
      "bar_style": "success",
      "description": "",
      "description_tooltip": null,
      "layout": "IPY_MODEL_ba55b483ec5940139e3776fb9d3c4e6b",
      "max": 4,
      "min": 0,
      "orientation": "horizontal",
      "style": "IPY_MODEL_698071dc366e401baed16bb2ef7ac4f4",
      "value": 4
     }
    },
    "b069694899574b5398119cb890279f9a": {
     "model_module": "@jupyter-widgets/base",
     "model_module_version": "1.2.0",
     "model_name": "LayoutModel",
     "state": {
      "_model_module": "@jupyter-widgets/base",
      "_model_module_version": "1.2.0",
      "_model_name": "LayoutModel",
      "_view_count": null,
      "_view_module": "@jupyter-widgets/base",
      "_view_module_version": "1.2.0",
      "_view_name": "LayoutView",
      "align_content": null,
      "align_items": null,
      "align_self": null,
      "border": null,
      "bottom": null,
      "display": null,
      "flex": null,
      "flex_flow": null,
      "grid_area": null,
      "grid_auto_columns": null,
      "grid_auto_flow": null,
      "grid_auto_rows": null,
      "grid_column": null,
      "grid_gap": null,
      "grid_row": null,
      "grid_template_areas": null,
      "grid_template_columns": null,
      "grid_template_rows": null,
      "height": null,
      "justify_content": null,
      "justify_items": null,
      "left": null,
      "margin": null,
      "max_height": null,
      "max_width": null,
      "min_height": null,
      "min_width": null,
      "object_fit": null,
      "object_position": null,
      "order": null,
      "overflow": null,
      "overflow_x": null,
      "overflow_y": null,
      "padding": null,
      "right": null,
      "top": null,
      "visibility": null,
      "width": null
     }
    },
    "b56355ef49fb4df98db6e1668181a6db": {
     "model_module": "@jupyter-widgets/base",
     "model_module_version": "1.2.0",
     "model_name": "LayoutModel",
     "state": {
      "_model_module": "@jupyter-widgets/base",
      "_model_module_version": "1.2.0",
      "_model_name": "LayoutModel",
      "_view_count": null,
      "_view_module": "@jupyter-widgets/base",
      "_view_module_version": "1.2.0",
      "_view_name": "LayoutView",
      "align_content": null,
      "align_items": null,
      "align_self": null,
      "border": null,
      "bottom": null,
      "display": null,
      "flex": null,
      "flex_flow": null,
      "grid_area": null,
      "grid_auto_columns": null,
      "grid_auto_flow": null,
      "grid_auto_rows": null,
      "grid_column": null,
      "grid_gap": null,
      "grid_row": null,
      "grid_template_areas": null,
      "grid_template_columns": null,
      "grid_template_rows": null,
      "height": null,
      "justify_content": null,
      "justify_items": null,
      "left": null,
      "margin": null,
      "max_height": null,
      "max_width": null,
      "min_height": null,
      "min_width": null,
      "object_fit": null,
      "object_position": null,
      "order": null,
      "overflow": null,
      "overflow_x": null,
      "overflow_y": null,
      "padding": null,
      "right": null,
      "top": null,
      "visibility": null,
      "width": null
     }
    },
    "b7909ba47db8456587aa1c53b204c4af": {
     "model_module": "@jupyter-widgets/controls",
     "model_module_version": "1.5.0",
     "model_name": "HBoxModel",
     "state": {
      "_dom_classes": [],
      "_model_module": "@jupyter-widgets/controls",
      "_model_module_version": "1.5.0",
      "_model_name": "HBoxModel",
      "_view_count": null,
      "_view_module": "@jupyter-widgets/controls",
      "_view_module_version": "1.5.0",
      "_view_name": "HBoxView",
      "box_style": "",
      "children": [
       "IPY_MODEL_14a3b1a96a9849c18e5d661293a9e6a1",
       "IPY_MODEL_a879d13de2584ae09ebb8aec141f05f6",
       "IPY_MODEL_d3df2e64290c4eaea4fcce712be0ab58"
      ],
      "layout": "IPY_MODEL_b56355ef49fb4df98db6e1668181a6db"
     }
    },
    "ba55b483ec5940139e3776fb9d3c4e6b": {
     "model_module": "@jupyter-widgets/base",
     "model_module_version": "1.2.0",
     "model_name": "LayoutModel",
     "state": {
      "_model_module": "@jupyter-widgets/base",
      "_model_module_version": "1.2.0",
      "_model_name": "LayoutModel",
      "_view_count": null,
      "_view_module": "@jupyter-widgets/base",
      "_view_module_version": "1.2.0",
      "_view_name": "LayoutView",
      "align_content": null,
      "align_items": null,
      "align_self": null,
      "border": null,
      "bottom": null,
      "display": null,
      "flex": null,
      "flex_flow": null,
      "grid_area": null,
      "grid_auto_columns": null,
      "grid_auto_flow": null,
      "grid_auto_rows": null,
      "grid_column": null,
      "grid_gap": null,
      "grid_row": null,
      "grid_template_areas": null,
      "grid_template_columns": null,
      "grid_template_rows": null,
      "height": null,
      "justify_content": null,
      "justify_items": null,
      "left": null,
      "margin": null,
      "max_height": null,
      "max_width": null,
      "min_height": null,
      "min_width": null,
      "object_fit": null,
      "object_position": null,
      "order": null,
      "overflow": null,
      "overflow_x": null,
      "overflow_y": null,
      "padding": null,
      "right": null,
      "top": null,
      "visibility": null,
      "width": null
     }
    },
    "c9996b78b8654db9b0b6e6e802e8a3a4": {
     "model_module": "@jupyter-widgets/controls",
     "model_module_version": "1.5.0",
     "model_name": "DescriptionStyleModel",
     "state": {
      "_model_module": "@jupyter-widgets/controls",
      "_model_module_version": "1.5.0",
      "_model_name": "DescriptionStyleModel",
      "_view_count": null,
      "_view_module": "@jupyter-widgets/base",
      "_view_module_version": "1.2.0",
      "_view_name": "StyleView",
      "description_width": ""
     }
    },
    "d3df2e64290c4eaea4fcce712be0ab58": {
     "model_module": "@jupyter-widgets/controls",
     "model_module_version": "1.5.0",
     "model_name": "HTMLModel",
     "state": {
      "_dom_classes": [],
      "_model_module": "@jupyter-widgets/controls",
      "_model_module_version": "1.5.0",
      "_model_name": "HTMLModel",
      "_view_count": null,
      "_view_module": "@jupyter-widgets/controls",
      "_view_module_version": "1.5.0",
      "_view_name": "HTMLView",
      "description": "",
      "description_tooltip": null,
      "layout": "IPY_MODEL_b069694899574b5398119cb890279f9a",
      "placeholder": "​",
      "style": "IPY_MODEL_c9996b78b8654db9b0b6e6e802e8a3a4",
      "value": " 4/4 [00:02&lt;00:00,  1.49it/s]"
     }
    },
    "f4afe461c9434c38849804797b2ef980": {
     "model_module": "@jupyter-widgets/controls",
     "model_module_version": "1.5.0",
     "model_name": "DescriptionStyleModel",
     "state": {
      "_model_module": "@jupyter-widgets/controls",
      "_model_module_version": "1.5.0",
      "_model_name": "DescriptionStyleModel",
      "_view_count": null,
      "_view_module": "@jupyter-widgets/base",
      "_view_module_version": "1.2.0",
      "_view_name": "StyleView",
      "description_width": ""
     }
    }
   }
  }
 },
 "nbformat": 4,
 "nbformat_minor": 4
}
