{
  "nbformat": 4,
  "nbformat_minor": 0,
  "metadata": {
    "colab": {
      "provenance": [],
      "toc_visible": true
    },
    "kernelspec": {
      "name": "python3",
      "display_name": "Python 3"
    },
    "language_info": {
      "name": "python"
    }
  },
  "cells": [
    {
      "cell_type": "code",
      "source": [
        "help(list.remove)"
      ],
      "metadata": {
        "colab": {
          "base_uri": "https://localhost:8080/"
        },
        "id": "8pENDO3jAFuM",
        "outputId": "04a1455b-a448-4d9a-c4ff-97f294cbabab"
      },
      "execution_count": 1,
      "outputs": [
        {
          "output_type": "stream",
          "name": "stdout",
          "text": [
            "Help on method_descriptor:\n",
            "\n",
            "remove(self, value, /)\n",
            "    Remove first occurrence of value.\n",
            "    \n",
            "    Raises ValueError if the value is not present.\n",
            "\n"
          ]
        }
      ]
    },
    {
      "cell_type": "code",
      "execution_count": 3,
      "metadata": {
        "colab": {
          "base_uri": "https://localhost:8080/"
        },
        "id": "tX6d2RXl__yI",
        "outputId": "c37c9c66-4c3f-404f-eb54-d887b3efe9c7"
      },
      "outputs": [
        {
          "output_type": "stream",
          "name": "stdout",
          "text": [
            "[2, 3, 1]\n"
          ]
        }
      ],
      "source": [
        "my_list = [1, 2, 3, 1]\n",
        "my_list.remove(1)\n",
        "print(my_list)"
      ]
    },
    {
      "cell_type": "code",
      "source": [
        "my_list = [1, 2, 3, 1]\n",
        "del my_list[1]\n",
        "print(my_list)"
      ],
      "metadata": {
        "colab": {
          "base_uri": "https://localhost:8080/"
        },
        "id": "6DjL0-GUAPjf",
        "outputId": "d4b679fe-bc0f-411f-af74-aaf64c640046"
      },
      "execution_count": 4,
      "outputs": [
        {
          "output_type": "stream",
          "name": "stdout",
          "text": [
            "[1, 3, 1]\n"
          ]
        }
      ]
    },
    {
      "cell_type": "markdown",
      "source": [
        "## Recap"
      ],
      "metadata": {
        "id": "XgYr4dFqA0Uw"
      }
    },
    {
      "cell_type": "code",
      "source": [
        "name = \"lorenzo\" # this is a str\n",
        "surname = 'cerreta' # this is a str\n",
        "\n",
        "full_name = name + \" \" + surname\n",
        "print(full_name)"
      ],
      "metadata": {
        "colab": {
          "base_uri": "https://localhost:8080/"
        },
        "id": "SH5wEJfrAhuh",
        "outputId": "e7fab9b4-0d12-498b-997e-0682448b13b8"
      },
      "execution_count": 5,
      "outputs": [
        {
          "output_type": "stream",
          "name": "stdout",
          "text": [
            "lorenzo cerreta\n"
          ]
        }
      ]
    },
    {
      "cell_type": "code",
      "source": [
        "print(name * 3)"
      ],
      "metadata": {
        "colab": {
          "base_uri": "https://localhost:8080/"
        },
        "id": "WZdwkBqZBEOX",
        "outputId": "e7074dbd-7662-414e-d554-0ab58d125559"
      },
      "execution_count": 6,
      "outputs": [
        {
          "output_type": "stream",
          "name": "stdout",
          "text": [
            "lorenzolorenzolorenzo\n"
          ]
        }
      ]
    },
    {
      "cell_type": "code",
      "source": [
        "username = input(\"what's your name?\") # input will always return a str\n",
        "print(\"Hi\", username)"
      ],
      "metadata": {
        "colab": {
          "base_uri": "https://localhost:8080/"
        },
        "id": "lXkTxzLFBG7X",
        "outputId": "2d374102-60c1-4892-98fa-e999a2ce83fe"
      },
      "execution_count": 7,
      "outputs": [
        {
          "output_type": "stream",
          "name": "stdout",
          "text": [
            "what's your name?Mark\n",
            "Hi Mark\n"
          ]
        }
      ]
    },
    {
      "cell_type": "code",
      "source": [
        "age = input(\"How old are you?\")\n",
        "age = int(age)\n",
        "\n",
        "print(\"I am\", age+2, \"years old\")\n",
        "\n",
        "# we need to convert ints to str, if we want to concatenate them\n",
        "print(\"I am \" + str(age+2) + \" years old\")  "
      ],
      "metadata": {
        "colab": {
          "base_uri": "https://localhost:8080/"
        },
        "id": "AU6UMYvNBPNh",
        "outputId": "b658a45a-2c88-4c13-ef0e-beb8e515ce47"
      },
      "execution_count": 9,
      "outputs": [
        {
          "output_type": "stream",
          "name": "stdout",
          "text": [
            "How old are you?27\n",
            "I am 29 years old\n",
            "I am 29 years old\n"
          ]
        }
      ]
    },
    {
      "cell_type": "code",
      "source": [
        "count = 0\n",
        "while count < 2:\n",
        "  print(count, \"elem shown\")\n",
        "  count = count + 1\n",
        "  # we can also use\n",
        "  # count += 1"
      ],
      "metadata": {
        "colab": {
          "base_uri": "https://localhost:8080/"
        },
        "id": "W4co0ZgrBjER",
        "outputId": "f23666d4-4b60-4a39-887a-2d79b4add9b0"
      },
      "execution_count": 11,
      "outputs": [
        {
          "output_type": "stream",
          "name": "stdout",
          "text": [
            "0 elem shown\n",
            "1 elem shown\n"
          ]
        }
      ]
    },
    {
      "cell_type": "markdown",
      "source": [
        "# Exercises"
      ],
      "metadata": {
        "id": "qmadTKlxE6J9"
      }
    },
    {
      "cell_type": "code",
      "source": [
        "# sum all numbers in lista until the first even number (included)\n",
        "# expected result: 8\n",
        "lista = [1, 5, 'Hey', -2, 4, 3, 7]"
      ],
      "metadata": {
        "id": "Y8GXJJ_1BzH2"
      },
      "execution_count": 23,
      "outputs": []
    },
    {
      "cell_type": "code",
      "source": [
        "tot = 0\n",
        "for n in lista:\n",
        "  if type(n) is int:\n",
        "    tot = tot + n\n",
        "    if n % 2 == 0:\n",
        "      break\n",
        "\n",
        "print(tot)"
      ],
      "metadata": {
        "colab": {
          "base_uri": "https://localhost:8080/"
        },
        "id": "s8w_kLolFF1k",
        "outputId": "8194e619-8cae-4042-fc96-26d1ea71fde5"
      },
      "execution_count": 25,
      "outputs": [
        {
          "output_type": "stream",
          "name": "stdout",
          "text": [
            "4\n"
          ]
        }
      ]
    },
    {
      "cell_type": "code",
      "source": [
        "# add to the dictionary a name with its phone number\n",
        "# result should be phone_book = {'Python': 1}\n",
        "phone_book = {}"
      ],
      "metadata": {
        "id": "n48YyJi-Gga7"
      },
      "execution_count": 26,
      "outputs": []
    },
    {
      "cell_type": "code",
      "source": [
        "phone_book['Python'] = 1\n",
        "print(phone_book)"
      ],
      "metadata": {
        "colab": {
          "base_uri": "https://localhost:8080/"
        },
        "id": "R8wwZvrwHTXw",
        "outputId": "f8b74f39-53cd-4c29-e0a4-540e52d99c91"
      },
      "execution_count": 27,
      "outputs": [
        {
          "output_type": "stream",
          "name": "stdout",
          "text": [
            "{'Python': 1}\n"
          ]
        }
      ]
    },
    {
      "cell_type": "code",
      "source": [
        "phone_book['Python'] + 2"
      ],
      "metadata": {
        "colab": {
          "base_uri": "https://localhost:8080/"
        },
        "id": "_FCIkhCKHfl8",
        "outputId": "dcae74c4-19e3-4272-b2c0-cfd021aed422"
      },
      "execution_count": 28,
      "outputs": [
        {
          "output_type": "execute_result",
          "data": {
            "text/plain": [
              "3"
            ]
          },
          "metadata": {},
          "execution_count": 28
        }
      ]
    },
    {
      "cell_type": "code",
      "source": [
        "# constantly ask the user for new names and phone numbers\n",
        "# to add to the phone book, then save them\n",
        "\n",
        "phone_book = {}"
      ],
      "metadata": {
        "id": "vFtJ76o7Hk9F"
      },
      "execution_count": 29,
      "outputs": []
    },
    {
      "cell_type": "code",
      "source": [
        "while True:\n",
        "  contact = input(\"Insert contact:\")\n",
        "  if contact == \"stop\":\n",
        "    break\n",
        "  phone = input(\"Insert phone num:\")\n",
        "  phone_book[contact] = int(phone)\n",
        "  print(phone_book)"
      ],
      "metadata": {
        "colab": {
          "base_uri": "https://localhost:8080/"
        },
        "id": "tK5wwjy5H4Cz",
        "outputId": "7557d23f-61cc-45d5-ab6e-3fd4267a8463"
      },
      "execution_count": 32,
      "outputs": [
        {
          "name": "stdout",
          "output_type": "stream",
          "text": [
            "Insert contact:stop\n"
          ]
        }
      ]
    },
    {
      "cell_type": "code",
      "source": [
        "# Write a program which will find all such numbers which are divisible by 7\n",
        "# but are not a multiple of 5,\n",
        "# between 2000 and 3200 (both included).\n",
        "# The numbers obtained should be printed in a comma-separated sequence on a single line.\n",
        "\n",
        "# Hint: use range(#begin, #end) function"
      ],
      "metadata": {
        "id": "lkZv61U9HyEB"
      },
      "execution_count": 33,
      "outputs": []
    },
    {
      "cell_type": "code",
      "source": [
        "sequence = \"\"\n",
        "for n in range(2000, 3201):\n",
        "  if (n % 7 == 0 and n % 5 != 0):\n",
        "    sequence = sequence + str(n) + \",\"\n",
        "print(sequence)"
      ],
      "metadata": {
        "colab": {
          "base_uri": "https://localhost:8080/"
        },
        "id": "Pxn0M70_JyNV",
        "outputId": "5d62cac1-df16-4b0c-f2fb-1bf5459a49c3"
      },
      "execution_count": 36,
      "outputs": [
        {
          "output_type": "stream",
          "name": "stdout",
          "text": [
            "2002,2009,2016,2023,2037,2044,2051,2058,2072,2079,2086,2093,2107,2114,2121,2128,2142,2149,2156,2163,2177,2184,2191,2198,2212,2219,2226,2233,2247,2254,2261,2268,2282,2289,2296,2303,2317,2324,2331,2338,2352,2359,2366,2373,2387,2394,2401,2408,2422,2429,2436,2443,2457,2464,2471,2478,2492,2499,2506,2513,2527,2534,2541,2548,2562,2569,2576,2583,2597,2604,2611,2618,2632,2639,2646,2653,2667,2674,2681,2688,2702,2709,2716,2723,2737,2744,2751,2758,2772,2779,2786,2793,2807,2814,2821,2828,2842,2849,2856,2863,2877,2884,2891,2898,2912,2919,2926,2933,2947,2954,2961,2968,2982,2989,2996,3003,3017,3024,3031,3038,3052,3059,3066,3073,3087,3094,3101,3108,3122,3129,3136,3143,3157,3164,3171,3178,3192,3199,\n"
          ]
        }
      ]
    },
    {
      "cell_type": "code",
      "source": [
        "##With a given integer number n, write a program to generate a dictionary\n",
        "##that contains (i, i*i) such that is an integral number between 1 and\n",
        "##n (both included). and then the program should print the dictionary.\n",
        "\n",
        "##Suppose the following input is supplied to the program:\n",
        "##8\n",
        "##Then, the output should be:\n",
        "##{1: 1, 2: 4, 3: 9, 4: 16, 5: 25, 6: 36, 7: 49, 8: 64}"
      ],
      "metadata": {
        "id": "QesLcWeGJ3ob"
      },
      "execution_count": 38,
      "outputs": []
    },
    {
      "cell_type": "code",
      "source": [
        "n = input (\"number\")\n",
        "\n",
        "def my_program(n):\n",
        "  dictionary = {}\n",
        "  # dictionary = dict() # it's the same\n",
        "  for i in range(1, int(n)+1):\n",
        "    dictionary[i] = i ** 2\n",
        "  return dictionary\n",
        "\n",
        "print(my_program(n))\n",
        "\n"
      ],
      "metadata": {
        "colab": {
          "base_uri": "https://localhost:8080/"
        },
        "id": "r0sCVyUYMG-A",
        "outputId": "489cd1c8-67c5-4bfc-e8e9-58fcb48a499e"
      },
      "execution_count": 43,
      "outputs": [
        {
          "output_type": "stream",
          "name": "stdout",
          "text": [
            "number7\n",
            "{1: 1, 2: 4, 3: 9, 4: 16, 5: 25, 6: 36, 7: 49}\n"
          ]
        }
      ]
    },
    {
      "cell_type": "code",
      "source": [],
      "metadata": {
        "id": "_6IlfJKpNrRj"
      },
      "execution_count": null,
      "outputs": []
    }
  ]
}