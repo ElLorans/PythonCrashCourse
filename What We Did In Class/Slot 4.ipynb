{
 "cells": [
  {
   "cell_type": "code",
   "execution_count": 1,
   "id": "457bb529-2655-43e2-80be-a87079822965",
   "metadata": {},
   "outputs": [],
   "source": [
    "# Ask the user for a number\n",
    "# keep asking until the user provides a number\n",
    "# then print the double of that number"
   ]
  },
  {
   "cell_type": "markdown",
   "id": "20654666-9530-4f3a-8920-74c2d6b28a94",
   "metadata": {},
   "source": [
    "## 2 minutes to complete the exercise"
   ]
  },
  {
   "cell_type": "code",
   "execution_count": 5,
   "id": "784210e2-a645-473f-9361-dd6fd4941583",
   "metadata": {},
   "outputs": [
    {
     "name": "stdin",
     "output_type": "stream",
     "text": [
      "Enter a number: a\n"
     ]
    },
    {
     "name": "stdout",
     "output_type": "stream",
     "text": [
      "That's not a number, try again\n"
     ]
    },
    {
     "name": "stdin",
     "output_type": "stream",
     "text": [
      "Enter a number: 20\n"
     ]
    },
    {
     "name": "stdout",
     "output_type": "stream",
     "text": [
      "40\n"
     ]
    }
   ],
   "source": [
    "while True:\n",
    "    num = input(\"Enter a number:\")\n",
    "    if num.isnumeric() is True:\n",
    "        print(int(num) * 2)\n",
    "        break   # exit the while loop\n",
    "    else:\n",
    "        print(\"That's not a number, try again\")"
   ]
  },
  {
   "cell_type": "markdown",
   "id": "8461c52e-7057-42dc-8b10-60a3ceada2dc",
   "metadata": {},
   "source": [
    "## The same exercise with try except"
   ]
  },
  {
   "cell_type": "code",
   "execution_count": 8,
   "id": "6d8619c5-fbf6-4956-be83-e8b9c7362c14",
   "metadata": {},
   "outputs": [
    {
     "name": "stdin",
     "output_type": "stream",
     "text": [
      "Enter a number: a\n"
     ]
    },
    {
     "name": "stdout",
     "output_type": "stream",
     "text": [
      "That's not a number, try again\n"
     ]
    },
    {
     "name": "stdin",
     "output_type": "stream",
     "text": [
      "Enter a number: 10\n"
     ]
    },
    {
     "name": "stdout",
     "output_type": "stream",
     "text": [
      "20\n"
     ]
    }
   ],
   "source": [
    "while True:\n",
    "    num = input(\"Enter a number:\")\n",
    "    try:\n",
    "        print(int(num) * 2)\n",
    "        break   # exit the while loop\n",
    "    except ValueError:   \n",
    "    # or simply\n",
    "    # except:  # it's better not to use 'bare' except so that we can see when a new error arises\n",
    "        print(\"That's not a number, try again\")"
   ]
  },
  {
   "cell_type": "markdown",
   "id": "c3d22f72-255a-40e6-b384-e4adc37fc234",
   "metadata": {},
   "source": [
    "## Chain multiple except for different errors"
   ]
  },
  {
   "cell_type": "code",
   "execution_count": 13,
   "id": "0cedd75e-4178-4210-b9b2-c7602dff8381",
   "metadata": {},
   "outputs": [
    {
     "name": "stdin",
     "output_type": "stream",
     "text": [
      "Enter a number: 0\n"
     ]
    },
    {
     "name": "stdout",
     "output_type": "stream",
     "text": [
      "accepted\n",
      "0\n"
     ]
    }
   ],
   "source": [
    "accepted_numbers = {\"0\": \"accepted\", \"1\": \"accepted\"}\n",
    "while True:\n",
    "    num = input(\"Enter a number:\")\n",
    "    try:\n",
    "        print(accepted_numbers[num])\n",
    "        print(int(num) * 2)\n",
    "        break   # exit the while loop\n",
    "    except ValueError:   \n",
    "    # or simply\n",
    "    # except:  # it's better not to use 'bare' except so that we can see when a new error arises\n",
    "        print(\"That's not a number, try again\")\n",
    "    except KeyError:\n",
    "        print(\"That number is not accepted\")"
   ]
  },
  {
   "cell_type": "markdown",
   "id": "fe0be80a-99e1-469a-a1b4-7698a1848471",
   "metadata": {},
   "source": [
    "## Print the error"
   ]
  },
  {
   "cell_type": "code",
   "execution_count": 15,
   "id": "f819aef2-657f-4beb-a2e7-d2d34c9a6d68",
   "metadata": {},
   "outputs": [
    {
     "name": "stdout",
     "output_type": "stream",
     "text": [
      "3 is not in accepted_numbers\n"
     ]
    }
   ],
   "source": [
    "try:\n",
    "    accepted_numbers[3]\n",
    "except KeyError as e:\n",
    "    print(e, \"is not in accepted_numbers\")"
   ]
  },
  {
   "cell_type": "markdown",
   "id": "fa4c805f-ee0a-4d76-9ed2-e1a551850eab",
   "metadata": {},
   "source": [
    "## HTML"
   ]
  },
  {
   "cell_type": "markdown",
   "id": "11754edc-83eb-4aa9-b445-11652d43c42a",
   "metadata": {},
   "source": [
    "<h1>This is a title</h1>\n",
    "<p>This is a paragraph</p>"
   ]
  },
  {
   "cell_type": "markdown",
   "id": "7b6b13e6-b045-4081-b3cb-d78e526fb17a",
   "metadata": {},
   "source": [
    "## BeautifulSoup\n",
    "A popular library to extract text from HTML"
   ]
  },
  {
   "cell_type": "code",
   "execution_count": 16,
   "id": "ddb69941-3de0-4374-ba44-5b6dd379559e",
   "metadata": {},
   "outputs": [],
   "source": [
    "from bs4 import BeautifulSoup"
   ]
  },
  {
   "cell_type": "code",
   "execution_count": 21,
   "id": "0c0fb209-3b35-4946-8c85-7bdb082316eb",
   "metadata": {},
   "outputs": [],
   "source": [
    "# we can use \"\"\" to write a multi-line str\n",
    "html_text = \"\"\"<h1>This is a title</h1>\n",
    "<p>This is a paragraph</p>\n",
    "<h1>This is another title</h1>\"\"\""
   ]
  },
  {
   "cell_type": "code",
   "execution_count": 22,
   "id": "126a7ac6-bd3f-4fa0-9887-6c17ab5ffef0",
   "metadata": {},
   "outputs": [
    {
     "name": "stdout",
     "output_type": "stream",
     "text": [
      "This is a title\n"
     ]
    }
   ],
   "source": [
    "soup = BeautifulSoup(html_text)\n",
    "h1 = soup.find('h1').text\n",
    "print(h1)   # will print the first occurrence in <h1> tag"
   ]
  },
  {
   "cell_type": "markdown",
   "id": "3c746a43-7a86-4d93-b839-d76e83bc6f7b",
   "metadata": {},
   "source": [
    "Extract multiple elements with find_all"
   ]
  },
  {
   "cell_type": "code",
   "execution_count": 23,
   "id": "ee6099f0-bfba-41c3-b26e-ebee8c8e1eba",
   "metadata": {},
   "outputs": [
    {
     "name": "stdout",
     "output_type": "stream",
     "text": [
      "This is a title\n",
      "This is another title\n"
     ]
    }
   ],
   "source": [
    "all_h1s = soup.find_all('h1')\n",
    "for el in all_h1s:\n",
    "    print(el.text)"
   ]
  },
  {
   "cell_type": "code",
   "execution_count": 25,
   "id": "ab231e5f-085e-4f30-bf6a-e30a57788de5",
   "metadata": {},
   "outputs": [
    {
     "name": "stdout",
     "output_type": "stream",
     "text": [
      "<class 'bs4.element.ResultSet'>\n"
     ]
    }
   ],
   "source": [
    "print(type(all_h1s))"
   ]
  },
  {
   "cell_type": "markdown",
   "id": "7849ca1c-b68a-439f-8ca9-b77881da25b1",
   "metadata": {},
   "source": [
    "Extract specific html text with a class attribute"
   ]
  },
  {
   "cell_type": "code",
   "execution_count": 26,
   "id": "fc90c25c-4e07-4ff6-93c3-3e2fc7d62938",
   "metadata": {},
   "outputs": [],
   "source": [
    "# we can use \"\"\" to write a multi-line str\n",
    "complex_html_text = \"\"\"<h1 class=\"main_title\">This is a title</h1>\n",
    "<p>This is a paragraph</p>\n",
    "<h1 class=\"second_title\">This is another title</h1>\"\"\""
   ]
  },
  {
   "cell_type": "code",
   "execution_count": 28,
   "id": "978b09bb-af89-48b8-9952-e3e8ddaf7d2f",
   "metadata": {},
   "outputs": [
    {
     "name": "stdout",
     "output_type": "stream",
     "text": [
      "This is a title\n"
     ]
    }
   ],
   "source": [
    "complex_soup = BeautifulSoup(complex_html_text)\n",
    "second_title = complex_soup.find('h1', {'class': 'second_title'}).text\n",
    "print(h1)   # will print the first occurrence in <h1 class=\"second_title\"> tag"
   ]
  },
  {
   "cell_type": "code",
   "execution_count": null,
   "id": "e14599d5-550f-46d3-914a-7e08b71d3051",
   "metadata": {},
   "outputs": [],
   "source": []
  }
 ],
 "metadata": {
  "kernelspec": {
   "display_name": "Python 3 (ipykernel)",
   "language": "python",
   "name": "python3"
  },
  "language_info": {
   "codemirror_mode": {
    "name": "ipython",
    "version": 3
   },
   "file_extension": ".py",
   "mimetype": "text/x-python",
   "name": "python",
   "nbconvert_exporter": "python",
   "pygments_lexer": "ipython3",
   "version": "3.11.0"
  }
 },
 "nbformat": 4,
 "nbformat_minor": 5
}
