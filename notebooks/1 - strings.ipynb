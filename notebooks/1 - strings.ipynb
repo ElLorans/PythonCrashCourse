{
 "cells": [
  {
   "cell_type": "markdown",
   "metadata": {},
   "source": [
    "# [Strings](https://docs.python.org/3/library/stdtypes.html#text-sequence-type-str)\n",
    "<br>\n",
    "<i>a string is a sequence of alphanumeric and symbolic characters: it is simply a bunch of <b>text</b>\n",
    "    <br>\n",
    "    strings are an <b>immutable</b> data type</i>"
   ]
  },
  {
   "cell_type": "code",
   "execution_count": null,
   "metadata": {},
   "outputs": [],
   "source": [
    "my_string = 'Hi everyone, my name is Lorenzo. I am an Accenture Chair Alumnus.'"
   ]
  },
  {
   "cell_type": "markdown",
   "metadata": {},
   "source": [
    "In Jupyter, the last line of a cell will be \"printed\" automatically (this is a simplification)"
   ]
  },
  {
   "cell_type": "code",
   "execution_count": null,
   "metadata": {},
   "outputs": [],
   "source": [
    "my_string"
   ]
  },
  {
   "cell_type": "code",
   "execution_count": null,
   "metadata": {},
   "outputs": [],
   "source": [
    "print(my_string)"
   ]
  },
  {
   "cell_type": "code",
   "execution_count": null,
   "metadata": {},
   "outputs": [],
   "source": [
    "# this will print once\n",
    "my_string\n",
    "print(my_string)"
   ]
  },
  {
   "cell_type": "code",
   "execution_count": null,
   "metadata": {},
   "outputs": [],
   "source": [
    "# this will print twice\n",
    "print(my_string)\n",
    "my_string"
   ]
  },
  {
   "cell_type": "markdown",
   "metadata": {},
   "source": [
    "We can check the data type and the lenght of a string"
   ]
  },
  {
   "cell_type": "code",
   "execution_count": null,
   "metadata": {},
   "outputs": [],
   "source": [
    "type(my_string)"
   ]
  },
  {
   "cell_type": "code",
   "execution_count": null,
   "metadata": {},
   "outputs": [],
   "source": [
    "len(my_string)"
   ]
  },
  {
   "cell_type": "markdown",
   "metadata": {},
   "source": [
    "### Concatenate Strings"
   ]
  },
  {
   "cell_type": "code",
   "execution_count": null,
   "metadata": {},
   "outputs": [],
   "source": [
    "lang = \"Python\"\n",
    "number = \"3\"\n",
    "\n",
    "print(lang + \" \" + number)"
   ]
  },
  {
   "cell_type": "code",
   "execution_count": null,
   "metadata": {},
   "outputs": [],
   "source": [
    "print(lang * 3)"
   ]
  },
  {
   "cell_type": "markdown",
   "metadata": {},
   "source": [
    "### Print multiple strings"
   ]
  },
  {
   "cell_type": "code",
   "execution_count": null,
   "metadata": {},
   "outputs": [],
   "source": [
    "print(lang, number)"
   ]
  },
  {
   "cell_type": "markdown",
   "metadata": {},
   "source": [
    "### Slicing\n",
    "\n",
    "We can access individual characters of a string by their index.\n",
    "<br>\n",
    "Indexes in Python start at 0.\n",
    "<br>\n",
    "<br>\n",
    "<b>Example:</b>\n",
    "<br>\n",
    "str:   &emsp; Python\n",
    "<br>\n",
    "index: 012345\n",
    "<br>\n",
    "neg_i: 654321"
   ]
  },
  {
   "cell_type": "code",
   "execution_count": null,
   "metadata": {},
   "outputs": [],
   "source": [
    "start = 0\n",
    "end_excluded = 4\n",
    "step = 1\n",
    "\n",
    "lang[start:end_excluded]"
   ]
  },
  {
   "cell_type": "code",
   "execution_count": null,
   "metadata": {},
   "outputs": [],
   "source": [
    "lang[-1]"
   ]
  },
  {
   "cell_type": "code",
   "execution_count": null,
   "metadata": {},
   "outputs": [],
   "source": [
    "lang[3:-1]"
   ]
  },
  {
   "cell_type": "code",
   "execution_count": null,
   "metadata": {},
   "outputs": [],
   "source": [
    "lang[3:20]"
   ]
  },
  {
   "cell_type": "code",
   "execution_count": null,
   "metadata": {},
   "outputs": [],
   "source": [
    "lang[-6:-4]"
   ]
  },
  {
   "cell_type": "code",
   "execution_count": null,
   "metadata": {},
   "outputs": [],
   "source": [
    "lang[0:4:2]"
   ]
  },
  {
   "cell_type": "code",
   "execution_count": null,
   "metadata": {},
   "outputs": [],
   "source": [
    "lang[-4:-2]"
   ]
  },
  {
   "cell_type": "markdown",
   "metadata": {},
   "source": [
    "### Respecting [PEP8](https://www.python.org/dev/peps/pep-0008/#maximum-line-length) with long strings\n",
    "<br>\n",
    "<i>PEPs (Python Enhancing Proposals) are design documents that either provide information or describe a new feature for Python\n",
    "    <br>\n",
    "    PEP8 provides guidelines on code styiling</i>"
   ]
  },
  {
   "cell_type": "code",
   "execution_count": null,
   "metadata": {},
   "outputs": [],
   "source": [
    "long_story = ('Lorem ipsum dolor sit amet, consectetur adipiscing elit.' \n",
    "              'Pellentesque eget tincidunt felis. Ut ac vestibulum est.' \n",
    "              'In sed ipsum sit amet sapien scelerisque bibendum. Sed ' \n",
    "              'sagittis purus eu diam fermentum pellentesque.')\n",
    "long_story"
   ]
  },
  {
   "cell_type": "markdown",
   "metadata": {},
   "source": [
    "## `str.replace()`"
   ]
  },
  {
   "cell_type": "markdown",
   "metadata": {},
   "source": [
    "If you don't know how it works, you can always check the `help`:"
   ]
  },
  {
   "cell_type": "code",
   "execution_count": null,
   "metadata": {},
   "outputs": [],
   "source": [
    "help(str.replace)"
   ]
  },
  {
   "cell_type": "markdown",
   "metadata": {},
   "source": [
    "This will not modify `my_string` because replace is not done in-place.\n",
    "<br>"
   ]
  },
  {
   "cell_type": "code",
   "execution_count": null,
   "metadata": {},
   "outputs": [],
   "source": [
    "my_string.replace('a', '?')\n",
    "print(my_string)"
   ]
  },
  {
   "cell_type": "markdown",
   "metadata": {},
   "source": [
    "You have to store the return value of `replace` instead.\n",
    "Why?\n",
    "<br>\n",
    "Because strings are <b>immutable</b>. You cannot change them! You can only reassign them using the \"=\" sign."
   ]
  },
  {
   "cell_type": "code",
   "execution_count": null,
   "metadata": {},
   "outputs": [],
   "source": [
    "my_string = my_string.replace('is', 'will be')\n",
    "print(\"my_string now is\", my_string)"
   ]
  },
  {
   "cell_type": "markdown",
   "metadata": {},
   "source": [
    "## `str.format()`"
   ]
  },
  {
   "cell_type": "code",
   "execution_count": null,
   "metadata": {},
   "outputs": [],
   "source": [
    "secret = '{} is cool'.format('Python')\n",
    "print(secret)"
   ]
  },
  {
   "cell_type": "code",
   "execution_count": null,
   "metadata": {},
   "outputs": [],
   "source": [
    "print('My name is {} {}, you can call me {}.'.format('John', 'Doe', 'John'))\n",
    "# is the same as:\n",
    "print('My name is {first} {family}, you can call me {first}.'.format(first='John', family='Doe'))"
   ]
  },
  {
   "cell_type": "markdown",
   "metadata": {},
   "source": [
    "## `f-strings`\n",
    "<br>\n",
    "Only Python 3.6+\n",
    "<br>\n",
    "Add \"f\" before the string and put variables inside \"{}\""
   ]
  },
  {
   "cell_type": "code",
   "execution_count": null,
   "metadata": {},
   "outputs": [],
   "source": [
    "programming_language = 'Python'\n",
    "secret = f'{programming_language} is cool'\n",
    "print(secret)"
   ]
  },
  {
   "cell_type": "markdown",
   "metadata": {},
   "source": [
    "## `str.join()`"
   ]
  },
  {
   "cell_type": "code",
   "execution_count": null,
   "metadata": {},
   "outputs": [],
   "source": [
    "pandas = 'pandas'\n",
    "numpy = 'numpy'\n",
    "requests = 'requests'\n",
    "cool_python_libs = ', '.join([pandas, numpy, requests])"
   ]
  },
  {
   "cell_type": "code",
   "execution_count": null,
   "metadata": {},
   "outputs": [],
   "source": [
    "print('Some cool python libraries: {}'.format(cool_python_libs))"
   ]
  },
  {
   "cell_type": "markdown",
   "metadata": {},
   "source": [
    "Alternatives (not as [Pythonic](http://docs.python-guide.org/en/latest/writing/style/#idioms) and [slower](https://waymoot.org/home/python_string/)):"
   ]
  },
  {
   "cell_type": "code",
   "execution_count": null,
   "metadata": {},
   "outputs": [],
   "source": [
    "cool_python_libs = pandas + ', ' + numpy + ', ' + requests\n",
    "print('Some cool python libraries: {}'.format(cool_python_libs))\n",
    "\n",
    "cool_python_libs = pandas\n",
    "cool_python_libs += ', ' + numpy\n",
    "cool_python_libs += ', ' + requests\n",
    "print('Some cool python libraries: {}'.format(cool_python_libs))"
   ]
  },
  {
   "cell_type": "markdown",
   "metadata": {},
   "source": [
    "## `str.upper(), str.lower(), str.title()`"
   ]
  },
  {
   "cell_type": "code",
   "execution_count": null,
   "metadata": {},
   "outputs": [],
   "source": [
    "mixed_case = 'PyTHoN hackER'"
   ]
  },
  {
   "cell_type": "code",
   "execution_count": null,
   "metadata": {},
   "outputs": [],
   "source": [
    "mixed_case.upper()"
   ]
  },
  {
   "cell_type": "code",
   "execution_count": null,
   "metadata": {},
   "outputs": [],
   "source": [
    "mixed_case.lower()"
   ]
  },
  {
   "cell_type": "code",
   "execution_count": null,
   "metadata": {},
   "outputs": [],
   "source": [
    "mixed_case.title()"
   ]
  },
  {
   "cell_type": "markdown",
   "metadata": {},
   "source": [
    "## [Escape characters](http://python-reference.readthedocs.io/en/latest/docs/str/escapes.html#escape-characters)"
   ]
  },
  {
   "cell_type": "code",
   "execution_count": null,
   "metadata": {},
   "outputs": [],
   "source": [
    "two_lines = 'First line\\nSecond line'\n",
    "print(two_lines)"
   ]
  },
  {
   "cell_type": "code",
   "execution_count": null,
   "metadata": {},
   "outputs": [],
   "source": [
    "indented = '\\tThis will be indented'\n",
    "print(indented)"
   ]
  },
  {
   "cell_type": "markdown",
   "metadata": {},
   "source": [
    "## `str.strip()`\n",
    "Removes spaces at the extreme of the string and removes escape chars"
   ]
  },
  {
   "cell_type": "code",
   "execution_count": null,
   "metadata": {},
   "outputs": [],
   "source": [
    "ugly_formatted = ' \\n \\t Some     story to tell '\n",
    "stripped = ugly_formatted.strip()\n",
    "\n",
    "print('ugly: {}'.format(ugly_formatted))\n",
    "print('stripped: {}'.format(ugly_formatted.strip()))"
   ]
  },
  {
   "cell_type": "markdown",
   "metadata": {},
   "source": [
    "## `str.split()`"
   ]
  },
  {
   "cell_type": "code",
   "execution_count": null,
   "metadata": {},
   "outputs": [],
   "source": [
    "sentence = 'three different words'\n",
    "words = sentence.split()\n",
    "print(words)"
   ]
  },
  {
   "cell_type": "code",
   "execution_count": null,
   "metadata": {},
   "outputs": [],
   "source": [
    "type(words)"
   ]
  },
  {
   "cell_type": "code",
   "execution_count": null,
   "metadata": {},
   "outputs": [],
   "source": [
    "secret_binary_data = '01001,101101,11100000'\n",
    "binaries = secret_binary_data.split(',')\n",
    "print(binaries)"
   ]
  },
  {
   "cell_type": "markdown",
   "metadata": {},
   "source": [
    "## Calling multiple methods in a row"
   ]
  },
  {
   "cell_type": "code",
   "execution_count": null,
   "metadata": {},
   "outputs": [],
   "source": [
    "ugly_mixed_case = '   ThIS LooKs BAd '\n",
    "pretty = ugly_mixed_case.strip().lower().replace('bad', 'good')\n",
    "print(pretty)"
   ]
  },
  {
   "cell_type": "markdown",
   "metadata": {},
   "source": [
    "Note that execution order is from left to right. Thus, this won't work:"
   ]
  },
  {
   "cell_type": "code",
   "execution_count": null,
   "metadata": {},
   "outputs": [],
   "source": [
    "pretty = ugly_mixed_case.replace('bad', 'good').strip().lower()\n",
    "print(pretty)"
   ]
  }
 ],
 "metadata": {
  "kernelspec": {
   "display_name": "Python 3",
   "language": "python",
   "name": "python3"
  },
  "language_info": {
   "codemirror_mode": {
    "name": "ipython",
    "version": 3
   },
   "file_extension": ".py",
   "mimetype": "text/x-python",
   "name": "python",
   "nbconvert_exporter": "python",
   "pygments_lexer": "ipython3",
   "version": "3.7.6"
  }
 },
 "nbformat": 4,
 "nbformat_minor": 1
}
