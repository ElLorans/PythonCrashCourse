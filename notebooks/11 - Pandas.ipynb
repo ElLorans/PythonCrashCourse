{
 "cells": [
  {
   "cell_type": "code",
   "execution_count": 3,
   "metadata": {
    "id": "Uk65zU61VBOg"
   },
   "outputs": [],
   "source": [
    "import pandas as pd\n",
    "import numpy as np"
   ]
  },
  {
   "cell_type": "markdown",
   "metadata": {
    "id": "LGNXX6yCVBOg"
   },
   "source": [
    "### Step 1. Open the csv file and assign it to a dataframe called mtg"
   ]
  },
  {
   "cell_type": "code",
   "execution_count": 6,
   "metadata": {
    "colab": {
     "base_uri": "https://localhost:8080/"
    },
    "id": "OL0Vq11QVBOh",
    "outputId": "ec2f1c42-68ee-4438-9691-8081ed1d6561"
   },
   "outputs": [
    {
     "name": "stderr",
     "output_type": "stream",
     "text": [
      "b'Skipping line 3: expected 19 fields, saw 20\\nSkipping line 14170: expected 19 fields, saw 20\\n'\n"
     ]
    }
   ],
   "source": [
    "mtg = pd.read_csv('https://raw.githubusercontent.com/ElLorans/PythonCrashCourse/main/notebooks/mtg.csv',\n",
    "                  error_bad_lines=False)"
   ]
  },
  {
   "cell_type": "markdown",
   "metadata": {
    "id": "HyR_JnOBVBOk"
   },
   "source": [
    "### Step 2. See the first 5 entries"
   ]
  },
  {
   "cell_type": "code",
   "execution_count": 7,
   "metadata": {
    "colab": {
     "base_uri": "https://localhost:8080/",
     "height": 383
    },
    "id": "X7I-kdL-VBOm",
    "outputId": "8b0e8987-5fe1-4a17-999c-aa5b2a9457a4"
   },
   "outputs": [
    {
     "data": {
      "text/html": [
       "<div>\n",
       "<style scoped>\n",
       "    .dataframe tbody tr th:only-of-type {\n",
       "        vertical-align: middle;\n",
       "    }\n",
       "\n",
       "    .dataframe tbody tr th {\n",
       "        vertical-align: top;\n",
       "    }\n",
       "\n",
       "    .dataframe thead th {\n",
       "        text-align: right;\n",
       "    }\n",
       "</style>\n",
       "<table border=\"1\" class=\"dataframe\">\n",
       "  <thead>\n",
       "    <tr style=\"text-align: right;\">\n",
       "      <th></th>\n",
       "      <th>Name</th>\n",
       "      <th>Type</th>\n",
       "      <th>Color</th>\n",
       "      <th>Rarity</th>\n",
       "      <th>Author</th>\n",
       "      <th>Power</th>\n",
       "      <th>Toughness</th>\n",
       "      <th>Mana cost</th>\n",
       "      <th>Converted mana cost</th>\n",
       "      <th>Count</th>\n",
       "      <th>Foil count</th>\n",
       "      <th>Price</th>\n",
       "      <th>Foil price</th>\n",
       "      <th>Number</th>\n",
       "      <th>Set</th>\n",
       "      <th>ID</th>\n",
       "      <th>Multiverse ID</th>\n",
       "      <th>Comments</th>\n",
       "      <th>To trade</th>\n",
       "    </tr>\n",
       "  </thead>\n",
       "  <tbody>\n",
       "    <tr>\n",
       "      <th>0</th>\n",
       "      <td>_____</td>\n",
       "      <td>Creature - Shapeshifter</td>\n",
       "      <td>Blue</td>\n",
       "      <td>Uncommon</td>\n",
       "      <td>Ron Spears</td>\n",
       "      <td>1.0</td>\n",
       "      <td>1.0</td>\n",
       "      <td>(1)(U)</td>\n",
       "      <td>2</td>\n",
       "      <td>0</td>\n",
       "      <td>0</td>\n",
       "      <td>0.27</td>\n",
       "      <td>0.27</td>\n",
       "      <td>23</td>\n",
       "      <td>Unhinged</td>\n",
       "      <td>17668</td>\n",
       "      <td>74252</td>\n",
       "      <td>NaN</td>\n",
       "      <td>0</td>\n",
       "    </tr>\n",
       "    <tr>\n",
       "      <th>1</th>\n",
       "      <td>Rumors of My Death . . .\"\"</td>\n",
       "      <td>Enchantment</td>\n",
       "      <td>Black</td>\n",
       "      <td>Uncommon</td>\n",
       "      <td>Alex Konstad</td>\n",
       "      <td>0.0</td>\n",
       "      <td>0.0</td>\n",
       "      <td>(2)(B)</td>\n",
       "      <td>3</td>\n",
       "      <td>0</td>\n",
       "      <td>0</td>\n",
       "      <td>0.05</td>\n",
       "      <td>0.05</td>\n",
       "      <td>65</td>\n",
       "      <td>Unstable</td>\n",
       "      <td>39777</td>\n",
       "      <td>439454</td>\n",
       "      <td>NaN</td>\n",
       "      <td>0</td>\n",
       "    </tr>\n",
       "    <tr>\n",
       "      <th>2</th>\n",
       "      <td>1997 World Championships Ad</td>\n",
       "      <td>Card</td>\n",
       "      <td>Colorless</td>\n",
       "      <td>Common</td>\n",
       "      <td>NaN</td>\n",
       "      <td>0.0</td>\n",
       "      <td>0.0</td>\n",
       "      <td>NaN</td>\n",
       "      <td>0</td>\n",
       "      <td>0</td>\n",
       "      <td>0</td>\n",
       "      <td>0.00</td>\n",
       "      <td>0.00</td>\n",
       "      <td>1</td>\n",
       "      <td>World Championship Decks 1997</td>\n",
       "      <td>48930</td>\n",
       "      <td>0</td>\n",
       "      <td>NaN</td>\n",
       "      <td>0</td>\n",
       "    </tr>\n",
       "    <tr>\n",
       "      <th>3</th>\n",
       "      <td>1998 World Championships Ad</td>\n",
       "      <td>Card</td>\n",
       "      <td>Colorless</td>\n",
       "      <td>Common</td>\n",
       "      <td>NaN</td>\n",
       "      <td>0.0</td>\n",
       "      <td>0.0</td>\n",
       "      <td>NaN</td>\n",
       "      <td>0</td>\n",
       "      <td>0</td>\n",
       "      <td>0</td>\n",
       "      <td>0.00</td>\n",
       "      <td>0.00</td>\n",
       "      <td>1</td>\n",
       "      <td>World Championship Decks 1998</td>\n",
       "      <td>49060</td>\n",
       "      <td>0</td>\n",
       "      <td>NaN</td>\n",
       "      <td>0</td>\n",
       "    </tr>\n",
       "    <tr>\n",
       "      <th>4</th>\n",
       "      <td>1999 World Championships Ad</td>\n",
       "      <td>Card</td>\n",
       "      <td>Colorless</td>\n",
       "      <td>Common</td>\n",
       "      <td>NaN</td>\n",
       "      <td>0.0</td>\n",
       "      <td>0.0</td>\n",
       "      <td>NaN</td>\n",
       "      <td>0</td>\n",
       "      <td>0</td>\n",
       "      <td>0</td>\n",
       "      <td>0.00</td>\n",
       "      <td>0.00</td>\n",
       "      <td>1</td>\n",
       "      <td>World Championship Decks 1999</td>\n",
       "      <td>49176</td>\n",
       "      <td>0</td>\n",
       "      <td>NaN</td>\n",
       "      <td>0</td>\n",
       "    </tr>\n",
       "  </tbody>\n",
       "</table>\n",
       "</div>"
      ],
      "text/plain": [
       "                          Name                     Type  ... Comments To trade\n",
       "0                        _____  Creature - Shapeshifter  ...      NaN        0\n",
       "1   Rumors of My Death . . .\"\"              Enchantment  ...      NaN        0\n",
       "2  1997 World Championships Ad                     Card  ...      NaN        0\n",
       "3  1998 World Championships Ad                     Card  ...      NaN        0\n",
       "4  1999 World Championships Ad                     Card  ...      NaN        0\n",
       "\n",
       "[5 rows x 19 columns]"
      ]
     },
     "execution_count": 7,
     "metadata": {
      "tags": []
     },
     "output_type": "execute_result"
    }
   ],
   "source": [
    "mtg.head()"
   ]
  },
  {
   "cell_type": "markdown",
   "metadata": {
    "id": "lBk2hbKOVBOo"
   },
   "source": [
    "### Step 3. What is the number of observations in the dataset?"
   ]
  },
  {
   "cell_type": "code",
   "execution_count": 8,
   "metadata": {
    "colab": {
     "base_uri": "https://localhost:8080/"
    },
    "id": "5xaOoiPgVBOp",
    "outputId": "5015a13a-919f-40ac-cc76-175094977703"
   },
   "outputs": [
    {
     "data": {
      "text/plain": [
       "(51567, 19)"
      ]
     },
     "execution_count": 8,
     "metadata": {
      "tags": []
     },
     "output_type": "execute_result"
    }
   ],
   "source": [
    "mtg.shape #will give you both (observations/rows, columns)"
   ]
  },
  {
   "cell_type": "code",
   "execution_count": 9,
   "metadata": {
    "colab": {
     "base_uri": "https://localhost:8080/"
    },
    "id": "YPZkonT0VBOr",
    "outputId": "10ded3b9-5002-46f7-9b2d-0d1467f8acbd"
   },
   "outputs": [
    {
     "data": {
      "text/plain": [
       "51567"
      ]
     },
     "execution_count": 9,
     "metadata": {
      "tags": []
     },
     "output_type": "execute_result"
    }
   ],
   "source": [
    "mtg.shape[0] #will give you only the observations/rows number"
   ]
  },
  {
   "cell_type": "markdown",
   "metadata": {
    "id": "5Eff9IryVBOu"
   },
   "source": [
    "### Step 4. What is the number of columns in the dataset?"
   ]
  },
  {
   "cell_type": "code",
   "execution_count": 10,
   "metadata": {
    "colab": {
     "base_uri": "https://localhost:8080/"
    },
    "id": "OKdo370KVBOu",
    "outputId": "0d3f1f64-7e6a-439c-cdfb-ea171916a54a"
   },
   "outputs": [
    {
     "name": "stdout",
     "output_type": "stream",
     "text": [
      "(51567, 19)\n",
      "19\n",
      "<class 'pandas.core.frame.DataFrame'>\n",
      "RangeIndex: 51567 entries, 0 to 51566\n",
      "Data columns (total 19 columns):\n",
      " #   Column               Non-Null Count  Dtype  \n",
      "---  ------               --------------  -----  \n",
      " 0   Name                 51567 non-null  object \n",
      " 1   Type                 51567 non-null  object \n",
      " 2   Color                51567 non-null  object \n",
      " 3   Rarity               51567 non-null  object \n",
      " 4   Author               51463 non-null  object \n",
      " 5   Power                51563 non-null  float64\n",
      " 6   Toughness            51566 non-null  float64\n",
      " 7   Mana cost            43887 non-null  object \n",
      " 8   Converted mana cost  51567 non-null  int64  \n",
      " 9   Count                51567 non-null  int64  \n",
      " 10  Foil count           51567 non-null  int64  \n",
      " 11  Price                51567 non-null  float64\n",
      " 12  Foil price           51567 non-null  float64\n",
      " 13  Number               51567 non-null  int64  \n",
      " 14  Set                  51567 non-null  object \n",
      " 15  ID                   51567 non-null  int64  \n",
      " 16  Multiverse ID        51567 non-null  int64  \n",
      " 17  Comments             0 non-null      float64\n",
      " 18  To trade             51567 non-null  int64  \n",
      "dtypes: float64(5), int64(7), object(7)\n",
      "memory usage: 7.5+ MB\n"
     ]
    }
   ],
   "source": [
    "print(mtg.shape) #will give you both (observations/rows, columns)\n",
    "print(mtg.shape[1]) #will give you only the columns number\n",
    "\n",
    "#OR\n",
    "\n",
    "mtg.info() #Columns: 163 entries"
   ]
  },
  {
   "cell_type": "markdown",
   "metadata": {
    "id": "32dis3w8VBOv"
   },
   "source": [
    "### Step 5. Print the name of all the columns."
   ]
  },
  {
   "cell_type": "code",
   "execution_count": 11,
   "metadata": {
    "colab": {
     "base_uri": "https://localhost:8080/"
    },
    "id": "GsZEuFdtVBOv",
    "outputId": "8d6053e6-ad66-4aca-bac6-55380652b501"
   },
   "outputs": [
    {
     "data": {
      "text/plain": [
       "Index(['Name', 'Type', 'Color', 'Rarity', 'Author', 'Power', 'Toughness',\n",
       "       'Mana cost', 'Converted mana cost', 'Count', 'Foil count', 'Price',\n",
       "       'Foil price', 'Number', 'Set', 'ID', 'Multiverse ID', 'Comments',\n",
       "       'To trade'],\n",
       "      dtype='object')"
      ]
     },
     "execution_count": 11,
     "metadata": {
      "tags": []
     },
     "output_type": "execute_result"
    }
   ],
   "source": [
    "mtg.columns"
   ]
  },
  {
   "cell_type": "markdown",
   "metadata": {
    "id": "4N-Fr8JxVBOx"
   },
   "source": [
    "### Step 6. What is the name of 10th column?"
   ]
  },
  {
   "cell_type": "code",
   "execution_count": 13,
   "metadata": {
    "colab": {
     "base_uri": "https://localhost:8080/",
     "height": 36
    },
    "id": "Oful3B7HVBOx",
    "outputId": "792e1602-02d4-402a-889d-2bbc4bed3ab3"
   },
   "outputs": [
    {
     "data": {
      "application/vnd.google.colaboratory.intrinsic+json": {
       "type": "string"
      },
      "text/plain": [
       "'Foil count'"
      ]
     },
     "execution_count": 13,
     "metadata": {
      "tags": []
     },
     "output_type": "execute_result"
    }
   ],
   "source": [
    "mtg.columns[10]"
   ]
  },
  {
   "cell_type": "markdown",
   "metadata": {
    "id": "N_b1MK_6VBOy"
   },
   "source": [
    "### Step 7. What is the type of the observations of the 105th column?"
   ]
  },
  {
   "cell_type": "code",
   "execution_count": 15,
   "metadata": {
    "colab": {
     "base_uri": "https://localhost:8080/"
    },
    "id": "rGGbkt8fVBOy",
    "outputId": "caad5f84-636a-4a4d-80ba-eb08a3434851"
   },
   "outputs": [
    {
     "data": {
      "text/plain": [
       "dtype('int64')"
      ]
     },
     "execution_count": 15,
     "metadata": {
      "tags": []
     },
     "output_type": "execute_result"
    }
   ],
   "source": [
    "mtg.dtypes['Foil count']"
   ]
  },
  {
   "cell_type": "markdown",
   "metadata": {
    "id": "aEJ0FlFzVBOz"
   },
   "source": [
    "### Step 8. How is the dataset indexed?"
   ]
  },
  {
   "cell_type": "code",
   "execution_count": 16,
   "metadata": {
    "colab": {
     "base_uri": "https://localhost:8080/"
    },
    "id": "xo7a4MD6VBO0",
    "outputId": "a4f919a6-010d-469b-8464-d66915af3a55"
   },
   "outputs": [
    {
     "data": {
      "text/plain": [
       "RangeIndex(start=0, stop=51567, step=1)"
      ]
     },
     "execution_count": 16,
     "metadata": {
      "tags": []
     },
     "output_type": "execute_result"
    }
   ],
   "source": [
    "mtg.index"
   ]
  },
  {
   "cell_type": "markdown",
   "metadata": {
    "id": "uowszSphVBO0"
   },
   "source": [
    "### Step 9. What is the price of the 3835th observation?"
   ]
  },
  {
   "cell_type": "code",
   "execution_count": 27,
   "metadata": {
    "colab": {
     "base_uri": "https://localhost:8080/"
    },
    "id": "OCQ8DjXGVBO1",
    "outputId": "e03c0a60-bcd1-48e2-8dba-7eb8c0b6b31a"
   },
   "outputs": [
    {
     "data": {
      "text/plain": [
       "16380.0"
      ]
     },
     "execution_count": 27,
     "metadata": {
      "tags": []
     },
     "output_type": "execute_result"
    }
   ],
   "source": [
    "mtg.values[3835][11]"
   ]
  },
  {
   "cell_type": "markdown",
   "metadata": {},
   "source": [
    "### Step 10. Filter lines with name == 'Black Lotus'"
   ]
  },
  {
   "cell_type": "code",
   "execution_count": 29,
   "metadata": {
    "colab": {
     "base_uri": "https://localhost:8080/",
     "height": 365
    },
    "id": "HLk6FhIzcAvH",
    "outputId": "6558ae77-38c1-4187-fc7b-0c8d518c639f"
   },
   "outputs": [
    {
     "data": {
      "text/html": [
       "<div>\n",
       "<style scoped>\n",
       "    .dataframe tbody tr th:only-of-type {\n",
       "        vertical-align: middle;\n",
       "    }\n",
       "\n",
       "    .dataframe tbody tr th {\n",
       "        vertical-align: top;\n",
       "    }\n",
       "\n",
       "    .dataframe thead th {\n",
       "        text-align: right;\n",
       "    }\n",
       "</style>\n",
       "<table border=\"1\" class=\"dataframe\">\n",
       "  <thead>\n",
       "    <tr style=\"text-align: right;\">\n",
       "      <th></th>\n",
       "      <th>Name</th>\n",
       "      <th>Type</th>\n",
       "      <th>Color</th>\n",
       "      <th>Rarity</th>\n",
       "      <th>Author</th>\n",
       "      <th>Power</th>\n",
       "      <th>Toughness</th>\n",
       "      <th>Mana cost</th>\n",
       "      <th>Converted mana cost</th>\n",
       "      <th>Count</th>\n",
       "      <th>Foil count</th>\n",
       "      <th>Price</th>\n",
       "      <th>Foil price</th>\n",
       "      <th>Number</th>\n",
       "      <th>Set</th>\n",
       "      <th>ID</th>\n",
       "      <th>Multiverse ID</th>\n",
       "      <th>Comments</th>\n",
       "      <th>To trade</th>\n",
       "    </tr>\n",
       "  </thead>\n",
       "  <tbody>\n",
       "    <tr>\n",
       "      <th>3831</th>\n",
       "      <td>Black Lotus</td>\n",
       "      <td>Artifact</td>\n",
       "      <td>Colorless</td>\n",
       "      <td>Rare</td>\n",
       "      <td>Christopher Rush</td>\n",
       "      <td>0.0</td>\n",
       "      <td>0.0</td>\n",
       "      <td>(0)</td>\n",
       "      <td>0</td>\n",
       "      <td>0</td>\n",
       "      <td>0</td>\n",
       "      <td>0.00</td>\n",
       "      <td>0.00</td>\n",
       "      <td>233</td>\n",
       "      <td>International Collectors Edition</td>\n",
       "      <td>53701</td>\n",
       "      <td>0</td>\n",
       "      <td>NaN</td>\n",
       "      <td>0</td>\n",
       "    </tr>\n",
       "    <tr>\n",
       "      <th>3832</th>\n",
       "      <td>Black Lotus</td>\n",
       "      <td>Artifact</td>\n",
       "      <td>Colorless</td>\n",
       "      <td>Rare</td>\n",
       "      <td>Christopher Rush</td>\n",
       "      <td>0.0</td>\n",
       "      <td>0.0</td>\n",
       "      <td>(0)</td>\n",
       "      <td>1</td>\n",
       "      <td>0</td>\n",
       "      <td>0</td>\n",
       "      <td>0.00</td>\n",
       "      <td>0.00</td>\n",
       "      <td>234</td>\n",
       "      <td>Collectors Edition</td>\n",
       "      <td>45844</td>\n",
       "      <td>0</td>\n",
       "      <td>NaN</td>\n",
       "      <td>0</td>\n",
       "    </tr>\n",
       "    <tr>\n",
       "      <th>3833</th>\n",
       "      <td>Black Lotus</td>\n",
       "      <td>Artifact</td>\n",
       "      <td>Colorless</td>\n",
       "      <td>Rare</td>\n",
       "      <td>Christopher Rush</td>\n",
       "      <td>0.0</td>\n",
       "      <td>0.0</td>\n",
       "      <td>(0)</td>\n",
       "      <td>0</td>\n",
       "      <td>0</td>\n",
       "      <td>0</td>\n",
       "      <td>6499.99</td>\n",
       "      <td>6499.99</td>\n",
       "      <td>233</td>\n",
       "      <td>Unlimited Edition</td>\n",
       "      <td>19593</td>\n",
       "      <td>600</td>\n",
       "      <td>NaN</td>\n",
       "      <td>0</td>\n",
       "    </tr>\n",
       "    <tr>\n",
       "      <th>3834</th>\n",
       "      <td>Black Lotus</td>\n",
       "      <td>Artifact</td>\n",
       "      <td>Colorless</td>\n",
       "      <td>Rare</td>\n",
       "      <td>Christopher Rush</td>\n",
       "      <td>0.0</td>\n",
       "      <td>0.0</td>\n",
       "      <td>(0)</td>\n",
       "      <td>0</td>\n",
       "      <td>0</td>\n",
       "      <td>0</td>\n",
       "      <td>10400.00</td>\n",
       "      <td>10400.00</td>\n",
       "      <td>233</td>\n",
       "      <td>Limited Edition Beta</td>\n",
       "      <td>19291</td>\n",
       "      <td>298</td>\n",
       "      <td>NaN</td>\n",
       "      <td>0</td>\n",
       "    </tr>\n",
       "    <tr>\n",
       "      <th>3835</th>\n",
       "      <td>Black Lotus</td>\n",
       "      <td>Artifact</td>\n",
       "      <td>Colorless</td>\n",
       "      <td>Rare</td>\n",
       "      <td>Christopher Rush</td>\n",
       "      <td>0.0</td>\n",
       "      <td>0.0</td>\n",
       "      <td>(0)</td>\n",
       "      <td>0</td>\n",
       "      <td>0</td>\n",
       "      <td>0</td>\n",
       "      <td>16380.00</td>\n",
       "      <td>16380.00</td>\n",
       "      <td>232</td>\n",
       "      <td>Limited Edition Alpha</td>\n",
       "      <td>18996</td>\n",
       "      <td>3</td>\n",
       "      <td>NaN</td>\n",
       "      <td>0</td>\n",
       "    </tr>\n",
       "  </tbody>\n",
       "</table>\n",
       "</div>"
      ],
      "text/plain": [
       "             Name      Type      Color  ... Multiverse ID Comments  To trade\n",
       "3831  Black Lotus  Artifact  Colorless  ...             0      NaN         0\n",
       "3832  Black Lotus  Artifact  Colorless  ...             0      NaN         0\n",
       "3833  Black Lotus  Artifact  Colorless  ...           600      NaN         0\n",
       "3834  Black Lotus  Artifact  Colorless  ...           298      NaN         0\n",
       "3835  Black Lotus  Artifact  Colorless  ...             3      NaN         0\n",
       "\n",
       "[5 rows x 19 columns]"
      ]
     },
     "execution_count": 29,
     "metadata": {
      "tags": []
     },
     "output_type": "execute_result"
    }
   ],
   "source": [
    "mtg[mtg.Name == 'Black Lotus']"
   ]
  },
  {
   "cell_type": "code",
   "execution_count": 28,
   "metadata": {
    "colab": {
     "base_uri": "https://localhost:8080/",
     "height": 365
    },
    "id": "77azUHJVb11E",
    "outputId": "e86546b1-a937-4027-aaec-3a519e3c1f55"
   },
   "outputs": [
    {
     "data": {
      "text/html": [
       "<div>\n",
       "<style scoped>\n",
       "    .dataframe tbody tr th:only-of-type {\n",
       "        vertical-align: middle;\n",
       "    }\n",
       "\n",
       "    .dataframe tbody tr th {\n",
       "        vertical-align: top;\n",
       "    }\n",
       "\n",
       "    .dataframe thead th {\n",
       "        text-align: right;\n",
       "    }\n",
       "</style>\n",
       "<table border=\"1\" class=\"dataframe\">\n",
       "  <thead>\n",
       "    <tr style=\"text-align: right;\">\n",
       "      <th></th>\n",
       "      <th>Name</th>\n",
       "      <th>Type</th>\n",
       "      <th>Color</th>\n",
       "      <th>Rarity</th>\n",
       "      <th>Author</th>\n",
       "      <th>Power</th>\n",
       "      <th>Toughness</th>\n",
       "      <th>Mana cost</th>\n",
       "      <th>Converted mana cost</th>\n",
       "      <th>Count</th>\n",
       "      <th>Foil count</th>\n",
       "      <th>Price</th>\n",
       "      <th>Foil price</th>\n",
       "      <th>Number</th>\n",
       "      <th>Set</th>\n",
       "      <th>ID</th>\n",
       "      <th>Multiverse ID</th>\n",
       "      <th>Comments</th>\n",
       "      <th>To trade</th>\n",
       "    </tr>\n",
       "  </thead>\n",
       "  <tbody>\n",
       "    <tr>\n",
       "      <th>3831</th>\n",
       "      <td>Black Lotus</td>\n",
       "      <td>Artifact</td>\n",
       "      <td>Colorless</td>\n",
       "      <td>Rare</td>\n",
       "      <td>Christopher Rush</td>\n",
       "      <td>0.0</td>\n",
       "      <td>0.0</td>\n",
       "      <td>(0)</td>\n",
       "      <td>0</td>\n",
       "      <td>0</td>\n",
       "      <td>0</td>\n",
       "      <td>0.00</td>\n",
       "      <td>0.00</td>\n",
       "      <td>233</td>\n",
       "      <td>International Collectors Edition</td>\n",
       "      <td>53701</td>\n",
       "      <td>0</td>\n",
       "      <td>NaN</td>\n",
       "      <td>0</td>\n",
       "    </tr>\n",
       "    <tr>\n",
       "      <th>3832</th>\n",
       "      <td>Black Lotus</td>\n",
       "      <td>Artifact</td>\n",
       "      <td>Colorless</td>\n",
       "      <td>Rare</td>\n",
       "      <td>Christopher Rush</td>\n",
       "      <td>0.0</td>\n",
       "      <td>0.0</td>\n",
       "      <td>(0)</td>\n",
       "      <td>1</td>\n",
       "      <td>0</td>\n",
       "      <td>0</td>\n",
       "      <td>0.00</td>\n",
       "      <td>0.00</td>\n",
       "      <td>234</td>\n",
       "      <td>Collectors Edition</td>\n",
       "      <td>45844</td>\n",
       "      <td>0</td>\n",
       "      <td>NaN</td>\n",
       "      <td>0</td>\n",
       "    </tr>\n",
       "    <tr>\n",
       "      <th>3833</th>\n",
       "      <td>Black Lotus</td>\n",
       "      <td>Artifact</td>\n",
       "      <td>Colorless</td>\n",
       "      <td>Rare</td>\n",
       "      <td>Christopher Rush</td>\n",
       "      <td>0.0</td>\n",
       "      <td>0.0</td>\n",
       "      <td>(0)</td>\n",
       "      <td>0</td>\n",
       "      <td>0</td>\n",
       "      <td>0</td>\n",
       "      <td>6499.99</td>\n",
       "      <td>6499.99</td>\n",
       "      <td>233</td>\n",
       "      <td>Unlimited Edition</td>\n",
       "      <td>19593</td>\n",
       "      <td>600</td>\n",
       "      <td>NaN</td>\n",
       "      <td>0</td>\n",
       "    </tr>\n",
       "    <tr>\n",
       "      <th>3834</th>\n",
       "      <td>Black Lotus</td>\n",
       "      <td>Artifact</td>\n",
       "      <td>Colorless</td>\n",
       "      <td>Rare</td>\n",
       "      <td>Christopher Rush</td>\n",
       "      <td>0.0</td>\n",
       "      <td>0.0</td>\n",
       "      <td>(0)</td>\n",
       "      <td>0</td>\n",
       "      <td>0</td>\n",
       "      <td>0</td>\n",
       "      <td>10400.00</td>\n",
       "      <td>10400.00</td>\n",
       "      <td>233</td>\n",
       "      <td>Limited Edition Beta</td>\n",
       "      <td>19291</td>\n",
       "      <td>298</td>\n",
       "      <td>NaN</td>\n",
       "      <td>0</td>\n",
       "    </tr>\n",
       "    <tr>\n",
       "      <th>3835</th>\n",
       "      <td>Black Lotus</td>\n",
       "      <td>Artifact</td>\n",
       "      <td>Colorless</td>\n",
       "      <td>Rare</td>\n",
       "      <td>Christopher Rush</td>\n",
       "      <td>0.0</td>\n",
       "      <td>0.0</td>\n",
       "      <td>(0)</td>\n",
       "      <td>0</td>\n",
       "      <td>0</td>\n",
       "      <td>0</td>\n",
       "      <td>16380.00</td>\n",
       "      <td>16380.00</td>\n",
       "      <td>232</td>\n",
       "      <td>Limited Edition Alpha</td>\n",
       "      <td>18996</td>\n",
       "      <td>3</td>\n",
       "      <td>NaN</td>\n",
       "      <td>0</td>\n",
       "    </tr>\n",
       "  </tbody>\n",
       "</table>\n",
       "</div>"
      ],
      "text/plain": [
       "             Name      Type      Color  ... Multiverse ID Comments  To trade\n",
       "3831  Black Lotus  Artifact  Colorless  ...             0      NaN         0\n",
       "3832  Black Lotus  Artifact  Colorless  ...             0      NaN         0\n",
       "3833  Black Lotus  Artifact  Colorless  ...           600      NaN         0\n",
       "3834  Black Lotus  Artifact  Colorless  ...           298      NaN         0\n",
       "3835  Black Lotus  Artifact  Colorless  ...             3      NaN         0\n",
       "\n",
       "[5 rows x 19 columns]"
      ]
     },
     "execution_count": 28,
     "metadata": {
      "tags": []
     },
     "output_type": "execute_result"
    }
   ],
   "source": [
    "mtg.query(\"Name == 'Black Lotus'\")"
   ]
  },
  {
   "cell_type": "code",
   "execution_count": null,
   "metadata": {
    "id": "Uswztl7CcDAW"
   },
   "outputs": [],
   "source": []
  }
 ],
 "metadata": {
  "anaconda-cloud": {},
  "colab": {
   "collapsed_sections": [],
   "name": "11 - Pandas_Exercises_with_solutions.ipynb",
   "provenance": []
  },
  "kernelspec": {
   "display_name": "Python 3",
   "language": "python",
   "name": "python3"
  },
  "language_info": {
   "codemirror_mode": {
    "name": "ipython",
    "version": 3
   },
   "file_extension": ".py",
   "mimetype": "text/x-python",
   "name": "python",
   "nbconvert_exporter": "python",
   "pygments_lexer": "ipython3",
   "version": "3.8.5"
  },
  "toc": {
   "base_numbering": 1,
   "nav_menu": {},
   "number_sections": true,
   "sideBar": true,
   "skip_h1_title": false,
   "title_cell": "Table of Contents",
   "title_sidebar": "Contents",
   "toc_cell": false,
   "toc_position": {},
   "toc_section_display": true,
   "toc_window_display": false
  }
 },
 "nbformat": 4,
 "nbformat_minor": 1
}
