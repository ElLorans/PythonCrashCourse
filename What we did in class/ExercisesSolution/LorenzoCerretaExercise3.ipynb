{
 "cells": [
  {
   "cell_type": "raw",
   "metadata": {},
   "source": [
    "Generate a number from 1 to 10 (bonus point if the number is random)\n",
    "ask the user to guess a number from 1 to 10\n",
    "if the number is wrong, ask again\n",
    "if the input is not a number, ask again for an input\n",
    "if the input is correct, show \"YOU WIN AFTER x ATTEMPTS\", \n",
    "where x is the number of guesses"
   ]
  },
  {
   "cell_type": "code",
   "execution_count": 1,
   "metadata": {},
   "outputs": [],
   "source": [
    "import random as rd\n",
    "\n",
    "solution = rd.randint(1, 10)"
   ]
  },
  {
   "cell_type": "code",
   "execution_count": 2,
   "metadata": {},
   "outputs": [
    {
     "data": {
      "text/plain": [
       "6"
      ]
     },
     "execution_count": 2,
     "metadata": {},
     "output_type": "execute_result"
    }
   ],
   "source": [
    "solution"
   ]
  },
  {
   "cell_type": "code",
   "execution_count": 3,
   "metadata": {},
   "outputs": [],
   "source": [
    "def ask_integer():\n",
    "    answer = input(\"I am thinking of a number from 1 to 10\")\n",
    "    try:\n",
    "        answer = int(answer)\n",
    "    except ValueError:\n",
    "        print(\"I said a number\")\n",
    "    return answer"
   ]
  },
  {
   "cell_type": "markdown",
   "metadata": {},
   "source": [
    "### Test Function"
   ]
  },
  {
   "cell_type": "code",
   "execution_count": 10,
   "metadata": {},
   "outputs": [
    {
     "name": "stdout",
     "output_type": "stream",
     "text": [
      "I am thinking of a number from 1 to 10a\n",
      "I said a number\n"
     ]
    }
   ],
   "source": [
    "a = ask_integer()"
   ]
  },
  {
   "cell_type": "code",
   "execution_count": 11,
   "metadata": {},
   "outputs": [
    {
     "data": {
      "text/plain": [
       "'a'"
      ]
     },
     "execution_count": 11,
     "metadata": {},
     "output_type": "execute_result"
    }
   ],
   "source": [
    "a"
   ]
  },
  {
   "cell_type": "code",
   "execution_count": 12,
   "metadata": {},
   "outputs": [
    {
     "name": "stdout",
     "output_type": "stream",
     "text": [
      "I am thinking of a number from 1 to 1010\n"
     ]
    }
   ],
   "source": [
    "b = ask_integer()"
   ]
  },
  {
   "cell_type": "code",
   "execution_count": 13,
   "metadata": {},
   "outputs": [
    {
     "data": {
      "text/plain": [
       "10"
      ]
     },
     "execution_count": 13,
     "metadata": {},
     "output_type": "execute_result"
    }
   ],
   "source": [
    "b"
   ]
  },
  {
   "cell_type": "markdown",
   "metadata": {},
   "source": [
    "### Exercise"
   ]
  },
  {
   "cell_type": "code",
   "execution_count": 9,
   "metadata": {},
   "outputs": [
    {
     "name": "stdout",
     "output_type": "stream",
     "text": [
      "I am thinking of a number from 1 to 106\n",
      "YOU WIN AFTER 1 ATTEMPTS\n"
     ]
    }
   ],
   "source": [
    "count = 0\n",
    "\n",
    "answer = ask_integer()\n",
    "    \n",
    "while answer != solution:\n",
    "    print(\"Try again\")\n",
    "    answer = ask_integer()\n",
    "    count += 1\n",
    "    \n",
    "print(\"YOU WIN AFTER\", count, \"ATTEMPTS\")"
   ]
  },
  {
   "cell_type": "markdown",
   "metadata": {},
   "source": [
    "### Exercise withou counting wrong answers (when user inserts a str)"
   ]
  },
  {
   "cell_type": "code",
   "execution_count": null,
   "metadata": {},
   "outputs": [],
   "source": [
    "answer = ask_integer()\n",
    "\n",
    "if type(answer) is int:\n",
    "    count = 1\n",
    "else:\n",
    "    count = 0\n",
    "    \n",
    "while answer != solution:\n",
    "    print(\"Try again\")\n",
    "    answer = ask_integer()\n",
    "    if type(answer) is int:\n",
    "        count += 1\n",
    "    \n",
    "print(\"YOU WIN AFTER\", count, \"ATTEMPTS\")"
   ]
  }
 ],
 "metadata": {
  "kernelspec": {
   "display_name": "Python 3",
   "language": "python",
   "name": "python3"
  },
  "language_info": {
   "codemirror_mode": {
    "name": "ipython",
    "version": 3
   },
   "file_extension": ".py",
   "mimetype": "text/x-python",
   "name": "python",
   "nbconvert_exporter": "python",
   "pygments_lexer": "ipython3",
   "version": "3.8.5"
  }
 },
 "nbformat": 4,
 "nbformat_minor": 4
}
