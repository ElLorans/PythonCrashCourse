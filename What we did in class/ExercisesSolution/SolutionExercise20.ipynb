{
 "cells": [
  {
   "cell_type": "code",
   "execution_count": null,
   "metadata": {},
   "outputs": [],
   "source": [
    "##The Fibonacci Sequence is computed based on the following formula:\n",
    "##f(n)=0 if n=0\n",
    "##f(n)=1 if n=1\n",
    "##f(n)=f(n-1)+f(n-2) if n>1\n",
    "##\n",
    "##Please write a function returning the Fibonacci\n",
    "##Sequence in comma separated form\n",
    "\n",
    "##Example:\n",
    "##fibonacci(7)\n",
    "##The output of the program should be:\n",
    "##0,1,1,2,3,5,8,13"
   ]
  },
  {
   "cell_type": "code",
   "execution_count": 4,
   "metadata": {},
   "outputs": [],
   "source": [
    "def fibonacci_num(number):\n",
    "    \"\"\"\n",
    "    Return the nth element of the fibonacci sequence.\n",
    "    \"\"\"\n",
    "    if number <= 1:\n",
    "        return number\n",
    "    else:\n",
    "        return fibonacci_num(number-1) + fibonacci_num(number-2)"
   ]
  },
  {
   "cell_type": "code",
   "execution_count": 5,
   "metadata": {},
   "outputs": [],
   "source": [
    "def fibonacci(num):\n",
    "    res = list()\n",
    "    for n in range(num + 1):\n",
    "        res.append(fibonacci_num(n))\n",
    "    return res"
   ]
  },
  {
   "cell_type": "code",
   "execution_count": 1,
   "metadata": {},
   "outputs": [],
   "source": [
    "def fast_fibonacci(n):\n",
    "    if n == 0:\n",
    "        return [0]\n",
    "    \n",
    "    result = [0, 1]\n",
    "    if n == 1:\n",
    "        return result\n",
    "    \n",
    "    for integer in range(1, n):\n",
    "        result.append(result[-1] + result[-2])\n",
    "        \n",
    "    return result"
   ]
  },
  {
   "cell_type": "code",
   "execution_count": 3,
   "metadata": {},
   "outputs": [
    {
     "name": "stdout",
     "output_type": "stream",
     "text": [
      "4.76 µs ± 313 ns per loop (mean ± std. dev. of 7 runs, 100000 loops each)\n"
     ]
    }
   ],
   "source": [
    "%%timeit\n",
    "fast_fibonacci(7)"
   ]
  },
  {
   "cell_type": "code",
   "execution_count": 6,
   "metadata": {},
   "outputs": [
    {
     "name": "stdout",
     "output_type": "stream",
     "text": [
      "48.4 µs ± 5.33 µs per loop (mean ± std. dev. of 7 runs, 10000 loops each)\n"
     ]
    }
   ],
   "source": [
    "%%timeit\n",
    "fibonacci(7)"
   ]
  },
  {
   "cell_type": "code",
   "execution_count": null,
   "metadata": {},
   "outputs": [],
   "source": []
  }
 ],
 "metadata": {
  "kernelspec": {
   "display_name": "Python 3",
   "language": "python",
   "name": "python3"
  },
  "language_info": {
   "codemirror_mode": {
    "name": "ipython",
    "version": 3
   },
   "file_extension": ".py",
   "mimetype": "text/x-python",
   "name": "python",
   "nbconvert_exporter": "python",
   "pygments_lexer": "ipython3",
   "version": "3.8.6"
  }
 },
 "nbformat": 4,
 "nbformat_minor": 4
}
