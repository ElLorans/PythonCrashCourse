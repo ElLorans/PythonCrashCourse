{
 "cells": [
  {
   "cell_type": "markdown",
   "metadata": {},
   "source": [
    "# Carrefour Wine"
   ]
  },
  {
   "cell_type": "markdown",
   "metadata": {},
   "source": [
    "Always put imports at the top"
   ]
  },
  {
   "cell_type": "code",
   "execution_count": 1,
   "metadata": {},
   "outputs": [],
   "source": [
    "import time   # always put imports from standard lib at the top\n",
    "\n",
    "import pandas as pd\n",
    "import requests\n",
    "\n",
    "from bs4 import BeautifulSoup"
   ]
  },
  {
   "cell_type": "markdown",
   "metadata": {},
   "source": [
    "### You can either get Carrefour data from https://www.carrefour.fr/r/boissons/cave-a-vins by hand...\n",
    "This will give error if you don't save CarrefourSource.html in the same folder, so I have converted next cell to raw"
   ]
  },
  {
   "cell_type": "raw",
   "metadata": {},
   "source": [
    "# save the source code of Carrefour Wine Page on a file\n",
    "with open(\"CarrefourSource.html\", encoding=\"utf-8\") as file:\n",
    "    html = file.read()"
   ]
  },
  {
   "cell_type": "markdown",
   "metadata": {},
   "source": [
    "### Or you can do it with requests"
   ]
  },
  {
   "cell_type": "code",
   "execution_count": 2,
   "metadata": {},
   "outputs": [],
   "source": [
    "# url for first page of wines sold on carrefour.fr\n",
    "carrefour_url = \"https://www.carrefour.fr/r/boissons/cave-a-vins\"\n",
    "\n",
    "resp = requests.get(carrefour_url,\n",
    "                    # headers to pretend we are using Firefox rather than being a bot\n",
    "                    headers={\"User-Agent\": \"Mozilla/5.0 (Windows NT 10.0; Win64; x64; rv:84.0) Gecko/20100101 Firefox/84.0\"})\n",
    "html = resp.text"
   ]
  },
  {
   "cell_type": "code",
   "execution_count": 3,
   "metadata": {},
   "outputs": [],
   "source": [
    "soup = BeautifulSoup(html)"
   ]
  },
  {
   "cell_type": "code",
   "execution_count": 4,
   "metadata": {},
   "outputs": [],
   "source": [
    "# By inspecting Carrefour.fr, we have seen that all wines' names were encapsulated in a h2 tag\n",
    "wine_names = soup.find_all(\"h2\")"
   ]
  },
  {
   "cell_type": "code",
   "execution_count": 5,
   "metadata": {},
   "outputs": [],
   "source": [
    "# We need only the text\n",
    "wine_names_text = [wine_name.text.strip() for wine_name in wine_names]"
   ]
  },
  {
   "cell_type": "code",
   "execution_count": 6,
   "metadata": {},
   "outputs": [
    {
     "name": "stdout",
     "output_type": "stream",
     "text": [
      "['Vin Rouge Bordeaux Lussac Saint Emilion Merlot - Cabernet Franc  - Cabernet Sauvignon L DE LUSSAC', \"Vin Rouge Sud Ouest Bergerac Merlot - Cabernet Sauvignon - Cabernet Franc LA CAVE D'AUGUSTIN FLORENT\", \"Vin Rouge Vallée du Rhône Côtes du Rhône Grenache - Syrah LA CAVE D'AUGUSTIN FLORENT\", 'Vin Rouge Vins étrangers Chili Carmenere CONCHA Y TORO CASILLERO DEL DIABLO CARMENERE']\n"
     ]
    }
   ],
   "source": [
    "# Let's reduce to 4 wines for now, or Vivino.com will block us for too many requests\n",
    "wine_names_text = wine_names_text[:4]\n",
    "print(wine_names_text)"
   ]
  },
  {
   "cell_type": "code",
   "execution_count": 7,
   "metadata": {},
   "outputs": [],
   "source": [
    "# def vivino_scrape(wine_name):\n",
    "def vivino_scrape(wine_name: str):\n",
    "    \"\"\"\n",
    "    Return dictionary about wine_name scraped from vivino.com.\n",
    "    :return: {\"VivinoName\": str,\n",
    "              \"VivinoPrice\": str,\n",
    "              \"Rating\": str,\n",
    "              \"# Reviews\": str}\n",
    "    \"\"\"\n",
    "    # We have seen that Vivino replaces spaces in our wine name with \"+\", so we do the same\n",
    "    url = \"https://www.vivino.com/search/wines?q=\" + wine_name.replace(\" \", \"+\")\n",
    "    \n",
    "    # User-Agent to pretend be Firefox and not Python => pretend to be a real user rather than a bot\n",
    "    # Accept-Language to only get English (necessary for .replace(\"ratings\", \"\"))\n",
    "    vivino_headers = {\"User-Agent\": \"Mozilla/5.0 (Windows NT 10.0; Win64; x64; rv:84.0) Gecko/20100101 Firefox/84.0\",\n",
    "                      \"Accept-Language\": \"en-US,en;q=0.5\"}\n",
    "    \n",
    "    # without headers, Vivino will see that you are a bot and will block you =(\n",
    "    response = requests.get(url, headers=vivino_headers)\n",
    "    html = response.text\n",
    "    \n",
    "    soup = BeautifulSoup(html)\n",
    "    \n",
    "    # using \"Inspect element\" from the browser, we identified the right tags for each element\n",
    "    rating = soup.find(\"div\", {\"class\": \"text-inline-block light average__number\"}).text.strip()\n",
    "    name = soup.find(\"span\", {\"class\": \"bold\"}).text.strip()\n",
    "    price = soup.find(\"span\", {\"class\": \"wine-price-value\"}).text.strip()\n",
    "    number_reviews = soup.find(\"p\", {\"class\": \"text-micro\"}).text.strip().replace(\"ratings\", \"\")\n",
    "    \n",
    "    return {\"VivinoName\": name, \"VivinoPrice\": price, \"Rating\": rating, \"# Reviews\": number_reviews}"
   ]
  },
  {
   "cell_type": "code",
   "execution_count": 8,
   "metadata": {},
   "outputs": [
    {
     "name": "stdout",
     "output_type": "stream",
     "text": [
      "Help on function vivino_scrape in module __main__:\n",
      "\n",
      "vivino_scrape(wine_name: str)\n",
      "    Return dictionary about wine_name scraped from vivino.com.\n",
      "    :return: {\"VivinoName\": str,\n",
      "              \"VivinoPrice\": str,\n",
      "              \"Rating\": str,\n",
      "              \"# Reviews\": str}\n",
      "\n"
     ]
    }
   ],
   "source": [
    "# text between \"\"\"\"\"\" (so-calles \"docstring\") is not necessary makes function easier to understand\n",
    "# docstrings are also returned by the help function\n",
    "help(vivino_scrape)"
   ]
  },
  {
   "cell_type": "code",
   "execution_count": 9,
   "metadata": {},
   "outputs": [
    {
     "name": "stdout",
     "output_type": "stream",
     "text": [
      "Scraping data from Vivino: Vin Rouge Bordeaux Lussac Saint Emilion Merlot - Cabernet Franc  - Cabernet Sauvignon L DE LUSSAC\n",
      "Scraping data from Vivino: Vin Rouge Sud Ouest Bergerac Merlot - Cabernet Sauvignon - Cabernet Franc LA CAVE D'AUGUSTIN FLORENT\n",
      "Scraping data from Vivino: Vin Rouge Vallée du Rhône Côtes du Rhône Grenache - Syrah LA CAVE D'AUGUSTIN FLORENT\n",
      "Scraping data from Vivino: Vin Rouge Vins étrangers Chili Carmenere CONCHA Y TORO CASILLERO DEL DIABLO CARMENERE\n"
     ]
    }
   ],
   "source": [
    "data = dict()\n",
    "\n",
    "for w in wine_names_text:\n",
    "    print(\"Scraping data from Vivino:\", w)\n",
    "    data[w] = vivino_scrape(w)\n",
    "    \n",
    "    # stop everything for 1.5 seconds\n",
    "    # prevent overloading website and to be blocked\n",
    "    time.sleep(1.5)"
   ]
  },
  {
   "cell_type": "code",
   "execution_count": 10,
   "metadata": {},
   "outputs": [
    {
     "name": "stdout",
     "output_type": "stream",
     "text": [
      "{'Vin Rouge Bordeaux Lussac Saint Emilion Merlot - Cabernet Franc  - Cabernet Sauvignon L DE LUSSAC': {'VivinoName': 'Passeport Saint-Emilion Merlot - Cabernet Franc', 'VivinoPrice': '—', 'Rating': '3,5', '# Reviews': '3419 '}, \"Vin Rouge Sud Ouest Bergerac Merlot - Cabernet Sauvignon - Cabernet Franc LA CAVE D'AUGUSTIN FLORENT\": {'VivinoName': \"La Cave d'Augustin Florent Merlot - Cabernet Sauvignon\", 'VivinoPrice': '—', 'Rating': '3,3', '# Reviews': '84 '}, \"Vin Rouge Vallée du Rhône Côtes du Rhône Grenache - Syrah LA CAVE D'AUGUSTIN FLORENT\": {'VivinoName': \"La Cave d'Augustin Florent Les Pierrasques Côtes du Rhône\", 'VivinoPrice': '—', 'Rating': '3,2', '# Reviews': '2946 '}, 'Vin Rouge Vins étrangers Chili Carmenere CONCHA Y TORO CASILLERO DEL DIABLO CARMENERE': {'VivinoName': 'Casillero del Diablo Carmenere (Reserva)', 'VivinoPrice': '—', 'Rating': '3,6', '# Reviews': '66273 '}}\n"
     ]
    }
   ],
   "source": [
    "print(data)"
   ]
  },
  {
   "cell_type": "markdown",
   "metadata": {},
   "source": [
    "## Convert data to Excel file\n",
    "We are going to use pandas"
   ]
  },
  {
   "cell_type": "code",
   "execution_count": 11,
   "metadata": {},
   "outputs": [],
   "source": [
    "# create a df from a dictionary\n",
    "df = pd.DataFrame.from_dict(data, \n",
    "                            orient='index')"
   ]
  },
  {
   "cell_type": "markdown",
   "metadata": {},
   "source": [
    "### Dataframes look nicer than dictionaries"
   ]
  },
  {
   "cell_type": "code",
   "execution_count": 12,
   "metadata": {},
   "outputs": [
    {
     "data": {
      "text/html": [
       "<div>\n",
       "<style scoped>\n",
       "    .dataframe tbody tr th:only-of-type {\n",
       "        vertical-align: middle;\n",
       "    }\n",
       "\n",
       "    .dataframe tbody tr th {\n",
       "        vertical-align: top;\n",
       "    }\n",
       "\n",
       "    .dataframe thead th {\n",
       "        text-align: right;\n",
       "    }\n",
       "</style>\n",
       "<table border=\"1\" class=\"dataframe\">\n",
       "  <thead>\n",
       "    <tr style=\"text-align: right;\">\n",
       "      <th></th>\n",
       "      <th>VivinoName</th>\n",
       "      <th>VivinoPrice</th>\n",
       "      <th>Rating</th>\n",
       "      <th># Reviews</th>\n",
       "    </tr>\n",
       "  </thead>\n",
       "  <tbody>\n",
       "    <tr>\n",
       "      <th>Vin Rouge Bordeaux Lussac Saint Emilion Merlot - Cabernet Franc  - Cabernet Sauvignon L DE LUSSAC</th>\n",
       "      <td>Passeport Saint-Emilion Merlot - Cabernet Franc</td>\n",
       "      <td>—</td>\n",
       "      <td>3,5</td>\n",
       "      <td>3419</td>\n",
       "    </tr>\n",
       "    <tr>\n",
       "      <th>Vin Rouge Sud Ouest Bergerac Merlot - Cabernet Sauvignon - Cabernet Franc LA CAVE D'AUGUSTIN FLORENT</th>\n",
       "      <td>La Cave d'Augustin Florent Merlot - Cabernet S...</td>\n",
       "      <td>—</td>\n",
       "      <td>3,3</td>\n",
       "      <td>84</td>\n",
       "    </tr>\n",
       "    <tr>\n",
       "      <th>Vin Rouge Vallée du Rhône Côtes du Rhône Grenache - Syrah LA CAVE D'AUGUSTIN FLORENT</th>\n",
       "      <td>La Cave d'Augustin Florent Les Pierrasques Côt...</td>\n",
       "      <td>—</td>\n",
       "      <td>3,2</td>\n",
       "      <td>2946</td>\n",
       "    </tr>\n",
       "    <tr>\n",
       "      <th>Vin Rouge Vins étrangers Chili Carmenere CONCHA Y TORO CASILLERO DEL DIABLO CARMENERE</th>\n",
       "      <td>Casillero del Diablo Carmenere (Reserva)</td>\n",
       "      <td>—</td>\n",
       "      <td>3,6</td>\n",
       "      <td>66273</td>\n",
       "    </tr>\n",
       "  </tbody>\n",
       "</table>\n",
       "</div>"
      ],
      "text/plain": [
       "                                                                                           VivinoName  \\\n",
       "Vin Rouge Bordeaux Lussac Saint Emilion Merlot ...    Passeport Saint-Emilion Merlot - Cabernet Franc   \n",
       "Vin Rouge Sud Ouest Bergerac Merlot - Cabernet ...  La Cave d'Augustin Florent Merlot - Cabernet S...   \n",
       "Vin Rouge Vallée du Rhône Côtes du Rhône Grenac...  La Cave d'Augustin Florent Les Pierrasques Côt...   \n",
       "Vin Rouge Vins étrangers Chili Carmenere CONCHA...           Casillero del Diablo Carmenere (Reserva)   \n",
       "\n",
       "                                                   VivinoPrice Rating  \\\n",
       "Vin Rouge Bordeaux Lussac Saint Emilion Merlot ...           —    3,5   \n",
       "Vin Rouge Sud Ouest Bergerac Merlot - Cabernet ...           —    3,3   \n",
       "Vin Rouge Vallée du Rhône Côtes du Rhône Grenac...           —    3,2   \n",
       "Vin Rouge Vins étrangers Chili Carmenere CONCHA...           —    3,6   \n",
       "\n",
       "                                                   # Reviews  \n",
       "Vin Rouge Bordeaux Lussac Saint Emilion Merlot ...     3419   \n",
       "Vin Rouge Sud Ouest Bergerac Merlot - Cabernet ...       84   \n",
       "Vin Rouge Vallée du Rhône Côtes du Rhône Grenac...     2946   \n",
       "Vin Rouge Vins étrangers Chili Carmenere CONCHA...    66273   "
      ]
     },
     "execution_count": 12,
     "metadata": {},
     "output_type": "execute_result"
    }
   ],
   "source": [
    "df"
   ]
  },
  {
   "cell_type": "markdown",
   "metadata": {},
   "source": [
    "### If you don't like that CarrefourName is in the index, we can move it to a column..."
   ]
  },
  {
   "cell_type": "code",
   "execution_count": 13,
   "metadata": {},
   "outputs": [
    {
     "data": {
      "text/html": [
       "<div>\n",
       "<style scoped>\n",
       "    .dataframe tbody tr th:only-of-type {\n",
       "        vertical-align: middle;\n",
       "    }\n",
       "\n",
       "    .dataframe tbody tr th {\n",
       "        vertical-align: top;\n",
       "    }\n",
       "\n",
       "    .dataframe thead th {\n",
       "        text-align: right;\n",
       "    }\n",
       "</style>\n",
       "<table border=\"1\" class=\"dataframe\">\n",
       "  <thead>\n",
       "    <tr style=\"text-align: right;\">\n",
       "      <th></th>\n",
       "      <th>index</th>\n",
       "      <th>VivinoName</th>\n",
       "      <th>VivinoPrice</th>\n",
       "      <th>Rating</th>\n",
       "      <th># Reviews</th>\n",
       "    </tr>\n",
       "  </thead>\n",
       "  <tbody>\n",
       "    <tr>\n",
       "      <th>0</th>\n",
       "      <td>Vin Rouge Bordeaux Lussac Saint Emilion Merlot...</td>\n",
       "      <td>Passeport Saint-Emilion Merlot - Cabernet Franc</td>\n",
       "      <td>—</td>\n",
       "      <td>3,5</td>\n",
       "      <td>3419</td>\n",
       "    </tr>\n",
       "    <tr>\n",
       "      <th>1</th>\n",
       "      <td>Vin Rouge Sud Ouest Bergerac Merlot - Cabernet...</td>\n",
       "      <td>La Cave d'Augustin Florent Merlot - Cabernet S...</td>\n",
       "      <td>—</td>\n",
       "      <td>3,3</td>\n",
       "      <td>84</td>\n",
       "    </tr>\n",
       "    <tr>\n",
       "      <th>2</th>\n",
       "      <td>Vin Rouge Vallée du Rhône Côtes du Rhône Grena...</td>\n",
       "      <td>La Cave d'Augustin Florent Les Pierrasques Côt...</td>\n",
       "      <td>—</td>\n",
       "      <td>3,2</td>\n",
       "      <td>2946</td>\n",
       "    </tr>\n",
       "    <tr>\n",
       "      <th>3</th>\n",
       "      <td>Vin Rouge Vins étrangers Chili Carmenere CONCH...</td>\n",
       "      <td>Casillero del Diablo Carmenere (Reserva)</td>\n",
       "      <td>—</td>\n",
       "      <td>3,6</td>\n",
       "      <td>66273</td>\n",
       "    </tr>\n",
       "  </tbody>\n",
       "</table>\n",
       "</div>"
      ],
      "text/plain": [
       "                                               index  \\\n",
       "0  Vin Rouge Bordeaux Lussac Saint Emilion Merlot...   \n",
       "1  Vin Rouge Sud Ouest Bergerac Merlot - Cabernet...   \n",
       "2  Vin Rouge Vallée du Rhône Côtes du Rhône Grena...   \n",
       "3  Vin Rouge Vins étrangers Chili Carmenere CONCH...   \n",
       "\n",
       "                                          VivinoName VivinoPrice Rating  \\\n",
       "0    Passeport Saint-Emilion Merlot - Cabernet Franc           —    3,5   \n",
       "1  La Cave d'Augustin Florent Merlot - Cabernet S...           —    3,3   \n",
       "2  La Cave d'Augustin Florent Les Pierrasques Côt...           —    3,2   \n",
       "3           Casillero del Diablo Carmenere (Reserva)           —    3,6   \n",
       "\n",
       "  # Reviews  \n",
       "0     3419   \n",
       "1       84   \n",
       "2     2946   \n",
       "3    66273   "
      ]
     },
     "execution_count": 13,
     "metadata": {},
     "output_type": "execute_result"
    }
   ],
   "source": [
    "df = df.reset_index()\n",
    "df"
   ]
  },
  {
   "cell_type": "markdown",
   "metadata": {},
   "source": [
    "### and give it the proper name"
   ]
  },
  {
   "cell_type": "code",
   "execution_count": 14,
   "metadata": {},
   "outputs": [
    {
     "data": {
      "text/html": [
       "<div>\n",
       "<style scoped>\n",
       "    .dataframe tbody tr th:only-of-type {\n",
       "        vertical-align: middle;\n",
       "    }\n",
       "\n",
       "    .dataframe tbody tr th {\n",
       "        vertical-align: top;\n",
       "    }\n",
       "\n",
       "    .dataframe thead th {\n",
       "        text-align: right;\n",
       "    }\n",
       "</style>\n",
       "<table border=\"1\" class=\"dataframe\">\n",
       "  <thead>\n",
       "    <tr style=\"text-align: right;\">\n",
       "      <th></th>\n",
       "      <th>CarrefourPrice</th>\n",
       "      <th>VivinoName</th>\n",
       "      <th>VivinoPrice</th>\n",
       "      <th>Rating</th>\n",
       "      <th># Reviews</th>\n",
       "    </tr>\n",
       "  </thead>\n",
       "  <tbody>\n",
       "    <tr>\n",
       "      <th>0</th>\n",
       "      <td>Vin Rouge Bordeaux Lussac Saint Emilion Merlot...</td>\n",
       "      <td>Passeport Saint-Emilion Merlot - Cabernet Franc</td>\n",
       "      <td>—</td>\n",
       "      <td>3,5</td>\n",
       "      <td>3419</td>\n",
       "    </tr>\n",
       "    <tr>\n",
       "      <th>1</th>\n",
       "      <td>Vin Rouge Sud Ouest Bergerac Merlot - Cabernet...</td>\n",
       "      <td>La Cave d'Augustin Florent Merlot - Cabernet S...</td>\n",
       "      <td>—</td>\n",
       "      <td>3,3</td>\n",
       "      <td>84</td>\n",
       "    </tr>\n",
       "    <tr>\n",
       "      <th>2</th>\n",
       "      <td>Vin Rouge Vallée du Rhône Côtes du Rhône Grena...</td>\n",
       "      <td>La Cave d'Augustin Florent Les Pierrasques Côt...</td>\n",
       "      <td>—</td>\n",
       "      <td>3,2</td>\n",
       "      <td>2946</td>\n",
       "    </tr>\n",
       "    <tr>\n",
       "      <th>3</th>\n",
       "      <td>Vin Rouge Vins étrangers Chili Carmenere CONCH...</td>\n",
       "      <td>Casillero del Diablo Carmenere (Reserva)</td>\n",
       "      <td>—</td>\n",
       "      <td>3,6</td>\n",
       "      <td>66273</td>\n",
       "    </tr>\n",
       "  </tbody>\n",
       "</table>\n",
       "</div>"
      ],
      "text/plain": [
       "                                      CarrefourPrice  \\\n",
       "0  Vin Rouge Bordeaux Lussac Saint Emilion Merlot...   \n",
       "1  Vin Rouge Sud Ouest Bergerac Merlot - Cabernet...   \n",
       "2  Vin Rouge Vallée du Rhône Côtes du Rhône Grena...   \n",
       "3  Vin Rouge Vins étrangers Chili Carmenere CONCH...   \n",
       "\n",
       "                                          VivinoName VivinoPrice Rating  \\\n",
       "0    Passeport Saint-Emilion Merlot - Cabernet Franc           —    3,5   \n",
       "1  La Cave d'Augustin Florent Merlot - Cabernet S...           —    3,3   \n",
       "2  La Cave d'Augustin Florent Les Pierrasques Côt...           —    3,2   \n",
       "3           Casillero del Diablo Carmenere (Reserva)           —    3,6   \n",
       "\n",
       "  # Reviews  \n",
       "0     3419   \n",
       "1       84   \n",
       "2     2946   \n",
       "3    66273   "
      ]
     },
     "execution_count": 14,
     "metadata": {},
     "output_type": "execute_result"
    }
   ],
   "source": [
    "df = df.rename(columns={\"index\": \"CarrefourPrice\"})\n",
    "df"
   ]
  },
  {
   "cell_type": "markdown",
   "metadata": {},
   "source": [
    "### Save to Excel without the index (0, 1, 2, 3...)\n",
    "You might need to install openpyxl if you get an error\n",
    "If the file already exists, you must close it before running the next cell"
   ]
  },
  {
   "cell_type": "code",
   "execution_count": 15,
   "metadata": {},
   "outputs": [],
   "source": [
    "df.to_excel(\"CarrefourVivino.xlsx\", index=False)"
   ]
  },
  {
   "cell_type": "code",
   "execution_count": null,
   "metadata": {},
   "outputs": [],
   "source": []
  }
 ],
 "metadata": {
  "kernelspec": {
   "display_name": "Python 3",
   "language": "python",
   "name": "python3"
  },
  "language_info": {
   "codemirror_mode": {
    "name": "ipython",
    "version": 3
   },
   "file_extension": ".py",
   "mimetype": "text/x-python",
   "name": "python",
   "nbconvert_exporter": "python",
   "pygments_lexer": "ipython3",
   "version": "3.8.6"
  }
 },
 "nbformat": 4,
 "nbformat_minor": 4
}
