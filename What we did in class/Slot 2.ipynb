{
 "cells": [
  {
   "cell_type": "markdown",
   "metadata": {},
   "source": [
    "### guessing game"
   ]
  },
  {
   "cell_type": "code",
   "execution_count": 2,
   "metadata": {},
   "outputs": [
    {
     "name": "stdout",
     "output_type": "stream",
     "text": [
      "Guess my number7\n",
      "Try higher\n",
      "Guess my number12\n",
      "Try lower\n",
      "Guess my number10\n",
      "You win\n"
     ]
    }
   ],
   "source": [
    "solution = 10\n",
    "\n",
    "guess = int(input(\"Guess a number btw 1 and 10\"))\n",
    "\n",
    "while guess != solution:\n",
    "    if guess > 0:\n",
    "        if guess < 11:\n",
    "            if guess < solution:\n",
    "                print(\"Try higher\")\n",
    "            else:    # elif guess > solution:   # else: is faster and leads to same output in this case\n",
    "                print(\"Try lower\")\n",
    "        else:\n",
    "            print(\"I said btw 1 and 10\")\n",
    "    else:\n",
    "        print(\"I said btw 1 and 10\")\n",
    "        \n",
    "    guess = int(input(\"Guess my number\"))\n",
    "    \n",
    "print(\"You win\")"
   ]
  },
  {
   "cell_type": "markdown",
   "metadata": {},
   "source": [
    "### better"
   ]
  },
  {
   "cell_type": "code",
   "execution_count": 9,
   "metadata": {},
   "outputs": [
    {
     "name": "stdout",
     "output_type": "stream",
     "text": [
      "Guess a number btw 1 and 10\n",
      "-> 10\n",
      "You win\n"
     ]
    }
   ],
   "source": [
    "solution = 10\n",
    "\n",
    "guess = int(input(\"Guess a number btw 1 and 10\\n-> \"))\n",
    "\n",
    "while guess != solution:\n",
    "    if guess > 0 and guess < 11:\n",
    "        if guess < solution:\n",
    "            print(\"Try higher\")\n",
    "        else:    # elif guess > solution:   # else: is faster and leads to same output in this case\n",
    "            print(\"Try lower\")\n",
    "        #\n",
    "    else:\n",
    "        print(\"I said btw 1 and 10\")\n",
    "    \n",
    "    guess = int(input(\"Guess my number\\n-> \"))   \n",
    "\n",
    "print(\"You win\")"
   ]
  },
  {
   "cell_type": "markdown",
   "metadata": {},
   "source": [
    "### Escape char\n",
    "/n for new line\n",
    "/t for tab (4 spaces)"
   ]
  },
  {
   "cell_type": "code",
   "execution_count": 11,
   "metadata": {},
   "outputs": [
    {
     "name": "stdout",
     "output_type": "stream",
     "text": [
      "\n",
      "This is an \tescape \n",
      "character\n",
      "\n"
     ]
    }
   ],
   "source": [
    "print(\"\\nThis is an \\tescape \\ncharacter\\n\")"
   ]
  },
  {
   "cell_type": "markdown",
   "metadata": {},
   "source": [
    "### lists\n",
    "iterable of objects: a collection of different things\n",
    "very versatile, but slow"
   ]
  },
  {
   "cell_type": "code",
   "execution_count": 13,
   "metadata": {},
   "outputs": [],
   "source": [
    "fruits = ['banana', 'apple', 'kiwi']"
   ]
  },
  {
   "cell_type": "code",
   "execution_count": 14,
   "metadata": {},
   "outputs": [
    {
     "data": {
      "text/plain": [
       "['banana', 'apple', 'kiwi']"
      ]
     },
     "execution_count": 14,
     "metadata": {},
     "output_type": "execute_result"
    }
   ],
   "source": [
    "fruits"
   ]
  },
  {
   "cell_type": "code",
   "execution_count": 15,
   "metadata": {},
   "outputs": [],
   "source": [
    "mixed_objects = ['banana', 1, 1.2]"
   ]
  },
  {
   "cell_type": "code",
   "execution_count": 16,
   "metadata": {},
   "outputs": [
    {
     "data": {
      "text/plain": [
       "['banana', 1, 1.2]"
      ]
     },
     "execution_count": 16,
     "metadata": {},
     "output_type": "execute_result"
    }
   ],
   "source": [
    "mixed_objects"
   ]
  },
  {
   "cell_type": "markdown",
   "metadata": {},
   "source": [
    "### for loops"
   ]
  },
  {
   "cell_type": "code",
   "execution_count": 18,
   "metadata": {},
   "outputs": [
    {
     "name": "stdout",
     "output_type": "stream",
     "text": [
      "l\n",
      "o\n",
      "r\n",
      "e\n",
      "n\n",
      "z\n",
      "o\n"
     ]
    }
   ],
   "source": [
    "# for variable_we_choose_in_that_moment in iterable_object:\n",
    "# iterable_object: something we can loop over (str, lists, ...)\n",
    "for letter in 'lorenzo':\n",
    "    print(letter)"
   ]
  },
  {
   "cell_type": "code",
   "execution_count": 19,
   "metadata": {},
   "outputs": [
    {
     "ename": "TypeError",
     "evalue": "'int' object is not iterable",
     "output_type": "error",
     "traceback": [
      "\u001b[1;31m---------------------------------------------------------------------------\u001b[0m",
      "\u001b[1;31mTypeError\u001b[0m                                 Traceback (most recent call last)",
      "\u001b[1;32m<ipython-input-19-990bca54ebf2>\u001b[0m in \u001b[0;36m<module>\u001b[1;34m\u001b[0m\n\u001b[1;32m----> 1\u001b[1;33m \u001b[1;32mfor\u001b[0m \u001b[0mnumber\u001b[0m \u001b[1;32min\u001b[0m \u001b[1;36m134\u001b[0m\u001b[1;33m:\u001b[0m\u001b[1;33m\u001b[0m\u001b[1;33m\u001b[0m\u001b[0m\n\u001b[0m\u001b[0;32m      2\u001b[0m     \u001b[0mprint\u001b[0m\u001b[1;33m(\u001b[0m\u001b[0mnumber\u001b[0m\u001b[1;33m)\u001b[0m\u001b[1;33m\u001b[0m\u001b[1;33m\u001b[0m\u001b[0m\n",
      "\u001b[1;31mTypeError\u001b[0m: 'int' object is not iterable"
     ]
    }
   ],
   "source": [
    "for number in 134:\n",
    "    print(number)"
   ]
  },
  {
   "cell_type": "code",
   "execution_count": 20,
   "metadata": {},
   "outputs": [],
   "source": [
    "numbers = [1, 2, 3, 4, 5, 6, 7]\n",
    "odd_numbers = []\n",
    "\n",
    "for num in numbers:\n",
    "    if num % 2 != 0:\n",
    "        # name_of_the_list.append() takes an argument and inserts it into the list\n",
    "        odd_numbers.append(num)"
   ]
  },
  {
   "cell_type": "code",
   "execution_count": 21,
   "metadata": {},
   "outputs": [
    {
     "data": {
      "text/plain": [
       "[1, 3, 5, 7]"
      ]
     },
     "execution_count": 21,
     "metadata": {},
     "output_type": "execute_result"
    }
   ],
   "source": [
    "odd_numbers"
   ]
  },
  {
   "cell_type": "markdown",
   "metadata": {},
   "source": [
    "### Don't do this"
   ]
  },
  {
   "cell_type": "code",
   "execution_count": 152,
   "metadata": {},
   "outputs": [
    {
     "name": "stdout",
     "output_type": "stream",
     "text": [
      "banana is very good\n",
      "apple is quite good\n"
     ]
    }
   ],
   "source": [
    "fruits = [('banana', 'very good'), ('apple', 'quite good')]\n",
    "for el in fruits:\n",
    "    fruit = el[0]\n",
    "    rating = el[1]\n",
    "    print(fruit, 'is', rating)"
   ]
  },
  {
   "cell_type": "markdown",
   "metadata": {},
   "source": [
    "### Do this"
   ]
  },
  {
   "cell_type": "code",
   "execution_count": 155,
   "metadata": {},
   "outputs": [
    {
     "name": "stdout",
     "output_type": "stream",
     "text": [
      "banana is very good\n",
      "apple is quite good\n"
     ]
    }
   ],
   "source": [
    "for fruit, rating in fruits:\n",
    "    print(fruit, 'is', rating)"
   ]
  },
  {
   "cell_type": "markdown",
   "metadata": {},
   "source": [
    "### list comprehension"
   ]
  },
  {
   "cell_type": "code",
   "execution_count": 23,
   "metadata": {},
   "outputs": [],
   "source": [
    "fast_odd_numbers = [num for num in numbers if num % 2 != 0]"
   ]
  },
  {
   "cell_type": "code",
   "execution_count": 24,
   "metadata": {},
   "outputs": [
    {
     "data": {
      "text/plain": [
       "[1, 3, 5, 7]"
      ]
     },
     "execution_count": 24,
     "metadata": {},
     "output_type": "execute_result"
    }
   ],
   "source": [
    "fast_odd_numbers"
   ]
  },
  {
   "cell_type": "markdown",
   "metadata": {},
   "source": [
    "### range()"
   ]
  },
  {
   "cell_type": "code",
   "execution_count": 26,
   "metadata": {},
   "outputs": [
    {
     "name": "stdout",
     "output_type": "stream",
     "text": [
      "Help on class range in module builtins:\n",
      "\n",
      "class range(object)\n",
      " |  range(stop) -> range object\n",
      " |  range(start, stop[, step]) -> range object\n",
      " |  \n",
      " |  Return an object that produces a sequence of integers from start (inclusive)\n",
      " |  to stop (exclusive) by step.  range(i, j) produces i, i+1, i+2, ..., j-1.\n",
      " |  start defaults to 0, and stop is omitted!  range(4) produces 0, 1, 2, 3.\n",
      " |  These are exactly the valid indices for a list of 4 elements.\n",
      " |  When step is given, it specifies the increment (or decrement).\n",
      " |  \n",
      " |  Methods defined here:\n",
      " |  \n",
      " |  __bool__(self, /)\n",
      " |      self != 0\n",
      " |  \n",
      " |  __contains__(self, key, /)\n",
      " |      Return key in self.\n",
      " |  \n",
      " |  __eq__(self, value, /)\n",
      " |      Return self==value.\n",
      " |  \n",
      " |  __ge__(self, value, /)\n",
      " |      Return self>=value.\n",
      " |  \n",
      " |  __getattribute__(self, name, /)\n",
      " |      Return getattr(self, name).\n",
      " |  \n",
      " |  __getitem__(self, key, /)\n",
      " |      Return self[key].\n",
      " |  \n",
      " |  __gt__(self, value, /)\n",
      " |      Return self>value.\n",
      " |  \n",
      " |  __hash__(self, /)\n",
      " |      Return hash(self).\n",
      " |  \n",
      " |  __iter__(self, /)\n",
      " |      Implement iter(self).\n",
      " |  \n",
      " |  __le__(self, value, /)\n",
      " |      Return self<=value.\n",
      " |  \n",
      " |  __len__(self, /)\n",
      " |      Return len(self).\n",
      " |  \n",
      " |  __lt__(self, value, /)\n",
      " |      Return self<value.\n",
      " |  \n",
      " |  __ne__(self, value, /)\n",
      " |      Return self!=value.\n",
      " |  \n",
      " |  __reduce__(...)\n",
      " |      Helper for pickle.\n",
      " |  \n",
      " |  __repr__(self, /)\n",
      " |      Return repr(self).\n",
      " |  \n",
      " |  __reversed__(...)\n",
      " |      Return a reverse iterator.\n",
      " |  \n",
      " |  count(...)\n",
      " |      rangeobject.count(value) -> integer -- return number of occurrences of value\n",
      " |  \n",
      " |  index(...)\n",
      " |      rangeobject.index(value) -> integer -- return index of value.\n",
      " |      Raise ValueError if the value is not present.\n",
      " |  \n",
      " |  ----------------------------------------------------------------------\n",
      " |  Static methods defined here:\n",
      " |  \n",
      " |  __new__(*args, **kwargs) from builtins.type\n",
      " |      Create and return a new object.  See help(type) for accurate signature.\n",
      " |  \n",
      " |  ----------------------------------------------------------------------\n",
      " |  Data descriptors defined here:\n",
      " |  \n",
      " |  start\n",
      " |  \n",
      " |  step\n",
      " |  \n",
      " |  stop\n",
      "\n"
     ]
    }
   ],
   "source": [
    "help(range)"
   ]
  },
  {
   "cell_type": "code",
   "execution_count": 43,
   "metadata": {},
   "outputs": [
    {
     "name": "stdout",
     "output_type": "stream",
     "text": [
      "0\n",
      "1\n",
      "2\n",
      "3\n",
      "4\n",
      "5\n",
      "6\n",
      "7\n",
      "8\n",
      "9\n"
     ]
    }
   ],
   "source": [
    "# watch out when defining a var in a for loop not to overwrite other variables\n",
    "n = 500\n",
    "for n in range(10):\n",
    "    print(n)"
   ]
  },
  {
   "cell_type": "code",
   "execution_count": 44,
   "metadata": {},
   "outputs": [
    {
     "name": "stdout",
     "output_type": "stream",
     "text": [
      "9\n"
     ]
    }
   ],
   "source": [
    "print(n)"
   ]
  },
  {
   "cell_type": "code",
   "execution_count": 30,
   "metadata": {},
   "outputs": [
    {
     "data": {
      "text/plain": [
       "range(0, 10)"
      ]
     },
     "execution_count": 30,
     "metadata": {},
     "output_type": "execute_result"
    }
   ],
   "source": [
    "# to save computation, range are lazily evaluated\n",
    "range(10)"
   ]
  },
  {
   "cell_type": "code",
   "execution_count": 31,
   "metadata": {},
   "outputs": [
    {
     "data": {
      "text/plain": [
       "[0, 1, 2, 3, 4, 5, 6, 7, 8, 9]"
      ]
     },
     "execution_count": 31,
     "metadata": {},
     "output_type": "execute_result"
    }
   ],
   "source": [
    "list(range(10))"
   ]
  },
  {
   "cell_type": "code",
   "execution_count": 32,
   "metadata": {},
   "outputs": [
    {
     "data": {
      "text/plain": [
       "[5, 6, 7, 8, 9]"
      ]
     },
     "execution_count": 32,
     "metadata": {},
     "output_type": "execute_result"
    }
   ],
   "source": [
    "list(range(5, 10))"
   ]
  },
  {
   "cell_type": "code",
   "execution_count": 34,
   "metadata": {},
   "outputs": [
    {
     "data": {
      "text/plain": [
       "[1, 3, 5, 7, 9]"
      ]
     },
     "execution_count": 34,
     "metadata": {},
     "output_type": "execute_result"
    }
   ],
   "source": [
    "list(range(1, 10, 2))"
   ]
  },
  {
   "cell_type": "markdown",
   "metadata": {},
   "source": [
    "### performance of list comprehensions\n",
    "list comprehension can save 50% of time"
   ]
  },
  {
   "cell_type": "code",
   "execution_count": 40,
   "metadata": {},
   "outputs": [
    {
     "name": "stdout",
     "output_type": "stream",
     "text": [
      "197 µs ± 17.6 µs per loop (mean ± std. dev. of 7 runs, 1000 loops each)\n"
     ]
    }
   ],
   "source": [
    "%%timeit\n",
    "my_list = []\n",
    "for n in range(1000):\n",
    "    my_list.append(n)"
   ]
  },
  {
   "cell_type": "code",
   "execution_count": 39,
   "metadata": {},
   "outputs": [
    {
     "name": "stdout",
     "output_type": "stream",
     "text": [
      "95.4 µs ± 6.02 µs per loop (mean ± std. dev. of 7 runs, 10000 loops each)\n"
     ]
    }
   ],
   "source": [
    "%%timeit\n",
    "fast_list = [n for n in range(1000)]"
   ]
  },
  {
   "cell_type": "markdown",
   "metadata": {},
   "source": [
    "### Open and read files"
   ]
  },
  {
   "cell_type": "code",
   "execution_count": 46,
   "metadata": {},
   "outputs": [],
   "source": [
    "with open(\"test.txt\", \"w\") as file:\n",
    "    file.write(\"Hi there!!!\")"
   ]
  },
  {
   "cell_type": "markdown",
   "metadata": {},
   "source": [
    "#### Don't do this!!!!\n",
    "You will not close the file"
   ]
  },
  {
   "cell_type": "raw",
   "metadata": {},
   "source": [
    "file = open(\"test.txt\", \"w\")\n",
    "file.write(\"Hello there!!!\")\n",
    "file.close()"
   ]
  },
  {
   "cell_type": "code",
   "execution_count": 54,
   "metadata": {},
   "outputs": [],
   "source": [
    "with open(\"test.txt\", \"w\") as file:\n",
    "    file.write(str(fruits))"
   ]
  },
  {
   "cell_type": "code",
   "execution_count": 69,
   "metadata": {},
   "outputs": [],
   "source": [
    "with open(\"test.txt\", \"r\") as f:\n",
    "    text = f.read()\n",
    "    #smart_text = f.readlines()"
   ]
  },
  {
   "cell_type": "code",
   "execution_count": 66,
   "metadata": {},
   "outputs": [
    {
     "data": {
      "text/plain": [
       "\"['banana', 'apple', 'kiwi']\\n\\nafhgjk\\ndfghjjk\""
      ]
     },
     "execution_count": 66,
     "metadata": {},
     "output_type": "execute_result"
    }
   ],
   "source": [
    "text"
   ]
  },
  {
   "cell_type": "code",
   "execution_count": 73,
   "metadata": {},
   "outputs": [
    {
     "name": "stdout",
     "output_type": "stream",
     "text": [
      "['banana', 'apple', 'kiwi']\n",
      "\n",
      "afhgjk\n",
      "dfghjjk\n"
     ]
    }
   ],
   "source": [
    "# str.split() takes a str as an argument and returns a list of n str by \"erasing\" the argument\n",
    "lines = text.split('\\n')\n",
    "for line in lines:\n",
    "    print(line)"
   ]
  },
  {
   "cell_type": "code",
   "execution_count": 74,
   "metadata": {},
   "outputs": [
    {
     "data": {
      "text/plain": [
       "list"
      ]
     },
     "execution_count": 74,
     "metadata": {},
     "output_type": "execute_result"
    }
   ],
   "source": [
    "type(lines)"
   ]
  },
  {
   "cell_type": "markdown",
   "metadata": {},
   "source": [
    "### dictionaries"
   ]
  },
  {
   "cell_type": "code",
   "execution_count": 78,
   "metadata": {},
   "outputs": [],
   "source": [
    "quotes = {\n",
    "    \"AAPL\": 100,\n",
    "    \"AMZN\": 94,\n",
    "    \"TSLA\": 75\n",
    "}"
   ]
  },
  {
   "cell_type": "code",
   "execution_count": 79,
   "metadata": {},
   "outputs": [
    {
     "name": "stdout",
     "output_type": "stream",
     "text": [
      "AAPL\n",
      "AMZN\n",
      "TSLA\n"
     ]
    }
   ],
   "source": [
    "for key in quotes:\n",
    "    print(key)"
   ]
  },
  {
   "cell_type": "code",
   "execution_count": 91,
   "metadata": {},
   "outputs": [
    {
     "data": {
      "text/plain": [
       "dict_items([('AAPL', 100), ('AMZN', 94), ('TSLA', 200)])"
      ]
     },
     "execution_count": 91,
     "metadata": {},
     "output_type": "execute_result"
    }
   ],
   "source": [
    "quotes.items()"
   ]
  },
  {
   "cell_type": "code",
   "execution_count": 80,
   "metadata": {},
   "outputs": [
    {
     "data": {
      "text/plain": [
       "94"
      ]
     },
     "execution_count": 80,
     "metadata": {},
     "output_type": "execute_result"
    }
   ],
   "source": [
    "quotes[\"AMZN\"]"
   ]
  },
  {
   "cell_type": "code",
   "execution_count": 95,
   "metadata": {},
   "outputs": [
    {
     "name": "stdout",
     "output_type": "stream",
     "text": [
      "('AAPL', 100)\n",
      "('AMZN', 94)\n",
      "('TSLA', 200)\n"
     ]
    }
   ],
   "source": [
    "for relationship in quotes.items():\n",
    "    print(relationship)"
   ]
  },
  {
   "cell_type": "markdown",
   "metadata": {},
   "source": [
    "### Do this"
   ]
  },
  {
   "cell_type": "code",
   "execution_count": 94,
   "metadata": {},
   "outputs": [
    {
     "name": "stdout",
     "output_type": "stream",
     "text": [
      "AAPL stock is worth: 100\n",
      "AMZN stock is worth: 94\n",
      "TSLA stock is worth: 200\n"
     ]
    }
   ],
   "source": [
    "for stock, price in quotes.items():\n",
    "    print(stock, \"stock is worth:\", price)"
   ]
  },
  {
   "cell_type": "markdown",
   "metadata": {},
   "source": [
    "### Avoid this\n",
    "But it does not matter much"
   ]
  },
  {
   "cell_type": "code",
   "execution_count": 88,
   "metadata": {},
   "outputs": [
    {
     "name": "stdout",
     "output_type": "stream",
     "text": [
      "AAPL stock is worth: 100\n",
      "AMZN stock is worth: 94\n",
      "TSLA stock is worth: 75\n"
     ]
    }
   ],
   "source": [
    "for key in quotes:\n",
    "    print(key, \"stock is worth:\", quotes[key])"
   ]
  },
  {
   "cell_type": "code",
   "execution_count": 90,
   "metadata": {},
   "outputs": [
    {
     "name": "stdout",
     "output_type": "stream",
     "text": [
      "{'AAPL': 100, 'AMZN': 94, 'TSLA': 200}\n"
     ]
    }
   ],
   "source": [
    "quotes[\"TSLA\"] = 200\n",
    "print(quotes)"
   ]
  },
  {
   "cell_type": "markdown",
   "metadata": {},
   "source": [
    "### tuples\n",
    "like list but faster and immutable"
   ]
  },
  {
   "cell_type": "code",
   "execution_count": 84,
   "metadata": {},
   "outputs": [],
   "source": [
    "tupla = ('kiwi', 'banana', 'apple', 2)"
   ]
  },
  {
   "cell_type": "code",
   "execution_count": 85,
   "metadata": {},
   "outputs": [
    {
     "data": {
      "text/plain": [
       "('kiwi', 'banana', 'apple', 2)"
      ]
     },
     "execution_count": 85,
     "metadata": {},
     "output_type": "execute_result"
    }
   ],
   "source": [
    "tupla"
   ]
  },
  {
   "cell_type": "markdown",
   "metadata": {},
   "source": [
    "### Counting words in Harry Potter first pages"
   ]
  },
  {
   "cell_type": "code",
   "execution_count": null,
   "metadata": {},
   "outputs": [],
   "source": [
    "file = 'harrypotter.txt'"
   ]
  },
  {
   "cell_type": "code",
   "execution_count": 125,
   "metadata": {},
   "outputs": [
    {
     "data": {
      "text/plain": [
       "'C:\\\\Users\\\\Lorenzo\\\\Desktop\\\\PythonCrashCourse-main\\\\exercises\\\\PyExercises'"
      ]
     },
     "execution_count": 125,
     "metadata": {},
     "output_type": "execute_result"
    }
   ],
   "source": [
    "path = r'C:\\Users\\Lorenzo\\Desktop\\PythonCrashCourse-main\\exercises\\PyExercises'\n",
    "path"
   ]
  },
  {
   "cell_type": "code",
   "execution_count": 139,
   "metadata": {},
   "outputs": [],
   "source": [
    "# with open(path + '/' + file) as f: # On Mac/Linux\n",
    "    \n",
    "# on Windows\n",
    "with open(path + '\\\\' + file) as f:\n",
    "    text = f.read()"
   ]
  },
  {
   "cell_type": "code",
   "execution_count": 140,
   "metadata": {},
   "outputs": [
    {
     "data": {
      "text/plain": [
       "\"Mr. and Mrs. Dursley, of number four, Privet Drive, were proud to say that they were perfectly normal, thank you very much. They were the last people you'd expect to be involved in anything strange or mysterious, because they just didn't hold with such nonsense.\\nMr. Dursley was the director of a firm called Grunnings, which made\\ndrills. He was a big, beefy man with hardly any neck, although he did\\nhave a very large mustache. Mrs. Dursley was thin and blonde and had\\nnearly twice the usual amount of neck, which came in very useful as she\\nspent so much of her time craning over garden fences, spying on the\\nneighbors. The Dursleys had a small son called Dudley and in their\\nopinion there was no finer boy anywhere.\\nThe Dursleys had everything they wanted, but they also had a secret, and\\ntheir greatest fear was that somebody would discover it. They didn't\\nthink they could bear it if anyone found out about the Potters. Mrs.\\nPotter was Mrs. Dursley's sister, but they hadn't met for several years\""
      ]
     },
     "execution_count": 140,
     "metadata": {},
     "output_type": "execute_result"
    }
   ],
   "source": [
    "text[0:1000]"
   ]
  },
  {
   "cell_type": "code",
   "execution_count": 141,
   "metadata": {},
   "outputs": [],
   "source": [
    "text = text.replace('\\n', ' ')"
   ]
  },
  {
   "cell_type": "code",
   "execution_count": 131,
   "metadata": {},
   "outputs": [
    {
     "data": {
      "text/plain": [
       "\"mr. and mrs. dursley, of number four, privet drive, were proud to say that they were perfectly normal, thank you very much. they were the last people you'd expect to be involved in anything strange or mysterious, because they just didn't hold with such nonsense.mr. dursley was the director of a firm called grunnings, which madedrills. he was a big, beefy man with hardly any neck, although he didhave a very large mustache. mrs. dursley was thin and blonde and hadnearly twice the usual amount of neck, which came in very useful as shespent so much of her time craning over garden fences, spying on theneighbors. the dursleys had a small son called dudley and in theiropinion there was no finer boy anywhere.the dursleys had everything they wanted, but they also had a secret, andtheir greatest fear was that somebody would discover it. they didn'tthink they could bear it if anyone found out about the potters. mrs.potter was mrs. dursley's sister, but they hadn't met for several years;in fact, m\""
      ]
     },
     "execution_count": 131,
     "metadata": {},
     "output_type": "execute_result"
    }
   ],
   "source": [
    "text[0:1000]"
   ]
  },
  {
   "cell_type": "code",
   "execution_count": 143,
   "metadata": {},
   "outputs": [
    {
     "data": {
      "text/plain": [
       "\"mr. and mrs. dursley, of number four, privet drive, were proud to say that they were perfectly normal, thank you very much. they were the last people you'd expect to be involved in anything strange or mysterious, because they just didn't hold with such nonsense. mr. dursley was the director of a firm called grunnings, which made drills. he was a big, beefy man with hardly any neck, although he did have a very large mustache. mrs. dursley was thin and blonde and had nearly twice the usual amount of neck, which came in very useful as she spent so much of her time craning over garden fences, spying on the neighbors. the dursleys had a small son called dudley and in their opinion there was no finer boy anywhere. the dursleys had everything they wanted, but they also had a secret, and their greatest fear was that somebody would discover it. they didn't think they could bear it if anyone found out about the potters. mrs. potter was mrs. dursley's sister, but they hadn't met for several years\""
      ]
     },
     "execution_count": 143,
     "metadata": {},
     "output_type": "execute_result"
    }
   ],
   "source": [
    "text = text.lower()\n",
    "text[0:1000]"
   ]
  },
  {
   "cell_type": "code",
   "execution_count": 144,
   "metadata": {},
   "outputs": [],
   "source": [
    "words = text.split(' ')"
   ]
  },
  {
   "cell_type": "code",
   "execution_count": 122,
   "metadata": {},
   "outputs": [
    {
     "data": {
      "text/plain": [
       "['mr.',\n",
       " 'and',\n",
       " 'mrs.',\n",
       " 'dursley,',\n",
       " 'of',\n",
       " 'number',\n",
       " 'four,',\n",
       " 'privet',\n",
       " 'drive,',\n",
       " 'were']"
      ]
     },
     "execution_count": 122,
     "metadata": {},
     "output_type": "execute_result"
    }
   ],
   "source": [
    "words[0:10]"
   ]
  },
  {
   "cell_type": "code",
   "execution_count": 149,
   "metadata": {},
   "outputs": [],
   "source": [
    "words_count = {}\n",
    "# it is the same for creating a dict\n",
    "words_count = dict()\n",
    "\n",
    "for word in words:\n",
    "    if word in words_count:\n",
    "        # words_count[word] = words_count[word] + 1\n",
    "        # it is the same\n",
    "        words_count[word] += 1\n",
    "    else:\n",
    "        words_count[word] = 1"
   ]
  },
  {
   "cell_type": "code",
   "execution_count": 150,
   "metadata": {},
   "outputs": [
    {
     "data": {
      "text/plain": [
       "{'mr.': 30,\n",
       " 'and': 111,\n",
       " 'mrs.': 21,\n",
       " 'dursley,': 4,\n",
       " 'of': 72,\n",
       " 'number': 7,\n",
       " 'four,': 3,\n",
       " 'privet': 8,\n",
       " 'drive,': 3,\n",
       " 'were': 23,\n",
       " 'proud': 1,\n",
       " 'to': 143,\n",
       " 'say': 6,\n",
       " 'that': 47,\n",
       " 'they': 24,\n",
       " 'perfectly': 2,\n",
       " 'normal,': 2,\n",
       " 'thank': 2,\n",
       " 'you': 23,\n",
       " 'very': 9,\n",
       " 'much.': 1,\n",
       " 'the': 203,\n",
       " 'last': 4,\n",
       " 'people': 19,\n",
       " \"you'd\": 3,\n",
       " 'expect': 2,\n",
       " 'be': 28,\n",
       " 'involved': 1,\n",
       " 'in': 57,\n",
       " 'anything': 5,\n",
       " 'strange': 2,\n",
       " 'or': 5,\n",
       " 'mysterious,': 1,\n",
       " 'because': 7,\n",
       " 'just': 9,\n",
       " \"didn't\": 18,\n",
       " 'hold': 1,\n",
       " 'with': 14,\n",
       " 'such': 3,\n",
       " 'nonsense.': 1,\n",
       " 'dursley': 38,\n",
       " 'was': 86,\n",
       " 'director': 1,\n",
       " 'a': 61,\n",
       " 'firm': 1,\n",
       " 'called': 6,\n",
       " 'grunnings,': 1,\n",
       " 'which': 7,\n",
       " 'made': 5,\n",
       " 'drills.': 2,\n",
       " 'he': 92,\n",
       " 'big,': 1,\n",
       " 'beefy': 1,\n",
       " 'man': 9,\n",
       " 'hardly': 2,\n",
       " 'any': 5,\n",
       " 'neck,': 2,\n",
       " 'although': 2,\n",
       " 'did': 11,\n",
       " 'have': 80,\n",
       " 'large': 3,\n",
       " 'mustache.': 1,\n",
       " 'thin': 1,\n",
       " 'blonde': 1,\n",
       " 'had': 39,\n",
       " 'nearly': 2,\n",
       " 'twice': 2,\n",
       " 'usual': 2,\n",
       " 'amount': 1,\n",
       " 'came': 3,\n",
       " 'useful': 1,\n",
       " 'as': 25,\n",
       " 'she': 25,\n",
       " 'spent': 1,\n",
       " 'so': 5,\n",
       " 'much': 6,\n",
       " 'her': 20,\n",
       " 'time': 3,\n",
       " 'craning': 1,\n",
       " 'over': 17,\n",
       " 'garden': 3,\n",
       " 'fences,': 1,\n",
       " 'spying': 1,\n",
       " 'on': 46,\n",
       " 'neighbors.': 1,\n",
       " 'dursleys': 5,\n",
       " 'small': 3,\n",
       " 'son': 3,\n",
       " 'dudley': 7,\n",
       " 'their': 10,\n",
       " 'opinion': 1,\n",
       " 'there': 11,\n",
       " 'no': 7,\n",
       " 'finer': 1,\n",
       " 'boy': 4,\n",
       " 'anywhere.': 1,\n",
       " 'everything': 3,\n",
       " 'wanted,': 1,\n",
       " 'but': 27,\n",
       " 'also': 2,\n",
       " 'secret,': 1,\n",
       " 'greatest': 1,\n",
       " 'fear': 2,\n",
       " 'somebody': 1,\n",
       " 'would': 13,\n",
       " 'discover': 1,\n",
       " 'it.': 5,\n",
       " 'think': 8,\n",
       " 'could': 17,\n",
       " 'bear': 3,\n",
       " 'it': 44,\n",
       " 'if': 16,\n",
       " 'anyone': 2,\n",
       " 'found': 5,\n",
       " 'out': 21,\n",
       " 'about': 13,\n",
       " 'potters.': 2,\n",
       " 'potter': 8,\n",
       " \"dursley's\": 2,\n",
       " 'sister,': 2,\n",
       " \"hadn't\": 1,\n",
       " 'met': 1,\n",
       " 'for': 22,\n",
       " 'several': 2,\n",
       " 'years;': 1,\n",
       " 'fact,': 2,\n",
       " 'pretended': 2,\n",
       " 'sister': 3,\n",
       " 'good-for-nothing': 1,\n",
       " 'husband': 1,\n",
       " 'undursleyish': 1,\n",
       " 'possible': 1,\n",
       " 'be.': 1,\n",
       " 'shuddered': 1,\n",
       " 'what': 7,\n",
       " 'neighbors': 1,\n",
       " 'potters': 5,\n",
       " 'arrived': 3,\n",
       " 'street.': 4,\n",
       " 'knew': 2,\n",
       " 'son,': 2,\n",
       " 'too,': 3,\n",
       " 'never': 10,\n",
       " 'even': 10,\n",
       " 'seen': 8,\n",
       " 'him.': 5,\n",
       " 'this': 9,\n",
       " 'another': 3,\n",
       " 'good': 2,\n",
       " 'reason': 5,\n",
       " 'keeping': 1,\n",
       " 'away;': 1,\n",
       " 'want': 2,\n",
       " 'mixing': 1,\n",
       " 'child': 2,\n",
       " 'like': 9,\n",
       " 'that.': 2,\n",
       " 'when': 10,\n",
       " 'woke': 1,\n",
       " 'up': 13,\n",
       " 'dull,': 1,\n",
       " 'gray': 1,\n",
       " 'tuesday': 1,\n",
       " 'our': 3,\n",
       " 'story': 1,\n",
       " 'starts,': 1,\n",
       " 'nothing': 6,\n",
       " 'cloudy': 1,\n",
       " 'sky': 2,\n",
       " 'outside': 3,\n",
       " 'suggest': 1,\n",
       " 'mysterious': 2,\n",
       " 'things': 3,\n",
       " 'soon': 1,\n",
       " 'happening': 2,\n",
       " 'all': 26,\n",
       " 'country.': 1,\n",
       " 'hummed': 1,\n",
       " 'picked': 2,\n",
       " 'his': 69,\n",
       " 'most': 4,\n",
       " 'boring': 1,\n",
       " 'tie': 1,\n",
       " 'work,': 1,\n",
       " 'gossiped': 1,\n",
       " 'away': 2,\n",
       " 'happily': 1,\n",
       " 'wrestled': 1,\n",
       " 'screaming': 2,\n",
       " 'into': 17,\n",
       " 'high': 1,\n",
       " 'chair.': 1,\n",
       " 'none': 1,\n",
       " 'them': 10,\n",
       " 'noticed': 3,\n",
       " 'large,': 2,\n",
       " 'tawny': 1,\n",
       " 'owl': 4,\n",
       " 'flutter': 1,\n",
       " 'past': 4,\n",
       " 'window.': 2,\n",
       " 'at': 34,\n",
       " 'half': 3,\n",
       " 'eight,': 1,\n",
       " 'briefcase,': 1,\n",
       " 'pecked': 1,\n",
       " 'cheek,': 1,\n",
       " 'tried': 3,\n",
       " 'kiss': 1,\n",
       " 'good-bye': 2,\n",
       " 'missed,': 1,\n",
       " 'now': 3,\n",
       " 'having': 1,\n",
       " 'tantrum': 1,\n",
       " 'throwing': 1,\n",
       " 'cereal': 1,\n",
       " 'walls.': 1,\n",
       " '\"little': 1,\n",
       " 'tyke,\"': 1,\n",
       " 'chortled': 1,\n",
       " 'left': 5,\n",
       " 'house.': 3,\n",
       " 'got': 7,\n",
       " 'car': 3,\n",
       " 'backed': 1,\n",
       " \"four's\": 1,\n",
       " 'drive.': 3,\n",
       " 'corner': 7,\n",
       " 'street': 8,\n",
       " 'first': 2,\n",
       " 'sign': 4,\n",
       " 'something': 8,\n",
       " 'peculiar': 1,\n",
       " '—': 16,\n",
       " 'cat': 17,\n",
       " 'reading': 2,\n",
       " 'map.': 1,\n",
       " 'second,': 1,\n",
       " 'realize': 3,\n",
       " 'then': 4,\n",
       " 'jerked': 2,\n",
       " 'head': 3,\n",
       " 'around': 8,\n",
       " 'look': 11,\n",
       " 'again.': 1,\n",
       " 'tabby': 3,\n",
       " 'standing': 2,\n",
       " \"wasn't\": 3,\n",
       " 'map': 2,\n",
       " 'sight.': 1,\n",
       " 'been': 21,\n",
       " 'thinking': 1,\n",
       " 'of?': 1,\n",
       " 'must': 4,\n",
       " 'trick': 1,\n",
       " 'light.': 1,\n",
       " 'blinked': 2,\n",
       " 'stared': 2,\n",
       " 'cat.': 1,\n",
       " 'back.': 2,\n",
       " 'drove': 2,\n",
       " 'road,': 2,\n",
       " 'watched': 1,\n",
       " 'mirror.': 1,\n",
       " 'said': 28,\n",
       " 'drive': 3,\n",
       " 'no,': 2,\n",
       " 'looking': 4,\n",
       " 'sign;': 1,\n",
       " 'cats': 1,\n",
       " \"couldn't\": 6,\n",
       " 'read': 1,\n",
       " 'maps': 1,\n",
       " 'signs.': 1,\n",
       " 'gave': 4,\n",
       " 'himself': 6,\n",
       " 'little': 8,\n",
       " 'shake': 1,\n",
       " 'put': 5,\n",
       " 'mind.': 3,\n",
       " 'toward': 2,\n",
       " 'town': 2,\n",
       " 'thought': 8,\n",
       " 'except': 1,\n",
       " 'order': 1,\n",
       " 'drills': 4,\n",
       " 'hoping': 3,\n",
       " 'get': 5,\n",
       " 'day.': 3,\n",
       " 'edge': 1,\n",
       " 'town,': 1,\n",
       " 'driven': 1,\n",
       " 'mind': 2,\n",
       " 'by': 15,\n",
       " 'else.': 1,\n",
       " 'sat': 4,\n",
       " 'morning': 1,\n",
       " 'traffic': 2,\n",
       " 'jam,': 1,\n",
       " 'help': 1,\n",
       " 'noticing': 1,\n",
       " 'seemed': 6,\n",
       " 'lot': 3,\n",
       " 'strangely': 1,\n",
       " 'dressed': 3,\n",
       " 'about.': 1,\n",
       " 'cloaks.': 1,\n",
       " 'who': 2,\n",
       " 'funny': 1,\n",
       " 'clothes': 1,\n",
       " 'getups': 1,\n",
       " 'saw': 3,\n",
       " 'young': 2,\n",
       " 'people!': 1,\n",
       " 'supposed': 1,\n",
       " 'some': 4,\n",
       " 'stupid': 1,\n",
       " 'new': 3,\n",
       " 'fashion.': 1,\n",
       " 'drummed': 1,\n",
       " 'fingers': 1,\n",
       " 'steering': 1,\n",
       " 'wheel': 1,\n",
       " 'eyes': 8,\n",
       " 'fell': 5,\n",
       " 'huddle': 1,\n",
       " 'these': 3,\n",
       " 'weirdos': 1,\n",
       " 'quite': 2,\n",
       " 'close': 1,\n",
       " 'by.': 1,\n",
       " 'whispering': 2,\n",
       " 'excitedly': 1,\n",
       " 'together.': 1,\n",
       " 'enraged': 1,\n",
       " 'see': 9,\n",
       " 'couple': 1,\n",
       " \"weren't\": 1,\n",
       " 'all;': 1,\n",
       " 'why,': 3,\n",
       " 'older': 1,\n",
       " 'than': 1,\n",
       " 'was,': 1,\n",
       " 'wearing': 5,\n",
       " 'an': 7,\n",
       " 'emerald-green': 1,\n",
       " 'cloak!': 1,\n",
       " 'nerve': 1,\n",
       " 'him!': 2,\n",
       " 'struck': 1,\n",
       " 'probably': 1,\n",
       " 'silly': 1,\n",
       " 'stunt': 1,\n",
       " 'obviously': 1,\n",
       " 'collecting': 2,\n",
       " 'something...': 1,\n",
       " 'yes,': 2,\n",
       " 'moved': 2,\n",
       " 'few': 5,\n",
       " 'minutes': 1,\n",
       " 'later,': 1,\n",
       " 'grunnings': 1,\n",
       " 'parking': 1,\n",
       " 'lot,': 1,\n",
       " 'back': 13,\n",
       " 'always': 2,\n",
       " 'window': 3,\n",
       " 'office': 1,\n",
       " 'ninth': 1,\n",
       " 'floor.': 1,\n",
       " \"hadn't,\": 1,\n",
       " 'might': 5,\n",
       " 'harder': 2,\n",
       " 'concentrate': 2,\n",
       " 'morning.': 3,\n",
       " 'owls': 9,\n",
       " 'swoop': 1,\n",
       " 'ing': 1,\n",
       " 'broad': 2,\n",
       " 'daylight,': 3,\n",
       " 'though': 6,\n",
       " 'down': 11,\n",
       " 'did;': 1,\n",
       " 'pointed': 1,\n",
       " 'gazed': 1,\n",
       " 'open-': 1,\n",
       " 'mouthed': 1,\n",
       " 'after': 2,\n",
       " 'sped': 1,\n",
       " 'overhead.': 2,\n",
       " 'nighttime.': 1,\n",
       " 'however,': 2,\n",
       " 'owl-free': 1,\n",
       " 'yelled': 1,\n",
       " 'five': 3,\n",
       " 'different': 1,\n",
       " 'people.': 1,\n",
       " 'important': 2,\n",
       " 'telephone': 1,\n",
       " 'calls': 1,\n",
       " 'shouted': 1,\n",
       " 'bit': 2,\n",
       " 'more.': 1,\n",
       " 'mood': 2,\n",
       " 'until': 6,\n",
       " 'lunchtime,': 1,\n",
       " \"he'd\": 9,\n",
       " 'stretch': 1,\n",
       " 'legs': 1,\n",
       " 'walk': 2,\n",
       " 'across': 2,\n",
       " 'road': 2,\n",
       " 'buy': 1,\n",
       " 'bun': 1,\n",
       " 'from': 4,\n",
       " 'bakery.': 1,\n",
       " 'forgotten': 1,\n",
       " 'cloaks': 2,\n",
       " 'passed': 2,\n",
       " 'group': 1,\n",
       " 'next': 8,\n",
       " \"baker's.\": 1,\n",
       " 'eyed': 2,\n",
       " 'angrily': 1,\n",
       " 'passed.': 1,\n",
       " 'know': 10,\n",
       " 'him': 13,\n",
       " 'uneasy.': 1,\n",
       " 'bunch': 1,\n",
       " 'excitedly,': 1,\n",
       " 'single': 1,\n",
       " 'tin.': 1,\n",
       " 'way': 3,\n",
       " 'them,': 3,\n",
       " 'clutching': 1,\n",
       " 'doughnut': 1,\n",
       " 'bag,': 1,\n",
       " 'caught': 1,\n",
       " 'words': 1,\n",
       " 'saying.': 1,\n",
       " '\"the': 2,\n",
       " 'potters,': 1,\n",
       " \"that's\": 4,\n",
       " 'right,': 4,\n",
       " 'i': 74,\n",
       " 'heard': 4,\n",
       " 'harry\"': 1,\n",
       " 'stopped': 3,\n",
       " 'dead.': 2,\n",
       " 'flooded': 1,\n",
       " 'looked': 9,\n",
       " 'whisperers': 1,\n",
       " 'wanted': 1,\n",
       " 'better': 3,\n",
       " 'dashed': 1,\n",
       " 'hurried': 2,\n",
       " 'office,': 1,\n",
       " 'snapped': 2,\n",
       " 'secretary': 1,\n",
       " 'not': 38,\n",
       " 'disturb': 1,\n",
       " 'him,': 4,\n",
       " 'seized': 1,\n",
       " 'telephone,': 1,\n",
       " 'almost': 5,\n",
       " 'finished': 1,\n",
       " 'dialing': 1,\n",
       " 'home': 1,\n",
       " 'changed': 3,\n",
       " 'receiver': 1,\n",
       " 'stroked': 1,\n",
       " 'mustache,': 1,\n",
       " 'thinking...': 1,\n",
       " 'being': 5,\n",
       " 'stupid.': 2,\n",
       " 'unusual': 1,\n",
       " 'name.': 1,\n",
       " 'sure': 3,\n",
       " 'lots': 1,\n",
       " 'harry.': 3,\n",
       " 'come': 2,\n",
       " 'it,': 1,\n",
       " 'nephew': 1,\n",
       " 'boy.': 2,\n",
       " 'harvey.': 1,\n",
       " 'harold.': 1,\n",
       " 'point': 2,\n",
       " 'worrying': 1,\n",
       " 'dursley;': 1,\n",
       " 'upset': 3,\n",
       " 'mention': 2,\n",
       " 'sister.': 2,\n",
       " 'blame': 2,\n",
       " 'that...': 1,\n",
       " 'same,': 1,\n",
       " 'those': 1,\n",
       " 'cloaks...': 1,\n",
       " 'afternoon': 1,\n",
       " 'building': 1,\n",
       " \"o'clock,\": 1,\n",
       " 'still': 5,\n",
       " 'worried': 1,\n",
       " 'walked': 4,\n",
       " 'straight': 1,\n",
       " 'someone': 1,\n",
       " 'door.': 2,\n",
       " '\"sorry,\"': 1,\n",
       " 'grunted,': 1,\n",
       " 'tiny': 2,\n",
       " 'old': 2,\n",
       " 'stumbled': 1,\n",
       " 'fell.': 1,\n",
       " 'seconds': 1,\n",
       " 'before': 5,\n",
       " 'realized': 1,\n",
       " 'violet': 1,\n",
       " 'cloak.': 1,\n",
       " 'seem': 3,\n",
       " 'knocked': 1,\n",
       " 'ground.': 2,\n",
       " 'contrary,': 1,\n",
       " 'face': 2,\n",
       " 'split': 1,\n",
       " 'wide': 1,\n",
       " 'smile': 2,\n",
       " 'squeaky': 1,\n",
       " 'voice': 2,\n",
       " 'passersby': 1,\n",
       " 'stare,': 1,\n",
       " '\"don\\'t': 1,\n",
       " 'sorry,': 1,\n",
       " 'my': 5,\n",
       " 'dear': 4,\n",
       " 'sir,': 1,\n",
       " 'me': 4,\n",
       " 'today!': 1,\n",
       " 'rejoice,': 1,\n",
       " 'you-know-who': 2,\n",
       " 'has': 1,\n",
       " 'gone': 3,\n",
       " 'last!even': 1,\n",
       " 'muggles': 5,\n",
       " 'yourself': 2,\n",
       " 'should': 2,\n",
       " 'celebrating,': 1,\n",
       " 'happy,': 1,\n",
       " 'happy': 1,\n",
       " 'day!\"': 1,\n",
       " 'hugged': 2,\n",
       " 'middle': 1,\n",
       " 'off.': 1,\n",
       " 'stood': 2,\n",
       " 'rooted': 1,\n",
       " 'spot.': 1,\n",
       " 'complete': 1,\n",
       " 'stranger.': 1,\n",
       " 'muggle,': 1,\n",
       " 'whatever': 2,\n",
       " 'was.': 2,\n",
       " 'rattled.': 1,\n",
       " 'set': 2,\n",
       " 'off': 6,\n",
       " 'home,': 1,\n",
       " 'imagining': 2,\n",
       " 'things,': 1,\n",
       " 'hoped': 1,\n",
       " 'before,': 1,\n",
       " 'approve': 1,\n",
       " 'imagination.': 1,\n",
       " 'pulled': 2,\n",
       " 'driveway': 1,\n",
       " 'thing': 2,\n",
       " 'improve': 1,\n",
       " 'spotted': 2,\n",
       " 'sitting': 5,\n",
       " 'wall.': 2,\n",
       " 'same': 2,\n",
       " 'one;': 1,\n",
       " 'markings': 2,\n",
       " 'its': 4,\n",
       " 'eyes.': 2,\n",
       " '\"shoo!\"': 1,\n",
       " 'loudly.': 1,\n",
       " 'move.': 1,\n",
       " 'stern': 1,\n",
       " 'look.': 1,\n",
       " 'normal': 3,\n",
       " 'behavior?': 1,\n",
       " 'wondered.': 1,\n",
       " 'trying': 2,\n",
       " 'pull': 1,\n",
       " 'together,': 1,\n",
       " 'let': 2,\n",
       " 'determined': 1,\n",
       " 'wife.': 1,\n",
       " 'nice,': 1,\n",
       " 'told': 4,\n",
       " 'dinner': 1,\n",
       " \"door's\": 1,\n",
       " 'problems': 1,\n",
       " 'daughter': 1,\n",
       " 'how': 6,\n",
       " 'learned': 1,\n",
       " 'word': 2,\n",
       " '(\"won\\'t!\")': 1,\n",
       " '.': 1,\n",
       " 'act': 1,\n",
       " 'normally.': 1,\n",
       " 'bed,': 1,\n",
       " 'went': 6,\n",
       " 'living': 3,\n",
       " 'room': 3,\n",
       " 'catch': 1,\n",
       " 'report': 1,\n",
       " 'evening': 1,\n",
       " 'news:': 1,\n",
       " '\"and': 6,\n",
       " 'finally,': 2,\n",
       " 'bird-watchers': 1,\n",
       " 'everywhere': 1,\n",
       " 'reported': 1,\n",
       " \"nation's\": 1,\n",
       " 'behaving': 1,\n",
       " 'unusually': 1,\n",
       " 'today.': 2,\n",
       " 'normally': 2,\n",
       " 'hunt': 1,\n",
       " 'night': 4,\n",
       " 'are': 9,\n",
       " 'ever': 2,\n",
       " 'hundreds': 1,\n",
       " 'sightings': 1,\n",
       " 'birds': 1,\n",
       " 'flying': 3,\n",
       " 'every': 2,\n",
       " 'direction': 1,\n",
       " 'since': 2,\n",
       " 'sunrise.': 1,\n",
       " 'experts': 1,\n",
       " 'unable': 1,\n",
       " 'explain': 3,\n",
       " 'why': 4,\n",
       " 'suddenly': 5,\n",
       " 'sleeping': 1,\n",
       " 'pattern.\"': 1,\n",
       " 'newscaster': 1,\n",
       " 'allowed': 1,\n",
       " 'grin.': 1,\n",
       " '\"most': 1,\n",
       " 'mysterious.': 1,\n",
       " 'now,': 3,\n",
       " 'jim': 1,\n",
       " 'mcguffin': 1,\n",
       " 'weather.': 1,\n",
       " 'going': 6,\n",
       " 'more': 2,\n",
       " 'showers': 1,\n",
       " 'tonight,': 1,\n",
       " 'jim?\"': 1,\n",
       " '\"well,': 3,\n",
       " 'ted,\"': 1,\n",
       " 'weatherman,': 1,\n",
       " '\"i': 8,\n",
       " \"don't\": 1,\n",
       " 'that,': 2,\n",
       " \"it's\": 6,\n",
       " 'only': 5,\n",
       " 'acting': 1,\n",
       " 'oddly': 1,\n",
       " 'viewers': 1,\n",
       " 'far': 2,\n",
       " 'apart': 1,\n",
       " 'kent,': 1,\n",
       " 'yorkshire,': 1,\n",
       " 'dundee': 1,\n",
       " 'phoning': 1,\n",
       " 'tell': 4,\n",
       " 'instead': 4,\n",
       " 'rain': 1,\n",
       " 'promised': 1,\n",
       " 'yesterday,': 1,\n",
       " \"they've\": 2,\n",
       " 'downpour': 1,\n",
       " 'shooting': 5,\n",
       " 'stars!': 1,\n",
       " 'perhaps': 1,\n",
       " 'celebrating': 1,\n",
       " 'bonfire': 1,\n",
       " 'early': 1,\n",
       " 'week,': 1,\n",
       " 'folks!': 1,\n",
       " 'can': 6,\n",
       " 'promise': 1,\n",
       " 'wet': 1,\n",
       " 'tonight.\"': 1,\n",
       " 'frozen': 1,\n",
       " 'armchair.': 1,\n",
       " 'stars': 2,\n",
       " 'britain?': 1,\n",
       " 'daylight?': 1,\n",
       " 'place?': 1,\n",
       " 'whisper,': 1,\n",
       " 'whisper': 1,\n",
       " 'potters...': 1,\n",
       " 'carrying': 1,\n",
       " 'two': 5,\n",
       " 'cups': 1,\n",
       " 'tea.': 1,\n",
       " 'good.': 1,\n",
       " 'her.': 2,\n",
       " 'cleared': 1,\n",
       " 'throat': 1,\n",
       " 'nervously.': 1,\n",
       " '\"er': 1,\n",
       " 'petunia,': 1,\n",
       " \"haven't\": 1,\n",
       " 'your': 1,\n",
       " 'lately,': 1,\n",
       " 'you?\"': 1,\n",
       " 'expected,': 1,\n",
       " 'shocked': 1,\n",
       " 'angry.': 1,\n",
       " 'all,': 1,\n",
       " '\"no,\"': 1,\n",
       " 'sharply.': 1,\n",
       " '\"why?\"': 1,\n",
       " '\"funny': 1,\n",
       " 'stuff': 1,\n",
       " 'news,\"': 1,\n",
       " 'mumbled.': 1,\n",
       " '\"owls...': 1,\n",
       " 'stars...': 1,\n",
       " 'funny-looking': 1,\n",
       " 'today...\"': 1,\n",
       " '\"so?\"': 1,\n",
       " 'dursley.': 2,\n",
       " 'thought...': 1,\n",
       " 'maybe...': 1,\n",
       " 'do': 8,\n",
       " 'with...': 1,\n",
       " 'know...': 3,\n",
       " 'crowd.\"': 1,\n",
       " 'sipped': 1,\n",
       " 'tea': 1,\n",
       " 'through': 1,\n",
       " 'pursed': 1,\n",
       " 'lips.': 1,\n",
       " 'wondered': 1,\n",
       " 'whether': 1,\n",
       " 'dared': 1,\n",
       " 'name': 4,\n",
       " '\"potter.\"': 1,\n",
       " 'decided': 1,\n",
       " 'dare.': 1,\n",
       " 'said,': 4,\n",
       " 'casually': 1,\n",
       " 'could,': 2,\n",
       " '\"their': 1,\n",
       " \"dudley's\": 1,\n",
       " 'age': 1,\n",
       " \"wouldn't\": 2,\n",
       " 'he?\"': 1,\n",
       " 'suppose': 4,\n",
       " 'so,\"': 1,\n",
       " 'stiffly.': 2,\n",
       " '\"what\\'s': 1,\n",
       " 'again?howard,': 1,\n",
       " \"isn't\": 1,\n",
       " 'it?\"': 1,\n",
       " '\"harry.': 1,\n",
       " 'nasty,': 1,\n",
       " 'common': 1,\n",
       " 'name,': 1,\n",
       " 'ask': 1,\n",
       " 'me.\"': 1,\n",
       " '\"oh,': 1,\n",
       " 'yes,\"': 1,\n",
       " 'heart': 2,\n",
       " 'sinking': 1,\n",
       " 'horribly.': 1,\n",
       " '\"yes,': 1,\n",
       " 'agree.\"': 1,\n",
       " 'subject': 1,\n",
       " 'upstairs': 1,\n",
       " 'bed.': 2,\n",
       " 'while': 1,\n",
       " 'bathroom,': 1,\n",
       " 'crept': 1,\n",
       " 'bedroom': 1,\n",
       " 'peered': 1,\n",
       " 'front': 4,\n",
       " 'garden.': 1,\n",
       " 'there.': 1,\n",
       " 'staring': 2,\n",
       " 'waiting': 2,\n",
       " 'something.': 3,\n",
       " 'things?': 1,\n",
       " 'potters?': 1,\n",
       " 'did...': 1,\n",
       " 'related': 1,\n",
       " 'pair': 1,\n",
       " 'well,': 2,\n",
       " 'asleep': 3,\n",
       " 'quickly': 1,\n",
       " 'lay': 2,\n",
       " 'awake,': 1,\n",
       " 'turning': 1,\n",
       " 'last,': 2,\n",
       " 'comforting': 1,\n",
       " 'involved,': 1,\n",
       " 'near': 1,\n",
       " 'well': 4,\n",
       " 'petunia': 2,\n",
       " 'kind....': 1,\n",
       " 'mixed': 1,\n",
       " 'yawned': 1,\n",
       " 'turned': 6,\n",
       " 'affect': 1,\n",
       " 'them....': 1,\n",
       " 'wrong': 1,\n",
       " 'drifting': 1,\n",
       " 'uneasy': 1,\n",
       " 'sleep,': 1,\n",
       " 'wall': 5,\n",
       " 'showing': 1,\n",
       " 'sleepiness.': 1,\n",
       " 'statue,': 1,\n",
       " 'fixed': 2,\n",
       " 'unblinkingly': 1,\n",
       " 'quiver': 1,\n",
       " 'door': 2,\n",
       " 'slammed': 1,\n",
       " 'street,': 2,\n",
       " 'nor': 3,\n",
       " 'swooped': 1,\n",
       " 'midnight': 1,\n",
       " 'all.': 3,\n",
       " 'appeared': 2,\n",
       " 'watching,': 1,\n",
       " 'silently': 1,\n",
       " 'popped': 1,\n",
       " \"cat's\": 1,\n",
       " 'tail': 1,\n",
       " 'twitched': 1,\n",
       " 'narrowed.': 1,\n",
       " 'tall,': 1,\n",
       " 'thin,': 1,\n",
       " 'old,': 1,\n",
       " 'judging': 1,\n",
       " 'silver': 3,\n",
       " 'hair': 4,\n",
       " 'beard,': 1,\n",
       " 'both': 2,\n",
       " 'long': 4,\n",
       " 'enough': 2,\n",
       " 'tuck': 1,\n",
       " 'belt.': 1,\n",
       " 'robes,': 1,\n",
       " 'purple': 1,\n",
       " 'cloak': 3,\n",
       " 'swept': 1,\n",
       " 'ground,': 1,\n",
       " 'high-heeled,': 1,\n",
       " 'buckled': 1,\n",
       " 'boots.': 1,\n",
       " 'blue': 1,\n",
       " 'light,': 1,\n",
       " 'bright,': 1,\n",
       " 'sparkling': 1,\n",
       " 'behind': 1,\n",
       " 'half-moon': 2,\n",
       " 'spectacles': 1,\n",
       " 'nose': 1,\n",
       " 'crooked,': 1,\n",
       " 'broken': 2,\n",
       " 'least': 2,\n",
       " 'twice.': 1,\n",
       " \"man's\": 1,\n",
       " 'albus': 2,\n",
       " 'dumbledore.': 5,\n",
       " 'dumbledore': 18,\n",
       " 'where': 4,\n",
       " 'boots': 2,\n",
       " 'unwelcome.': 1,\n",
       " 'busy': 1,\n",
       " 'rummaging': 1,\n",
       " 'cloak,': 4,\n",
       " 'watched,': 1,\n",
       " 'cat,': 1,\n",
       " 'other': 3,\n",
       " 'end': 2,\n",
       " 'reason,': 1,\n",
       " 'sight': 1,\n",
       " 'amuse': 1,\n",
       " 'chuckled': 1,\n",
       " 'muttered,': 1,\n",
       " 'known.\"': 1,\n",
       " 'inside': 4,\n",
       " 'pocket.': 1,\n",
       " 'cigarette': 1,\n",
       " 'lighter.': 1,\n",
       " 'flicked': 1,\n",
       " 'open,': 1,\n",
       " 'held': 1,\n",
       " 'air,': 1,\n",
       " 'clicked': 4,\n",
       " 'nearest': 1,\n",
       " 'lamp': 2,\n",
       " 'pop.': 1,\n",
       " 'again': 1,\n",
       " 'flickered': 1,\n",
       " 'darkness.': 1,\n",
       " 'twelve': 3,\n",
       " 'times': 2,\n",
       " 'put-outer,': 1,\n",
       " 'lights': 1,\n",
       " 'whole': 1,\n",
       " 'pinpricks': 1,\n",
       " 'distance,': 1,\n",
       " 'watching': 2,\n",
       " 'beady-eyed': 1,\n",
       " 'able': 2,\n",
       " 'pavement.': 1,\n",
       " 'slipped': 1,\n",
       " 'put-outer': 1,\n",
       " 'cat.i': 1,\n",
       " 'item,': 3,\n",
       " 'despues': 1,\n",
       " 'de': 2,\n",
       " 'moment': 2,\n",
       " 'spoke': 1,\n",
       " 'item.': 6,\n",
       " '\"fancy': 1,\n",
       " 'seeing': 1,\n",
       " 'here,': 6,\n",
       " 'professor': 28,\n",
       " 'mcgonagall.': 5,\n",
       " '\"': 73,\n",
       " 'tabby,': 1,\n",
       " 'item': 22,\n",
       " 'gone.': 3,\n",
       " 'smiling': 1,\n",
       " 'rather': 2,\n",
       " 'severe-looking': 1,\n",
       " 'woman': 2,\n",
       " 'quien': 6,\n",
       " 'square': 1,\n",
       " 'glasses': 2,\n",
       " 'exactly': 1,\n",
       " 'shape': 1,\n",
       " 'she,': 1,\n",
       " 'emerald': 1,\n",
       " 'one.': 1,\n",
       " 'black': 3,\n",
       " 'drawn': 1,\n",
       " 'tight': 1,\n",
       " 'bun.': 1,\n",
       " 'distinctly': 1,\n",
       " 'ruffled.': 1,\n",
       " '\"how': 1,\n",
       " 'me?': 1,\n",
       " 'asked.': 1,\n",
       " '\"my': 2,\n",
       " 'professor,': 2,\n",
       " \"'go\": 1,\n",
       " 'sit': 1,\n",
       " 'sw': 6,\n",
       " '\"you\\'d': 2,\n",
       " 'stiff': 1,\n",
       " 'brick': 1,\n",
       " 'day,': 2,\n",
       " '\"all': 1,\n",
       " 'day?': 1,\n",
       " 'entering': 2,\n",
       " 'day': 4,\n",
       " 'delivering': 4,\n",
       " 'making': 2,\n",
       " 'difference?': 1,\n",
       " 'dozen': 1,\n",
       " 'feasts': 1,\n",
       " 'parties': 1,\n",
       " 'here.': 2,\n",
       " 'mcgonagall': 16,\n",
       " 'sniffed': 1,\n",
       " 'angrily.': 1,\n",
       " '\"oh': 1,\n",
       " 'is,': 6,\n",
       " \"everyone's\": 2,\n",
       " 'difference,': 1,\n",
       " 'impatiently.': 1,\n",
       " \"they'd\": 1,\n",
       " 'careful,': 1,\n",
       " '-': 32,\n",
       " \"something's\": 1,\n",
       " 'on.': 3,\n",
       " 'news.': 1,\n",
       " \"dursleys'\": 2,\n",
       " 'dark': 1,\n",
       " 'flocks': 1,\n",
       " 'owls...': 1,\n",
       " ...}"
      ]
     },
     "execution_count": 150,
     "metadata": {},
     "output_type": "execute_result"
    }
   ],
   "source": [
    "words_count"
   ]
  },
  {
   "cell_type": "code",
   "execution_count": 147,
   "metadata": {},
   "outputs": [
    {
     "ename": "KeyError",
     "evalue": "'screamingdudley'",
     "output_type": "error",
     "traceback": [
      "\u001b[1;31m---------------------------------------------------------------------------\u001b[0m",
      "\u001b[1;31mKeyError\u001b[0m                                  Traceback (most recent call last)",
      "\u001b[1;32m<ipython-input-147-02f0338e66c8>\u001b[0m in \u001b[0;36m<module>\u001b[1;34m\u001b[0m\n\u001b[1;32m----> 1\u001b[1;33m \u001b[0mwords_count\u001b[0m\u001b[1;33m[\u001b[0m\u001b[1;34m'screamingdudley'\u001b[0m\u001b[1;33m]\u001b[0m\u001b[1;33m\u001b[0m\u001b[1;33m\u001b[0m\u001b[0m\n\u001b[0m",
      "\u001b[1;31mKeyError\u001b[0m: 'screamingdudley'"
     ]
    }
   ],
   "source": [
    "words_count['screamingdudley']"
   ]
  },
  {
   "cell_type": "markdown",
   "metadata": {},
   "source": [
    "### in keyword"
   ]
  },
  {
   "cell_type": "code",
   "execution_count": 123,
   "metadata": {},
   "outputs": [
    {
     "data": {
      "text/plain": [
       "True"
      ]
     },
     "execution_count": 123,
     "metadata": {},
     "output_type": "execute_result"
    }
   ],
   "source": [
    "'banana' in fruits"
   ]
  },
  {
   "cell_type": "code",
   "execution_count": 124,
   "metadata": {},
   "outputs": [
    {
     "data": {
      "text/plain": [
       "False"
      ]
     },
     "execution_count": 124,
     "metadata": {},
     "output_type": "execute_result"
    }
   ],
   "source": [
    "'dragon fruit' in fruits"
   ]
  },
  {
   "cell_type": "code",
   "execution_count": null,
   "metadata": {},
   "outputs": [],
   "source": []
  }
 ],
 "metadata": {
  "kernelspec": {
   "display_name": "Python 3",
   "language": "python",
   "name": "python3"
  },
  "language_info": {
   "codemirror_mode": {
    "name": "ipython",
    "version": 3
   },
   "file_extension": ".py",
   "mimetype": "text/x-python",
   "name": "python",
   "nbconvert_exporter": "python",
   "pygments_lexer": "ipython3",
   "version": "3.8.5"
  }
 },
 "nbformat": 4,
 "nbformat_minor": 4
}
