{
 "cells": [
  {
   "cell_type": "raw",
   "metadata": {},
   "source": [
    "You decided to create a web hosted dashboard with all the stocks bought every week.\n",
    "\n",
    "Each trader can access the dashboard through the web and insert his purchases\n",
    "You must transform their data into dictionaries.\n",
    "\n",
    "You learn the hard way that strings obtained through a form end with \\r rather than with \\\n",
    "expected output:\n",
    "get_dict(data) = {'Apple': 10, 'Samsung': 20}"
   ]
  },
  {
   "cell_type": "code",
   "execution_count": 1,
   "metadata": {},
   "outputs": [],
   "source": [
    "data = '''10 Apple\\r\n",
    "20 Samsung'''\n",
    "\n",
    "# You learn the hard way that users never read the instructions, too.\n",
    "\n",
    "data_2 = '''Apple 70\n",
    "Ferrari 30\n",
    "PetroBrazil 12\n",
    "Super Stock 5'''\n",
    "\n",
    "# And that some trader save their records separating them with a tab, so\n",
    "# when they copy it on the dashboard, you get:\n",
    "\n",
    "data_3 = '''Apple\\t25\n",
    "Tesla\\t12\n",
    "Ferrero\\t50\n",
    "No fantasy anymore\\t20'''\n",
    "\n",
    "data_4 = '''12\\t I do not know\n",
    "5 what to invent\n",
    "7\\t to make it harder'''"
   ]
  },
  {
   "cell_type": "markdown",
   "metadata": {},
   "source": [
    "### My solution\n",
    "Other approaches are possible"
   ]
  },
  {
   "cell_type": "code",
   "execution_count": 2,
   "metadata": {},
   "outputs": [],
   "source": [
    "def get_dict(string):\n",
    "    trades = dict()               # create dict with user input\n",
    "    # clean str and convert to list\n",
    "    comment = string.replace(\"  \", \" \").replace(\"\\t\", \" \").splitlines() \n",
    "    for line in comment:                # comment is now a list, elems (lines) are strings\n",
    "        if len(line) > 2:               # ignore empty lines/wrong format\n",
    "            line = line.strip()         # remove white spaces at end and beginning\n",
    "            try:\n",
    "                if line[0].isdigit():               # if format: 1 APPLE\n",
    "                    number, stock = line.split(\" \", 1)       # creates 1 list per line with 2 elem: number and name\n",
    "                    \n",
    "                elif line[0].isalpha():             # if format: APPLE 1\n",
    "                    line = line.split(\" \")          # creates 1 list per line with n elem: names and number\n",
    "                    stock = \" \".join(line[:-1])      # joins all elems in list excep number\n",
    "                    number = line[-1]\n",
    "                    \n",
    "                # merge trades already in trades, but FAST\n",
    "                trades[stock.strip()] = trades.get(stock, 0) + int(number)\n",
    "\n",
    "            except IndexError:  # tries to find error\n",
    "                raise IndexError(f\"Line {line[0]} contains an error\")\n",
    "            except ValueError:\n",
    "                raise ValueError(f\"Line {line[0]} contains an error\")\n",
    "    return trades"
   ]
  },
  {
   "cell_type": "markdown",
   "metadata": {},
   "source": [
    "### Check"
   ]
  },
  {
   "cell_type": "code",
   "execution_count": 3,
   "metadata": {},
   "outputs": [],
   "source": [
    "dati = (data, data_2, data_3, data_4)"
   ]
  },
  {
   "cell_type": "code",
   "execution_count": 4,
   "metadata": {},
   "outputs": [
    {
     "name": "stdout",
     "output_type": "stream",
     "text": [
      "----------------------------------------------------------------------\n",
      "{'Apple': 10, 'Samsung': 20}\n",
      "----------------------------------------------------------------------\n",
      "{'Apple': 70, 'Ferrari': 30, 'PetroBrazil': 12, 'Super Stock': 5}\n",
      "----------------------------------------------------------------------\n",
      "{'Apple': 25, 'Tesla': 12, 'Ferrero': 50, 'No fantasy anymore': 20}\n",
      "----------------------------------------------------------------------\n",
      "{'I do not know': 12, 'what to invent': 5, 'to make it harder': 7}\n",
      "----------------------------------------------------------------------\n"
     ]
    }
   ],
   "source": [
    "print(\"-\" * 70)\n",
    "for el in dati:\n",
    "    print(get_dict(el))\n",
    "    print(\"-\" * 70)"
   ]
  }
 ],
 "metadata": {
  "kernelspec": {
   "display_name": "Python 3",
   "language": "python",
   "name": "python3"
  },
  "language_info": {
   "codemirror_mode": {
    "name": "ipython",
    "version": 3
   },
   "file_extension": ".py",
   "mimetype": "text/x-python",
   "name": "python",
   "nbconvert_exporter": "python",
   "pygments_lexer": "ipython3",
   "version": "3.9.1"
  },
  "varInspector": {
   "cols": {
    "lenName": 16,
    "lenType": 16,
    "lenVar": 40
   },
   "kernels_config": {
    "python": {
     "delete_cmd_postfix": "",
     "delete_cmd_prefix": "del ",
     "library": "var_list.py",
     "varRefreshCmd": "print(var_dic_list())"
    },
    "r": {
     "delete_cmd_postfix": ") ",
     "delete_cmd_prefix": "rm(",
     "library": "var_list.r",
     "varRefreshCmd": "cat(var_dic_list()) "
    }
   },
   "types_to_exclude": [
    "module",
    "function",
    "builtin_function_or_method",
    "instance",
    "_Feature"
   ],
   "window_display": false
  }
 },
 "nbformat": 4,
 "nbformat_minor": 2
}
