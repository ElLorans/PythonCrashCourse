{
 "cells": [
  {
   "cell_type": "raw",
   "metadata": {},
   "source": [
    "Your Boss wants an analysis of a large and complex dataset, but you have so\n",
    "many columns and rows that Excel is slow and crashes every 5 minutes.\n",
    "\n",
    "Since you know a little bit of Python, you copy the dataset on a .py file (this file)\n",
    "and you write \"file =\" on the first line.\n",
    "\n",
    "Now you need to assign to each column heading its own values\n",
    "You have a multiple lines string. The first line is the heading.\n",
    "\n",
    "create a dictionary whith each heading as a key\n",
    "and a list with the corresponding column as a value\n",
    "\n",
    "The result you should obtain is:\n",
    "{'Stock': ['Apple', 'Tesla'], 'Close': ['188.72', '278.62'], 'Beta': ['0.2', '0.5'], 'Cap': ['895.667B', '48.338B']}\n",
    "{'Employee': ['Linda', 'Bob', 'Joshua'], 'Wage':  ['3000', '2000', '800'], Hired: ['2017', '2016', '2019'],\n",
    " Promotion: ['Yes', 'No', 'Yes']\n",
    " \n",
    "your code should work for both the examples provided and for any other multilines\n",
    "strings, disregarding their length."
   ]
  },
  {
   "cell_type": "code",
   "execution_count": 1,
   "metadata": {},
   "outputs": [],
   "source": [
    "file_1 = \"\"\"Stock Close Beta Cap\n",
    "Apple 188.72 0.2 895.667B\n",
    "Tesla 278.62 0.5 48.338B\"\"\"\n",
    "\n",
    "file_2 = \"\"\"Employee Wage Hired Promotion\n",
    "Linda 3000 2017 Yes\n",
    "Bob 2000 2016 No\n",
    "Joshua 800 2019 Yes\"\"\""
   ]
  },
  {
   "cell_type": "markdown",
   "metadata": {},
   "source": [
    "### My solution\n",
    "Other approaches are possible"
   ]
  },
  {
   "cell_type": "code",
   "execution_count": 2,
   "metadata": {},
   "outputs": [],
   "source": [
    "def parser(stringa):\n",
    "    \"\"\"\n",
    "    Parse string and returns dict of lists: keys are first line, lists are columns.\n",
    "    \"\"\"\n",
    "    # lines will be a list of lists\n",
    "    # each sub list contains the words of a single line\n",
    "    lines = list()\n",
    "    for line in stringa.splitlines():\n",
    "        lines.append(line.split())\n",
    "    \n",
    "    keys = lines[0]     # the first line is the key         \n",
    "    lines = lines[1:]   # now lines does not include the first line\n",
    "    \n",
    "    result = dict()\n",
    "    count = 0\n",
    "    for key in keys:\n",
    "        values = [line[count] for line in lines]\n",
    "        result[key] = values\n",
    "        count += 1\n",
    "    \n",
    "    return result"
   ]
  },
  {
   "cell_type": "code",
   "execution_count": 3,
   "metadata": {},
   "outputs": [
    {
     "data": {
      "text/plain": [
       "{'Stock': ['Apple', 'Tesla'],\n",
       " 'Close': ['188.72', '278.62'],\n",
       " 'Beta': ['0.2', '0.5'],\n",
       " 'Cap': ['895.667B', '48.338B']}"
      ]
     },
     "execution_count": 3,
     "metadata": {},
     "output_type": "execute_result"
    }
   ],
   "source": [
    "parser(file_1)"
   ]
  },
  {
   "cell_type": "code",
   "execution_count": 4,
   "metadata": {},
   "outputs": [
    {
     "data": {
      "text/plain": [
       "{'Employee': ['Linda', 'Bob', 'Joshua'],\n",
       " 'Wage': ['3000', '2000', '800'],\n",
       " 'Hired': ['2017', '2016', '2019'],\n",
       " 'Promotion': ['Yes', 'No', 'Yes']}"
      ]
     },
     "execution_count": 4,
     "metadata": {},
     "output_type": "execute_result"
    }
   ],
   "source": [
    "parser(file_2)"
   ]
  },
  {
   "cell_type": "markdown",
   "metadata": {},
   "source": [
    "### Test\n",
    "We want to verify carefully that everything works as intended"
   ]
  },
  {
   "cell_type": "code",
   "execution_count": 5,
   "metadata": {},
   "outputs": [],
   "source": [
    "def feel_bored_1_test(function):\n",
    "    \"\"\"\n",
    "    Verify that function returns result1 and result2.\n",
    "    \"\"\"\n",
    "    result_1 = {'Stock': ['Apple', 'Tesla'], 'Close': ['188.72', '278.62'], 'Beta': ['0.2', '0.5'], \n",
    "           'Cap': ['895.667B', '48.338B']}\n",
    "\n",
    "    result_2 = {'Employee': ['Linda', 'Bob', 'Joshua'], 'Wage':  ['3000', '2000', '800'], 'Hired': ['2017', '2016', '2019'], \n",
    "           'Promotion': ['Yes', 'No', 'Yes']}\n",
    "    \n",
    "    results = list()\n",
    "    if function(file1) == result1:\n",
    "        print(\"Test 1 passed\")\n",
    "        results.append(True)\n",
    "    else:\n",
    "        print(\"Test 1 not passed\")\n",
    "        results.append(False)\n",
    "    \n",
    "    if function(file2) == result2:\n",
    "        print(\"Test 2 passed\")\n",
    "        results.append(True)\n",
    "    else:\n",
    "        print(\"Test 2 not passed\")\n",
    "        results.append(False)\n",
    "    \n",
    "    return results"
   ]
  },
  {
   "cell_type": "markdown",
   "metadata": {},
   "source": [
    "We can follow DRY (Don't Repeat Yourself) with a for loop to improve the testing function"
   ]
  },
  {
   "cell_type": "code",
   "execution_count": 6,
   "metadata": {},
   "outputs": [],
   "source": [
    "def feel_bored_1_test(function):\n",
    "    result_1 = {'Stock': ['Apple', 'Tesla'], 'Close': ['188.72', '278.62'], 'Beta': ['0.2', '0.5'], \n",
    "           'Cap': ['895.667B', '48.338B']}\n",
    "\n",
    "    result_2 = {'Employee': ['Linda', 'Bob', 'Joshua'], 'Wage':  ['3000', '2000', '800'], 'Hired': ['2017', '2016', '2019'], \n",
    "           'Promotion': ['Yes', 'No', 'Yes']}\n",
    "    \n",
    "    input_to_output = {file_1: result_1, file_2: result_2}\n",
    "    results = list()\n",
    "    \n",
    "    count = 1\n",
    "    for key, value in input_to_output.items():\n",
    "        if function(key) == value:\n",
    "            results.append(True)\n",
    "            print(f\"Test {count} passed\")\n",
    "        else:\n",
    "            results.append(False)\n",
    "            print(f\"Test {count} not passed\")\n",
    "        count += 1\n",
    "            \n",
    "    return results"
   ]
  },
  {
   "cell_type": "code",
   "execution_count": 7,
   "metadata": {},
   "outputs": [
    {
     "name": "stdout",
     "output_type": "stream",
     "text": [
      "Test 1 passed\n",
      "Test 2 passed\n"
     ]
    },
    {
     "data": {
      "text/plain": [
       "[True, True]"
      ]
     },
     "execution_count": 7,
     "metadata": {},
     "output_type": "execute_result"
    }
   ],
   "source": [
    "feel_bored_1_test(parser)"
   ]
  },
  {
   "cell_type": "markdown",
   "metadata": {},
   "source": [
    "### Improve code"
   ]
  },
  {
   "cell_type": "code",
   "execution_count": 8,
   "metadata": {},
   "outputs": [],
   "source": [
    "def fast_parser(stringa):\n",
    "    \"\"\"\n",
    "    Parse string and returns dict of lists: keys are first line, lists are columns.\n",
    "    \"\"\"\n",
    "    lines = [line.split() for line in stringa.splitlines()]    # list of lists\n",
    "    keys = lines.pop(0)                                      # remove first line and assign to keys\n",
    "    \n",
    "    result = {\n",
    "        key: [line[index] for line in lines] for index, key in enumerate(keys)\n",
    "    }\n",
    "    \n",
    "    return result"
   ]
  },
  {
   "cell_type": "markdown",
   "metadata": {},
   "source": [
    "### Everything appears to work as intended"
   ]
  },
  {
   "cell_type": "code",
   "execution_count": 9,
   "metadata": {},
   "outputs": [
    {
     "name": "stdout",
     "output_type": "stream",
     "text": [
      "Test 1 passed\n",
      "Test 2 passed\n"
     ]
    },
    {
     "data": {
      "text/plain": [
       "[True, True]"
      ]
     },
     "execution_count": 9,
     "metadata": {},
     "output_type": "execute_result"
    }
   ],
   "source": [
    "feel_bored_1_test(fast_parser)"
   ]
  },
  {
   "cell_type": "markdown",
   "metadata": {},
   "source": [
    "### Efficiency does not matter, but it's still interesting to measure\n",
    "We can see that the difference is insignificant for small inputs"
   ]
  },
  {
   "cell_type": "code",
   "execution_count": 10,
   "metadata": {},
   "outputs": [
    {
     "name": "stdout",
     "output_type": "stream",
     "text": [
      "6.57 µs ± 245 ns per loop (mean ± std. dev. of 7 runs, 100000 loops each)\n"
     ]
    }
   ],
   "source": [
    "%%timeit\n",
    "parser(file_1)"
   ]
  },
  {
   "cell_type": "code",
   "execution_count": 11,
   "metadata": {},
   "outputs": [
    {
     "name": "stdout",
     "output_type": "stream",
     "text": [
      "6.37 µs ± 217 ns per loop (mean ± std. dev. of 7 runs, 100000 loops each)\n"
     ]
    }
   ],
   "source": [
    "%%timeit\n",
    "fast_parser(file_1)"
   ]
  },
  {
   "cell_type": "markdown",
   "metadata": {},
   "source": [
    "### With bigger inputs, parsing efficiency becomes relevant\n",
    "<br>\n",
    "\n",
    "**Key Takeaway:** \n",
    "<br>\n",
    "Do not waste time on optimizing code if you don't need it\n",
    "<br>\n",
    "<br>\n",
    "**Premature optimization is the root of all evil**"
   ]
  },
  {
   "cell_type": "code",
   "execution_count": 12,
   "metadata": {},
   "outputs": [
    {
     "name": "stdout",
     "output_type": "stream",
     "text": [
      "Stock Close Beta Cap\n",
      "Apple 188.72 0.2 895.667B\n",
      "Tesla 278.62 0.5 48.338B\n",
      "Stock Close Beta Cap\n",
      "Apple 188.72 0.2 895.667B\n",
      "Tesla 278.62 0.5 48.338B\n",
      "Stock Close Beta Cap\n",
      "Apple 188.72 0.2 895.667B\n",
      "Tesla 278.62 0.5 48.338B\n",
      "Stock Close Beta Cap\n",
      "Apple 188.72 0.2 895.667B\n",
      "Tesla 278.62 0.5 48.338B\n",
      "Stock Close Beta Cap\n",
      "Apple 188.72 0.2 895.667B\n",
      "Tesla 278.62 0.5 48.338B\n",
      "Stock Close Beta Cap\n",
      "Apple 188.72 0.2 895.667B\n",
      "Tesla 278.62 0.5 48.338B\n",
      "Stock Close Beta Cap\n",
      "Apple 188.72 0.2 895.667B\n",
      "Tesla 278.62 0.5 48.338B\n",
      "Stock Close Beta Cap\n",
      "Apple 188.72 0.2 895.667B\n",
      "Tesla 278.62 0.5 48.338B\n",
      "Stock Close Beta Cap\n",
      "Apple 188.72 0.2 895.667B\n",
      "Tesla 278.62 0.5 48.338B\n",
      "Stock Close Beta Cap\n",
      "Apple 188.72 0.2 895.667B\n",
      "Tesla 278.62 0.5 48.338B\n",
      "Stock Close Beta Cap\n",
      "Apple 188.72 0.2 895.667B\n",
      "Tesla 278.62 0.5 48.338B\n",
      "Stock Close Beta Cap\n",
      "Apple 188.72 0.2 895.667B\n",
      "Tesla 278.62 0.5 48.338B\n",
      "Stock Close Beta Cap\n",
      "Apple 188.72 0.2 895.667B\n",
      "Tesla 278.62 0.5 48.338B\n",
      "Stock Close Beta Cap\n",
      "Apple 188.72 0.2 895.667B\n",
      "Tesla 278.62 0.5 48.338B\n",
      "Stock Close Beta Cap\n",
      "Apple 188.72 0.2 895.667B\n",
      "Tesla 278.62 0.5 48.338B\n",
      "Stock Close Beta Cap\n",
      "Apple 188.72 0.2 895.667B\n",
      "Tesla 278.62 0.5 48.338B\n",
      "Stock Close Beta Cap\n",
      "Apple 188.72 0.2 895.667B\n",
      "Tesla 278.62 0.5 48.338B\n",
      "Stock Close Beta Cap\n",
      "Apple 188.72 0.2 895.667B\n",
      "Tesla 278.62 0.5 48.338B\n",
      "Stock Close Beta Cap\n",
      "Apple 188.72 0.2 895.667B\n",
      "Tesla 278.62 0.5 48.338B\n",
      "Stock Close Beta Cap\n",
      "Apple 188.72 0.2 895.667B\n",
      "Tesla 278.62 0.5 48.338B\n",
      "Stock Close Beta Cap\n",
      "Apple 188.72 0.2 895.667B\n",
      "Tesla 278.62 0.5 48.338B\n",
      "Stock Close Beta Cap\n",
      "Apple 188.72 0.2 895.667B\n",
      "Tesla 278.62 0.5 48.338B\n",
      "Stock Close Beta Cap\n",
      "Apple 188.72 0.2 895.667B\n",
      "Tesla 278.62 0.5 48.338B\n",
      "Stock Close Beta Cap\n",
      "Apple 188.72 0.2 895.667B\n",
      "Tesla 278.62 0.5 48.338B\n",
      "Stock Close Beta Cap\n",
      "Apple 188.72 0.2 895.667B\n",
      "Tesla 278.62 0.5 48.338B\n",
      "Stock Close Beta Cap\n",
      "Apple 188.72 0.2 895.667B\n",
      "Tesla 278.62 0.5 48.338B\n",
      "Stock Close Beta Cap\n",
      "Apple 188.72 0.2 895.667B\n",
      "Tesla 278.62 0.5 48.338B\n",
      "Stock Close Beta Cap\n",
      "Apple 188.72 0.2 895.667B\n",
      "Tesla 278.62 0.5 48.338B\n",
      "Stock Close Beta Cap\n",
      "Apple 188.72 0.2 895.667B\n",
      "Tesla 278.62 0.5 48.338B\n",
      "Stock Close Beta Cap\n",
      "Apple 188.72 0.2 895.667B\n",
      "Tesla 278.62 0.5 48.338B\n",
      "Stock Close Beta Cap\n",
      "Apple 188.72 0.2 895.667B\n",
      "Tesla 278.62 0.5 48.338B\n",
      "Stock Close Beta Cap\n",
      "Apple 188.72 0.2 895.667B\n",
      "Tesla 278.62 0.5 48.338B\n",
      "Stock Close Beta Cap\n",
      "Apple 188.72 0.2 895.667B\n",
      "Tesla 278.62 0.5 48.338B\n",
      "Stock Close Beta Cap\n",
      "Apple 188.72 0.2 895.667B\n",
      "Tesla 278.62 0.5 48.338B\n",
      "Stock Close Beta Cap\n",
      "Apple 188.72 0.2 895.667B\n",
      "Tesla 278.62 0.5 48.338B\n",
      "Stock Close Beta Cap\n",
      "Apple 188.72 0.2 895.667B\n",
      "Tesla 278.62 0.5 48.338B\n",
      "Stock Close Beta Cap\n",
      "Apple 188.72 0.2 895.667B\n",
      "Tesla 278.62 0.5 48.338B\n",
      "Stock Close Beta Cap\n",
      "Apple 188.72 0.2 895.667B\n",
      "Tesla 278.62 0.5 48.338B\n",
      "Stock Close Beta Cap\n",
      "Apple 188.72 0.2 895.667B\n",
      "Tesla 278.62 0.5 48.338B\n",
      "Stock Close Beta Cap\n",
      "Apple 188.72 0.2 895.667B\n",
      "Tesla 278.62 0.5 48.338B\n",
      "Stock Close Beta Cap\n",
      "Apple 188.72 0.2 895.667B\n",
      "Tesla 278.62 0.5 48.338B\n",
      "Stock Close Beta Cap\n",
      "Apple 188.72 0.2 895.667B\n",
      "Tesla 278.62 0.5 48.338B\n",
      "Stock Close Beta Cap\n",
      "Apple 188.72 0.2 895.667B\n",
      "Tesla 278.62 0.5 48.338B\n",
      "Stock Close Beta Cap\n",
      "Apple 188.72 0.2 895.667B\n",
      "Tesla 278.62 0.5 48.338B\n",
      "Stock Close Beta Cap\n",
      "Apple 188.72 0.2 895.667B\n",
      "Tesla 278.62 0.5 48.338B\n",
      "Stock Close Beta Cap\n",
      "Apple 188.72 0.2 895.667B\n",
      "Tesla 278.62 0.5 48.338B\n",
      "Stock Close Beta Cap\n",
      "Apple 188.72 0.2 895.667B\n",
      "Tesla 278.62 0.5 48.338B\n",
      "Stock Close Beta Cap\n",
      "Apple 188.72 0.2 895.667B\n",
      "Tesla 278.62 0.5 48.338B\n",
      "Stock Close Beta Cap\n",
      "Apple 188.72 0.2 895.667B\n",
      "Tesla 278.62 0.5 48.338B\n",
      "Stock Close Beta Cap\n",
      "Apple 188.72 0.2 895.667B\n",
      "Tesla 278.62 0.5 48.338B\n",
      "Stock Close Beta Cap\n",
      "Apple 188.72 0.2 895.667B\n",
      "Tesla 278.62 0.5 48.338B\n",
      "Stock Close Beta Cap\n",
      "Apple 188.72 0.2 895.667B\n",
      "Tesla 278.62 0.5 48.338B\n",
      "Stock Close Beta Cap\n",
      "Apple 188.72 0.2 895.667B\n",
      "Tesla 278.62 0.5 48.338B\n",
      "Stock Close Beta Cap\n",
      "Apple 188.72 0.2 895.667B\n",
      "Tesla 278.62 0.5 48.338B\n",
      "Stock Close Beta Cap\n",
      "Apple 188.72 0.2 895.667B\n",
      "Tesla 278.62 0.5 48.338B\n",
      "Stock Close Beta Cap\n",
      "Apple 188.72 0.2 895.667B\n",
      "Tesla 278.62 0.5 48.338B\n",
      "Stock Close Beta Cap\n",
      "Apple 188.72 0.2 895.667B\n",
      "Tesla 278.62 0.5 48.338B\n",
      "Stock Close Beta Cap\n",
      "Apple 188.72 0.2 895.667B\n",
      "Tesla 278.62 0.5 48.338B\n",
      "Stock Close Beta Cap\n",
      "Apple 188.72 0.2 895.667B\n",
      "Tesla 278.62 0.5 48.338B\n",
      "Stock Close Beta Cap\n",
      "Apple 188.72 0.2 895.667B\n",
      "Tesla 278.62 0.5 48.338B\n",
      "Stock Close Beta Cap\n",
      "Apple 188.72 0.2 895.667B\n",
      "Tesla 278.62 0.5 48.338B\n",
      "Stock Close Beta Cap\n",
      "Apple 188.72 0.2 895.667B\n",
      "Tesla 278.62 0.5 48.338B\n",
      "Stock Close Beta Cap\n",
      "Apple 188.72 0.2 895.667B\n",
      "Tesla 278.62 0.5 48.338B\n",
      "Stock Close Beta Cap\n",
      "Apple 188.72 0.2 895.667B\n",
      "Tesla 278.62 0.5 48.338B\n",
      "Stock Close Beta Cap\n",
      "Apple 188.72 0.2 895.667B\n",
      "Tesla 278.62 0.5 48.338B\n",
      "Stock Close Beta Cap\n",
      "Apple 188.72 0.2 895.667B\n",
      "Tesla 278.62 0.5 48.338B\n",
      "Stock Close Beta Cap\n",
      "Apple 188.72 0.2 895.667B\n",
      "Tesla 278.62 0.5 48.338B\n",
      "Stock Close Beta Cap\n",
      "Apple 188.72 0.2 895.667B\n",
      "Tesla 278.62 0.5 48.338B\n",
      "Stock Close Beta Cap\n",
      "Apple 188.72 0.2 895.667B\n",
      "Tesla 278.62 0.5 48.338B\n",
      "Stock Close Beta Cap\n",
      "Apple 188.72 0.2 895.667B\n",
      "Tesla 278.62 0.5 48.338B\n",
      "Stock Close Beta Cap\n",
      "Apple 188.72 0.2 895.667B\n",
      "Tesla 278.62 0.5 48.338B\n",
      "Stock Close Beta Cap\n",
      "Apple 188.72 0.2 895.667B\n",
      "Tesla 278.62 0.5 48.338B\n",
      "Stock Close Beta Cap\n",
      "Apple 188.72 0.2 895.667B\n",
      "Tesla 278.62 0.5 48.338B\n",
      "Stock Close Beta Cap\n",
      "Apple 188.72 0.2 895.667B\n",
      "Tesla 278.62 0.5 48.338B\n",
      "Stock Close Beta Cap\n",
      "Apple 188.72 0.2 895.667B\n",
      "Tesla 278.62 0.5 48.338B\n",
      "Stock Close Beta Cap\n",
      "Apple 188.72 0.2 895.667B\n",
      "Tesla 278.62 0.5 48.338B\n",
      "Stock Close Beta Cap\n",
      "Apple 188.72 0.2 895.667B\n",
      "Tesla 278.62 0.5 48.338B\n",
      "Stock Close Beta Cap\n",
      "Apple 188.72 0.2 895.667B\n",
      "Tesla 278.62 0.5 48.338B\n",
      "Stock Close Beta Cap\n",
      "Apple 188.72 0.2 895.667B\n",
      "Tesla 278.62 0.5 48.338B\n",
      "Stock Close Beta Cap\n",
      "Apple 188.72 0.2 895.667B\n",
      "Tesla 278.62 0.5 48.338B\n",
      "Stock Close Beta Cap\n",
      "Apple 188.72 0.2 895.667B\n",
      "Tesla 278.62 0.5 48.338B\n",
      "Stock Close Beta Cap\n",
      "Apple 188.72 0.2 895.667B\n",
      "Tesla 278.62 0.5 48.338B\n",
      "Stock Close Beta Cap\n",
      "Apple 188.72 0.2 895.667B\n",
      "Tesla 278.62 0.5 48.338B\n",
      "Stock Close Beta Cap\n",
      "Apple 188.72 0.2 895.667B\n",
      "Tesla 278.62 0.5 48.338B\n",
      "Stock Close Beta Cap\n",
      "Apple 188.72 0.2 895.667B\n",
      "Tesla 278.62 0.5 48.338B\n",
      "Stock Close Beta Cap\n",
      "Apple 188.72 0.2 895.667B\n",
      "Tesla 278.62 0.5 48.338B\n",
      "Stock Close Beta Cap\n",
      "Apple 188.72 0.2 895.667B\n",
      "Tesla 278.62 0.5 48.338B\n",
      "Stock Close Beta Cap\n",
      "Apple 188.72 0.2 895.667B\n",
      "Tesla 278.62 0.5 48.338B\n",
      "Stock Close Beta Cap\n",
      "Apple 188.72 0.2 895.667B\n",
      "Tesla 278.62 0.5 48.338B\n",
      "Stock Close Beta Cap\n",
      "Apple 188.72 0.2 895.667B\n",
      "Tesla 278.62 0.5 48.338B\n",
      "Stock Close Beta Cap\n",
      "Apple 188.72 0.2 895.667B\n",
      "Tesla 278.62 0.5 48.338B\n",
      "Stock Close Beta Cap\n",
      "Apple 188.72 0.2 895.667B\n",
      "Tesla 278.62 0.5 48.338B\n",
      "Stock Close Beta Cap\n",
      "Apple 188.72 0.2 895.667B\n",
      "Tesla 278.62 0.5 48.338B\n",
      "Stock Close Beta Cap\n",
      "Apple 188.72 0.2 895.667B\n",
      "Tesla 278.62 0.5 48.338B\n",
      "Stock Close Beta Cap\n",
      "Apple 188.72 0.2 895.667B\n",
      "Tesla 278.62 0.5 48.338B\n",
      "Stock Close Beta Cap\n",
      "Apple 188.72 0.2 895.667B\n",
      "Tesla 278.62 0.5 48.338B\n",
      "Stock Close Beta Cap\n",
      "Apple 188.72 0.2 895.667B\n",
      "Tesla 278.62 0.5 48.338B\n",
      "Stock Close Beta Cap\n",
      "Apple 188.72 0.2 895.667B\n",
      "Tesla 278.62 0.5 48.338B\n",
      "Stock Close Beta Cap\n",
      "Apple 188.72 0.2 895.667B\n",
      "Tesla 278.62 0.5 48.338B\n",
      "Stock Close Beta Cap\n",
      "Apple 188.72 0.2 895.667B\n",
      "Tesla 278.62 0.5 48.338B\n",
      "\n"
     ]
    }
   ],
   "source": [
    "big_input = (file_1 + '\\n') * 100\n",
    "print(big_input)"
   ]
  },
  {
   "cell_type": "code",
   "execution_count": 13,
   "metadata": {},
   "outputs": [
    {
     "name": "stdout",
     "output_type": "stream",
     "text": [
      "293 µs ± 17.1 µs per loop (mean ± std. dev. of 7 runs, 1000 loops each)\n"
     ]
    }
   ],
   "source": [
    "%%timeit\n",
    "parser(big_input)"
   ]
  },
  {
   "cell_type": "code",
   "execution_count": 14,
   "metadata": {},
   "outputs": [
    {
     "name": "stdout",
     "output_type": "stream",
     "text": [
      "249 µs ± 15.7 µs per loop (mean ± std. dev. of 7 runs, 1000 loops each)\n"
     ]
    }
   ],
   "source": [
    "%%timeit\n",
    "fast_parser(big_input)"
   ]
  }
 ],
 "metadata": {
  "kernelspec": {
   "display_name": "Python 3",
   "language": "python",
   "name": "python3"
  },
  "language_info": {
   "codemirror_mode": {
    "name": "ipython",
    "version": 3
   },
   "file_extension": ".py",
   "mimetype": "text/x-python",
   "name": "python",
   "nbconvert_exporter": "python",
   "pygments_lexer": "ipython3",
   "version": "3.9.1"
  },
  "varInspector": {
   "cols": {
    "lenName": 16,
    "lenType": 16,
    "lenVar": 40
   },
   "kernels_config": {
    "python": {
     "delete_cmd_postfix": "",
     "delete_cmd_prefix": "del ",
     "library": "var_list.py",
     "varRefreshCmd": "print(var_dic_list())"
    },
    "r": {
     "delete_cmd_postfix": ") ",
     "delete_cmd_prefix": "rm(",
     "library": "var_list.r",
     "varRefreshCmd": "cat(var_dic_list()) "
    }
   },
   "types_to_exclude": [
    "module",
    "function",
    "builtin_function_or_method",
    "instance",
    "_Feature"
   ],
   "window_display": false
  }
 },
 "nbformat": 4,
 "nbformat_minor": 4
}
