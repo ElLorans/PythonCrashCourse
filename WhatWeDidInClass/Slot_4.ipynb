{
  "nbformat": 4,
  "nbformat_minor": 0,
  "metadata": {
    "colab": {
      "name": "Slot 4.ipynb",
      "provenance": []
    },
    "kernelspec": {
      "name": "python3",
      "display_name": "Python 3"
    },
    "language_info": {
      "name": "python"
    },
    "widgets": {
      "application/vnd.jupyter.widget-state+json": {
        "f22050f352c84bbf9ffde78d3ba815ea": {
          "model_module": "@jupyter-widgets/controls",
          "model_name": "HBoxModel",
          "model_module_version": "1.5.0",
          "state": {
            "_view_name": "HBoxView",
            "_dom_classes": [],
            "_model_name": "HBoxModel",
            "_view_module": "@jupyter-widgets/controls",
            "_model_module_version": "1.5.0",
            "_view_count": null,
            "_view_module_version": "1.5.0",
            "box_style": "",
            "layout": "IPY_MODEL_95b4f01356c14b24b9c40928706098fe",
            "_model_module": "@jupyter-widgets/controls",
            "children": [
              "IPY_MODEL_12c1c6aadf0f4a858361580c8f3189b5",
              "IPY_MODEL_2daa828b33094df6bf5985c3789728da",
              "IPY_MODEL_9b443382e3d247ec86c0c79601f37a87"
            ]
          }
        },
        "95b4f01356c14b24b9c40928706098fe": {
          "model_module": "@jupyter-widgets/base",
          "model_name": "LayoutModel",
          "model_module_version": "1.2.0",
          "state": {
            "_view_name": "LayoutView",
            "grid_template_rows": null,
            "right": null,
            "justify_content": null,
            "_view_module": "@jupyter-widgets/base",
            "overflow": null,
            "_model_module_version": "1.2.0",
            "_view_count": null,
            "flex_flow": null,
            "width": null,
            "min_width": null,
            "border": null,
            "align_items": null,
            "bottom": null,
            "_model_module": "@jupyter-widgets/base",
            "top": null,
            "grid_column": null,
            "overflow_y": null,
            "overflow_x": null,
            "grid_auto_flow": null,
            "grid_area": null,
            "grid_template_columns": null,
            "flex": null,
            "_model_name": "LayoutModel",
            "justify_items": null,
            "grid_row": null,
            "max_height": null,
            "align_content": null,
            "visibility": null,
            "align_self": null,
            "height": null,
            "min_height": null,
            "padding": null,
            "grid_auto_rows": null,
            "grid_gap": null,
            "max_width": null,
            "order": null,
            "_view_module_version": "1.2.0",
            "grid_template_areas": null,
            "object_position": null,
            "object_fit": null,
            "grid_auto_columns": null,
            "margin": null,
            "display": null,
            "left": null
          }
        },
        "12c1c6aadf0f4a858361580c8f3189b5": {
          "model_module": "@jupyter-widgets/controls",
          "model_name": "HTMLModel",
          "model_module_version": "1.5.0",
          "state": {
            "_view_name": "HTMLView",
            "style": "IPY_MODEL_e99b4933dc0b4807ab9ec7eeda61f1a6",
            "_dom_classes": [],
            "description": "",
            "_model_name": "HTMLModel",
            "placeholder": "​",
            "_view_module": "@jupyter-widgets/controls",
            "_model_module_version": "1.5.0",
            "value": "100%",
            "_view_count": null,
            "_view_module_version": "1.5.0",
            "description_tooltip": null,
            "_model_module": "@jupyter-widgets/controls",
            "layout": "IPY_MODEL_77c182db971e4452b873c573bf0028f7"
          }
        },
        "2daa828b33094df6bf5985c3789728da": {
          "model_module": "@jupyter-widgets/controls",
          "model_name": "FloatProgressModel",
          "model_module_version": "1.5.0",
          "state": {
            "_view_name": "ProgressView",
            "style": "IPY_MODEL_e8ff5afa5b004d78a829eb3c73494974",
            "_dom_classes": [],
            "description": "",
            "_model_name": "FloatProgressModel",
            "bar_style": "success",
            "max": 10,
            "_view_module": "@jupyter-widgets/controls",
            "_model_module_version": "1.5.0",
            "value": 10,
            "_view_count": null,
            "_view_module_version": "1.5.0",
            "orientation": "horizontal",
            "min": 0,
            "description_tooltip": null,
            "_model_module": "@jupyter-widgets/controls",
            "layout": "IPY_MODEL_08d9cb89e9b049539dc4c87432a432fb"
          }
        },
        "9b443382e3d247ec86c0c79601f37a87": {
          "model_module": "@jupyter-widgets/controls",
          "model_name": "HTMLModel",
          "model_module_version": "1.5.0",
          "state": {
            "_view_name": "HTMLView",
            "style": "IPY_MODEL_b9b9f161e8334ba184c9bdaaedc628a0",
            "_dom_classes": [],
            "description": "",
            "_model_name": "HTMLModel",
            "placeholder": "​",
            "_view_module": "@jupyter-widgets/controls",
            "_model_module_version": "1.5.0",
            "value": " 10/10 [00:00&lt;00:00, 198.46it/s]",
            "_view_count": null,
            "_view_module_version": "1.5.0",
            "description_tooltip": null,
            "_model_module": "@jupyter-widgets/controls",
            "layout": "IPY_MODEL_4c6f6fe3f943461bb01d3dd0b7b5840d"
          }
        },
        "e99b4933dc0b4807ab9ec7eeda61f1a6": {
          "model_module": "@jupyter-widgets/controls",
          "model_name": "DescriptionStyleModel",
          "model_module_version": "1.5.0",
          "state": {
            "_view_name": "StyleView",
            "_model_name": "DescriptionStyleModel",
            "description_width": "",
            "_view_module": "@jupyter-widgets/base",
            "_model_module_version": "1.5.0",
            "_view_count": null,
            "_view_module_version": "1.2.0",
            "_model_module": "@jupyter-widgets/controls"
          }
        },
        "77c182db971e4452b873c573bf0028f7": {
          "model_module": "@jupyter-widgets/base",
          "model_name": "LayoutModel",
          "model_module_version": "1.2.0",
          "state": {
            "_view_name": "LayoutView",
            "grid_template_rows": null,
            "right": null,
            "justify_content": null,
            "_view_module": "@jupyter-widgets/base",
            "overflow": null,
            "_model_module_version": "1.2.0",
            "_view_count": null,
            "flex_flow": null,
            "width": null,
            "min_width": null,
            "border": null,
            "align_items": null,
            "bottom": null,
            "_model_module": "@jupyter-widgets/base",
            "top": null,
            "grid_column": null,
            "overflow_y": null,
            "overflow_x": null,
            "grid_auto_flow": null,
            "grid_area": null,
            "grid_template_columns": null,
            "flex": null,
            "_model_name": "LayoutModel",
            "justify_items": null,
            "grid_row": null,
            "max_height": null,
            "align_content": null,
            "visibility": null,
            "align_self": null,
            "height": null,
            "min_height": null,
            "padding": null,
            "grid_auto_rows": null,
            "grid_gap": null,
            "max_width": null,
            "order": null,
            "_view_module_version": "1.2.0",
            "grid_template_areas": null,
            "object_position": null,
            "object_fit": null,
            "grid_auto_columns": null,
            "margin": null,
            "display": null,
            "left": null
          }
        },
        "e8ff5afa5b004d78a829eb3c73494974": {
          "model_module": "@jupyter-widgets/controls",
          "model_name": "ProgressStyleModel",
          "model_module_version": "1.5.0",
          "state": {
            "_view_name": "StyleView",
            "_model_name": "ProgressStyleModel",
            "description_width": "",
            "_view_module": "@jupyter-widgets/base",
            "_model_module_version": "1.5.0",
            "_view_count": null,
            "_view_module_version": "1.2.0",
            "bar_color": null,
            "_model_module": "@jupyter-widgets/controls"
          }
        },
        "08d9cb89e9b049539dc4c87432a432fb": {
          "model_module": "@jupyter-widgets/base",
          "model_name": "LayoutModel",
          "model_module_version": "1.2.0",
          "state": {
            "_view_name": "LayoutView",
            "grid_template_rows": null,
            "right": null,
            "justify_content": null,
            "_view_module": "@jupyter-widgets/base",
            "overflow": null,
            "_model_module_version": "1.2.0",
            "_view_count": null,
            "flex_flow": null,
            "width": null,
            "min_width": null,
            "border": null,
            "align_items": null,
            "bottom": null,
            "_model_module": "@jupyter-widgets/base",
            "top": null,
            "grid_column": null,
            "overflow_y": null,
            "overflow_x": null,
            "grid_auto_flow": null,
            "grid_area": null,
            "grid_template_columns": null,
            "flex": null,
            "_model_name": "LayoutModel",
            "justify_items": null,
            "grid_row": null,
            "max_height": null,
            "align_content": null,
            "visibility": null,
            "align_self": null,
            "height": null,
            "min_height": null,
            "padding": null,
            "grid_auto_rows": null,
            "grid_gap": null,
            "max_width": null,
            "order": null,
            "_view_module_version": "1.2.0",
            "grid_template_areas": null,
            "object_position": null,
            "object_fit": null,
            "grid_auto_columns": null,
            "margin": null,
            "display": null,
            "left": null
          }
        },
        "b9b9f161e8334ba184c9bdaaedc628a0": {
          "model_module": "@jupyter-widgets/controls",
          "model_name": "DescriptionStyleModel",
          "model_module_version": "1.5.0",
          "state": {
            "_view_name": "StyleView",
            "_model_name": "DescriptionStyleModel",
            "description_width": "",
            "_view_module": "@jupyter-widgets/base",
            "_model_module_version": "1.5.0",
            "_view_count": null,
            "_view_module_version": "1.2.0",
            "_model_module": "@jupyter-widgets/controls"
          }
        },
        "4c6f6fe3f943461bb01d3dd0b7b5840d": {
          "model_module": "@jupyter-widgets/base",
          "model_name": "LayoutModel",
          "model_module_version": "1.2.0",
          "state": {
            "_view_name": "LayoutView",
            "grid_template_rows": null,
            "right": null,
            "justify_content": null,
            "_view_module": "@jupyter-widgets/base",
            "overflow": null,
            "_model_module_version": "1.2.0",
            "_view_count": null,
            "flex_flow": null,
            "width": null,
            "min_width": null,
            "border": null,
            "align_items": null,
            "bottom": null,
            "_model_module": "@jupyter-widgets/base",
            "top": null,
            "grid_column": null,
            "overflow_y": null,
            "overflow_x": null,
            "grid_auto_flow": null,
            "grid_area": null,
            "grid_template_columns": null,
            "flex": null,
            "_model_name": "LayoutModel",
            "justify_items": null,
            "grid_row": null,
            "max_height": null,
            "align_content": null,
            "visibility": null,
            "align_self": null,
            "height": null,
            "min_height": null,
            "padding": null,
            "grid_auto_rows": null,
            "grid_gap": null,
            "max_width": null,
            "order": null,
            "_view_module_version": "1.2.0",
            "grid_template_areas": null,
            "object_position": null,
            "object_fit": null,
            "grid_auto_columns": null,
            "margin": null,
            "display": null,
            "left": null
          }
        },
        "fcb0804789a74d148fb27deadbf432b0": {
          "model_module": "@jupyter-widgets/controls",
          "model_name": "HBoxModel",
          "model_module_version": "1.5.0",
          "state": {
            "_view_name": "HBoxView",
            "_dom_classes": [],
            "_model_name": "HBoxModel",
            "_view_module": "@jupyter-widgets/controls",
            "_model_module_version": "1.5.0",
            "_view_count": null,
            "_view_module_version": "1.5.0",
            "box_style": "",
            "layout": "IPY_MODEL_6f67303d979f4b0981485e1f3fc554f9",
            "_model_module": "@jupyter-widgets/controls",
            "children": [
              "IPY_MODEL_ae3b45b6711c431598ace70bc5caa186",
              "IPY_MODEL_14fc8812162a47168a72dc6b35a30bb4",
              "IPY_MODEL_1df039e8a3a84c58b8205c100f9773a3"
            ]
          }
        },
        "6f67303d979f4b0981485e1f3fc554f9": {
          "model_module": "@jupyter-widgets/base",
          "model_name": "LayoutModel",
          "model_module_version": "1.2.0",
          "state": {
            "_view_name": "LayoutView",
            "grid_template_rows": null,
            "right": null,
            "justify_content": null,
            "_view_module": "@jupyter-widgets/base",
            "overflow": null,
            "_model_module_version": "1.2.0",
            "_view_count": null,
            "flex_flow": null,
            "width": null,
            "min_width": null,
            "border": null,
            "align_items": null,
            "bottom": null,
            "_model_module": "@jupyter-widgets/base",
            "top": null,
            "grid_column": null,
            "overflow_y": null,
            "overflow_x": null,
            "grid_auto_flow": null,
            "grid_area": null,
            "grid_template_columns": null,
            "flex": null,
            "_model_name": "LayoutModel",
            "justify_items": null,
            "grid_row": null,
            "max_height": null,
            "align_content": null,
            "visibility": null,
            "align_self": null,
            "height": null,
            "min_height": null,
            "padding": null,
            "grid_auto_rows": null,
            "grid_gap": null,
            "max_width": null,
            "order": null,
            "_view_module_version": "1.2.0",
            "grid_template_areas": null,
            "object_position": null,
            "object_fit": null,
            "grid_auto_columns": null,
            "margin": null,
            "display": null,
            "left": null
          }
        },
        "ae3b45b6711c431598ace70bc5caa186": {
          "model_module": "@jupyter-widgets/controls",
          "model_name": "HTMLModel",
          "model_module_version": "1.5.0",
          "state": {
            "_view_name": "HTMLView",
            "style": "IPY_MODEL_78e19825782c46aca6ab3af9caf7b95d",
            "_dom_classes": [],
            "description": "",
            "_model_name": "HTMLModel",
            "placeholder": "​",
            "_view_module": "@jupyter-widgets/controls",
            "_model_module_version": "1.5.0",
            "value": "100%",
            "_view_count": null,
            "_view_module_version": "1.5.0",
            "description_tooltip": null,
            "_model_module": "@jupyter-widgets/controls",
            "layout": "IPY_MODEL_b88ecd68af624f8dab008e4ee53bdcec"
          }
        },
        "14fc8812162a47168a72dc6b35a30bb4": {
          "model_module": "@jupyter-widgets/controls",
          "model_name": "FloatProgressModel",
          "model_module_version": "1.5.0",
          "state": {
            "_view_name": "ProgressView",
            "style": "IPY_MODEL_436c4c35fd644ae5acc49760bbf851e2",
            "_dom_classes": [],
            "description": "",
            "_model_name": "FloatProgressModel",
            "bar_style": "success",
            "max": 5,
            "_view_module": "@jupyter-widgets/controls",
            "_model_module_version": "1.5.0",
            "value": 5,
            "_view_count": null,
            "_view_module_version": "1.5.0",
            "orientation": "horizontal",
            "min": 0,
            "description_tooltip": null,
            "_model_module": "@jupyter-widgets/controls",
            "layout": "IPY_MODEL_962443ce9f2b4693978b8bf2b8087b10"
          }
        },
        "1df039e8a3a84c58b8205c100f9773a3": {
          "model_module": "@jupyter-widgets/controls",
          "model_name": "HTMLModel",
          "model_module_version": "1.5.0",
          "state": {
            "_view_name": "HTMLView",
            "style": "IPY_MODEL_73fd18d40a96429eb028f24433a2033a",
            "_dom_classes": [],
            "description": "",
            "_model_name": "HTMLModel",
            "placeholder": "​",
            "_view_module": "@jupyter-widgets/controls",
            "_model_module_version": "1.5.0",
            "value": " 5/5 [00:02&lt;00:00,  1.71it/s]",
            "_view_count": null,
            "_view_module_version": "1.5.0",
            "description_tooltip": null,
            "_model_module": "@jupyter-widgets/controls",
            "layout": "IPY_MODEL_d34ba433c92043f48fdf8c6df5340d68"
          }
        },
        "78e19825782c46aca6ab3af9caf7b95d": {
          "model_module": "@jupyter-widgets/controls",
          "model_name": "DescriptionStyleModel",
          "model_module_version": "1.5.0",
          "state": {
            "_view_name": "StyleView",
            "_model_name": "DescriptionStyleModel",
            "description_width": "",
            "_view_module": "@jupyter-widgets/base",
            "_model_module_version": "1.5.0",
            "_view_count": null,
            "_view_module_version": "1.2.0",
            "_model_module": "@jupyter-widgets/controls"
          }
        },
        "b88ecd68af624f8dab008e4ee53bdcec": {
          "model_module": "@jupyter-widgets/base",
          "model_name": "LayoutModel",
          "model_module_version": "1.2.0",
          "state": {
            "_view_name": "LayoutView",
            "grid_template_rows": null,
            "right": null,
            "justify_content": null,
            "_view_module": "@jupyter-widgets/base",
            "overflow": null,
            "_model_module_version": "1.2.0",
            "_view_count": null,
            "flex_flow": null,
            "width": null,
            "min_width": null,
            "border": null,
            "align_items": null,
            "bottom": null,
            "_model_module": "@jupyter-widgets/base",
            "top": null,
            "grid_column": null,
            "overflow_y": null,
            "overflow_x": null,
            "grid_auto_flow": null,
            "grid_area": null,
            "grid_template_columns": null,
            "flex": null,
            "_model_name": "LayoutModel",
            "justify_items": null,
            "grid_row": null,
            "max_height": null,
            "align_content": null,
            "visibility": null,
            "align_self": null,
            "height": null,
            "min_height": null,
            "padding": null,
            "grid_auto_rows": null,
            "grid_gap": null,
            "max_width": null,
            "order": null,
            "_view_module_version": "1.2.0",
            "grid_template_areas": null,
            "object_position": null,
            "object_fit": null,
            "grid_auto_columns": null,
            "margin": null,
            "display": null,
            "left": null
          }
        },
        "436c4c35fd644ae5acc49760bbf851e2": {
          "model_module": "@jupyter-widgets/controls",
          "model_name": "ProgressStyleModel",
          "model_module_version": "1.5.0",
          "state": {
            "_view_name": "StyleView",
            "_model_name": "ProgressStyleModel",
            "description_width": "",
            "_view_module": "@jupyter-widgets/base",
            "_model_module_version": "1.5.0",
            "_view_count": null,
            "_view_module_version": "1.2.0",
            "bar_color": null,
            "_model_module": "@jupyter-widgets/controls"
          }
        },
        "962443ce9f2b4693978b8bf2b8087b10": {
          "model_module": "@jupyter-widgets/base",
          "model_name": "LayoutModel",
          "model_module_version": "1.2.0",
          "state": {
            "_view_name": "LayoutView",
            "grid_template_rows": null,
            "right": null,
            "justify_content": null,
            "_view_module": "@jupyter-widgets/base",
            "overflow": null,
            "_model_module_version": "1.2.0",
            "_view_count": null,
            "flex_flow": null,
            "width": null,
            "min_width": null,
            "border": null,
            "align_items": null,
            "bottom": null,
            "_model_module": "@jupyter-widgets/base",
            "top": null,
            "grid_column": null,
            "overflow_y": null,
            "overflow_x": null,
            "grid_auto_flow": null,
            "grid_area": null,
            "grid_template_columns": null,
            "flex": null,
            "_model_name": "LayoutModel",
            "justify_items": null,
            "grid_row": null,
            "max_height": null,
            "align_content": null,
            "visibility": null,
            "align_self": null,
            "height": null,
            "min_height": null,
            "padding": null,
            "grid_auto_rows": null,
            "grid_gap": null,
            "max_width": null,
            "order": null,
            "_view_module_version": "1.2.0",
            "grid_template_areas": null,
            "object_position": null,
            "object_fit": null,
            "grid_auto_columns": null,
            "margin": null,
            "display": null,
            "left": null
          }
        },
        "73fd18d40a96429eb028f24433a2033a": {
          "model_module": "@jupyter-widgets/controls",
          "model_name": "DescriptionStyleModel",
          "model_module_version": "1.5.0",
          "state": {
            "_view_name": "StyleView",
            "_model_name": "DescriptionStyleModel",
            "description_width": "",
            "_view_module": "@jupyter-widgets/base",
            "_model_module_version": "1.5.0",
            "_view_count": null,
            "_view_module_version": "1.2.0",
            "_model_module": "@jupyter-widgets/controls"
          }
        },
        "d34ba433c92043f48fdf8c6df5340d68": {
          "model_module": "@jupyter-widgets/base",
          "model_name": "LayoutModel",
          "model_module_version": "1.2.0",
          "state": {
            "_view_name": "LayoutView",
            "grid_template_rows": null,
            "right": null,
            "justify_content": null,
            "_view_module": "@jupyter-widgets/base",
            "overflow": null,
            "_model_module_version": "1.2.0",
            "_view_count": null,
            "flex_flow": null,
            "width": null,
            "min_width": null,
            "border": null,
            "align_items": null,
            "bottom": null,
            "_model_module": "@jupyter-widgets/base",
            "top": null,
            "grid_column": null,
            "overflow_y": null,
            "overflow_x": null,
            "grid_auto_flow": null,
            "grid_area": null,
            "grid_template_columns": null,
            "flex": null,
            "_model_name": "LayoutModel",
            "justify_items": null,
            "grid_row": null,
            "max_height": null,
            "align_content": null,
            "visibility": null,
            "align_self": null,
            "height": null,
            "min_height": null,
            "padding": null,
            "grid_auto_rows": null,
            "grid_gap": null,
            "max_width": null,
            "order": null,
            "_view_module_version": "1.2.0",
            "grid_template_areas": null,
            "object_position": null,
            "object_fit": null,
            "grid_auto_columns": null,
            "margin": null,
            "display": null,
            "left": null
          }
        }
      }
    }
  },
  "cells": [
    {
      "cell_type": "code",
      "execution_count": 108,
      "metadata": {
        "id": "dMHRZB3cKdg8"
      },
      "outputs": [],
      "source": [
        "import time\n",
        "\n",
        "import pandas as pd\n",
        "import requests\n",
        "\n",
        "from bs4 import BeautifulSoup\n",
        "from tqdm.auto import tqdm"
      ]
    },
    {
      "cell_type": "markdown",
      "source": [
        "# BeautifulSoup Tutorial"
      ],
      "metadata": {
        "id": "8yDzZ2hpOrUP"
      }
    },
    {
      "cell_type": "code",
      "source": [
        "html = \"\"\"<h1>Hi, this is a title</h1>\n",
        "<h2>This is a subtitle</h2>\n",
        "\n",
        "<p>This is a paragraph</p>\"\"\""
      ],
      "metadata": {
        "id": "5tjmNwX6NsZk"
      },
      "execution_count": 17,
      "outputs": []
    },
    {
      "cell_type": "code",
      "source": [
        "example_soup = BeautifulSoup(html)\n",
        "\n",
        "# bs4.BeautifulSoup.find() allows us to retrieve the text\n",
        "example_soup.find(\"h1\").text"
      ],
      "metadata": {
        "colab": {
          "base_uri": "https://localhost:8080/",
          "height": 36
        },
        "id": "wRYDlT8oOfqi",
        "outputId": "cb2673e6-f6ea-4ab9-a9aa-762771d73599"
      },
      "execution_count": 18,
      "outputs": [
        {
          "output_type": "execute_result",
          "data": {
            "application/vnd.google.colaboratory.intrinsic+json": {
              "type": "string"
            },
            "text/plain": [
              "'Hi, this is a title'"
            ]
          },
          "metadata": {},
          "execution_count": 18
        }
      ]
    },
    {
      "cell_type": "markdown",
      "source": [
        "# tqdm tutorial"
      ],
      "metadata": {
        "id": "YYxnHRDvY1hp"
      }
    },
    {
      "cell_type": "code",
      "source": [
        "for el in tqdm(range(10)):\n",
        "  pass"
      ],
      "metadata": {
        "colab": {
          "base_uri": "https://localhost:8080/",
          "height": 49,
          "referenced_widgets": [
            "f22050f352c84bbf9ffde78d3ba815ea",
            "95b4f01356c14b24b9c40928706098fe",
            "12c1c6aadf0f4a858361580c8f3189b5",
            "2daa828b33094df6bf5985c3789728da",
            "9b443382e3d247ec86c0c79601f37a87",
            "e99b4933dc0b4807ab9ec7eeda61f1a6",
            "77c182db971e4452b873c573bf0028f7",
            "e8ff5afa5b004d78a829eb3c73494974",
            "08d9cb89e9b049539dc4c87432a432fb",
            "b9b9f161e8334ba184c9bdaaedc628a0",
            "4c6f6fe3f943461bb01d3dd0b7b5840d"
          ]
        },
        "id": "AneB4F3tY9qk",
        "outputId": "d88cd721-5955-4531-ecbf-0e1fcc893e85"
      },
      "execution_count": 100,
      "outputs": [
        {
          "output_type": "display_data",
          "data": {
            "application/vnd.jupyter.widget-view+json": {
              "model_id": "f22050f352c84bbf9ffde78d3ba815ea",
              "version_minor": 0,
              "version_major": 2
            },
            "text/plain": [
              "  0%|          | 0/10 [00:00<?, ?it/s]"
            ]
          },
          "metadata": {}
        }
      ]
    },
    {
      "cell_type": "markdown",
      "source": [
        "# Scrape Wines"
      ],
      "metadata": {
        "id": "d5Uh8ZnYOuLh"
      }
    },
    {
      "cell_type": "markdown",
      "source": [
        "## Carrefour"
      ],
      "metadata": {
        "id": "QaC7NxENTiQC"
      }
    },
    {
      "cell_type": "code",
      "source": [
        "my_headers = {\n",
        "    # stating that I prefer text and images\n",
        "    \"Accept\": \"text/html,application/xhtml+xml,application/xml;q=0.9,image/avif,image/webp,*/*;q=0.8\",\n",
        "    \"Accept-Encoding\": \"gzip, deflate, br\",\n",
        "    # language I prefer\n",
        "    \"Accept-Language\": \t\"en-GB,en;q=0.5\",\n",
        "    # from which site we are coming from\n",
        "    \"Referer\": \"https://www.google.com/\",\n",
        "    # User-Agent specifies the browser making the http request\n",
        "    \"User-Agent\": \"Mozilla/5.0 (Windows NT 10.0; Win64; x64; rv:95.0) Gecko/20100101 Firefox/95.0\"\n",
        "    }"
      ],
      "metadata": {
        "id": "VFaF_KHsLLYa"
      },
      "execution_count": 5,
      "outputs": []
    },
    {
      "cell_type": "code",
      "source": [
        "def scrape_carrefour_wines():\n",
        "  \"\"\"\n",
        "  Scrape carrefour.fr and return a dict of wine names and their prices.\n",
        "  \"\"\"\n",
        "  carrefour_url = \"https://www.carrefour.fr/s?q=vin\"\n",
        "  response = requests.get(carrefour_url, headers=my_headers)\n",
        "  soup = BeautifulSoup(response.text, \"lxml\")\n",
        "  wines_info = dict()\n",
        "\n",
        "  wines = soup.find_all(\"div\", {\"class\": \"ds-product-card--vertical-infos\"})\n",
        "  for wine in wines:\n",
        "    wine_name = wine.find(\"h2\", {\"class\": \"ds-title\"}).text.strip()\n",
        "    price_per_liter = wine.find_all(\"div\", {\"class\": \"ds-body-text\"})[1].text.strip()\n",
        "    price_per_liter = float(price_per_liter.split(\" € / Litre\")[0])\n",
        "    wines_info[wine_name] = price_per_liter\n",
        "\n",
        "  return wines_info"
      ],
      "metadata": {
        "id": "iBiLlI-jXFPr"
      },
      "execution_count": 91,
      "outputs": []
    },
    {
      "cell_type": "code",
      "source": [
        "carrefour_wines = scrape_carrefour_wines()"
      ],
      "metadata": {
        "id": "Y4oawO-lXUv7"
      },
      "execution_count": 92,
      "outputs": []
    },
    {
      "cell_type": "code",
      "source": [
        "carrefour_wines"
      ],
      "metadata": {
        "colab": {
          "base_uri": "https://localhost:8080/"
        },
        "id": "u8ClxmugXaUa",
        "outputId": "eb27534b-d23f-437e-b41f-8a0861edfe0c"
      },
      "execution_count": 93,
      "outputs": [
        {
          "output_type": "execute_result",
          "data": {
            "text/plain": [
              "{\"Vin AOP rouge  de bordeaux LA CAVE D'AUGUSTIN FLORENT\": 8.13,\n",
              " 'Vin Rouge  Beaujolais AOP Juliénas Domaine de la Combe Darroux \"Reflets de France\"': 9.13,\n",
              " 'Vin Rouge  Bordeaux AOP Blaye Côtes de Bordeaux Château Labrousse \"Reflets de France\"': 8.6,\n",
              " 'Vin Rouge  Bordeaux AOP Blaye Côtes de Bordeaux Château Le Grand Moulin': 7.73,\n",
              " 'Vin Rouge  Bordeaux AOP Bordeaux Carrefour Sélection \"Cabernet Franc et Malbec\"': 4.73,\n",
              " 'Vin Rouge  Bordeaux AOP Bordeaux Château Hautes Terres \"Reflets De France\"': 5.73,\n",
              " \"Vin Rouge  Bordeaux AOP Bordeaux La Cave d'Augustin Florent\": 4.4,\n",
              " 'Vin Rouge  Bordeaux AOP Bordeaux La Petite Chapelle De Bordeaux': 3.69,\n",
              " 'Vin Rouge  Bordeaux AOP Bordeaux Supérieur Château Picon \"Reflets de France\"': 6.93,\n",
              " \"Vin Rouge  Bordeaux AOP Bordeaux Supérieur La Cave d'Augustin Florent\": 5.32,\n",
              " \"Vin Rouge  Bordeaux AOP Haut Médoc La Cave d'Augustin Florent\": 7.53,\n",
              " 'Vin Rouge  Bordeaux AOP Lussac Saint-Emilion L de Lussac': 8.53,\n",
              " 'Vin Rouge  Bordeaux AOP Médoc Château Bourbon La Chapelle': 7.07,\n",
              " 'Vin Rouge  Bordeaux AOP Puisseguin Saint Emilion P de Puisseguin': 8.53,\n",
              " 'Vin Rouge  Languedoc Roussillon AOP Coteaux du Languedoc Chemin des Olivettes': 5.67,\n",
              " 'Vin Rouge  Languedoc Roussillon AOP Faugères Mas Olivier': 5.73,\n",
              " 'Vin Rouge  Languedoc Roussillon AOP Minervois Château Millegrand': 6.93,\n",
              " 'Vin Rouge  Languedoc Roussillon IGP Cévennes Solar 6   Bio': 9.67,\n",
              " 'Vin Rouge  Sud Ouest AOP Bergerac Château La Salagre   Bio': 6.73,\n",
              " \"Vin Rouge  Sud Ouest AOP Bergerac La Cave d'Augustin Florent\": 4.2,\n",
              " \"Vin Rouge  Sud Ouest AOP Buzet La Cave d'Augustin Florent\": 5.53,\n",
              " \"Vin Rouge  Sud Ouest AOP Madiran La Cave d'Augustin Florent\": 5.53,\n",
              " 'Vin Rouge  Val de Loire AOP Saumur Champigny Domaine des Varinelles   Bio': 9.47,\n",
              " 'Vin Rouge  Vallée Du Rhône AOP Crozes Hermitage Les 3 Lys': 11.0,\n",
              " 'Vin Rouge  Vallée Du Rhône AOP Côtes du Rhône Villages Plan de Dieu Domaine Du Mistral \"Reflets De France\"': 6.67,\n",
              " 'Vin Rouge  Vallée du Rhône AOP Côtes du Rhône Dauvergne Ranvier \"Vin gourmand\"   Bio': 7.6,\n",
              " \"Vin Rouge  Vallée du Rhône AOP Côtes du Rhône Villages Laudun La Cave d'Augustin Florent\": 6.27,\n",
              " \"Vin Rouge  bordeaux AOC LA CAVE D'AUGUSTIN FLORENT\": 8.2,\n",
              " 'Vin Rouge Bordeaux LA PETITE CHAPELLE DE BORDEAUX': 3.28,\n",
              " \"Vin Rouge Languedoc Roussillon I.G.P Pays d'OC ROCHE MAZET CABERNET SAUVIGNON\": 3.6,\n",
              " \"Vin Rouge Languedoc Roussillon I.G.P Pays d'OC ROCHE MAZET MERLOT\": 3.73,\n",
              " 'Vin Rouge Vallée Du Rhône Côtes du Rhône Villages CROIX DE BONPAS': 9.0,\n",
              " 'Vin rouge  BEAUVAL': 1.75,\n",
              " 'Vin rouge  LA VILLAGEOISE': 2.07,\n",
              " 'Vin rouge AOC Bordeaux RICHAUMONT': 3.8,\n",
              " \"Vin rouge AOC Chinon LA CAVE D'AUGUSTIN FLORENT\": 4.5,\n",
              " 'Vin rouge AOP Bordeaux BARON DE LESTAC': 5.47,\n",
              " 'Vin rouge AOP Côtes du Rhône BIO MONTALCOUR': 5.19,\n",
              " 'Vin rouge AOP Côtes du Rhône LA CHASSE': 5.87,\n",
              " 'Vin rouge Bordeaux LE GRAND ECUYER': 5.53,\n",
              " 'Vin rouge Bordeaux LES PETITES CAVES': 2.65,\n",
              " 'Vin rouge Bordeaux MOUTON CADET': 12.87,\n",
              " \"Vin rouge Bordeaux Élevé en fûts de chêne AOC LA CAVE D'AUGUSTIN FLORENT\": 5.0,\n",
              " 'Vin rouge Brouilly  CAVE AUGUSTIN FLORENT': 7.53,\n",
              " 'Vin rouge Côtes du Rhône LES PETITES CAVES': 3.32,\n",
              " 'Vin rouge Fin Bouquet': 2.0,\n",
              " 'Vin rouge Hautes-Côtes de Nuits  JEAN BOUCHARD': 14.13,\n",
              " 'Vin rouge Juliénas THORIN': 7.6,\n",
              " \"Vin rouge Languedoc Saint-Saturnin AOP VIN D'UNE NUIT\": 4.4,\n",
              " 'Vin rouge Malbec IGP Comte TOLOSAN L HERITAGE DE CARILLAN AGIR': 3.53,\n",
              " 'Vin rouge Merlot LA FRANCETTE': 2.73,\n",
              " \"Vin rouge Minervois Bio LA CAVE D'AUGUSTIN FLORENT\": 5.27,\n",
              " 'Vin rouge Médoc HAUSSMANN': 9.27,\n",
              " \"Vin rouge Vin de pays d'Oc Cabernet-Syrah  JP CHENET\": 3.67,\n",
              " 'Vin rouge bio AOP Beaujolais LA CAVE D AUGUSTIN FLORENT': 6.53,\n",
              " \"Vin rouge bio Bordeaux LA CAVE D'AUGUSTIN FLORENT\": 6.87,\n",
              " 'Vin rouge bio Corbières Sol de Veredus  CAVE AUGUSTIN FLORENT': 6.87,\n",
              " \"Vin rouge bio pays de l'Hérault  DOMAINE DE PETIT ROUBIE\": 5.88,\n",
              " 'Vin rouge pinot noir  LE VAL': 4.44}"
            ]
          },
          "metadata": {},
          "execution_count": 93
        }
      ]
    },
    {
      "cell_type": "markdown",
      "source": [
        "## Vivino"
      ],
      "metadata": {
        "id": "WCuT1lBWTpuq"
      }
    },
    {
      "cell_type": "code",
      "source": [
        "def scrape_vivino(wine_name):\n",
        "  \"\"\"\n",
        "  Scrape vivino.com for info about wine and return a dict with keys:\n",
        "    Vivino Name\n",
        "    Rating\n",
        "    # Reviews\n",
        "  \"\"\"\n",
        "  search_url = \"https://www.vivino.com/search/wines?q=\"\n",
        "  url = search_url + wine_name.lower().replace(\"  \", \"+\").replace(\" \", \"+\")\n",
        "  response = requests.get(url, headers=my_headers)\n",
        "  soup = BeautifulSoup(response.text)\n",
        "  wine_name = soup.find(\"span\", {\"class\": \"header-smaller\"}).text.strip()\n",
        "  rating = soup.find(\"div\", {\"class\": \"text-inline-block\"}).text.strip()\n",
        "  n_reviews = int(soup.find(\"p\", {\"class\": \"text-micro\"}).text.strip().split(\" ratings\")[0])\n",
        "\n",
        "  return {\n",
        "      \"Vivino Name\": wine_name,\n",
        "      \"Rating\": rating,\n",
        "      \"# Reviews\": n_reviews\n",
        "  }"
      ],
      "metadata": {
        "id": "eB2YeMLVXnUb"
      },
      "execution_count": 95,
      "outputs": []
    },
    {
      "cell_type": "code",
      "source": [
        "scrape_vivino(wine_name)"
      ],
      "metadata": {
        "colab": {
          "base_uri": "https://localhost:8080/"
        },
        "id": "8-92IZYJYRh9",
        "outputId": "249b1bb3-5100-4885-f472-ff00502bdc46"
      },
      "execution_count": 96,
      "outputs": [
        {
          "output_type": "execute_result",
          "data": {
            "text/plain": [
              "{'# Reviews': 5809,\n",
              " 'Rating': '3.5',\n",
              " 'Vivino Name': 'Spier Vintage Selection Cabernet Sauvignon - Merlot - Cabernet Franc - Petit Verdot - Malbec'}"
            ]
          },
          "metadata": {},
          "execution_count": 96
        }
      ]
    },
    {
      "cell_type": "markdown",
      "source": [
        "# Copy only the first 5 wines"
      ],
      "metadata": {
        "id": "SF4KHJqLZng8"
      }
    },
    {
      "cell_type": "code",
      "source": [
        "first_5 = dict()\n",
        "\n",
        "count = 0\n",
        "for key in carrefour_wines:\n",
        "  first_5[key] = carrefour_wines[key]\n",
        "  count += 1\n",
        "  if count == 5:\n",
        "    break"
      ],
      "metadata": {
        "id": "Y_BItUOJWWIj"
      },
      "execution_count": 104,
      "outputs": []
    },
    {
      "cell_type": "code",
      "source": [
        "first_5"
      ],
      "metadata": {
        "colab": {
          "base_uri": "https://localhost:8080/"
        },
        "id": "PUPQxw1YZlAF",
        "outputId": "b77b69eb-c0da-4828-e56e-1837ff22eed8"
      },
      "execution_count": 105,
      "outputs": [
        {
          "output_type": "execute_result",
          "data": {
            "text/plain": [
              "{'Vin Rouge  Bordeaux AOP Lussac Saint-Emilion L de Lussac': 8.53,\n",
              " 'Vin Rouge  Vallée Du Rhône AOP Crozes Hermitage Les 3 Lys': 11.0,\n",
              " 'Vin rouge AOP Côtes du Rhône BIO MONTALCOUR': 5.19,\n",
              " 'Vin rouge Bordeaux LE GRAND ECUYER': 5.53,\n",
              " 'Vin rouge Brouilly  CAVE AUGUSTIN FLORENT': 7.53}"
            ]
          },
          "metadata": {},
          "execution_count": 105
        }
      ]
    },
    {
      "cell_type": "code",
      "source": [
        "final = dict()\n",
        "for wine in tqdm(first_5):\n",
        "  wine_info = scrape_vivino(wine)\n",
        "  wine_info[\"Price per liter\"] = first_5[wine]\n",
        "  final[wine] = wine_info"
      ],
      "metadata": {
        "colab": {
          "base_uri": "https://localhost:8080/",
          "height": 49,
          "referenced_widgets": [
            "fcb0804789a74d148fb27deadbf432b0",
            "6f67303d979f4b0981485e1f3fc554f9",
            "ae3b45b6711c431598ace70bc5caa186",
            "14fc8812162a47168a72dc6b35a30bb4",
            "1df039e8a3a84c58b8205c100f9773a3",
            "78e19825782c46aca6ab3af9caf7b95d",
            "b88ecd68af624f8dab008e4ee53bdcec",
            "436c4c35fd644ae5acc49760bbf851e2",
            "962443ce9f2b4693978b8bf2b8087b10",
            "73fd18d40a96429eb028f24433a2033a",
            "d34ba433c92043f48fdf8c6df5340d68"
          ]
        },
        "id": "HLn6YEKQZmGY",
        "outputId": "08b0b8b0-8859-47d3-cef9-a603f8b3f4be"
      },
      "execution_count": 106,
      "outputs": [
        {
          "output_type": "display_data",
          "data": {
            "application/vnd.jupyter.widget-view+json": {
              "model_id": "fcb0804789a74d148fb27deadbf432b0",
              "version_minor": 0,
              "version_major": 2
            },
            "text/plain": [
              "  0%|          | 0/5 [00:00<?, ?it/s]"
            ]
          },
          "metadata": {}
        }
      ]
    },
    {
      "cell_type": "code",
      "source": [
        "final"
      ],
      "metadata": {
        "colab": {
          "base_uri": "https://localhost:8080/"
        },
        "id": "lK-Cb-mfabZ8",
        "outputId": "a64f8cc9-b7e9-49f1-b190-3f825f84fd62"
      },
      "execution_count": 107,
      "outputs": [
        {
          "output_type": "execute_result",
          "data": {
            "text/plain": [
              "{'Vin Rouge  Bordeaux AOP Lussac Saint-Emilion L de Lussac': {'# Reviews': 124,\n",
              "  'Price per liter': 8.53,\n",
              "  'Rating': '—',\n",
              "  'Vivino Name': 'Chateau Langlaise Grand Vin De Bordeaux Lussac Saint Emilion'},\n",
              " 'Vin Rouge  Vallée Du Rhône AOP Crozes Hermitage Les 3 Lys': {'# Reviews': 30,\n",
              "  'Price per liter': 11.0,\n",
              "  'Rating': '3.5',\n",
              "  'Vivino Name': 'Les Monts Taris Crozes Hermitage'},\n",
              " 'Vin rouge AOP Côtes du Rhône BIO MONTALCOUR': {'# Reviews': 899,\n",
              "  'Price per liter': 5.19,\n",
              "  'Rating': '3.3',\n",
              "  'Vivino Name': 'Cellier des Dauphins Vin Bio Côtes-du-Rhône'},\n",
              " 'Vin rouge Bordeaux LE GRAND ECUYER': {'# Reviews': 309,\n",
              "  'Price per liter': 5.53,\n",
              "  'Rating': '3.3',\n",
              "  'Vivino Name': 'Bertrand Ravache Le Grand Ecuyer Bordeaux Supérieur'},\n",
              " 'Vin rouge Brouilly  CAVE AUGUSTIN FLORENT': {'# Reviews': 1689,\n",
              "  'Price per liter': 7.53,\n",
              "  'Rating': '3.3',\n",
              "  'Vivino Name': \"La Cave d'Augustin Florent Vin d'Alsace Pinot Noir\"}}"
            ]
          },
          "metadata": {},
          "execution_count": 107
        }
      ]
    },
    {
      "cell_type": "code",
      "source": [
        "wine_table = pd.DataFrame.from_dict(final, orient='index')"
      ],
      "metadata": {
        "id": "unm_KLfUac2K"
      },
      "execution_count": 109,
      "outputs": []
    },
    {
      "cell_type": "code",
      "source": [
        "wine_table"
      ],
      "metadata": {
        "colab": {
          "base_uri": "https://localhost:8080/",
          "height": 206
        },
        "id": "GBqaFoifbO17",
        "outputId": "397645f5-d3c0-499a-a16a-cd374dcdb6e5"
      },
      "execution_count": 110,
      "outputs": [
        {
          "output_type": "execute_result",
          "data": {
            "text/html": [
              "\n",
              "  <div id=\"df-1410d69d-4fa6-4c56-8795-0bff0898fe8b\">\n",
              "    <div class=\"colab-df-container\">\n",
              "      <div>\n",
              "<style scoped>\n",
              "    .dataframe tbody tr th:only-of-type {\n",
              "        vertical-align: middle;\n",
              "    }\n",
              "\n",
              "    .dataframe tbody tr th {\n",
              "        vertical-align: top;\n",
              "    }\n",
              "\n",
              "    .dataframe thead th {\n",
              "        text-align: right;\n",
              "    }\n",
              "</style>\n",
              "<table border=\"1\" class=\"dataframe\">\n",
              "  <thead>\n",
              "    <tr style=\"text-align: right;\">\n",
              "      <th></th>\n",
              "      <th>Vivino Name</th>\n",
              "      <th>Rating</th>\n",
              "      <th># Reviews</th>\n",
              "      <th>Price per liter</th>\n",
              "    </tr>\n",
              "  </thead>\n",
              "  <tbody>\n",
              "    <tr>\n",
              "      <th>Vin Rouge  Bordeaux AOP Lussac Saint-Emilion L de Lussac</th>\n",
              "      <td>Chateau Langlaise Grand Vin De Bordeaux Lussac...</td>\n",
              "      <td>—</td>\n",
              "      <td>124</td>\n",
              "      <td>8.53</td>\n",
              "    </tr>\n",
              "    <tr>\n",
              "      <th>Vin Rouge  Vallée Du Rhône AOP Crozes Hermitage Les 3 Lys</th>\n",
              "      <td>Les Monts Taris Crozes Hermitage</td>\n",
              "      <td>3.5</td>\n",
              "      <td>30</td>\n",
              "      <td>11.00</td>\n",
              "    </tr>\n",
              "    <tr>\n",
              "      <th>Vin rouge Brouilly  CAVE AUGUSTIN FLORENT</th>\n",
              "      <td>La Cave d'Augustin Florent Vin d'Alsace Pinot ...</td>\n",
              "      <td>3.3</td>\n",
              "      <td>1689</td>\n",
              "      <td>7.53</td>\n",
              "    </tr>\n",
              "    <tr>\n",
              "      <th>Vin rouge Bordeaux LE GRAND ECUYER</th>\n",
              "      <td>Bertrand Ravache Le Grand Ecuyer Bordeaux Supé...</td>\n",
              "      <td>3.3</td>\n",
              "      <td>309</td>\n",
              "      <td>5.53</td>\n",
              "    </tr>\n",
              "    <tr>\n",
              "      <th>Vin rouge AOP Côtes du Rhône BIO MONTALCOUR</th>\n",
              "      <td>Cellier des Dauphins Vin Bio Côtes-du-Rhône</td>\n",
              "      <td>3.3</td>\n",
              "      <td>899</td>\n",
              "      <td>5.19</td>\n",
              "    </tr>\n",
              "  </tbody>\n",
              "</table>\n",
              "</div>\n",
              "      <button class=\"colab-df-convert\" onclick=\"convertToInteractive('df-1410d69d-4fa6-4c56-8795-0bff0898fe8b')\"\n",
              "              title=\"Convert this dataframe to an interactive table.\"\n",
              "              style=\"display:none;\">\n",
              "        \n",
              "  <svg xmlns=\"http://www.w3.org/2000/svg\" height=\"24px\"viewBox=\"0 0 24 24\"\n",
              "       width=\"24px\">\n",
              "    <path d=\"M0 0h24v24H0V0z\" fill=\"none\"/>\n",
              "    <path d=\"M18.56 5.44l.94 2.06.94-2.06 2.06-.94-2.06-.94-.94-2.06-.94 2.06-2.06.94zm-11 1L8.5 8.5l.94-2.06 2.06-.94-2.06-.94L8.5 2.5l-.94 2.06-2.06.94zm10 10l.94 2.06.94-2.06 2.06-.94-2.06-.94-.94-2.06-.94 2.06-2.06.94z\"/><path d=\"M17.41 7.96l-1.37-1.37c-.4-.4-.92-.59-1.43-.59-.52 0-1.04.2-1.43.59L10.3 9.45l-7.72 7.72c-.78.78-.78 2.05 0 2.83L4 21.41c.39.39.9.59 1.41.59.51 0 1.02-.2 1.41-.59l7.78-7.78 2.81-2.81c.8-.78.8-2.07 0-2.86zM5.41 20L4 18.59l7.72-7.72 1.47 1.35L5.41 20z\"/>\n",
              "  </svg>\n",
              "      </button>\n",
              "      \n",
              "  <style>\n",
              "    .colab-df-container {\n",
              "      display:flex;\n",
              "      flex-wrap:wrap;\n",
              "      gap: 12px;\n",
              "    }\n",
              "\n",
              "    .colab-df-convert {\n",
              "      background-color: #E8F0FE;\n",
              "      border: none;\n",
              "      border-radius: 50%;\n",
              "      cursor: pointer;\n",
              "      display: none;\n",
              "      fill: #1967D2;\n",
              "      height: 32px;\n",
              "      padding: 0 0 0 0;\n",
              "      width: 32px;\n",
              "    }\n",
              "\n",
              "    .colab-df-convert:hover {\n",
              "      background-color: #E2EBFA;\n",
              "      box-shadow: 0px 1px 2px rgba(60, 64, 67, 0.3), 0px 1px 3px 1px rgba(60, 64, 67, 0.15);\n",
              "      fill: #174EA6;\n",
              "    }\n",
              "\n",
              "    [theme=dark] .colab-df-convert {\n",
              "      background-color: #3B4455;\n",
              "      fill: #D2E3FC;\n",
              "    }\n",
              "\n",
              "    [theme=dark] .colab-df-convert:hover {\n",
              "      background-color: #434B5C;\n",
              "      box-shadow: 0px 1px 3px 1px rgba(0, 0, 0, 0.15);\n",
              "      filter: drop-shadow(0px 1px 2px rgba(0, 0, 0, 0.3));\n",
              "      fill: #FFFFFF;\n",
              "    }\n",
              "  </style>\n",
              "\n",
              "      <script>\n",
              "        const buttonEl =\n",
              "          document.querySelector('#df-1410d69d-4fa6-4c56-8795-0bff0898fe8b button.colab-df-convert');\n",
              "        buttonEl.style.display =\n",
              "          google.colab.kernel.accessAllowed ? 'block' : 'none';\n",
              "\n",
              "        async function convertToInteractive(key) {\n",
              "          const element = document.querySelector('#df-1410d69d-4fa6-4c56-8795-0bff0898fe8b');\n",
              "          const dataTable =\n",
              "            await google.colab.kernel.invokeFunction('convertToInteractive',\n",
              "                                                     [key], {});\n",
              "          if (!dataTable) return;\n",
              "\n",
              "          const docLinkHtml = 'Like what you see? Visit the ' +\n",
              "            '<a target=\"_blank\" href=https://colab.research.google.com/notebooks/data_table.ipynb>data table notebook</a>'\n",
              "            + ' to learn more about interactive tables.';\n",
              "          element.innerHTML = '';\n",
              "          dataTable['output_type'] = 'display_data';\n",
              "          await google.colab.output.renderOutput(dataTable, element);\n",
              "          const docLink = document.createElement('div');\n",
              "          docLink.innerHTML = docLinkHtml;\n",
              "          element.appendChild(docLink);\n",
              "        }\n",
              "      </script>\n",
              "    </div>\n",
              "  </div>\n",
              "  "
            ],
            "text/plain": [
              "                                                                                          Vivino Name  ... Price per liter\n",
              "Vin Rouge  Bordeaux AOP Lussac Saint-Emilion L ...  Chateau Langlaise Grand Vin De Bordeaux Lussac...  ...            8.53\n",
              "Vin Rouge  Vallée Du Rhône AOP Crozes Hermitage...                   Les Monts Taris Crozes Hermitage  ...           11.00\n",
              "Vin rouge Brouilly  CAVE AUGUSTIN FLORENT           La Cave d'Augustin Florent Vin d'Alsace Pinot ...  ...            7.53\n",
              "Vin rouge Bordeaux LE GRAND ECUYER                  Bertrand Ravache Le Grand Ecuyer Bordeaux Supé...  ...            5.53\n",
              "Vin rouge AOP Côtes du Rhône BIO MONTALCOUR               Cellier des Dauphins Vin Bio Côtes-du-Rhône  ...            5.19\n",
              "\n",
              "[5 rows x 4 columns]"
            ]
          },
          "metadata": {},
          "execution_count": 110
        }
      ]
    },
    {
      "cell_type": "code",
      "source": [
        "file_name = \"carrefour_wines.xlsx\"\n",
        "wine_table.to_excel(file_name)\n",
        "\n",
        "try:\n",
        "  from google.colab import files\n",
        "  files.download(file_name)\n",
        "except ModuleNotFoundError:\n",
        "  print(\"You are not on Colab, so no need to download\")\n",
        "  pass"
      ],
      "metadata": {
        "colab": {
          "base_uri": "https://localhost:8080/",
          "height": 17
        },
        "id": "c-9WkZHAbPwF",
        "outputId": "94a0fca9-756a-416e-c9d9-3b1ac575355c"
      },
      "execution_count": 111,
      "outputs": [
        {
          "output_type": "display_data",
          "data": {
            "application/javascript": [
              "\n",
              "    async function download(id, filename, size) {\n",
              "      if (!google.colab.kernel.accessAllowed) {\n",
              "        return;\n",
              "      }\n",
              "      const div = document.createElement('div');\n",
              "      const label = document.createElement('label');\n",
              "      label.textContent = `Downloading \"${filename}\": `;\n",
              "      div.appendChild(label);\n",
              "      const progress = document.createElement('progress');\n",
              "      progress.max = size;\n",
              "      div.appendChild(progress);\n",
              "      document.body.appendChild(div);\n",
              "\n",
              "      const buffers = [];\n",
              "      let downloaded = 0;\n",
              "\n",
              "      const channel = await google.colab.kernel.comms.open(id);\n",
              "      // Send a message to notify the kernel that we're ready.\n",
              "      channel.send({})\n",
              "\n",
              "      for await (const message of channel.messages) {\n",
              "        // Send a message to notify the kernel that we're ready.\n",
              "        channel.send({})\n",
              "        if (message.buffers) {\n",
              "          for (const buffer of message.buffers) {\n",
              "            buffers.push(buffer);\n",
              "            downloaded += buffer.byteLength;\n",
              "            progress.value = downloaded;\n",
              "          }\n",
              "        }\n",
              "      }\n",
              "      const blob = new Blob(buffers, {type: 'application/binary'});\n",
              "      const a = document.createElement('a');\n",
              "      a.href = window.URL.createObjectURL(blob);\n",
              "      a.download = filename;\n",
              "      div.appendChild(a);\n",
              "      a.click();\n",
              "      div.remove();\n",
              "    }\n",
              "  "
            ],
            "text/plain": [
              "<IPython.core.display.Javascript object>"
            ]
          },
          "metadata": {}
        },
        {
          "output_type": "display_data",
          "data": {
            "application/javascript": [
              "download(\"download_5b84cacf-040e-4d3c-8331-2e5d0d57acbc\", \"carrefour_wines.xlsx\", 5456)"
            ],
            "text/plain": [
              "<IPython.core.display.Javascript object>"
            ]
          },
          "metadata": {}
        }
      ]
    },
    {
      "cell_type": "code",
      "source": [
        ""
      ],
      "metadata": {
        "id": "sF6XxMoJb-OL"
      },
      "execution_count": null,
      "outputs": []
    }
  ]
}