{
  "nbformat": 4,
  "nbformat_minor": 0,
  "metadata": {
    "colab": {
      "name": "LorenzoCerretaExercise1.ipynb",
      "provenance": [],
      "collapsed_sections": []
    },
    "kernelspec": {
      "name": "python3",
      "display_name": "Python 3"
    },
    "language_info": {
      "name": "python"
    }
  },
  "cells": [
    {
      "cell_type": "markdown",
      "source": [
        "# ask the user for a base x and an exponent e\n",
        "# (suppose only integers are provided)\n",
        "# show on the screen the result of x raised to the power of e"
      ],
      "metadata": {
        "id": "iEwFCCgQ39u0"
      }
    },
    {
      "cell_type": "code",
      "execution_count": 1,
      "metadata": {
        "colab": {
          "base_uri": "https://localhost:8080/"
        },
        "id": "08UikIQd33vG",
        "outputId": "35706756-58d1-4f48-bb49-494a97629f5c"
      },
      "outputs": [
        {
          "output_type": "stream",
          "name": "stdout",
          "text": [
            "Insert a base3\n",
            "Insert an exponent3\n",
            "27\n"
          ]
        }
      ],
      "source": [
        "base = input(\"Insert a base\")\n",
        "exponent = input(\"Insert an exponent\")\n",
        "\n",
        "print(\n",
        "    int(base) ** int(exponent)\n",
        ")"
      ]
    },
    {
      "cell_type": "code",
      "source": [
        ""
      ],
      "metadata": {
        "id": "9gnIgJ_g4VkA"
      },
      "execution_count": null,
      "outputs": []
    }
  ]
}