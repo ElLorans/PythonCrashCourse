{
  "nbformat": 4,
  "nbformat_minor": 0,
  "metadata": {
    "colab": {
      "name": "Slot 1.ipynb",
      "provenance": [],
      "collapsed_sections": [],
      "toc_visible": true
    },
    "kernelspec": {
      "name": "python3",
      "display_name": "Python 3"
    },
    "language_info": {
      "name": "python"
    }
  },
  "cells": [
    {
      "cell_type": "markdown",
      "source": [
        "# Strings"
      ],
      "metadata": {
        "id": "I1IHOWRziZDp"
      }
    },
    {
      "cell_type": "code",
      "execution_count": 5,
      "metadata": {
        "colab": {
          "base_uri": "https://localhost:8080/"
        },
        "id": "X-iBJ4tIaHVG",
        "outputId": "f7d5dbd2-97f7-4d81-c31d-78945b237911"
      },
      "outputs": [
        {
          "output_type": "stream",
          "name": "stdout",
          "text": [
            "Hi everyone\n",
            "Hi everyone\n"
          ]
        }
      ],
      "source": [
        "# print function displays an argument on the screen\n",
        "print(\"Hi everyone\")\n",
        "print('Hi everyone')"
      ]
    },
    {
      "cell_type": "code",
      "source": [
        "\"Hi everyone\"   # this is not going to be showed\n",
        "print(\"Hi everyone\")"
      ],
      "metadata": {
        "colab": {
          "base_uri": "https://localhost:8080/"
        },
        "id": "dho4haSdaYCM",
        "outputId": "22c278f9-a434-4dac-96cd-f95cb446427e"
      },
      "execution_count": 4,
      "outputs": [
        {
          "output_type": "stream",
          "name": "stdout",
          "text": [
            "Hi everyone\n"
          ]
        }
      ]
    },
    {
      "cell_type": "code",
      "source": [
        "print(\"Hi everyone\")\n",
        "\"Hi everyone\"     # Colab will try to show the last command on the screen"
      ],
      "metadata": {
        "colab": {
          "base_uri": "https://localhost:8080/",
          "height": 54
        },
        "id": "pTuOLnOcadUb",
        "outputId": "ce053880-8b6b-4783-c85b-d94f82ae9a80"
      },
      "execution_count": 8,
      "outputs": [
        {
          "output_type": "stream",
          "name": "stdout",
          "text": [
            "Hi everyone\n"
          ]
        },
        {
          "output_type": "execute_result",
          "data": {
            "application/vnd.google.colaboratory.intrinsic+json": {
              "type": "string"
            },
            "text/plain": [
              "'Hi everyone'"
            ]
          },
          "metadata": {},
          "execution_count": 8
        }
      ]
    },
    {
      "cell_type": "code",
      "source": [
        "# this will give an error\n",
        "input('What's your name?')"
      ],
      "metadata": {
        "colab": {
          "base_uri": "https://localhost:8080/",
          "height": 135
        },
        "id": "7aWNfnFcbVQi",
        "outputId": "fb2c8954-b060-4a17-9300-6b76131d8ed0"
      },
      "execution_count": 10,
      "outputs": [
        {
          "output_type": "error",
          "ename": "SyntaxError",
          "evalue": "ignored",
          "traceback": [
            "\u001b[0;36m  File \u001b[0;32m\"<ipython-input-10-86e219803e2f>\"\u001b[0;36m, line \u001b[0;32m2\u001b[0m\n\u001b[0;31m    input('What's your name?')\u001b[0m\n\u001b[0m                ^\u001b[0m\n\u001b[0;31mSyntaxError\u001b[0m\u001b[0;31m:\u001b[0m invalid syntax\n"
          ]
        }
      ]
    },
    {
      "cell_type": "code",
      "source": [
        "# this will NOT give an error\n",
        "input(\"What's your name?\")"
      ],
      "metadata": {
        "colab": {
          "base_uri": "https://localhost:8080/",
          "height": 54
        },
        "id": "3LQ5Zim-bjPX",
        "outputId": "7499b9d3-b84a-4e48-c3d2-2412fea639cf"
      },
      "execution_count": 11,
      "outputs": [
        {
          "name": "stdout",
          "output_type": "stream",
          "text": [
            "What's your name?Lorenzo\n"
          ]
        },
        {
          "output_type": "execute_result",
          "data": {
            "application/vnd.google.colaboratory.intrinsic+json": {
              "type": "string"
            },
            "text/plain": [
              "'Lorenzo'"
            ]
          },
          "metadata": {},
          "execution_count": 11
        }
      ]
    },
    {
      "cell_type": "code",
      "source": [
        "name = input(\"What's your name?\")"
      ],
      "metadata": {
        "colab": {
          "base_uri": "https://localhost:8080/"
        },
        "id": "9r8WeCPmbrPa",
        "outputId": "f3acc675-2706-4840-b178-bc15b08b4700"
      },
      "execution_count": 12,
      "outputs": [
        {
          "name": "stdout",
          "output_type": "stream",
          "text": [
            "What's your name?Lorenzo\n"
          ]
        }
      ]
    },
    {
      "cell_type": "code",
      "source": [
        "# print takes n arguments and shows them on the screen separated by space\n",
        "print(\"Hi\", name, \", how are you?\")"
      ],
      "metadata": {
        "colab": {
          "base_uri": "https://localhost:8080/"
        },
        "id": "a9_LPUUtb4Y4",
        "outputId": "fd0d2fc9-d1d7-4675-f077-81f7769a58d2"
      },
      "execution_count": 14,
      "outputs": [
        {
          "output_type": "stream",
          "name": "stdout",
          "text": [
            "Hi Lorenzo , how are you?\n"
          ]
        }
      ]
    },
    {
      "cell_type": "markdown",
      "source": [
        "## String concatenation"
      ],
      "metadata": {
        "id": "icHQiJasid2Y"
      }
    },
    {
      "cell_type": "code",
      "source": [
        "# remnove the space between the comma and the \"how are you\"\n",
        "\"Hi \"+name+\", how are you?\""
      ],
      "metadata": {
        "colab": {
          "base_uri": "https://localhost:8080/",
          "height": 36
        },
        "id": "1BUdbkYgcPhc",
        "outputId": "82bdd1bc-114b-42ab-f5dd-5bda5b47b4e2"
      },
      "execution_count": 15,
      "outputs": [
        {
          "output_type": "execute_result",
          "data": {
            "application/vnd.google.colaboratory.intrinsic+json": {
              "type": "string"
            },
            "text/plain": [
              "'Hi Lorenzo, how are you?'"
            ]
          },
          "metadata": {},
          "execution_count": 15
        }
      ]
    },
    {
      "cell_type": "code",
      "source": [
        "print(\"Hi \"+name+\", how are you?\")"
      ],
      "metadata": {
        "colab": {
          "base_uri": "https://localhost:8080/"
        },
        "id": "4FdxUkkzcZwa",
        "outputId": "a5a4f916-bdcd-44cb-c5d5-9b7722891ed7"
      },
      "execution_count": 16,
      "outputs": [
        {
          "output_type": "stream",
          "name": "stdout",
          "text": [
            "Hi Lorenzo, how are you?\n"
          ]
        }
      ]
    },
    {
      "cell_type": "code",
      "source": [
        "# Watch out\n",
        "print(\"2\"+\"2\")"
      ],
      "metadata": {
        "colab": {
          "base_uri": "https://localhost:8080/"
        },
        "id": "cngkGcO6clBg",
        "outputId": "d9ea2e95-141f-41c4-d81a-9e867f133fef"
      },
      "execution_count": 17,
      "outputs": [
        {
          "output_type": "stream",
          "name": "stdout",
          "text": [
            "22\n"
          ]
        }
      ]
    },
    {
      "cell_type": "markdown",
      "source": [
        "# Integers\n"
      ],
      "metadata": {
        "id": "tzk0HTLtiqTm"
      }
    },
    {
      "cell_type": "code",
      "source": [
        "print(2+2)"
      ],
      "metadata": {
        "colab": {
          "base_uri": "https://localhost:8080/"
        },
        "id": "r3DNbmyYc1G3",
        "outputId": "2d4b132b-5aff-4a1b-abec-9c13c15f826d"
      },
      "execution_count": 18,
      "outputs": [
        {
          "output_type": "stream",
          "name": "stdout",
          "text": [
            "4\n"
          ]
        }
      ]
    },
    {
      "cell_type": "code",
      "source": [
        "# convert strings to integers\n",
        "# int is a function that takes one argument and converts it to a int, that is a number without decimal point\n",
        "int(\"10\")"
      ],
      "metadata": {
        "colab": {
          "base_uri": "https://localhost:8080/"
        },
        "id": "DxKVtj5rdBey",
        "outputId": "e54d84ef-3440-402d-cdf4-7182294a29bd"
      },
      "execution_count": 19,
      "outputs": [
        {
          "output_type": "execute_result",
          "data": {
            "text/plain": [
              "10"
            ]
          },
          "metadata": {},
          "execution_count": 19
        }
      ]
    },
    {
      "cell_type": "code",
      "source": [
        "int(\"a\")"
      ],
      "metadata": {
        "colab": {
          "base_uri": "https://localhost:8080/",
          "height": 172
        },
        "id": "MLMvOfikdH8p",
        "outputId": "f19be844-935b-4267-e5cf-4c8dc8efbd3d"
      },
      "execution_count": 20,
      "outputs": [
        {
          "output_type": "error",
          "ename": "ValueError",
          "evalue": "ignored",
          "traceback": [
            "\u001b[0;31m---------------------------------------------------------------------------\u001b[0m",
            "\u001b[0;31mValueError\u001b[0m                                Traceback (most recent call last)",
            "\u001b[0;32m<ipython-input-20-d9136db7b558>\u001b[0m in \u001b[0;36m<module>\u001b[0;34m()\u001b[0m\n\u001b[0;32m----> 1\u001b[0;31m \u001b[0mint\u001b[0m\u001b[0;34m(\u001b[0m\u001b[0;34m\"a\"\u001b[0m\u001b[0;34m)\u001b[0m\u001b[0;34m\u001b[0m\u001b[0;34m\u001b[0m\u001b[0m\n\u001b[0m",
            "\u001b[0;31mValueError\u001b[0m: invalid literal for int() with base 10: 'a'"
          ]
        }
      ]
    },
    {
      "cell_type": "code",
      "source": [
        "int(\"2.3\")"
      ],
      "metadata": {
        "colab": {
          "base_uri": "https://localhost:8080/",
          "height": 172
        },
        "id": "LAzbX-4Vd05C",
        "outputId": "d32b4e50-5fe9-4ca0-a400-5ead70f6c1a4"
      },
      "execution_count": 26,
      "outputs": [
        {
          "output_type": "error",
          "ename": "ValueError",
          "evalue": "ignored",
          "traceback": [
            "\u001b[0;31m---------------------------------------------------------------------------\u001b[0m",
            "\u001b[0;31mValueError\u001b[0m                                Traceback (most recent call last)",
            "\u001b[0;32m<ipython-input-26-5ed61bf3052f>\u001b[0m in \u001b[0;36m<module>\u001b[0;34m()\u001b[0m\n\u001b[0;32m----> 1\u001b[0;31m \u001b[0mint\u001b[0m\u001b[0;34m(\u001b[0m\u001b[0;34m\"2.3\"\u001b[0m\u001b[0;34m)\u001b[0m\u001b[0;34m\u001b[0m\u001b[0;34m\u001b[0m\u001b[0m\n\u001b[0m",
            "\u001b[0;31mValueError\u001b[0m: invalid literal for int() with base 10: '2.3'"
          ]
        }
      ]
    },
    {
      "cell_type": "code",
      "source": [
        "2 * 4"
      ],
      "metadata": {
        "colab": {
          "base_uri": "https://localhost:8080/"
        },
        "id": "ic2qX30ldc3S",
        "outputId": "e4d3720e-a83e-4b18-f831-d7181327f9d2"
      },
      "execution_count": 21,
      "outputs": [
        {
          "output_type": "execute_result",
          "data": {
            "text/plain": [
              "8"
            ]
          },
          "metadata": {},
          "execution_count": 21
        }
      ]
    },
    {
      "cell_type": "code",
      "source": [
        "# WATCH OUT: division will return a float, not a in int\n",
        "4 / 2"
      ],
      "metadata": {
        "colab": {
          "base_uri": "https://localhost:8080/"
        },
        "id": "-LZyNwPRdnt8",
        "outputId": "44a5ff1f-8b0a-422f-fb2d-1c1dc202c220"
      },
      "execution_count": 23,
      "outputs": [
        {
          "output_type": "execute_result",
          "data": {
            "text/plain": [
              "2.0"
            ]
          },
          "metadata": {},
          "execution_count": 23
        }
      ]
    },
    {
      "cell_type": "code",
      "source": [
        "float(\"2\")"
      ],
      "metadata": {
        "colab": {
          "base_uri": "https://localhost:8080/"
        },
        "id": "s43HWElCdpYu",
        "outputId": "fe917ad7-d1c4-4fbf-c831-b6c3781c0d6b"
      },
      "execution_count": 24,
      "outputs": [
        {
          "output_type": "execute_result",
          "data": {
            "text/plain": [
              "2.0"
            ]
          },
          "metadata": {},
          "execution_count": 24
        }
      ]
    },
    {
      "cell_type": "code",
      "source": [
        "float(\"2.3\")"
      ],
      "metadata": {
        "colab": {
          "base_uri": "https://localhost:8080/"
        },
        "id": "TjtVKyw6dxU5",
        "outputId": "7b7883c9-6acc-4509-be40-5ba4c083620e"
      },
      "execution_count": 25,
      "outputs": [
        {
          "output_type": "execute_result",
          "data": {
            "text/plain": [
              "2.3"
            ]
          },
          "metadata": {},
          "execution_count": 25
        }
      ]
    },
    {
      "cell_type": "markdown",
      "source": [
        "# Conditionals"
      ],
      "metadata": {
        "id": "JLoX04boiuzv"
      }
    },
    {
      "cell_type": "markdown",
      "source": [
        "## if"
      ],
      "metadata": {
        "id": "96A-QvofjcF1"
      }
    },
    {
      "cell_type": "code",
      "source": [
        "solution = 10\n",
        "answer = 10\n",
        "\n",
        "# \"=\" is for defining variables\n",
        "# \"==\" is for checking that 2 values are the same\n",
        "if solution == answer:\n",
        "  # use 4 spaces (indentation) to explain that the code block depends on the unindented block above\n",
        "  print(\"These indented lines are going to be executed only if solution is equal to answer\")\n",
        "  print(\"You won\")\n",
        "\n",
        "print(\"This is going to be executed even if solution is different from answer\")"
      ],
      "metadata": {
        "colab": {
          "base_uri": "https://localhost:8080/"
        },
        "id": "Q6vlogameTWt",
        "outputId": "48afdc19-21e4-4cb9-dd86-aa7c3926cc93"
      },
      "execution_count": 28,
      "outputs": [
        {
          "output_type": "stream",
          "name": "stdout",
          "text": [
            "These indented lines are going to be executed only if solution is equal to answer\n",
            "You won\n",
            "This is going to be executed even if solution is different from answer\n"
          ]
        }
      ]
    },
    {
      "cell_type": "code",
      "source": [
        "solution = 10\n",
        "answer = 7\n",
        "\n",
        "# \"=\" is for defining variables\n",
        "# \"==\" is for checking that 2 values are the same\n",
        "if solution == answer:\n",
        "  # use 4 spaces (indentation) to explain that the code block depends on the unindented block above\n",
        "  print(\"These indented lines are going to be executed only if solution is equal to answer\")\n",
        "  print(\"You won\")\n",
        "\n",
        "print(\"This is going to be executed even if solution is different from answer\")"
      ],
      "metadata": {
        "colab": {
          "base_uri": "https://localhost:8080/"
        },
        "id": "JFggzMcBfS6z",
        "outputId": "50c1e0f4-bde0-488b-ad61-f68c8ef853d0"
      },
      "execution_count": 29,
      "outputs": [
        {
          "output_type": "stream",
          "name": "stdout",
          "text": [
            "This is going to be executed even if solution is different from answer\n"
          ]
        }
      ]
    },
    {
      "cell_type": "markdown",
      "source": [
        "## else"
      ],
      "metadata": {
        "id": "xfvF1I3cjX8u"
      }
    },
    {
      "cell_type": "code",
      "source": [
        "solution = 10\n",
        "answer = 7\n",
        "\n",
        "if answer > 11:\n",
        "  print(\"That number is too big\")\n",
        "else:\n",
        "  print(\"Good try!\")\n",
        "  \n",
        "if solution == answer:\n",
        "  print(\"You won\")\n",
        "\n",
        "# the code indented below the \"else\" is going to be xecuted only if the previous if is False\n",
        "else:\n",
        "  print(\"You lost\")"
      ],
      "metadata": {
        "colab": {
          "base_uri": "https://localhost:8080/"
        },
        "id": "QvOi3vHIiyid",
        "outputId": "398e2596-d58c-49e8-8b93-d20a4f5dbdf6"
      },
      "execution_count": 10,
      "outputs": [
        {
          "output_type": "stream",
          "name": "stdout",
          "text": [
            "Good try!\n",
            "You lost\n"
          ]
        }
      ]
    },
    {
      "cell_type": "markdown",
      "source": [
        "## elif"
      ],
      "metadata": {
        "id": "rSwrbrR1ji18"
      }
    },
    {
      "cell_type": "code",
      "source": [
        "solution = 10\n",
        "answer = 35\n",
        "\n",
        "if answer > 11:\n",
        "  if answer > 20:\n",
        "    print(\"You guessed too high!\")\n",
        "  elif answer > 30:\n",
        "      print(\"You guessed way too high\")"
      ],
      "metadata": {
        "colab": {
          "base_uri": "https://localhost:8080/"
        },
        "id": "vzGVQEQdjhIH",
        "outputId": "f31c0ca9-0a94-4191-d089-19638fa114ad"
      },
      "execution_count": 13,
      "outputs": [
        {
          "output_type": "stream",
          "name": "stdout",
          "text": [
            "You guessed too high!\n"
          ]
        }
      ]
    },
    {
      "cell_type": "markdown",
      "source": [
        "**Del keyword**\n",
        "<br>\n",
        "It is not very useful, because Python has a \"garbage collector\" that will delete unused variables"
      ],
      "metadata": {
        "id": "Ju5bQ_rZh1G9"
      }
    },
    {
      "cell_type": "code",
      "source": [
        "var = \"a\"\n",
        "del var  # delete a variable\n",
        "\n",
        "# var is not defined anymore, so Python will raise an error\n",
        "print(var)"
      ],
      "metadata": {
        "colab": {
          "base_uri": "https://localhost:8080/",
          "height": 209
        },
        "id": "diKG1V9bgzFQ",
        "outputId": "c606cfa0-6d47-4daf-d44f-f72966168469"
      },
      "execution_count": 6,
      "outputs": [
        {
          "output_type": "error",
          "ename": "NameError",
          "evalue": "ignored",
          "traceback": [
            "\u001b[0;31m---------------------------------------------------------------------------\u001b[0m",
            "\u001b[0;31mNameError\u001b[0m                                 Traceback (most recent call last)",
            "\u001b[0;32m<ipython-input-6-62548d4c6bb9>\u001b[0m in \u001b[0;36m<module>\u001b[0;34m()\u001b[0m\n\u001b[1;32m      4\u001b[0m \u001b[0;34m\u001b[0m\u001b[0m\n\u001b[1;32m      5\u001b[0m \u001b[0;31m# var is not defined anymore, so Python will raise an error\u001b[0m\u001b[0;34m\u001b[0m\u001b[0;34m\u001b[0m\u001b[0;34m\u001b[0m\u001b[0m\n\u001b[0;32m----> 6\u001b[0;31m \u001b[0mprint\u001b[0m\u001b[0;34m(\u001b[0m\u001b[0mvar\u001b[0m\u001b[0;34m)\u001b[0m\u001b[0;34m\u001b[0m\u001b[0;34m\u001b[0m\u001b[0m\n\u001b[0m",
            "\u001b[0;31mNameError\u001b[0m: name 'var' is not defined"
          ]
        }
      ]
    },
    {
      "cell_type": "markdown",
      "source": [
        "# Guessing game"
      ],
      "metadata": {
        "id": "RYabMfrKkHmL"
      }
    },
    {
      "cell_type": "code",
      "source": [
        "solution = 10\n",
        "\n",
        "# input returns a str\n",
        "answer = input(\"Guess a number from 1 to 10\")\n",
        "\n",
        "# I have to convert answer to an int if I want to compare it to an int\n",
        "int_answer = int(answer)\n",
        "\n",
        "# tell the user if he gueeseed right\n",
        "if solution == int_answer:\n",
        "  print(\"You won\")"
      ],
      "metadata": {
        "colab": {
          "base_uri": "https://localhost:8080/"
        },
        "id": "YMo1yPgQdyzi",
        "outputId": "23dae869-ce03-4c8f-9ff6-4cb4b4420321"
      },
      "execution_count": 32,
      "outputs": [
        {
          "output_type": "stream",
          "name": "stdout",
          "text": [
            "Guess a number from 1 to 1010\n",
            "You won\n"
          ]
        }
      ]
    },
    {
      "cell_type": "code",
      "source": [
        "print(input)"
      ],
      "metadata": {
        "colab": {
          "base_uri": "https://localhost:8080/"
        },
        "id": "WqJT82kzeNZe",
        "outputId": "6012fa3d-b4b1-426e-a130-9d460c3a57f8"
      },
      "execution_count": 33,
      "outputs": [
        {
          "output_type": "stream",
          "name": "stdout",
          "text": [
            "<bound method Kernel.raw_input of <google.colab._kernel.Kernel object at 0x7f6d9254cd90>>\n"
          ]
        }
      ]
    },
    {
      "cell_type": "code",
      "source": [
        "# never overwrite builtins\n",
        "# or you will not be able to use them anymore in your code!\n",
        "\n",
        "# Don't do this!\n",
        "# input = \"Guess a number\"\n",
        "print(input)"
      ],
      "metadata": {
        "id": "0kS9ceN3gtT0"
      },
      "execution_count": 2,
      "outputs": []
    },
    {
      "cell_type": "code",
      "source": [
        ""
      ],
      "metadata": {
        "id": "KxSlzvyOhQho"
      },
      "execution_count": null,
      "outputs": []
    }
  ]
}