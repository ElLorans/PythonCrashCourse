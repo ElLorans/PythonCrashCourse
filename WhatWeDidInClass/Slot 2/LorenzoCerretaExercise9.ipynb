{
  "nbformat": 4,
  "nbformat_minor": 0,
  "metadata": {
    "colab": {
      "name": "LorenzoCerretaExercise9.ipynb",
      "provenance": []
    },
    "kernelspec": {
      "name": "python3",
      "display_name": "Python 3"
    },
    "language_info": {
      "name": "python"
    }
  },
  "cells": [
    {
      "cell_type": "code",
      "execution_count": null,
      "metadata": {
        "id": "uCZgJyd5oL1O"
      },
      "outputs": [],
      "source": [
        "# sum all the negative numbers in lista\n",
        "lista = [-1, 0, 5, 'a', -7, -2]"
      ]
    },
    {
      "cell_type": "code",
      "source": [
        "total_negative = 0\n",
        "\n",
        "lista = input(\"Insert a list with elements separated by comma followed by space\")\n",
        "\n",
        "for el in lista.split(\", \"):\n",
        "  try:\n",
        "    el = int(el)\n",
        "    if el < 0:\n",
        "      total_negative = total_negative + el\n",
        "  except ValueError:\n",
        "    pass\n",
        "\n",
        "print(\"The total of negative numbers in your list is\", total_negative)"
      ],
      "metadata": {
        "colab": {
          "base_uri": "https://localhost:8080/"
        },
        "id": "f7wnenQToQpP",
        "outputId": "3f229e85-63b8-433b-cd70-c78f8e9c1ac2"
      },
      "execution_count": 1,
      "outputs": [
        {
          "output_type": "stream",
          "name": "stdout",
          "text": [
            "Insert a list with elements separated by comma followed by space1, 2, 3, abba, -10\n",
            "The total of negative numbers in your list is -10\n"
          ]
        }
      ]
    },
    {
      "cell_type": "code",
      "source": [
        ""
      ],
      "metadata": {
        "id": "o_z-uCg2pVKZ"
      },
      "execution_count": null,
      "outputs": []
    }
  ]
}