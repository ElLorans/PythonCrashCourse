{
  "nbformat": 4,
  "nbformat_minor": 0,
  "metadata": {
    "colab": {
      "name": "LorenzoCerretaExercise5.ipynb",
      "provenance": [],
      "collapsed_sections": []
    },
    "kernelspec": {
      "name": "python3",
      "display_name": "Python 3"
    },
    "language_info": {
      "name": "python"
    }
  },
  "cells": [
    {
      "cell_type": "markdown",
      "source": [
        "constantly ask the user \"what's your favourite TV show\"\n",
        "<br>\n",
        "every time he answers, show him every previous answer in a different row\n",
        "<br>\n",
        "if he gives the same answer more than once, print \"Don't repeat answers\"\n",
        "<br>\n",
        "if he gives the same answer but changing case, warn him with \"DON'T TRY TO TRICK ME!\"\n",
        "\n"
      ],
      "metadata": {
        "id": "wqBexbAOOico"
      }
    },
    {
      "cell_type": "code",
      "source": [
        "tv_shows = []\n",
        "\n",
        "while True:\n",
        "  tv_show = input(\"Tell me your favourie TV show or insert Interrupt\")\n",
        "\n",
        "  # provide the user with a way to interrupt the infinite loop\n",
        "  if tv_show == \"Interrupt\":\n",
        "    break\n",
        "  #\n",
        "\n",
        "  # True if I can append the new tv_show, False otherwise\n",
        "  is_new_tv_show = True\n",
        "  for show in tv_shows:\n",
        "    if show == tv_show:\n",
        "      print(\"Don't repeat answers\")\n",
        "      is_new_tv_show = False\n",
        "      break\n",
        "    elif show.lower() == tv_show.lower():\n",
        "      print(\"DON'T TRY TO TRICK ME!\")\n",
        "      is_new_tv_show = False\n",
        "      break\n",
        "  if is_new_tv_show:\n",
        "    tv_shows.append(tv_show)"
      ],
      "metadata": {
        "colab": {
          "base_uri": "https://localhost:8080/"
        },
        "id": "JWOuPhG3TCPM",
        "outputId": "dcb2ad40-391c-4916-e93a-2ecdb46240a2"
      },
      "execution_count": 9,
      "outputs": [
        {
          "name": "stdout",
          "output_type": "stream",
          "text": [
            "Tell me your favourie TV show or insert InterruptInterrupt\n"
          ]
        }
      ]
    },
    {
      "cell_type": "code",
      "source": [
        ""
      ],
      "metadata": {
        "id": "qXCQHYJrSYsH"
      },
      "execution_count": null,
      "outputs": []
    }
  ]
}