{
  "nbformat": 4,
  "nbformat_minor": 0,
  "metadata": {
    "colab": {
      "name": "Slot 2.ipynb",
      "provenance": [],
      "collapsed_sections": [],
      "toc_visible": true
    },
    "kernelspec": {
      "name": "python3",
      "display_name": "Python 3"
    },
    "language_info": {
      "name": "python"
    }
  },
  "cells": [
    {
      "cell_type": "markdown",
      "source": [
        "# while loop"
      ],
      "metadata": {
        "id": "godDc6PJ1fg9"
      }
    },
    {
      "cell_type": "markdown",
      "source": [
        "The code indented below a while loop will be executed again and again until\n",
        "the condition after the wile is verified"
      ],
      "metadata": {
        "id": "PnA-Y1WN1QWr"
      }
    },
    {
      "cell_type": "code",
      "execution_count": null,
      "metadata": {
        "colab": {
          "base_uri": "https://localhost:8080/"
        },
        "id": "ty1zjmNWzMyc",
        "outputId": "da91ecb4-864d-4a20-d1c0-bfeb190822e8"
      },
      "outputs": [
        {
          "output_type": "stream",
          "name": "stdout",
          "text": [
            "Insert a number from 1 to 107\n",
            "Try higher\n",
            "I am thinking of a number different from 7\n",
            "Insert a number from 1 to 1010\n",
            "You won after 2 attemps\n"
          ]
        }
      ],
      "source": [
        "solution = 10\n",
        "answer = input(\"Insert a number from 1 to 10\")\n",
        "int_answer = int(answer)\n",
        "count = 1\n",
        "\n",
        "while int_answer != solution:\n",
        "  if int_answer > solution:\n",
        "    print(\"Try lower\")\n",
        "  else:     # we could also use: \"if int_answer < solution:\"\n",
        "            # but \"else:\" is going to be faster\n",
        "    print(\"Try higher\")\n",
        "\n",
        "  print(\"I am thinking of a number different from\", int_answer)\n",
        "  count = count + 1\n",
        "  answer = input(\"Insert a number from 1 to 10\")\n",
        "  int_answer = int(answer)\n",
        "\n",
        "print(\"You won after\", count, \"attemps\")"
      ]
    },
    {
      "cell_type": "code",
      "source": [
        "# watch out!\n",
        "\n",
        "# a while loop can get you stuck for ever\n",
        "while 10 == 10:\n",
        "  print(10, \"is always going to be equal to\", 10)\n",
        "  break  # exit the while loop"
      ],
      "metadata": {
        "colab": {
          "base_uri": "https://localhost:8080/"
        },
        "id": "0kLvYUbQ0yy_",
        "outputId": "f916d5d2-51b3-4c57-a194-2efad290986c"
      },
      "execution_count": null,
      "outputs": [
        {
          "output_type": "stream",
          "name": "stdout",
          "text": [
            "10 is always going to be equal to 10\n"
          ]
        }
      ]
    },
    {
      "cell_type": "code",
      "source": [
        "while True:\n",
        "  print(\"This will run indefinitely\")\n",
        "  break    # the \"break\" will prevent me from getting stuck in a while loop"
      ],
      "metadata": {
        "colab": {
          "base_uri": "https://localhost:8080/"
        },
        "id": "GW4hNk-_65wh",
        "outputId": "45505ba3-d0f3-43b3-ea16-b601de4bf35b"
      },
      "execution_count": null,
      "outputs": [
        {
          "output_type": "stream",
          "name": "stdout",
          "text": [
            "This will run indefinitely\n"
          ]
        }
      ]
    },
    {
      "cell_type": "markdown",
      "source": [
        "# Use the tab key in order to indent a block\n",
        "\n",
        "The tab key is more or less like this:\n",
        "# <-\n",
        "# ->"
      ],
      "metadata": {
        "id": "Yefg83l30sHp"
      }
    },
    {
      "cell_type": "markdown",
      "source": [
        "# booleans\n",
        "<br> True or False"
      ],
      "metadata": {
        "id": "UyCvnJdo6eKY"
      }
    },
    {
      "cell_type": "code",
      "source": [
        "answer = 10\n",
        "solution = 10\n",
        "\n",
        "print(answer == solution)"
      ],
      "metadata": {
        "colab": {
          "base_uri": "https://localhost:8080/"
        },
        "id": "oC3EPaiOzpcs",
        "outputId": "81d89710-cec9-458c-8538-3575f76a1255"
      },
      "execution_count": null,
      "outputs": [
        {
          "output_type": "stream",
          "name": "stdout",
          "text": [
            "True\n"
          ]
        }
      ]
    },
    {
      "cell_type": "code",
      "source": [
        "answer = 7\n",
        "solution = 10\n",
        "\n",
        "print(answer == solution)"
      ],
      "metadata": {
        "colab": {
          "base_uri": "https://localhost:8080/"
        },
        "id": "f8nnOQWk6mh_",
        "outputId": "1eff3652-643b-4ec6-d087-ab87e7768df9"
      },
      "execution_count": null,
      "outputs": [
        {
          "output_type": "stream",
          "name": "stdout",
          "text": [
            "False\n"
          ]
        }
      ]
    },
    {
      "cell_type": "markdown",
      "source": [
        "# str.isdigit()\n",
        "<br>\n",
        "return True if str is made only of digits, False otherwise"
      ],
      "metadata": {
        "id": "XnUt9utc8VtK"
      }
    },
    {
      "cell_type": "code",
      "source": [
        "\"10\".isdigit()"
      ],
      "metadata": {
        "colab": {
          "base_uri": "https://localhost:8080/"
        },
        "id": "xWZJ-_tm6tmv",
        "outputId": "b517e5a9-cfc5-4a3a-f9e7-f06a61face11"
      },
      "execution_count": null,
      "outputs": [
        {
          "output_type": "execute_result",
          "data": {
            "text/plain": [
              "True"
            ]
          },
          "metadata": {},
          "execution_count": 2
        }
      ]
    },
    {
      "cell_type": "code",
      "source": [
        "\"er\".isdigit()"
      ],
      "metadata": {
        "colab": {
          "base_uri": "https://localhost:8080/"
        },
        "id": "Yf3QBUk8-UIk",
        "outputId": "1ecfc9ee-547e-4e05-b4bc-9b36370106cd"
      },
      "execution_count": null,
      "outputs": [
        {
          "output_type": "execute_result",
          "data": {
            "text/plain": [
              "False"
            ]
          },
          "metadata": {},
          "execution_count": 4
        }
      ]
    },
    {
      "cell_type": "markdown",
      "source": [
        "# import\n",
        "<br>\n",
        "We can add some other functions that are not automatically available because they are not always required"
      ],
      "metadata": {
        "id": "3qeEaRs8A8Bz"
      }
    },
    {
      "cell_type": "markdown",
      "source": [
        "random is a library containing many functions for generating random numbers"
      ],
      "metadata": {
        "id": "DLJZiJkRBSH0"
      }
    },
    {
      "cell_type": "markdown",
      "source": [
        "## First approach: import entire library, use library.function()"
      ],
      "metadata": {
        "id": "wJp1s_UwBbtf"
      }
    },
    {
      "cell_type": "code",
      "source": [
        "import random\n",
        "\n",
        "random.randint(1, 10)"
      ],
      "metadata": {
        "colab": {
          "base_uri": "https://localhost:8080/"
        },
        "id": "g1wPawA1-Y99",
        "outputId": "1a1f31f3-eb1d-4bfb-e10d-4c72ba3471b8"
      },
      "execution_count": 86,
      "outputs": [
        {
          "output_type": "execute_result",
          "data": {
            "text/plain": [
              "4"
            ]
          },
          "metadata": {},
          "execution_count": 86
        }
      ]
    },
    {
      "cell_type": "markdown",
      "source": [
        "## Second approach: import single functions from library\n",
        "<br>\n",
        "Useful if you need to import only a couple of functions"
      ],
      "metadata": {
        "id": "i6qxoI_mBiSe"
      }
    },
    {
      "cell_type": "code",
      "source": [
        "from random import randint\n",
        "randint(1, 10)"
      ],
      "metadata": {
        "colab": {
          "base_uri": "https://localhost:8080/"
        },
        "id": "sryXkPa9BJEs",
        "outputId": "d178de78-8558-49f9-a43b-436e6bb58ee3"
      },
      "execution_count": null,
      "outputs": [
        {
          "output_type": "execute_result",
          "data": {
            "text/plain": [
              "9"
            ]
          },
          "metadata": {},
          "execution_count": 6
        }
      ]
    },
    {
      "cell_type": "markdown",
      "source": [
        "## Third approach: import everything\n",
        "<br>\n",
        "Don't do it"
      ],
      "metadata": {
        "id": "IMOfzhKxBxLJ"
      }
    },
    {
      "cell_type": "code",
      "source": [
        "from random import *\n",
        "\n",
        "randint(1, 10)"
      ],
      "metadata": {
        "colab": {
          "base_uri": "https://localhost:8080/"
        },
        "id": "1Qr6cE9dBMib",
        "outputId": "7cb33519-af6a-4e6a-b6a3-eba888d3e83d"
      },
      "execution_count": null,
      "outputs": [
        {
          "output_type": "execute_result",
          "data": {
            "text/plain": [
              "3"
            ]
          },
          "metadata": {},
          "execution_count": 7
        }
      ]
    },
    {
      "cell_type": "markdown",
      "source": [
        "# lists\n",
        "Collections of objects of different type"
      ],
      "metadata": {
        "id": "KQdQ5VC9Ltq_"
      }
    },
    {
      "cell_type": "code",
      "source": [
        "fruits = [\"banana\", \"apple\", \"kiwi\"]"
      ],
      "metadata": {
        "id": "VU3_GoHeBP5y"
      },
      "execution_count": null,
      "outputs": []
    },
    {
      "cell_type": "code",
      "source": [
        "print(fruits)"
      ],
      "metadata": {
        "colab": {
          "base_uri": "https://localhost:8080/"
        },
        "id": "-2vOf7n0NDxq",
        "outputId": "fa9e2a89-8355-4570-abc5-ec9e34d76a4e"
      },
      "execution_count": null,
      "outputs": [
        {
          "output_type": "stream",
          "name": "stdout",
          "text": [
            "['banana', 'apple', 'kiwi']\n"
          ]
        }
      ]
    },
    {
      "cell_type": "code",
      "source": [
        "fruits"
      ],
      "metadata": {
        "colab": {
          "base_uri": "https://localhost:8080/"
        },
        "id": "fo3EtxxDNFKv",
        "outputId": "ecbd0f12-5aca-4158-9e80-69ccdfb88a9d"
      },
      "execution_count": null,
      "outputs": [
        {
          "output_type": "execute_result",
          "data": {
            "text/plain": [
              "['banana', 'apple', 'kiwi']"
            ]
          },
          "metadata": {},
          "execution_count": 10
        }
      ]
    },
    {
      "cell_type": "code",
      "source": [
        "list_of_ints = [1, 2, 6, 7]\n",
        "list_of_misc = [0.2, 5, 'Python', 'is', 'still fun', '!']"
      ],
      "metadata": {
        "id": "v6lvYZkANGVE"
      },
      "execution_count": null,
      "outputs": []
    },
    {
      "cell_type": "code",
      "source": [
        "fruits[0]"
      ],
      "metadata": {
        "colab": {
          "base_uri": "https://localhost:8080/",
          "height": 36
        },
        "id": "JiELH8DSNLPa",
        "outputId": "cba4227e-7e34-4c5e-87cb-acd2b4c09e10"
      },
      "execution_count": null,
      "outputs": [
        {
          "output_type": "execute_result",
          "data": {
            "application/vnd.google.colaboratory.intrinsic+json": {
              "type": "string"
            },
            "text/plain": [
              "'banana'"
            ]
          },
          "metadata": {},
          "execution_count": 14
        }
      ]
    },
    {
      "cell_type": "code",
      "source": [
        "# .append() changes the list in-place\n",
        "fruits.append(\"pear\")\n",
        "print(fruits)"
      ],
      "metadata": {
        "colab": {
          "base_uri": "https://localhost:8080/"
        },
        "id": "16rYEG9xNzop",
        "outputId": "b3dfd79c-3d47-4480-9823-1bf8619c07c6"
      },
      "execution_count": null,
      "outputs": [
        {
          "output_type": "stream",
          "name": "stdout",
          "text": [
            "['banana', 'apple', 'kiwi', 'pear']\n"
          ]
        }
      ]
    },
    {
      "cell_type": "code",
      "source": [
        "fruits + [\"dragon fruit\"]"
      ],
      "metadata": {
        "colab": {
          "base_uri": "https://localhost:8080/"
        },
        "id": "ogvItOcJN5fX",
        "outputId": "b5fa4da6-1527-4b75-afaa-404696da7279"
      },
      "execution_count": null,
      "outputs": [
        {
          "output_type": "execute_result",
          "data": {
            "text/plain": [
              "['banana', 'apple', 'kiwi', 'pear', 'dragon fruit']"
            ]
          },
          "metadata": {},
          "execution_count": 17
        }
      ]
    },
    {
      "cell_type": "code",
      "source": [
        "fruits * 2"
      ],
      "metadata": {
        "colab": {
          "base_uri": "https://localhost:8080/"
        },
        "id": "qCYVSzRrOBUo",
        "outputId": "afd1e767-d5db-47b3-8f6c-8c37af385c76"
      },
      "execution_count": null,
      "outputs": [
        {
          "output_type": "execute_result",
          "data": {
            "text/plain": [
              "['banana', 'apple', 'kiwi', 'pear', 'banana', 'apple', 'kiwi', 'pear']"
            ]
          },
          "metadata": {},
          "execution_count": 18
        }
      ]
    },
    {
      "cell_type": "markdown",
      "source": [
        "# for loop\n",
        "allow us to repeat operations for each element in an iterable (something we can use a for loop over)"
      ],
      "metadata": {
        "id": "3esfHO45NVhE"
      }
    },
    {
      "cell_type": "code",
      "source": [
        "for fruit in fruits:\n",
        "  print(fruit)"
      ],
      "metadata": {
        "colab": {
          "base_uri": "https://localhost:8080/"
        },
        "id": "pC-rcAJkNPv3",
        "outputId": "6f34a3ae-5646-4fa1-d21f-0ec374f21319"
      },
      "execution_count": null,
      "outputs": [
        {
          "output_type": "stream",
          "name": "stdout",
          "text": [
            "banana\n",
            "apple\n",
            "kiwi\n"
          ]
        }
      ]
    },
    {
      "cell_type": "code",
      "source": [
        "for a in fruits:\n",
        "  print(a)"
      ],
      "metadata": {
        "colab": {
          "base_uri": "https://localhost:8080/"
        },
        "id": "dsRrfRBVNXIk",
        "outputId": "a8badecd-b529-4550-a42a-c4deb4aa1126"
      },
      "execution_count": null,
      "outputs": [
        {
          "output_type": "stream",
          "name": "stdout",
          "text": [
            "banana\n",
            "apple\n",
            "kiwi\n",
            "pear\n"
          ]
        }
      ]
    },
    {
      "cell_type": "markdown",
      "source": [
        "# dict\n",
        "unordered mapping of key-value pairs.\n",
        "<br>\n",
        "Keys can appear only once"
      ],
      "metadata": {
        "id": "Tk3OkFrSV1U3"
      }
    },
    {
      "cell_type": "code",
      "source": [
        "stock_prices = {\n",
        "    \"AMZN\": 100,\n",
        "    \"TSLA\": 80,\n",
        "    \"GOOGL\": 97,\n",
        "    \"MSFT\": 98,\n",
        "    \"AMZN\": 1000,   # this is going to overwrite the first \"AMZN\"\n",
        "                }"
      ],
      "metadata": {
        "id": "KA2zS1rOUcFM"
      },
      "execution_count": null,
      "outputs": []
    },
    {
      "cell_type": "code",
      "source": [
        "for key in stock_prices:\n",
        "  print(key)"
      ],
      "metadata": {
        "colab": {
          "base_uri": "https://localhost:8080/"
        },
        "id": "-IP5WZinXMCv",
        "outputId": "d0c9c468-1eff-4703-dcd1-3e94d19a0014"
      },
      "execution_count": null,
      "outputs": [
        {
          "output_type": "stream",
          "name": "stdout",
          "text": [
            "AMZN\n",
            "TSLA\n",
            "GOOGL\n",
            "MSFT\n"
          ]
        }
      ]
    },
    {
      "cell_type": "code",
      "source": [
        "stock_prices[\"GOOGL\"]"
      ],
      "metadata": {
        "colab": {
          "base_uri": "https://localhost:8080/"
        },
        "id": "nI8odIBHXQWc",
        "outputId": "226f48d2-d03d-468d-d576-b0631e63e645"
      },
      "execution_count": null,
      "outputs": [
        {
          "output_type": "execute_result",
          "data": {
            "text/plain": [
              "97"
            ]
          },
          "metadata": {},
          "execution_count": 40
        }
      ]
    },
    {
      "cell_type": "code",
      "source": [
        "stock_prices[\"PLTR\"] = 32\n",
        "stock_prices"
      ],
      "metadata": {
        "colab": {
          "base_uri": "https://localhost:8080/"
        },
        "id": "7SMPTUmdXXh6",
        "outputId": "dd2cd704-b2ef-424a-ef1d-2a005876ef3c"
      },
      "execution_count": null,
      "outputs": [
        {
          "output_type": "execute_result",
          "data": {
            "text/plain": [
              "{'AMZN': 1000, 'GOOGL': 97, 'MSFT': 98, 'PLTR': 32, 'TSLA': 80}"
            ]
          },
          "metadata": {},
          "execution_count": 41
        }
      ]
    },
    {
      "cell_type": "code",
      "source": [
        "print(stock_prices)"
      ],
      "metadata": {
        "colab": {
          "base_uri": "https://localhost:8080/"
        },
        "id": "d22X5VK6WEnM",
        "outputId": "5ad116d8-6d21-4fa3-ad7d-8554dbd0a604"
      },
      "execution_count": null,
      "outputs": [
        {
          "output_type": "stream",
          "name": "stdout",
          "text": [
            "{'AMZN': 1000, 'TSLA': 80, 'GOOGL': 97, 'MSFT': 98, 'PLTR': 32}\n"
          ]
        }
      ]
    },
    {
      "cell_type": "code",
      "source": [
        "companies = {\n",
        "    \"AMZN\": [100, \"Bezos\"],\n",
        "    \"TSLA\": [80, \"Musk\"],\n",
        "    \"GOOGL\": [97, \"Page\"],\n",
        "    \"MSFT\": [98, \"Gates\"],\n",
        "    \"AMZN\": [1000, \"Bezos\"],   # this is going to overwrite the first \"AMZN\"\n",
        "                }"
      ],
      "metadata": {
        "id": "OHlgr01SWMQE"
      },
      "execution_count": null,
      "outputs": []
    },
    {
      "cell_type": "code",
      "source": [
        "companies"
      ],
      "metadata": {
        "colab": {
          "base_uri": "https://localhost:8080/"
        },
        "id": "sj27GlOiWeIP",
        "outputId": "7fde16f6-fb82-42d0-cf50-6cced04d5080"
      },
      "execution_count": null,
      "outputs": [
        {
          "output_type": "execute_result",
          "data": {
            "text/plain": [
              "{'AMZN': [1000, 'Bezos'],\n",
              " 'GOOGL': [97, 'Page'],\n",
              " 'MSFT': [98, 'Gates'],\n",
              " 'TSLA': [80, 'Musk']}"
            ]
          },
          "metadata": {},
          "execution_count": 31
        }
      ]
    },
    {
      "cell_type": "code",
      "source": [
        "companies_info = {\n",
        "    \"AMZN\": {\"Price\": 100, \"Founder\": \"Bezos\"},\n",
        "    \"TSLA\": {\"Price\": 80, \"Founder\": \"Musk\"},\n",
        "    \"GOOGL\": {\"Price\": 97, \"Founder\": \"Page\"},\n",
        "    \"MSFT\": {\"Price\": 98, \"Founder\": \"Gates\"},\n",
        "    \"AMZN\": {\"Price\": 1000, \"Founder\": \"Bezos\"},   # this is going to overwrite the first \"AMZN\"\n",
        "                }"
      ],
      "metadata": {
        "id": "WnamQk8TWvVO"
      },
      "execution_count": null,
      "outputs": []
    },
    {
      "cell_type": "code",
      "source": [
        "companies_info"
      ],
      "metadata": {
        "colab": {
          "base_uri": "https://localhost:8080/"
        },
        "id": "KGcpfT5yXFi1",
        "outputId": "f164ca17-d20b-40f2-bf29-a1fb71d226ee"
      },
      "execution_count": null,
      "outputs": [
        {
          "output_type": "execute_result",
          "data": {
            "text/plain": [
              "{'AMZN': {'Founder': 'Bezos', 'Price': 1000},\n",
              " 'GOOGL': {'Founder': 'Page', 'Price': 97},\n",
              " 'MSFT': {'Founder': 'Gates', 'Price': 98},\n",
              " 'TSLA': {'Founder': 'Musk', 'Price': 80}}"
            ]
          },
          "metadata": {},
          "execution_count": 34
        }
      ]
    },
    {
      "cell_type": "markdown",
      "source": [
        "# functions"
      ],
      "metadata": {
        "id": "JAiN_o6tX8fe"
      }
    },
    {
      "cell_type": "code",
      "source": [
        "def greet():\n",
        "  print(\"Hi\")"
      ],
      "metadata": {
        "id": "pK8Ip-ijXISo"
      },
      "execution_count": null,
      "outputs": []
    },
    {
      "cell_type": "code",
      "source": [
        "greet()"
      ],
      "metadata": {
        "colab": {
          "base_uri": "https://localhost:8080/"
        },
        "id": "94gWai77YCHd",
        "outputId": "8aaea1d5-f2a6-4d9a-e5b3-abc81b1ea24f"
      },
      "execution_count": null,
      "outputs": [
        {
          "output_type": "stream",
          "name": "stdout",
          "text": [
            "Hi\n"
          ]
        }
      ]
    },
    {
      "cell_type": "code",
      "source": [
        "def greet_name(name):\n",
        "  print(\"Hi\", name)"
      ],
      "metadata": {
        "id": "5bUv0-8dYC77"
      },
      "execution_count": null,
      "outputs": []
    },
    {
      "cell_type": "code",
      "source": [
        "greet_name(\"Sebastien\")"
      ],
      "metadata": {
        "colab": {
          "base_uri": "https://localhost:8080/"
        },
        "id": "-eI4LPijYG8Z",
        "outputId": "fdf5911e-6fcf-4bee-a5f7-7fd1a32bb10e"
      },
      "execution_count": null,
      "outputs": [
        {
          "output_type": "stream",
          "name": "stdout",
          "text": [
            "Hi Sebastien\n"
          ]
        }
      ]
    },
    {
      "cell_type": "code",
      "source": [
        "def greet_us(name1, name2):\n",
        "    print('Hello', name1, 'and', name2)\n",
        "greet_us(\"Lorenzo\", \"Andrea\")"
      ],
      "metadata": {
        "colab": {
          "base_uri": "https://localhost:8080/"
        },
        "id": "-XnJ64S3YIqV",
        "outputId": "afd90d25-ff23-4aa5-ff2b-7dccf36e466f"
      },
      "execution_count": null,
      "outputs": [
        {
          "output_type": "stream",
          "name": "stdout",
          "text": [
            "Hello Lorenzo and Andrea\n"
          ]
        }
      ]
    },
    {
      "cell_type": "code",
      "source": [
        "# a function is void if it does not have a return statement or if it returns None\n",
        "def void_double(x):\n",
        "  print(x*2)\n",
        "\n",
        "# a function is non-void if it returns something\n",
        "def double(x):\n",
        "  return x*2"
      ],
      "metadata": {
        "id": "M-GGlRpXYdUM"
      },
      "execution_count": 67,
      "outputs": []
    },
    {
      "cell_type": "code",
      "source": [
        "double(10)+2"
      ],
      "metadata": {
        "colab": {
          "base_uri": "https://localhost:8080/"
        },
        "id": "rFYuRD6oYmtq",
        "outputId": "2f9a027c-2149-4ff7-9c07-d73b82bf1afc"
      },
      "execution_count": 68,
      "outputs": [
        {
          "output_type": "execute_result",
          "data": {
            "text/plain": [
              "22"
            ]
          },
          "metadata": {},
          "execution_count": 68
        }
      ]
    },
    {
      "cell_type": "code",
      "source": [
        "void_double(10)+2"
      ],
      "metadata": {
        "colab": {
          "base_uri": "https://localhost:8080/",
          "height": 191
        },
        "id": "pTSWUgccYvM0",
        "outputId": "7c6a7142-c172-4302-c4b7-73da5c0af5d9"
      },
      "execution_count": 69,
      "outputs": [
        {
          "output_type": "stream",
          "name": "stdout",
          "text": [
            "20\n"
          ]
        },
        {
          "output_type": "error",
          "ename": "TypeError",
          "evalue": "ignored",
          "traceback": [
            "\u001b[0;31m---------------------------------------------------------------------------\u001b[0m",
            "\u001b[0;31mTypeError\u001b[0m                                 Traceback (most recent call last)",
            "\u001b[0;32m<ipython-input-69-0775c3bd7e04>\u001b[0m in \u001b[0;36m<module>\u001b[0;34m()\u001b[0m\n\u001b[0;32m----> 1\u001b[0;31m \u001b[0mvoid_double\u001b[0m\u001b[0;34m(\u001b[0m\u001b[0;36m10\u001b[0m\u001b[0;34m)\u001b[0m\u001b[0;34m+\u001b[0m\u001b[0;36m2\u001b[0m\u001b[0;34m\u001b[0m\u001b[0;34m\u001b[0m\u001b[0m\n\u001b[0m",
            "\u001b[0;31mTypeError\u001b[0m: unsupported operand type(s) for +: 'NoneType' and 'int'"
          ]
        }
      ]
    },
    {
      "cell_type": "code",
      "source": [
        "# impure functions are function that implicitly modify objects\n",
        "my_list = list()\n",
        "\n",
        "def an_impure_function(a):\n",
        "    my_list.append(a)\n",
        "    return a"
      ],
      "metadata": {
        "id": "9YddAQATY6En"
      },
      "execution_count": 70,
      "outputs": []
    },
    {
      "cell_type": "code",
      "source": [
        "my_list"
      ],
      "metadata": {
        "colab": {
          "base_uri": "https://localhost:8080/"
        },
        "id": "WJopHtR9ZMlq",
        "outputId": "a5d4af7c-6e4d-4ab2-e8e8-7c5348fc1a73"
      },
      "execution_count": null,
      "outputs": [
        {
          "output_type": "execute_result",
          "data": {
            "text/plain": [
              "[]"
            ]
          },
          "metadata": {},
          "execution_count": 59
        }
      ]
    },
    {
      "cell_type": "code",
      "source": [
        "an_impure_function(10)"
      ],
      "metadata": {
        "colab": {
          "base_uri": "https://localhost:8080/"
        },
        "id": "BjuZdMUMZOX0",
        "outputId": "9b5d59d0-5fc7-4085-ff9f-2d474321f32b"
      },
      "execution_count": 73,
      "outputs": [
        {
          "output_type": "execute_result",
          "data": {
            "text/plain": [
              "10"
            ]
          },
          "metadata": {},
          "execution_count": 73
        }
      ]
    },
    {
      "cell_type": "code",
      "source": [
        "my_list"
      ],
      "metadata": {
        "colab": {
          "base_uri": "https://localhost:8080/"
        },
        "id": "ME8dY6vPZQsj",
        "outputId": "0a3562a7-63a2-4f67-b516-99b4b35ed1ad"
      },
      "execution_count": 74,
      "outputs": [
        {
          "output_type": "execute_result",
          "data": {
            "text/plain": [
              "[10, 10]"
            ]
          },
          "metadata": {},
          "execution_count": 74
        }
      ]
    },
    {
      "cell_type": "code",
      "source": [
        "def a_pure_function(a):\n",
        "  return my_list + [a]"
      ],
      "metadata": {
        "id": "cCRop1wOZRZ0"
      },
      "execution_count": null,
      "outputs": []
    },
    {
      "cell_type": "code",
      "source": [
        "my_list = a_pure_function(20)"
      ],
      "metadata": {
        "id": "7AKNvAq8Zi-b"
      },
      "execution_count": 75,
      "outputs": []
    },
    {
      "cell_type": "code",
      "source": [
        "my_list"
      ],
      "metadata": {
        "id": "FfMD1_mvZk_G",
        "outputId": "d9cbe2fd-dd92-4b59-b381-a32ded99b396",
        "colab": {
          "base_uri": "https://localhost:8080/"
        }
      },
      "execution_count": null,
      "outputs": [
        {
          "output_type": "execute_result",
          "data": {
            "text/plain": [
              "[10, 10]"
            ]
          },
          "metadata": {},
          "execution_count": 66
        }
      ]
    },
    {
      "cell_type": "code",
      "source": [
        "def ask_numbers(sentence=\"Insert a number\"):\n",
        "  \"\"\"\n",
        "  Ask user for 2 inputs and return a list with the 2 inputs.\n",
        "  \"\"\"\n",
        "  number_1 = int(input(sentence))\n",
        "  number_2 = int(input(sentence))\n",
        "  return [number_1, number_2]"
      ],
      "metadata": {
        "id": "bxxnoxcSZmQr"
      },
      "execution_count": 76,
      "outputs": []
    },
    {
      "cell_type": "code",
      "source": [
        "help(ask_numbers)"
      ],
      "metadata": {
        "colab": {
          "base_uri": "https://localhost:8080/"
        },
        "id": "YpfuYdvNhgWB",
        "outputId": "bdbde2fa-ad7d-4807-af1e-afe81b665161"
      },
      "execution_count": 77,
      "outputs": [
        {
          "output_type": "stream",
          "name": "stdout",
          "text": [
            "Help on function ask_numbers in module __main__:\n",
            "\n",
            "ask_numbers(sentence='Insert a number')\n",
            "    Ask user for 2 inputs and return a list with the 2 inputs.\n",
            "\n"
          ]
        }
      ]
    },
    {
      "cell_type": "markdown",
      "source": [
        "# Handling errors"
      ],
      "metadata": {
        "id": "wEABl9P9hzpp"
      }
    },
    {
      "cell_type": "code",
      "source": [
        "try:\n",
        "  num = int(\"a\")\n",
        "\n",
        "except ValueError:\n",
        "  print(\"That is not a number!\")"
      ],
      "metadata": {
        "colab": {
          "base_uri": "https://localhost:8080/"
        },
        "id": "sdmFHoD0hhai",
        "outputId": "3b34b418-9242-40f1-af98-b075728d44ec"
      },
      "execution_count": 82,
      "outputs": [
        {
          "output_type": "stream",
          "name": "stdout",
          "text": [
            "That is not a number!\n"
          ]
        }
      ]
    },
    {
      "cell_type": "markdown",
      "source": [
        "# in"
      ],
      "metadata": {
        "id": "kz-4xstwxXos"
      }
    },
    {
      "cell_type": "markdown",
      "source": [
        "Don't do this"
      ],
      "metadata": {
        "id": "DBokO5aNxu3G"
      }
    },
    {
      "cell_type": "code",
      "source": [
        "def verify_presence(el, lista):\n",
        "  for thing in lista:\n",
        "    if el == thing:\n",
        "      return True\n",
        "  return False\n",
        "\n",
        "verify_presence(\"banana\", [\"apple\", \"banana\", \"kiwi\"])"
      ],
      "metadata": {
        "colab": {
          "base_uri": "https://localhost:8080/"
        },
        "id": "rBeR6lTpxgpF",
        "outputId": "82d700d7-af6b-4473-bb28-5ebe8da07b60"
      },
      "execution_count": 85,
      "outputs": [
        {
          "output_type": "execute_result",
          "data": {
            "text/plain": [
              "True"
            ]
          },
          "metadata": {},
          "execution_count": 85
        }
      ]
    },
    {
      "cell_type": "markdown",
      "source": [
        "Do this instead"
      ],
      "metadata": {
        "id": "o1TdwbCUx0jH"
      }
    },
    {
      "cell_type": "code",
      "source": [
        "\"banana\" in [\"apple\", \"banana\", \"kiwi\"]"
      ],
      "metadata": {
        "colab": {
          "base_uri": "https://localhost:8080/"
        },
        "id": "-xqKQD-gh8M7",
        "outputId": "aa572fd4-68dc-4e8f-d2e4-be2db520fc3a"
      },
      "execution_count": 83,
      "outputs": [
        {
          "output_type": "execute_result",
          "data": {
            "text/plain": [
              "True"
            ]
          },
          "metadata": {},
          "execution_count": 83
        }
      ]
    },
    {
      "cell_type": "code",
      "source": [
        "\"dragon fruit\" in [\"apple\", \"banana\", \"kiwi\"]"
      ],
      "metadata": {
        "colab": {
          "base_uri": "https://localhost:8080/"
        },
        "id": "LooGIMdRxeFl",
        "outputId": "10da5ba0-3f09-45c0-8ca9-1e1cea24d6ea"
      },
      "execution_count": 84,
      "outputs": [
        {
          "output_type": "execute_result",
          "data": {
            "text/plain": [
              "False"
            ]
          },
          "metadata": {},
          "execution_count": 84
        }
      ]
    }
  ]
}