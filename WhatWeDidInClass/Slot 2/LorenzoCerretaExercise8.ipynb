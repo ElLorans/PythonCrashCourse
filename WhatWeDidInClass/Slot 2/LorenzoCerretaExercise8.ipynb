{
  "nbformat": 4,
  "nbformat_minor": 0,
  "metadata": {
    "colab": {
      "name": "LorenzoCerretaExercise8.ipynb",
      "provenance": [],
      "collapsed_sections": []
    },
    "kernelspec": {
      "name": "python3",
      "display_name": "Python 3"
    },
    "language_info": {
      "name": "python"
    }
  },
  "cells": [
    {
      "cell_type": "code",
      "execution_count": 5,
      "metadata": {
        "id": "HzbWDlockfM6"
      },
      "outputs": [],
      "source": [
        "# count how many even numbers in lista\n",
        "# bonus point: ask the user to insert the lista he wants\n",
        "lista = [1, 0, 5, 'a', 6]"
      ]
    },
    {
      "cell_type": "code",
      "source": [
        "count = 0\n",
        "\n",
        "lista = input(\"Insert your list\")\n",
        "lista = lista.split(\", \")\n",
        "\n",
        "for el in lista:\n",
        "  try:\n",
        "    int_el = int(el)\n",
        "    if int_el % 2 == 0:\n",
        "      count = count + 1\n",
        "  except ValueError:\n",
        "    pass   # do nothing\n",
        "    \n",
        "print(count, \"even numbers in lista\")"
      ],
      "metadata": {
        "colab": {
          "base_uri": "https://localhost:8080/"
        },
        "id": "XtyLArhLkfvn",
        "outputId": "0fef8513-5d9d-435b-b69a-afe760545bd1"
      },
      "execution_count": 12,
      "outputs": [
        {
          "output_type": "stream",
          "name": "stdout",
          "text": [
            "Insert your list1, 2, 3, 4, abba\n",
            "2 even numbers in lista\n"
          ]
        }
      ]
    },
    {
      "cell_type": "code",
      "source": [
        ""
      ],
      "metadata": {
        "id": "3umX9iHeknR_"
      },
      "execution_count": 11,
      "outputs": []
    }
  ]
}