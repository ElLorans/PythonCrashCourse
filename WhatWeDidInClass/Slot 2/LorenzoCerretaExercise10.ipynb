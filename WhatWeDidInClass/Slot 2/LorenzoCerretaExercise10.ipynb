{
  "nbformat": 4,
  "nbformat_minor": 0,
  "metadata": {
    "colab": {
      "name": "LorenzoCerretaExercise10.ipynb",
      "provenance": [],
      "collapsed_sections": []
    },
    "kernelspec": {
      "name": "python3",
      "display_name": "Python 3"
    },
    "language_info": {
      "name": "python"
    }
  },
  "cells": [
    {
      "cell_type": "code",
      "execution_count": 1,
      "metadata": {
        "id": "Pl9vKV6tps2o"
      },
      "outputs": [],
      "source": [
        "# count how many words of 5 letters in lista\n",
        "lista=['Hey','there','those','are','some','words']"
      ]
    },
    {
      "cell_type": "code",
      "source": [
        "count = 0\n",
        "for word in lista:\n",
        "  if len(word) == 5:\n",
        "    count += 1  # same as count = count + 1\n",
        "\n",
        "print(count)    "
      ],
      "metadata": {
        "colab": {
          "base_uri": "https://localhost:8080/"
        },
        "id": "PoHtmgdZpty_",
        "outputId": "efcb48f3-d23b-41d9-afff-393089a39fdd"
      },
      "execution_count": 2,
      "outputs": [
        {
          "output_type": "stream",
          "name": "stdout",
          "text": [
            "3\n"
          ]
        }
      ]
    },
    {
      "cell_type": "code",
      "source": [
        "def count_words_of_len(lista, num):\n",
        "  \"\"\"\n",
        "  Return the number of str with len == num in lista.\n",
        "  \"\"\"\n",
        "  count = 0\n",
        "  for word in lista:\n",
        "    if type(word) is str:\n",
        "      if len(word) == num:\n",
        "        count += 1\n",
        "  return count"
      ],
      "metadata": {
        "id": "9h033GYoqIfS"
      },
      "execution_count": 10,
      "outputs": []
    },
    {
      "cell_type": "code",
      "source": [
        "input_list = [\"Hi\", \"I\", \"am\", \"crazy\", 5, [\"a\", \"b\", \"c\", \"d\", \"e\"]]\n",
        "count_words_of_len(input_list, 5)"
      ],
      "metadata": {
        "colab": {
          "base_uri": "https://localhost:8080/"
        },
        "id": "EhQMP104qaD-",
        "outputId": "5585e0d8-b792-423a-c461-4628e6e98901"
      },
      "execution_count": 11,
      "outputs": [
        {
          "output_type": "execute_result",
          "data": {
            "text/plain": [
              "1"
            ]
          },
          "metadata": {},
          "execution_count": 11
        }
      ]
    },
    {
      "cell_type": "code",
      "source": [
        ""
      ],
      "metadata": {
        "id": "gUNNRf13qkYk"
      },
      "execution_count": null,
      "outputs": []
    }
  ]
}