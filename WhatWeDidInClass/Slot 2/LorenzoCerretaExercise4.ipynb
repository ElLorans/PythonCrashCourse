{
  "nbformat": 4,
  "nbformat_minor": 0,
  "metadata": {
    "colab": {
      "name": "LorenzoCerretaExercise4.ipynb",
      "provenance": [],
      "collapsed_sections": []
    },
    "kernelspec": {
      "name": "python3",
      "display_name": "Python 3"
    },
    "language_info": {
      "name": "python"
    }
  },
  "cells": [
    {
      "cell_type": "markdown",
      "source": [
        "# ask the user to insert a username and a password\n",
        "# show ACCESS GRANTED if:\n",
        "# the username is BOSS and the password is money\n",
        "# the username is pythondeveloper (not case sensitive) and the password is Slave\n",
        "# show ACCESS DENIED if one or both inputs are incorrect\n",
        "# bonus point: after 3 errors the program stops"
      ],
      "metadata": {
        "id": "7Ibhky4vEzUE"
      }
    },
    {
      "cell_type": "code",
      "execution_count": 12,
      "metadata": {
        "colab": {
          "base_uri": "https://localhost:8080/"
        },
        "id": "mJDTcHwREwni",
        "outputId": "92e62f63-76c4-4424-86cd-45778e7f26d7"
      },
      "outputs": [
        {
          "output_type": "stream",
          "name": "stdout",
          "text": [
            "Username:BOSS\n",
            "Password:money\n",
            "Access granted after 1 attempts\n"
          ]
        }
      ],
      "source": [
        "username = input(\"Username:\")\n",
        "pw = input(\"Password:\")\n",
        "\n",
        "count = 1\n",
        "\n",
        "while count <= 3:\n",
        "  if username == \"BOSS\" and pw == \"money\":\n",
        "    print(\"Access granted after\", count, \"attempts\")\n",
        "    break\n",
        "  elif username.lower() == \"pythondeveloper\" and pw == \"Slave\":\n",
        "    print(\"Access granted after\", count, \"attempts\")\n",
        "    break\n",
        "  else:\n",
        "    print(\"Invalid pw/username\")\n",
        "  \n",
        "  username = input(\"Username:\")\n",
        "  pw = input(\"Password:\")\n",
        "  count = count + 1"
      ]
    },
    {
      "cell_type": "code",
      "source": [
        ""
      ],
      "metadata": {
        "id": "A4tuVl-AIJ10"
      },
      "execution_count": null,
      "outputs": []
    }
  ]
}