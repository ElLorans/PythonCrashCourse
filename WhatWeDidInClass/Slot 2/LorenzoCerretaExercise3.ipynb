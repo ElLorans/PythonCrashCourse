{
  "nbformat": 4,
  "nbformat_minor": 0,
  "metadata": {
    "colab": {
      "name": "LorenzoCerretaExercise3.ipynb",
      "provenance": []
    },
    "kernelspec": {
      "name": "python3",
      "display_name": "Python 3"
    },
    "language_info": {
      "name": "python"
    }
  },
  "cells": [
    {
      "cell_type": "markdown",
      "source": [
        "# generate a number from 1 to 10 (bonus point if the number is random)\n",
        "# ask the user to guess a number from 1 to 10\n",
        "# if the number is wrong, ask again\n",
        "# if the input is not a number, ask again for an input\n",
        "# if the input is correct, show \"YOU WIN AFTER x ATTEMPTS\", where x\n",
        "# is the number of guesses"
      ],
      "metadata": {
        "id": "5xO6X5e--kQI"
      }
    },
    {
      "cell_type": "code",
      "source": [
        "from random import randint"
      ],
      "metadata": {
        "id": "s7awYI3fAcM3"
      },
      "execution_count": 3,
      "outputs": []
    },
    {
      "cell_type": "code",
      "execution_count": 6,
      "metadata": {
        "colab": {
          "base_uri": "https://localhost:8080/"
        },
        "id": "yp-J5G4T-jiB",
        "outputId": "7f6fb9a8-3c33-4623-efa8-6acc7b455229"
      },
      "outputs": [
        {
          "output_type": "stream",
          "name": "stdout",
          "text": [
            "Input a number btw 1 to 105\n",
            "Try higher\n",
            "Input a number btw 1 to 107\n",
            "Good job, you won after 2 attempts\n"
          ]
        }
      ],
      "source": [
        "number = randint(1, 10)\n",
        "answer = input(\"Input a number btw 1 to 10\")\n",
        "answer = int(answer)\n",
        "count = 1\n",
        "\n",
        "while answer != number:\n",
        "  if answer < number:\n",
        "    print(\"Try higher\")\n",
        "  else:\n",
        "    print(\"Try lower\")\n",
        "  answer = input(\"Input a number btw 1 to 10\")\n",
        "  answer = int(answer)\n",
        "  count = count + 1\n",
        "\n",
        "print(\"Good job, you won after\", count, \"attempts\")"
      ]
    },
    {
      "cell_type": "code",
      "source": [
        "help(randint)"
      ],
      "metadata": {
        "colab": {
          "base_uri": "https://localhost:8080/"
        },
        "id": "FJtM0glW_u1K",
        "outputId": "94916379-792c-445b-8500-0e59d5d11524"
      },
      "execution_count": 7,
      "outputs": [
        {
          "output_type": "stream",
          "name": "stdout",
          "text": [
            "Help on method randint in module random:\n",
            "\n",
            "randint(a, b) method of random.Random instance\n",
            "    Return random integer in range [a, b], including both end points.\n",
            "\n"
          ]
        }
      ]
    },
    {
      "cell_type": "code",
      "source": [
        ""
      ],
      "metadata": {
        "id": "Yvmoc0mLA1h4"
      },
      "execution_count": null,
      "outputs": []
    }
  ]
}