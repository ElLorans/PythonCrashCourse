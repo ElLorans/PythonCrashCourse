{
  "nbformat": 4,
  "nbformat_minor": 0,
  "metadata": {
    "colab": {
      "name": "LorenzoCerretaExercise7.ipynb",
      "provenance": []
    },
    "kernelspec": {
      "name": "python3",
      "display_name": "Python 3"
    },
    "language_info": {
      "name": "python"
    }
  },
  "cells": [
    {
      "cell_type": "code",
      "execution_count": 1,
      "metadata": {
        "id": "91YClKT4c2Wp"
      },
      "outputs": [],
      "source": [
        "# ask the user to insert a word and two numbers x and y\n",
        "# print the sentence from its xth element to its yth one\n",
        "# bonus point: if the numbers are outside the word,\n",
        "# first show the result, then ask the user to input the numbers again \n",
        "\n",
        "# EXAMPLE: word = python, x = 2, y = 5\n",
        "# tho"
      ]
    },
    {
      "cell_type": "code",
      "source": [
        "def ask_numbers(sentence=\"Insert a number\"):\n",
        "  \"\"\"\n",
        "  Ask user for 2 inputs and return a list with the 2 inputs.\n",
        "  \"\"\"\n",
        "  number_1 = int(input(sentence))\n",
        "  number_2 = int(input(sentence))\n",
        "  return [number_1, number_2]"
      ],
      "metadata": {
        "id": "wo4slSbuf23A"
      },
      "execution_count": 11,
      "outputs": []
    },
    {
      "cell_type": "code",
      "source": [
        "help(ask_numbers)"
      ],
      "metadata": {
        "colab": {
          "base_uri": "https://localhost:8080/"
        },
        "id": "C_fHMBtLhVMm",
        "outputId": "1dec607d-3e1f-4e87-86c9-dae6d04b9c5a"
      },
      "execution_count": 12,
      "outputs": [
        {
          "output_type": "stream",
          "name": "stdout",
          "text": [
            "Help on function ask_numbers in module __main__:\n",
            "\n",
            "ask_numbers(sentence='Insert a number')\n",
            "    Ask user for 2 inputs and return a list with the 2 inputs.\n",
            "\n"
          ]
        }
      ]
    },
    {
      "cell_type": "code",
      "source": [
        "variable = input(\"Insert a word\")\n",
        "\n",
        "# numbers = ask_numbers()\n",
        "# number_1 = numbers[0]\n",
        "# number_2 = numbers[1]\n",
        "\n",
        "# it's the same as:\n",
        "number_1, number_2 = ask_numbers()\n",
        "\n",
        "len_var = len(variable)\n",
        "if number_1 > len_var or number_2 > len_var:\n",
        "  print(\"The word is shorter than that\")\n",
        "  number_1, number_2 = ask_numbers()\n",
        "\n",
        "print(variable[number_1: number_2])"
      ],
      "metadata": {
        "colab": {
          "base_uri": "https://localhost:8080/"
        },
        "id": "DBwnkU7qc7lj",
        "outputId": "15288e95-6558-40c7-95c8-180fc10c104c"
      },
      "execution_count": 9,
      "outputs": [
        {
          "output_type": "stream",
          "name": "stdout",
          "text": [
            "Insert a wordPython\n",
            "Insert a number3\n",
            "Insert a number5\n",
            "ho\n"
          ]
        }
      ]
    },
    {
      "cell_type": "code",
      "source": [
        ""
      ],
      "metadata": {
        "id": "cEfMT-2ihDyt"
      },
      "execution_count": null,
      "outputs": []
    }
  ]
}