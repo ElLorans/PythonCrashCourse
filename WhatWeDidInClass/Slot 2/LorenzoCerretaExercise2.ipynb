{
  "nbformat": 4,
  "nbformat_minor": 0,
  "metadata": {
    "colab": {
      "name": "LorenzoCerretaExercise2.ipynb",
      "provenance": []
    },
    "kernelspec": {
      "name": "python3",
      "display_name": "Python 3"
    },
    "language_info": {
      "name": "python"
    }
  },
  "cells": [
    {
      "cell_type": "markdown",
      "source": [
        "# ask the user for an input\n",
        "# if the input is a number, show on the screen if it is odd or even\n",
        "# if the input is not a number, ask again for an input until the input is a number"
      ],
      "metadata": {
        "id": "mvHal7-14qrt"
      }
    },
    {
      "cell_type": "code",
      "source": [
        "not False"
      ],
      "metadata": {
        "colab": {
          "base_uri": "https://localhost:8080/"
        },
        "id": "F77-aZAE7_RP",
        "outputId": "1fb1c45d-b23d-404f-de95-d0361f7030c6"
      },
      "execution_count": 12,
      "outputs": [
        {
          "output_type": "execute_result",
          "data": {
            "text/plain": [
              "True"
            ]
          },
          "metadata": {},
          "execution_count": 12
        }
      ]
    },
    {
      "cell_type": "code",
      "execution_count": 16,
      "metadata": {
        "colab": {
          "base_uri": "https://localhost:8080/"
        },
        "id": "Rir3ijc-4p26",
        "outputId": "1a72c177-64b0-45a2-c8b3-03a5483b4624"
      },
      "outputs": [
        {
          "output_type": "stream",
          "name": "stdout",
          "text": [
            "insert a numberer\n",
            "insert a number2\n",
            "This is a number\n",
            "It's an even number\n",
            "You inserted a number after 2 attempts\n"
          ]
        }
      ],
      "source": [
        "variable = input(\"insert a number\")\n",
        "count = 1\n",
        "# tell the user after how many attempts he inserted a number\n",
        "while not variable.isdigit():\n",
        "  variable = input(\"insert a number\")\n",
        "  count = count + 1\n",
        "\n",
        "print(\"This is a number\")\n",
        "if int(variable) % 2 == 0:\n",
        "  print(\"It's an even number\")\n",
        "else:\n",
        "  print(\"It's an odd number\")\n",
        "\n",
        "print(\"You inserted a number after\", count, \"attempts\")"
      ]
    },
    {
      "cell_type": "markdown",
      "source": [
        "# Modulo operator\n",
        "<br>\n",
        "it returns the remainder of the division"
      ],
      "metadata": {
        "id": "PL1N18BP5k3E"
      }
    },
    {
      "cell_type": "code",
      "source": [
        "6 % 2"
      ],
      "metadata": {
        "colab": {
          "base_uri": "https://localhost:8080/"
        },
        "id": "rG_02Rs-5Wt_",
        "outputId": "c4249033-0a9d-47d5-a937-af77aad84ede"
      },
      "execution_count": 3,
      "outputs": [
        {
          "output_type": "execute_result",
          "data": {
            "text/plain": [
              "0"
            ]
          },
          "metadata": {},
          "execution_count": 3
        }
      ]
    },
    {
      "cell_type": "code",
      "source": [
        "5 % 2"
      ],
      "metadata": {
        "colab": {
          "base_uri": "https://localhost:8080/"
        },
        "id": "BlV37Uhf5jau",
        "outputId": "e1d56a3e-cd5f-4c7e-843c-5075036f83a7"
      },
      "execution_count": 4,
      "outputs": [
        {
          "output_type": "execute_result",
          "data": {
            "text/plain": [
              "1"
            ]
          },
          "metadata": {},
          "execution_count": 4
        }
      ]
    },
    {
      "cell_type": "markdown",
      "source": [
        "# str.isdigit()\n",
        "return True if a str is made only by numbers"
      ],
      "metadata": {
        "id": "ILjL_BkX58fd"
      }
    },
    {
      "cell_type": "code",
      "source": [
        "\"Python\".isdigit()"
      ],
      "metadata": {
        "colab": {
          "base_uri": "https://localhost:8080/"
        },
        "id": "nz-HWY9d5_19",
        "outputId": "b1724038-6d5f-4d76-a0f4-cafed933921e"
      },
      "execution_count": 5,
      "outputs": [
        {
          "output_type": "execute_result",
          "data": {
            "text/plain": [
              "False"
            ]
          },
          "metadata": {},
          "execution_count": 5
        }
      ]
    },
    {
      "cell_type": "code",
      "source": [
        "\"10\".isdigit()"
      ],
      "metadata": {
        "colab": {
          "base_uri": "https://localhost:8080/"
        },
        "id": "-ZvHmV9h6Hmi",
        "outputId": "7a3a8d97-b1ec-4ea4-f7f2-da524d8c3181"
      },
      "execution_count": 6,
      "outputs": [
        {
          "output_type": "execute_result",
          "data": {
            "text/plain": [
              "True"
            ]
          },
          "metadata": {},
          "execution_count": 6
        }
      ]
    },
    {
      "cell_type": "code",
      "source": [
        "# if a str contains a \"-\" or a \".\", str.isdigit() will return False\n",
        "\"-10\".isdigit()"
      ],
      "metadata": {
        "colab": {
          "base_uri": "https://localhost:8080/"
        },
        "id": "by0Qibx46Jmh",
        "outputId": "83145a46-853e-43fd-f4c9-372c75596595"
      },
      "execution_count": 10,
      "outputs": [
        {
          "output_type": "execute_result",
          "data": {
            "text/plain": [
              "False"
            ]
          },
          "metadata": {},
          "execution_count": 10
        }
      ]
    },
    {
      "cell_type": "code",
      "source": [
        "\"10.2\".isdigit()"
      ],
      "metadata": {
        "colab": {
          "base_uri": "https://localhost:8080/"
        },
        "id": "TNgma82X6Ngp",
        "outputId": "e9d8df34-20cc-41a4-cd34-8e9dae4c7dda"
      },
      "execution_count": 9,
      "outputs": [
        {
          "output_type": "execute_result",
          "data": {
            "text/plain": [
              "False"
            ]
          },
          "metadata": {},
          "execution_count": 9
        }
      ]
    },
    {
      "cell_type": "code",
      "source": [
        ""
      ],
      "metadata": {
        "id": "LeZqX0Lq6Q2_"
      },
      "execution_count": null,
      "outputs": []
    }
  ]
}