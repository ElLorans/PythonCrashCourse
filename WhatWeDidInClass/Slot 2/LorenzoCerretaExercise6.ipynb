{
  "nbformat": 4,
  "nbformat_minor": 0,
  "metadata": {
    "colab": {
      "name": "LorenzoCerretaExercise6.ipynb",
      "provenance": []
    },
    "kernelspec": {
      "name": "python3",
      "display_name": "Python 3"
    },
    "language_info": {
      "name": "python"
    }
  },
  "cells": [
    {
      "cell_type": "code",
      "execution_count": 1,
      "metadata": {
        "id": "ZTyQtO3KbfQB"
      },
      "outputs": [],
      "source": [
        "# ask the user to insert a sentence\n",
        "# print each element of the sentence on a different row"
      ]
    },
    {
      "cell_type": "code",
      "source": [
        "sentence = input(\"Insert a sentence\")\n",
        "for word in sentence.split():\n",
        "  print(word)"
      ],
      "metadata": {
        "colab": {
          "base_uri": "https://localhost:8080/"
        },
        "id": "XKMk31lbbgLL",
        "outputId": "92e7c8bd-c28a-49f0-accd-c23c67899395"
      },
      "execution_count": 3,
      "outputs": [
        {
          "output_type": "stream",
          "name": "stdout",
          "text": [
            "Insert a sentenceHi I am a Pythonista\n",
            "Hi\n",
            "I\n",
            "am\n",
            "a\n",
            "Pythonista\n"
          ]
        }
      ]
    },
    {
      "cell_type": "code",
      "source": [
        ""
      ],
      "metadata": {
        "id": "l2UErQrlcFtb"
      },
      "execution_count": null,
      "outputs": []
    }
  ]
}