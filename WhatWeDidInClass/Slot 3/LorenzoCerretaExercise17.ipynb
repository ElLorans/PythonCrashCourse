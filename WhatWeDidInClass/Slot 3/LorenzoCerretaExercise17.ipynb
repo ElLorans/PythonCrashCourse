{
  "nbformat": 4,
  "nbformat_minor": 0,
  "metadata": {
    "colab": {
      "name": "LorenzoCerretaExercise17.ipynb",
      "provenance": []
    },
    "kernelspec": {
      "name": "python3",
      "display_name": "Python 3"
    },
    "language_info": {
      "name": "python"
    }
  },
  "cells": [
    {
      "cell_type": "code",
      "execution_count": 1,
      "metadata": {
        "id": "XiMBX_69Yb98"
      },
      "outputs": [],
      "source": [
        "##Write a program which accepts a sequence of comma-separated numbers from console and generate a list and a tuple which contains every number.\n",
        "##Suppose the following input is supplied to the program:\n",
        "##34,67,55,33,12,98\n",
        "##Then, the output should be:\n",
        "##['34', '67', '55', '33', '12', '98']\n",
        "##('34', '67', '55', '33', '12', '98')"
      ]
    },
    {
      "cell_type": "code",
      "source": [
        "nums = input(\"Insert a list of numbers separated by comma\")\n",
        "listb = nums.split(',')\n",
        "\n",
        "tupleb = tuple(listb)\n",
        "\n",
        "print(listb)\n",
        "print(tupleb)\n"
      ],
      "metadata": {
        "colab": {
          "base_uri": "https://localhost:8080/"
        },
        "id": "hGjrebWlYcn1",
        "outputId": "b1bb2945-c537-4910-f541-f498495f1d9a"
      },
      "execution_count": 3,
      "outputs": [
        {
          "output_type": "stream",
          "name": "stdout",
          "text": [
            "Insert a list of numbers separated by comma1,2,3,4,5\n",
            "['1', '2', '3', '4', '5']\n",
            "('1', '2', '3', '4', '5')\n"
          ]
        }
      ]
    },
    {
      "cell_type": "code",
      "source": [
        ""
      ],
      "metadata": {
        "id": "0_LNOKG5Y2H-"
      },
      "execution_count": null,
      "outputs": []
    }
  ]
}