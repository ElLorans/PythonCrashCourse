{
  "nbformat": 4,
  "nbformat_minor": 0,
  "metadata": {
    "colab": {
      "name": "LorenzoCerretaExercise13.ipynb",
      "provenance": []
    },
    "kernelspec": {
      "name": "python3",
      "display_name": "Python 3"
    },
    "language_info": {
      "name": "python"
    }
  },
  "cells": [
    {
      "cell_type": "code",
      "execution_count": 1,
      "metadata": {
        "id": "jo27YbDmL2Z1"
      },
      "outputs": [],
      "source": [
        "# constantly ask the user for new names and phone numbers\n",
        "# to add to the phone book, then save them\n",
        "\n",
        "phone_book = {}"
      ]
    },
    {
      "cell_type": "code",
      "source": [
        "while True:\n",
        "  name = input(\"Insert name or insert Interrupt to exit\\n->\")\n",
        "  if name.title() == \"Interrupt\":\n",
        "    break\n",
        "  phone_num = input(\"Insert number\\n->\")\n",
        "  phone_book[name] = phone_num\n",
        "\n",
        "  print(phone_book)"
      ],
      "metadata": {
        "colab": {
          "base_uri": "https://localhost:8080/"
        },
        "id": "ICKtBTY1L32U",
        "outputId": "fa95e860-990d-459e-ae30-22e775de694c"
      },
      "execution_count": 8,
      "outputs": [
        {
          "name": "stdout",
          "output_type": "stream",
          "text": [
            "Insert name or insert Interrupt to exit\n",
            "->Interrupt\n"
          ]
        }
      ]
    },
    {
      "cell_type": "code",
      "source": [
        ""
      ],
      "metadata": {
        "id": "TlFHXoi5MNsg"
      },
      "execution_count": null,
      "outputs": []
    }
  ]
}