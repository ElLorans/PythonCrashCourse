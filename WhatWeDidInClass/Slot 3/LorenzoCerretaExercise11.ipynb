{
  "nbformat": 4,
  "nbformat_minor": 0,
  "metadata": {
    "colab": {
      "name": "LorenzoCerretaExercise11.ipynb",
      "provenance": []
    },
    "kernelspec": {
      "name": "python3",
      "display_name": "Python 3"
    },
    "language_info": {
      "name": "python"
    }
  },
  "cells": [
    {
      "cell_type": "code",
      "execution_count": 1,
      "metadata": {
        "id": "XgJjOmiOGmYS"
      },
      "outputs": [],
      "source": [
        "# sum all numbers in lista until the first even (included)\n",
        "lista = [1.3, 5, 'Hey', -2, 'Hey', 4, 3, 7]"
      ]
    },
    {
      "cell_type": "code",
      "source": [
        "def sum_until_first_even(lista, included=True):\n",
        "  \"\"\"\n",
        "  Return sum of all numbers in lista until the first even number (included if\n",
        "  included is True, excluded otherwise).\n",
        "  \"\"\"\n",
        "  total = 0\n",
        "  for el in lista:\n",
        "    if type(el) is int or type(el) is float:\n",
        "      if el % 2 == 0:\n",
        "        if included is True:\n",
        "          total += el\n",
        "        break\n",
        "      total += el\n",
        "  return total"
      ],
      "metadata": {
        "colab": {
          "base_uri": "https://localhost:8080/"
        },
        "id": "x7thfEQpHk_k",
        "outputId": "6101cfa3-f0e0-4efa-944a-10eec91f4d53"
      },
      "execution_count": 3,
      "outputs": [
        {
          "output_type": "stream",
          "name": "stdout",
          "text": [
            "4.3\n"
          ]
        }
      ]
    },
    {
      "cell_type": "code",
      "source": [
        "tot = sum_until_first_even(lista)\n",
        "print(tot)\n",
        "\n",
        "tot = sum_until_first_even(lista, False)\n",
        "print(tot)"
      ],
      "metadata": {
        "colab": {
          "base_uri": "https://localhost:8080/"
        },
        "id": "oy9SRs2ELBNZ",
        "outputId": "8dcd4ff6-0236-4779-a483-87eabb823504"
      },
      "execution_count": 4,
      "outputs": [
        {
          "output_type": "stream",
          "name": "stdout",
          "text": [
            "4.3\n",
            "6.3\n"
          ]
        }
      ]
    },
    {
      "cell_type": "code",
      "source": [
        "help(sum_until_first_even)"
      ],
      "metadata": {
        "colab": {
          "base_uri": "https://localhost:8080/"
        },
        "id": "gmy6T1HcHTYv",
        "outputId": "ec5d63e2-898c-42ff-b137-9f9570596047"
      },
      "execution_count": 7,
      "outputs": [
        {
          "output_type": "stream",
          "name": "stdout",
          "text": [
            "Help on function sum_until_first_even in module __main__:\n",
            "\n",
            "sum_until_first_even(lista)\n",
            "    Return sum of all numbers in lista until the first even included.\n",
            "\n"
          ]
        }
      ]
    },
    {
      "cell_type": "code",
      "source": [
        ""
      ],
      "metadata": {
        "id": "b4Qgl34wJ865"
      },
      "execution_count": null,
      "outputs": []
    }
  ]
}