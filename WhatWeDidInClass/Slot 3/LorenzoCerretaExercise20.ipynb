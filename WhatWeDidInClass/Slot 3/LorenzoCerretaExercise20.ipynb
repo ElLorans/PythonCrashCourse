{
  "nbformat": 4,
  "nbformat_minor": 0,
  "metadata": {
    "colab": {
      "name": "LorenzoCerretaExercise20.ipynb",
      "provenance": []
    },
    "kernelspec": {
      "name": "python3",
      "display_name": "Python 3"
    },
    "language_info": {
      "name": "python"
    }
  },
  "cells": [
    {
      "cell_type": "code",
      "execution_count": 8,
      "metadata": {
        "id": "VuEURlxkd1Oy"
      },
      "outputs": [],
      "source": [
        "##The Fibonacci Sequence is computed based on the following formula:\n",
        "##f(n)=0 if n=0\n",
        "##f(n)=1 if n=1\n",
        "##f(n)=f(n-1)+f(n-2) if n>1\n",
        "##\n",
        "##Please write a function returning the Fibonacci\n",
        "##Sequence in comma separated form\n",
        "\n",
        "##Example:\n",
        "##fibonacci(7)\n",
        "##The output of the program should be:\n",
        "##0,1,1,2,3,5,8,13\n",
        "\n",
        "def fibonacci(num):\n",
        "  if num == 0:\n",
        "    return [0]\n",
        "  if num == 1:\n",
        "    return [0, 1]\n",
        "  result = [0, 1]\n",
        "  for n in range(2, num):\n",
        "    prev = result[n-1]\n",
        "    pprev = result[n-2]\n",
        "    result.append(prev+pprev)\n",
        "  return result"
      ]
    },
    {
      "cell_type": "code",
      "source": [
        "if fibonacci(8) == [0,1,1,2,3,5,8,13]:\n",
        "  print(\"Test passed\")\n",
        "else:\n",
        "  print(\"fibonacci() has an error!\")"
      ],
      "metadata": {
        "colab": {
          "base_uri": "https://localhost:8080/"
        },
        "id": "0aZjl4EaeqvG",
        "outputId": "f4778aee-b18f-4f55-db27-8c6e5ddb35c3"
      },
      "execution_count": 10,
      "outputs": [
        {
          "output_type": "stream",
          "name": "stdout",
          "text": [
            "Test passed\n"
          ]
        }
      ]
    },
    {
      "cell_type": "code",
      "source": [
        ""
      ],
      "metadata": {
        "id": "YSUhLbzsJy4O"
      },
      "execution_count": null,
      "outputs": []
    }
  ]
}