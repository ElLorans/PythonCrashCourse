{
  "nbformat": 4,
  "nbformat_minor": 0,
  "metadata": {
    "colab": {
      "name": "LorenzoCerretaExercise15.ipynb",
      "provenance": []
    },
    "kernelspec": {
      "name": "python3",
      "display_name": "Python 3"
    },
    "language_info": {
      "name": "python"
    }
  },
  "cells": [
    {
      "cell_type": "code",
      "execution_count": 13,
      "metadata": {
        "id": "77TD35Y9RjeA"
      },
      "outputs": [],
      "source": [
        "##Write a function which can compute the factorial of a given numbers.\n",
        "##Suppose the following input is supplied to the program:\n",
        "##8\n",
        "##Then, the output should be:\n",
        "##40320\n",
        "\n",
        "def my_factorial(number):\n",
        "  factorial = 1\n",
        "  if number < 0:\n",
        "    raise ValueError(\"Factorial is only for positive numbers, \" + str(number) + \" was provided\")\n",
        "  else:\n",
        "    while number > 0:\n",
        "      factorial = factorial * number\n",
        "      number = number - 1\n",
        "  return factorial\n"
      ]
    },
    {
      "cell_type": "code",
      "source": [
        "%%timeit\n",
        "my_factorial(40)"
      ],
      "metadata": {
        "colab": {
          "base_uri": "https://localhost:8080/"
        },
        "id": "oUdB4fEOSKu3",
        "outputId": "6978bd57-52ce-4bfc-b82a-9b8dc8428c51"
      },
      "execution_count": 28,
      "outputs": [
        {
          "output_type": "stream",
          "name": "stdout",
          "text": [
            "100000 loops, best of 5: 5.29 µs per loop\n"
          ]
        }
      ]
    },
    {
      "cell_type": "code",
      "source": [
        "def recursive_factorial(number):\n",
        "  if number < 0:\n",
        "    raise ValueError(\"Factorial is only for positive numbers, \" + str(number) + \" was provided\")\n",
        "  if number == 0 or number == 1:\n",
        "    return 1\n",
        "  else:\n",
        "    return number * recursive_factorial(number-1)"
      ],
      "metadata": {
        "id": "kx_bqvi_SM-U"
      },
      "execution_count": 23,
      "outputs": []
    },
    {
      "cell_type": "code",
      "source": [
        "%%timeit\n",
        "recursive_factorial(40)"
      ],
      "metadata": {
        "colab": {
          "base_uri": "https://localhost:8080/"
        },
        "id": "oMokkbrrTFRK",
        "outputId": "11767142-8b1f-4a23-9594-5af28548a40b"
      },
      "execution_count": 29,
      "outputs": [
        {
          "output_type": "stream",
          "name": "stdout",
          "text": [
            "The slowest run took 86.15 times longer than the fastest. This could mean that an intermediate result is being cached.\n",
            "100000 loops, best of 5: 9.92 µs per loop\n"
          ]
        }
      ]
    },
    {
      "cell_type": "code",
      "source": [
        ""
      ],
      "metadata": {
        "id": "BbsRuiwaTG_E"
      },
      "execution_count": null,
      "outputs": []
    }
  ]
}