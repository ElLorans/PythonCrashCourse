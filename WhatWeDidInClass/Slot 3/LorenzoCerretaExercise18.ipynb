{
  "nbformat": 4,
  "nbformat_minor": 0,
  "metadata": {
    "colab": {
      "name": "LorenzoCerretaExercise18.ipynb",
      "provenance": []
    },
    "kernelspec": {
      "name": "python3",
      "display_name": "Python 3"
    },
    "language_info": {
      "name": "python"
    }
  },
  "cells": [
    {
      "cell_type": "code",
      "execution_count": 2,
      "metadata": {
        "id": "Oa9z7n9AZJPC"
      },
      "outputs": [],
      "source": [
        "##write a function that takes a nested list as an argument\n",
        "##and returns a normal list\n",
        "##show that the result is equal to flattened_list\n",
        "\n",
        "nested_list = ['a', [2, 3], [4, 'b', [0, -2, ['c', 'e', '0f']]]]\n",
        "flattened_list = ['a', 2, 3, 4, 'b', 0, -2, 'c', 'e', '0f']\n",
        "\n",
        "\n",
        "def flat_list(nest_list):\n",
        "  result = list()\n",
        "  for el in nest_list:\n",
        "    if type(el) is list:\n",
        "      result += flat_list(el)\n",
        "    else:\n",
        "      result.append(el)\n",
        "  return result"
      ]
    },
    {
      "cell_type": "code",
      "source": [
        "if flat_list(nested_list) != flattened_list:\n",
        "  print(\"There is an error in flat_list\")\n",
        "else:\n",
        "  print(\"Test passed\")"
      ],
      "metadata": {
        "colab": {
          "base_uri": "https://localhost:8080/"
        },
        "id": "0q8mqudTZKA7",
        "outputId": "58edb8e3-04a7-49a9-e139-ed7daf43036b"
      },
      "execution_count": 5,
      "outputs": [
        {
          "output_type": "stream",
          "name": "stdout",
          "text": [
            "Test passed\n"
          ]
        }
      ]
    },
    {
      "cell_type": "code",
      "source": [
        ""
      ],
      "metadata": {
        "id": "romtRg6iaRuE"
      },
      "execution_count": null,
      "outputs": []
    }
  ]
}