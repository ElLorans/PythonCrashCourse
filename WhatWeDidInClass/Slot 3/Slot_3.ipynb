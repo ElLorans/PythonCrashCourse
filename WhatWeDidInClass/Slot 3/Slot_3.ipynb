{
  "nbformat": 4,
  "nbformat_minor": 0,
  "metadata": {
    "colab": {
      "name": "Slot 3.ipynb",
      "provenance": [],
      "toc_visible": true
    },
    "kernelspec": {
      "name": "python3",
      "display_name": "Python 3"
    },
    "language_info": {
      "name": "python"
    }
  },
  "cells": [
    {
      "cell_type": "markdown",
      "source": [
        "# tuples\n",
        "<br>\n",
        "tuples are like lists but they are immutable (no .append() method)\n",
        "<br>\n",
        "If you need a list but you don't need to modify it, simply use a tuple. It will be more efficient!"
      ],
      "metadata": {
        "id": "cEQ-irfu8_rU"
      }
    },
    {
      "cell_type": "code",
      "source": [
        "my_tuple = 1, 2, 3, 4\n",
        "tupla = (1, 2, 3, 4)   # parenthesis unneded, but for convention and sanity\n",
        "this_is_an_int = (1)\n",
        "still_an_int = 1\n",
        "this_is_a_tuple = 1, 2\n",
        "still_a_tuple = 1,"
      ],
      "metadata": {
        "id": "vz2SqN2W9Ibv"
      },
      "execution_count": null,
      "outputs": []
    },
    {
      "cell_type": "code",
      "source": [
        "type(my_tuple)"
      ],
      "metadata": {
        "colab": {
          "base_uri": "https://localhost:8080/"
        },
        "id": "EiMe7jxB9MWl",
        "outputId": "b7cd4e7a-c645-47b6-c549-9eb9868011e7"
      },
      "execution_count": null,
      "outputs": [
        {
          "output_type": "execute_result",
          "data": {
            "text/plain": [
              "tuple"
            ]
          },
          "metadata": {},
          "execution_count": 46
        }
      ]
    },
    {
      "cell_type": "markdown",
      "source": [
        "Watch out! Immutable objects can still be redefined! You only need to use the \"=\" sign"
      ],
      "metadata": {
        "id": "OFNb5lEX9h9G"
      }
    },
    {
      "cell_type": "code",
      "source": [
        "my_tuple = \"a\""
      ],
      "metadata": {
        "id": "aDdgWZFp9cZk"
      },
      "execution_count": null,
      "outputs": []
    },
    {
      "cell_type": "code",
      "source": [
        "type(my_tuple)"
      ],
      "metadata": {
        "colab": {
          "base_uri": "https://localhost:8080/"
        },
        "id": "n-oq4dPB9fx8",
        "outputId": "64de4215-df0a-499c-8492-2ea75544c412"
      },
      "execution_count": null,
      "outputs": [
        {
          "output_type": "execute_result",
          "data": {
            "text/plain": [
              "str"
            ]
          },
          "metadata": {},
          "execution_count": 24
        }
      ]
    },
    {
      "cell_type": "markdown",
      "source": [
        "# What's your favourite TV series and it's quote?"
      ],
      "metadata": {
        "id": "JNfFP6OU9R45"
      }
    },
    {
      "cell_type": "code",
      "execution_count": null,
      "metadata": {
        "colab": {
          "base_uri": "https://localhost:8080/"
        },
        "id": "X-GA-oP85YzI",
        "outputId": "c2ae7912-9a0f-4c60-d7f9-e13d3016b7b5"
      },
      "outputs": [
        {
          "name": "stdout",
          "output_type": "stream",
          "text": [
            "What's your favourite TV series?Suits\n",
            "What' a famous quote from that show?Let them hate, just make sure they spell your name right.\n"
          ]
        }
      ],
      "source": [
        "quotes = {}\n",
        "# it's the same as:\n",
        "# quotes = dict()\n"
      ]
    },
    {
      "cell_type": "code",
      "source": [
        "while True:\n",
        "  tv_show = input(\"Tell me your favourite TV series or insert Interrupt to leave the program\").title()\n",
        "  \n",
        "  if tv_show == \"Interrupt\":\n",
        "    break\n",
        "\n",
        "  elif tv_show in quotes:\n",
        "    print(quotes[tv_show])\n",
        "  else:\n",
        "    print(\"I don't know that tv series!\")\n",
        "    quote = input(\"What' a famous quote from that show?\")\n",
        "    quotes[tv_show] = quote"
      ],
      "metadata": {
        "colab": {
          "base_uri": "https://localhost:8080/"
        },
        "id": "U3sLFkf06S3s",
        "outputId": "09e34cb0-549c-4a46-f211-da7babe03e09"
      },
      "execution_count": null,
      "outputs": [
        {
          "name": "stdout",
          "output_type": "stream",
          "text": [
            "Tell me your favourite TV series or insert Interrupt to leave the programdOCTOR who\n",
            "Geronimo!\n",
            "Tell me your favourite TV series or insert Interrupt to leave the programInterrupt\n"
          ]
        }
      ]
    },
    {
      "cell_type": "code",
      "source": [
        "for show in quotes:\n",
        "  print(show, \":\", quotes[show])"
      ],
      "metadata": {
        "colab": {
          "base_uri": "https://localhost:8080/"
        },
        "id": "RH3Av5rs6pq0",
        "outputId": "ca7c465e-4e30-480b-e874-5569ee13944e"
      },
      "execution_count": null,
      "outputs": [
        {
          "output_type": "stream",
          "name": "stdout",
          "text": [
            "Suits : Let them hate, just make sure they spell your name right.\n",
            "Doctor Who : Geronimo!\n"
          ]
        }
      ]
    },
    {
      "cell_type": "markdown",
      "source": [
        "# Looping over couples of variables"
      ],
      "metadata": {
        "id": "ZMHHn7RX-1IE"
      }
    },
    {
      "cell_type": "code",
      "source": [
        "for key, value in quotes.items():\n",
        "  print(\"This is the key:\", key)\n",
        "  print(\"This is the value:\", value)\n",
        "  print(\"-\" * 20)"
      ],
      "metadata": {
        "colab": {
          "base_uri": "https://localhost:8080/"
        },
        "id": "opom2sN-8AJb",
        "outputId": "e0b1fd4f-a7d4-42c3-d28b-867c3a91b511"
      },
      "execution_count": null,
      "outputs": [
        {
          "output_type": "stream",
          "name": "stdout",
          "text": [
            "This is the key: Suits\n",
            "This is the value: Let them hate, just make sure they spell your name right.\n",
            "--------------------\n",
            "This is the key: Doctor Who\n",
            "This is the value: Geronimo!\n",
            "--------------------\n"
          ]
        }
      ]
    },
    {
      "cell_type": "markdown",
      "source": [
        "# Functions modifying variables"
      ],
      "metadata": {
        "id": "ZfC4jjrPBu3j"
      }
    },
    {
      "cell_type": "code",
      "source": [
        "def f(x):\n",
        "   # this will not automatically change the original x OUTSIDE the function\n",
        "  x = x * 2    \n",
        "  print(\"the result of f() is\", x)\n",
        "\n",
        "y = [10, ]\n",
        "f(y)\n",
        "print(\"y is now:\", y)\n",
        "\n",
        "\n",
        "# variables defined inside functions are not accessible from outside\n",
        "# this will give an error\n",
        "try:\n",
        "  print(x)\n",
        "\n",
        "# I catch the error so that code is not stopped\n",
        "except NameError as e:\n",
        "  print(\"NameError:\", e)      "
      ],
      "metadata": {
        "colab": {
          "base_uri": "https://localhost:8080/"
        },
        "id": "GsMABoSNAeqL",
        "outputId": "cd2cd4a8-3e88-4175-ca10-1452e45dfb97"
      },
      "execution_count": null,
      "outputs": [
        {
          "output_type": "stream",
          "name": "stdout",
          "text": [
            "the result of f() is (10, 10)\n",
            "y is now: (10,)\n",
            "NameError: name 'x' is not defined\n"
          ]
        }
      ]
    },
    {
      "cell_type": "code",
      "source": [
        "y = 10\n",
        "f(y)\n",
        "print(\"y is now:\", y)"
      ],
      "metadata": {
        "colab": {
          "base_uri": "https://localhost:8080/"
        },
        "id": "bFfgl08lA28S",
        "outputId": "f3e1bc47-4856-41ed-8560-d6df65b4afc0"
      },
      "execution_count": null,
      "outputs": [
        {
          "output_type": "stream",
          "name": "stdout",
          "text": [
            "the result of f() is 20\n",
            "y is now: 10\n"
          ]
        }
      ]
    },
    {
      "cell_type": "code",
      "source": [
        "def f2(lista):\n",
        "   # this will automatically CHANGE the original lista OUTSIDE the function\n",
        "  lista.append(10)\n",
        "  print(\"lista after append\", lista)\n",
        "  # instead this line will NOT change the lista outside the function\n",
        "  lista = lista + [20]\n",
        "  print(\"lista after sum\", lista)\n",
        "\n",
        "y2 = [10]\n",
        "f2(y2)\n",
        "\n",
        "print(\"y2 is now\", y2)"
      ],
      "metadata": {
        "colab": {
          "base_uri": "https://localhost:8080/"
        },
        "id": "PEc-kIShCliu",
        "outputId": "71db6fef-30d2-4b3a-cdf8-4a9ac380e659"
      },
      "execution_count": null,
      "outputs": [
        {
          "output_type": "stream",
          "name": "stdout",
          "text": [
            "lista after append [10, 10]\n",
            "lista after sum [10, 10, 20]\n",
            "y2 is now [10, 10]\n"
          ]
        }
      ]
    },
    {
      "cell_type": "code",
      "source": [
        "f2(y2)\n",
        "print(y2)"
      ],
      "metadata": {
        "colab": {
          "base_uri": "https://localhost:8080/"
        },
        "id": "Flzq6RiEDdP1",
        "outputId": "72f16fcc-8aea-4cd5-892e-8808189e9179"
      },
      "execution_count": null,
      "outputs": [
        {
          "output_type": "stream",
          "name": "stdout",
          "text": [
            "[10, 10, 10]\n"
          ]
        }
      ]
    },
    {
      "cell_type": "markdown",
      "source": [
        "# Bank Account Program"
      ],
      "metadata": {
        "id": "9RlTcpo5-4X7"
      }
    },
    {
      "cell_type": "code",
      "source": [
        "accounts = {\"Ben\": 100, \"Lorenzo\": 0}"
      ],
      "metadata": {
        "id": "L4K6towE82tv"
      },
      "execution_count": null,
      "outputs": []
    },
    {
      "cell_type": "code",
      "source": [
        "def withdraw(person, amount, bank_accounts):\n",
        "  # watch out! dicts are mutable, so they can be modified from inside functions!!!\n",
        "  # if you don't want that to happen, you need to create a copy of the dict and\n",
        "  # modify the copy instead\n",
        "  \n",
        "  # bank_accounts = bank_accounts.copy()\n",
        "  if person in bank_accounts and bank_accounts[person] >= amount:\n",
        "    print(\"Cash withdrawn:\", amount)\n",
        "    bank_accounts[person] = bank_accounts[person] - amount\n",
        "  return bank_accounts\n",
        "\n",
        "def deposit(person, amount, bank_accounts):\n",
        "  \n",
        "  # bank_accounts = bank_accounts.copy()\n",
        "  if person in bank_accounts\n",
        "    print(\"Cash deposited:\", amount)\n",
        "    bank_accounts[person] = bank_accounts[person] + amount\n",
        "  else:\n",
        "    print(\"You mut open an account first!\")\n",
        "  return bank_accounts"
      ],
      "metadata": {
        "id": "Orh-5KoL_Kjm"
      },
      "execution_count": null,
      "outputs": []
    },
    {
      "cell_type": "code",
      "source": [
        "withdraw(\"Ben\", 50, accounts)"
      ],
      "metadata": {
        "colab": {
          "base_uri": "https://localhost:8080/"
        },
        "id": "Aexn68hx_s1B",
        "outputId": "1e61a841-766e-4495-cf09-4570721b1d13"
      },
      "execution_count": null,
      "outputs": [
        {
          "output_type": "stream",
          "name": "stdout",
          "text": [
            "Cash withdrawn: 50\n"
          ]
        },
        {
          "output_type": "execute_result",
          "data": {
            "text/plain": [
              "{'Ben': 50, 'Lorenzo': 0}"
            ]
          },
          "metadata": {},
          "execution_count": 36
        }
      ]
    },
    {
      "cell_type": "code",
      "source": [
        "accounts"
      ],
      "metadata": {
        "colab": {
          "base_uri": "https://localhost:8080/"
        },
        "id": "mq7z3gRL_yHb",
        "outputId": "627051b6-2c0d-4be8-ccc8-9d84b75615ae"
      },
      "execution_count": null,
      "outputs": [
        {
          "output_type": "execute_result",
          "data": {
            "text/plain": [
              "{'Ben': 100, 'Lorenzo': 0}"
            ]
          },
          "metadata": {},
          "execution_count": 37
        }
      ]
    },
    {
      "cell_type": "markdown",
      "source": [
        "# Escape characters\n",
        "strings that start with \"\\\" and then other strings"
      ],
      "metadata": {
        "id": "80o0OcmtMybC"
      }
    },
    {
      "cell_type": "markdown",
      "source": [
        "## \\n = new line"
      ],
      "metadata": {
        "id": "iEK3zsSzNGns"
      }
    },
    {
      "cell_type": "code",
      "source": [
        "print(\"\\nHi\\nHow are you?\")"
      ],
      "metadata": {
        "colab": {
          "base_uri": "https://localhost:8080/"
        },
        "id": "SE6XemZR_0HE",
        "outputId": "8e25aed3-e041-453b-ecb2-5a6a3cff8686"
      },
      "execution_count": null,
      "outputs": [
        {
          "output_type": "stream",
          "name": "stdout",
          "text": [
            "\n",
            "Hi\n",
            "How are you?\n"
          ]
        }
      ]
    },
    {
      "cell_type": "markdown",
      "source": [
        "## \\t = tab"
      ],
      "metadata": {
        "id": "68_vESzvNMUN"
      }
    },
    {
      "cell_type": "code",
      "source": [
        "print(\"\\tThis is some \\ttext\")"
      ],
      "metadata": {
        "colab": {
          "base_uri": "https://localhost:8080/"
        },
        "id": "l8HD8G3LM-UB",
        "outputId": "a4d51090-7b88-4086-dc90-3615251ca46e"
      },
      "execution_count": null,
      "outputs": [
        {
          "output_type": "stream",
          "name": "stdout",
          "text": [
            "\tThis is some \ttext\n"
          ]
        }
      ]
    },
    {
      "cell_type": "markdown",
      "source": [
        "## Errors\n",
        "Watch out when writing backslash"
      ],
      "metadata": {
        "id": "l07n3qlaNZHY"
      }
    },
    {
      "cell_type": "code",
      "source": [
        "# this will give an error because \\U does not exist\n",
        "print(\"Hi\\U\")"
      ],
      "metadata": {
        "colab": {
          "base_uri": "https://localhost:8080/",
          "height": 135
        },
        "id": "xpw6oJhpNS60",
        "outputId": "764b8b77-a964-4789-f909-a382f3564889"
      },
      "execution_count": null,
      "outputs": [
        {
          "output_type": "error",
          "ename": "SyntaxError",
          "evalue": "ignored",
          "traceback": [
            "\u001b[0;36m  File \u001b[0;32m\"<ipython-input-60-b584b55ba5f3>\"\u001b[0;36m, line \u001b[0;32m1\u001b[0m\n\u001b[0;31m    print(\"Hi\\U\")\u001b[0m\n\u001b[0m         ^\u001b[0m\n\u001b[0;31mSyntaxError\u001b[0m\u001b[0;31m:\u001b[0m (unicode error) 'unicodeescape' codec can't decode bytes in position 2-3: truncated \\UXXXXXXXX escape\n"
          ]
        }
      ]
    },
    {
      "cell_type": "code",
      "source": [
        ""
      ],
      "metadata": {
        "id": "k9H5WMEPNb92"
      },
      "execution_count": null,
      "outputs": []
    }
  ]
}