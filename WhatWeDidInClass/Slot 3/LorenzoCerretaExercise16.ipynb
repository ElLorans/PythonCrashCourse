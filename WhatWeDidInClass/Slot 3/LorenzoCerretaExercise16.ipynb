{
  "nbformat": 4,
  "nbformat_minor": 0,
  "metadata": {
    "colab": {
      "name": "LorenzoCerretaExercise16.ipynb",
      "provenance": []
    },
    "kernelspec": {
      "name": "python3",
      "display_name": "Python 3"
    },
    "language_info": {
      "name": "python"
    }
  },
  "cells": [
    {
      "cell_type": "code",
      "execution_count": 1,
      "metadata": {
        "id": "bynfyef6Urps"
      },
      "outputs": [],
      "source": [
        "##With a given integer number n, write a program to generate a dictionary\n",
        "##that contains (i, i*i) such that is an integer number between 1 and\n",
        "##n (both included). and then the program should print the dictionary.\n",
        "\n",
        "##Suppose the following input is supplied to the program:\n",
        "##8\n",
        "##Then, the output should be:\n",
        "##{1: 1, 2: 4, 3: 9, 4: 16, 5: 25, 6: 36, 7: 49, 8: 64}"
      ]
    },
    {
      "cell_type": "code",
      "source": [
        "def get_squares(num):\n",
        "  \"\"\"\n",
        "  Return a dict of 1 to num and their squares.\n",
        "  \"\"\"\n",
        "  squares = dict()\n",
        "  for el in range(1, num+1):\n",
        "    squares[el] = el * el\n",
        "  return squares\n",
        "\n",
        "\n",
        "inp = input(\"Insert a number\")\n",
        "num = int(inp)\n",
        "print(get_squares(num))"
      ],
      "metadata": {
        "colab": {
          "base_uri": "https://localhost:8080/"
        },
        "id": "BMuMdxvPUs3y",
        "outputId": "c91c8a59-7a3c-4330-d80d-4d5063150ce3"
      },
      "execution_count": 4,
      "outputs": [
        {
          "output_type": "stream",
          "name": "stdout",
          "text": [
            "Insert a number8\n",
            "{1: 1, 2: 4, 3: 9, 4: 16, 5: 25, 6: 36, 7: 49, 8: 64}\n"
          ]
        }
      ]
    },
    {
      "cell_type": "code",
      "source": [
        ""
      ],
      "metadata": {
        "id": "bKeqVNvDU4qx"
      },
      "execution_count": null,
      "outputs": []
    }
  ]
}