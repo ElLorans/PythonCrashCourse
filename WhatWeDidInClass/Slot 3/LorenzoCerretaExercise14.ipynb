{
  "nbformat": 4,
  "nbformat_minor": 0,
  "metadata": {
    "colab": {
      "name": "LorenzoCerretaExercise14.ipynb",
      "provenance": []
    },
    "kernelspec": {
      "name": "python3",
      "display_name": "Python 3"
    },
    "language_info": {
      "name": "python"
    }
  },
  "cells": [
    {
      "cell_type": "code",
      "execution_count": 1,
      "metadata": {
        "id": "w3kABX34OzWg"
      },
      "outputs": [],
      "source": [
        "# Write a program which will find all such numbers which are divisible by 7\n",
        "# but are not a multiple of 5,\n",
        "# between 2000 and 3200 (both included).\n",
        "# The numbers obtained should be printed in a comma-separated sequence on a single line.\n",
        "\n",
        "# Hint: use range(#begin, #end) function"
      ]
    },
    {
      "cell_type": "code",
      "source": [
        "def get_divisors(start, end, multiple, exclude):\n",
        "  \"\"\"\n",
        "  Return a list of all multiples of multiple that are not multiples of exclude from start included to end excluded.\n",
        "  \"\"\"\n",
        "  lista = []\n",
        "  for num in range(start, end):\n",
        "    if num % multiple == 0 and num % exclude != 0:\n",
        "      lista.append(num)\n",
        "  return lista"
      ],
      "metadata": {
        "id": "tSuaKhnsO0oG"
      },
      "execution_count": 7,
      "outputs": []
    },
    {
      "cell_type": "code",
      "source": [
        "print(get_divisors(2000, 3201, 7, 5))"
      ],
      "metadata": {
        "colab": {
          "base_uri": "https://localhost:8080/"
        },
        "id": "hKIbkPqTPsWj",
        "outputId": "7613a25d-d0cb-4f92-9d1f-eb7205f7c3e8"
      },
      "execution_count": 8,
      "outputs": [
        {
          "output_type": "stream",
          "name": "stdout",
          "text": [
            "[2002, 2009, 2016, 2023, 2037, 2044, 2051, 2058, 2072, 2079, 2086, 2093, 2107, 2114, 2121, 2128, 2142, 2149, 2156, 2163, 2177, 2184, 2191, 2198, 2212, 2219, 2226, 2233, 2247, 2254, 2261, 2268, 2282, 2289, 2296, 2303, 2317, 2324, 2331, 2338, 2352, 2359, 2366, 2373, 2387, 2394, 2401, 2408, 2422, 2429, 2436, 2443, 2457, 2464, 2471, 2478, 2492, 2499, 2506, 2513, 2527, 2534, 2541, 2548, 2562, 2569, 2576, 2583, 2597, 2604, 2611, 2618, 2632, 2639, 2646, 2653, 2667, 2674, 2681, 2688, 2702, 2709, 2716, 2723, 2737, 2744, 2751, 2758, 2772, 2779, 2786, 2793, 2807, 2814, 2821, 2828, 2842, 2849, 2856, 2863, 2877, 2884, 2891, 2898, 2912, 2919, 2926, 2933, 2947, 2954, 2961, 2968, 2982, 2989, 2996, 3003, 3017, 3024, 3031, 3038, 3052, 3059, 3066, 3073, 3087, 3094, 3101, 3108, 3122, 3129, 3136, 3143, 3157, 3164, 3171, 3178, 3192, 3199]\n"
          ]
        }
      ]
    },
    {
      "cell_type": "code",
      "source": [
        "print(get_divisors(1000, 1201, 7, 5))"
      ],
      "metadata": {
        "colab": {
          "base_uri": "https://localhost:8080/"
        },
        "id": "cJw3p9hZQ1mP",
        "outputId": "81ee262c-7d9c-4c9b-f401-c0863969e687"
      },
      "execution_count": 9,
      "outputs": [
        {
          "output_type": "stream",
          "name": "stdout",
          "text": [
            "[1001, 1008, 1022, 1029, 1036, 1043, 1057, 1064, 1071, 1078, 1092, 1099, 1106, 1113, 1127, 1134, 1141, 1148, 1162, 1169, 1176, 1183, 1197]\n"
          ]
        }
      ]
    },
    {
      "cell_type": "code",
      "source": [
        ""
      ],
      "metadata": {
        "id": "XVrN8s2OREzL"
      },
      "execution_count": null,
      "outputs": []
    }
  ]
}