{
  "nbformat": 4,
  "nbformat_minor": 0,
  "metadata": {
    "colab": {
      "name": "LorenzoCerretaExercise19.ipynb",
      "provenance": []
    },
    "kernelspec": {
      "name": "python3",
      "display_name": "Python 3"
    },
    "language_info": {
      "name": "python"
    }
  },
  "cells": [
    {
      "cell_type": "code",
      "execution_count": 7,
      "metadata": {
        "id": "QVYIBzaxbjSD"
      },
      "outputs": [],
      "source": [
        "##write a function sum_dict() that takes a dictionary as an argument\n",
        "##and returns the sum of the keys\n",
        "##bonus point: sum only floats and ints, without errors for other data types\n",
        "\n",
        "##write a function merge_dict() that merges two dicts\n",
        "\n",
        "def sum_dict(dictionary):\n",
        "  total = 0\n",
        "  for key in dictionary:\n",
        "    if isinstance(key, (int, float)):\n",
        "      total = total + key\n",
        "  return total\n",
        "\n",
        "\n",
        "def merge_dict(dict1, dict2):\n",
        "  result = dict()\n",
        "  for key in dict1:\n",
        "    result[key] = dict1[key]\n",
        "  for key in dict2:\n",
        "    result[key] = dict2[key]\n",
        "  return result"
      ]
    },
    {
      "cell_type": "code",
      "source": [
        "example = {1: \"a\", 2: \"b\", 3: \"c\"}\n",
        "example2 = {4: \"d\", 5: \"e\"}\n",
        "\n",
        "if sum_dict(example) == 6:\n",
        "  print(\"Test passed\")\n",
        "else:\n",
        "  print(\"sum_dict is wrong\")"
      ],
      "metadata": {
        "colab": {
          "base_uri": "https://localhost:8080/"
        },
        "id": "5J4stQ1WcVfD",
        "outputId": "0cbd4625-de1c-435d-c2b6-324faf26d095"
      },
      "execution_count": 6,
      "outputs": [
        {
          "output_type": "stream",
          "name": "stdout",
          "text": [
            "Test passed\n"
          ]
        }
      ]
    },
    {
      "cell_type": "code",
      "source": [
        "print(merge_dict(example, example2))"
      ],
      "metadata": {
        "colab": {
          "base_uri": "https://localhost:8080/"
        },
        "id": "pRXV55bkc8rs",
        "outputId": "de45654f-cb24-4ecc-bd7f-56848cfa2467"
      },
      "execution_count": 9,
      "outputs": [
        {
          "output_type": "stream",
          "name": "stdout",
          "text": [
            "{1: 'a', 2: 'b', 3: 'c', 4: 'd', 5: 'e'}\n"
          ]
        }
      ]
    },
    {
      "cell_type": "code",
      "source": [
        ""
      ],
      "metadata": {
        "id": "uLDIkRjyddzV"
      },
      "execution_count": null,
      "outputs": []
    }
  ]
}