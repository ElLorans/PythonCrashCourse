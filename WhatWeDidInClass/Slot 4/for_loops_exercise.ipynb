{
  "cells": [
    {
      "cell_type": "markdown",
      "metadata": {
        "id": "v5mtl4vNucGc"
      },
      "source": [
        "# 1. Fill the missing pieces\n",
        "Fill the `____` parts in the code below."
      ]
    },
    {
      "cell_type": "code",
      "execution_count": 1,
      "metadata": {
        "id": "_b7HOUowucGo"
      },
      "outputs": [],
      "source": [
        "words = ['PYTHON', 'JOHN', 'chEEse', 'hAm', 'DOE', '123']\n",
        "upper_case_words = []\n",
        "\n",
        "for word in words:\n",
        "    if word.isupper():\n",
        "        upper_case_words.append(word)"
      ]
    },
    {
      "cell_type": "code",
      "execution_count": 2,
      "metadata": {
        "editable": false,
        "id": "ulDu3mWTucGx"
      },
      "outputs": [],
      "source": [
        "assert upper_case_words == ['PYTHON', 'JOHN', 'DOE']"
      ]
    },
    {
      "cell_type": "markdown",
      "metadata": {
        "id": "voCYgrzjucG1"
      },
      "source": [
        "# 2. Calculate the sum of dict values\n",
        "Calculate the sum of the values in `magic_dict` by taking only into account numeric values (hint: see [isinstance](https://docs.python.org/3/library/functions.html#isinstance)). "
      ]
    },
    {
      "cell_type": "code",
      "execution_count": 3,
      "metadata": {
        "editable": false,
        "id": "mB4YWWN4ucG5"
      },
      "outputs": [],
      "source": [
        "magic_dict = dict(val1=44, val2='secret value', val3=55.0, val4=1)"
      ]
    },
    {
      "cell_type": "code",
      "execution_count": 8,
      "metadata": {
        "id": "3_NjqY_VucG8",
        "outputId": "6a5885f5-9b47-41e2-ced0-f6bed8682263",
        "colab": {
          "base_uri": "https://localhost:8080/"
        }
      },
      "outputs": [
        {
          "output_type": "stream",
          "name": "stdout",
          "text": [
            "100.0\n"
          ]
        }
      ],
      "source": [
        "# Your implementation\n",
        "sum_of_values = 0\n",
        "\n",
        "for key in magic_dict:\n",
        "  el = magic_dict[key]\n",
        "  # if type(el) is int or type(el) is float:\n",
        "  if isinstance(el, (int, float)):\n",
        "    sum_of_values += el\n",
        "\n",
        "print(sum_of_values)\n"
      ]
    },
    {
      "cell_type": "code",
      "execution_count": 9,
      "metadata": {
        "editable": false,
        "id": "RrNgLkeVucG-"
      },
      "outputs": [],
      "source": [
        "assert sum_of_values == 100"
      ]
    },
    {
      "cell_type": "markdown",
      "metadata": {
        "id": "lVrbIgwsucHA"
      },
      "source": [
        "# 3. Create a list of strings based on a list of numbers\n",
        "The rules:\n",
        "* If the number is a multiple of five and odd, the string should be `'five odd'`\n",
        "* If the number is a multiple of five and even, the string should be `'five even'`\n",
        "* If the number is odd, the string is `'odd'`\n",
        "* If the number is even, the string is `'even'`"
      ]
    },
    {
      "cell_type": "code",
      "execution_count": 10,
      "metadata": {
        "editable": false,
        "id": "ZA6RNZ8eucHG"
      },
      "outputs": [],
      "source": [
        "numbers = [1, 3, 4, 6, 81, 80, 100, 95]"
      ]
    },
    {
      "cell_type": "code",
      "execution_count": 15,
      "metadata": {
        "id": "h_Iv-gwzucHK"
      },
      "outputs": [],
      "source": [
        "# Your implementation\n",
        "my_list = []\n",
        "\n",
        "for el in numbers:\n",
        "  res = \"\"\n",
        "  if el % 5 == 0:\n",
        "    res += \"five \"\n",
        "  if el % 2 == 0:\n",
        "    res += \"even\"\n",
        "  else:\n",
        "    res += \"odd\"\n",
        "  my_list.append(res)"
      ]
    },
    {
      "cell_type": "code",
      "execution_count": 16,
      "metadata": {
        "editable": false,
        "id": "7_pIkN6sucHM"
      },
      "outputs": [],
      "source": [
        "assert my_list == ['odd', 'odd', 'even', 'even', 'odd', 'five even', 'five even', 'five odd']"
      ]
    },
    {
      "cell_type": "code",
      "source": [
        ""
      ],
      "metadata": {
        "id": "N8-wrdygxGlL"
      },
      "execution_count": null,
      "outputs": []
    }
  ],
  "metadata": {
    "kernelspec": {
      "display_name": "Python 3",
      "language": "python",
      "name": "python3"
    },
    "language_info": {
      "codemirror_mode": {
        "name": "ipython",
        "version": 3
      },
      "file_extension": ".py",
      "mimetype": "text/x-python",
      "name": "python",
      "nbconvert_exporter": "python",
      "pygments_lexer": "ipython3",
      "version": "3.5.4"
    },
    "colab": {
      "name": "for_loops_exercise.ipynb",
      "provenance": []
    }
  },
  "nbformat": 4,
  "nbformat_minor": 0
}