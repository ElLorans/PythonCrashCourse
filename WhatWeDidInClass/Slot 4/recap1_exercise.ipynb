{
  "cells": [
    {
      "cell_type": "markdown",
      "metadata": {
        "id": "PIT62PNvj-NT"
      },
      "source": [
        "# 1. Super vowels\n",
        "Implement `super_vowels` function which takes a string as an argument and returns a modified version of that string. In the return value of `super_vowels`, all vowels should be in upper case whereas all consonants should be in lower case. The vowels are listed in the `VOWELS` variable."
      ]
    },
    {
      "cell_type": "code",
      "execution_count": null,
      "metadata": {
        "editable": false,
        "id": "la7Emykpj-Nh"
      },
      "outputs": [],
      "source": [
        "VOWELS = ['a', 'e', 'i', 'o', 'u']"
      ]
    },
    {
      "cell_type": "code",
      "execution_count": null,
      "metadata": {
        "id": "_llAStbTj-N0"
      },
      "outputs": [],
      "source": [
        "def super_vowels(stringa):\n",
        "  VOWELS = ['a', 'e', 'i', 'o', 'u']\n",
        "  result = \"\"\n",
        "  for letter in stringa:\n",
        "    if letter.lower() in VOWELS:\n",
        "      result += letter.upper()\n",
        "    else:\n",
        "      result += letter.lower()\n",
        "  return result"
      ]
    },
    {
      "cell_type": "code",
      "execution_count": null,
      "metadata": {
        "editable": false,
        "id": "Pp1Zpu6lj-N9"
      },
      "outputs": [],
      "source": [
        "assert super_vowels('hi wassup!') == 'hI wAssUp!'\n",
        "assert super_vowels('HOw aRE You?') == 'hOw ArE yOU?'"
      ]
    },
    {
      "cell_type": "markdown",
      "metadata": {
        "id": "8ad8vJYXj-OB"
      },
      "source": [
        "# 2. Playing board\n",
        "Implement `get_playing_board` function which takes an integer as an argument. The function should return a string which resemples a playing board (e.g. a chess board). The board should contain as many rows and columns as requested by the interger argument. See the cell below for examples of desired behavior.\n"
      ]
    },
    {
      "cell_type": "code",
      "execution_count": 19,
      "metadata": {
        "id": "UfUPg4Lnj-OE"
      },
      "outputs": [],
      "source": [
        "def get_playing_board (num):\n",
        "  n = num\n",
        "  str1 = \"\"\n",
        "  str2 = \"\"\n",
        "  while (n/2)>=0:\n",
        "    str1 += \" *\"\n",
        "    str2 += \"* \"\n",
        "    n -= 2\n",
        "  \n",
        "  result = \"\"\n",
        "  for i in range(0,num):\n",
        "    if i%2==0:\n",
        "      result += str1[:-1] + \"\\n\"\n",
        "    else:\n",
        "      result += str2[:-1] + \"\\n\"\n",
        "  return result"
      ]
    },
    {
      "cell_type": "code",
      "source": [
        "get_playing_board(5)"
      ],
      "metadata": {
        "colab": {
          "base_uri": "https://localhost:8080/",
          "height": 36
        },
        "id": "LBKXyOxEpSzE",
        "outputId": "c1efb375-2c27-449a-f261-e76b7e932d05"
      },
      "execution_count": 21,
      "outputs": [
        {
          "output_type": "execute_result",
          "data": {
            "application/vnd.google.colaboratory.intrinsic+json": {
              "type": "string"
            },
            "text/plain": [
              "' * * \\n* * *\\n * * \\n* * *\\n * * \\n'"
            ]
          },
          "metadata": {},
          "execution_count": 21
        }
      ]
    },
    {
      "cell_type": "code",
      "execution_count": 22,
      "metadata": {
        "editable": false,
        "id": "7Msi6yL1j-OG",
        "outputId": "e54825cd-af76-451f-9442-56ad897b9f1c",
        "colab": {
          "base_uri": "https://localhost:8080/",
          "height": 246
        }
      },
      "outputs": [
        {
          "output_type": "error",
          "ename": "AssertionError",
          "evalue": "ignored",
          "traceback": [
            "\u001b[0;31m---------------------------------------------------------------------------\u001b[0m",
            "\u001b[0;31mAssertionError\u001b[0m                            Traceback (most recent call last)",
            "\u001b[0;32m<ipython-input-22-f9024cc7758a>\u001b[0m in \u001b[0;36m<module>\u001b[0;34m()\u001b[0m\n\u001b[1;32m     22\u001b[0m \u001b[0;34m\u001b[0m\u001b[0m\n\u001b[1;32m     23\u001b[0m \u001b[0;32massert\u001b[0m \u001b[0mget_playing_board\u001b[0m\u001b[0;34m(\u001b[0m\u001b[0;36m5\u001b[0m\u001b[0;34m)\u001b[0m \u001b[0;34m==\u001b[0m \u001b[0mboard_of_5\u001b[0m\u001b[0;34m\u001b[0m\u001b[0;34m\u001b[0m\u001b[0m\n\u001b[0;32m---> 24\u001b[0;31m \u001b[0;32massert\u001b[0m \u001b[0mget_playing_board\u001b[0m\u001b[0;34m(\u001b[0m\u001b[0;36m10\u001b[0m\u001b[0;34m)\u001b[0m \u001b[0;34m==\u001b[0m \u001b[0mboard_of_10\u001b[0m\u001b[0;34m\u001b[0m\u001b[0;34m\u001b[0m\u001b[0m\n\u001b[0m\u001b[1;32m     25\u001b[0m \u001b[0;34m\u001b[0m\u001b[0m\n\u001b[1;32m     26\u001b[0m \u001b[0mprint\u001b[0m\u001b[0;34m(\u001b[0m\u001b[0mget_playing_board\u001b[0m\u001b[0;34m(\u001b[0m\u001b[0;36m50\u001b[0m\u001b[0;34m)\u001b[0m\u001b[0;34m)\u001b[0m\u001b[0;34m\u001b[0m\u001b[0;34m\u001b[0m\u001b[0m\n",
            "\u001b[0;31mAssertionError\u001b[0m: "
          ]
        }
      ],
      "source": [
        "board_of_5 = (\n",
        "' * * \\n'\n",
        "'* * *\\n'\n",
        "' * * \\n'\n",
        "'* * *\\n'\n",
        "' * * \\n'\n",
        ")\n",
        "\n",
        "board_of_10 = (\n",
        "' * * * * *\\n'\n",
        "'* * * * * \\n'\n",
        "' * * * * *\\n'\n",
        "'* * * * * \\n'\n",
        "' * * * * *\\n'\n",
        "'* * * * * \\n'\n",
        "' * * * * *\\n'\n",
        "'* * * * * \\n'\n",
        "' * * * * *\\n'\n",
        "'* * * * * \\n'\n",
        ")\n",
        "\n",
        "\n",
        "assert get_playing_board(5) == board_of_5\n",
        "assert get_playing_board(10) == board_of_10\n",
        "\n",
        "print(get_playing_board(50))"
      ]
    },
    {
      "cell_type": "code",
      "source": [
        ""
      ],
      "metadata": {
        "id": "7hyDcOv3mbKn"
      },
      "execution_count": null,
      "outputs": []
    }
  ],
  "metadata": {
    "kernelspec": {
      "display_name": "Python 3",
      "language": "python",
      "name": "python3"
    },
    "language_info": {
      "codemirror_mode": {
        "name": "ipython",
        "version": 3
      },
      "file_extension": ".py",
      "mimetype": "text/x-python",
      "name": "python",
      "nbconvert_exporter": "python",
      "pygments_lexer": "ipython3",
      "version": "3.5.4"
    },
    "colab": {
      "name": "recap1_exercise.ipynb",
      "provenance": []
    }
  },
  "nbformat": 4,
  "nbformat_minor": 0
}